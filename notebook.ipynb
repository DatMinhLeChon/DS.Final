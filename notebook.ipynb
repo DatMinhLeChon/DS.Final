{
 "cells": [
  {
   "cell_type": "code",
   "execution_count": null,
   "metadata": {},
   "outputs": [],
   "source": []
  },
  {
   "cell_type": "code",
   "execution_count": 58,
   "metadata": {},
   "outputs": [],
   "source": [
    "import pandas as pd \n",
    "import numpy as np \n",
    "import matplotlib.pyplot as plt\n",
    "import requests\n",
    "import nltk\n",
    "from nltk import tokenize\n",
    "from fuzzywuzzy import fuzz\n",
    "from bs4 import BeautifulSoup\n",
    "from sklearn import preprocessing\n",
    "from sklearn import model_selection\n",
    "\n"
   ]
  },
  {
   "cell_type": "code",
   "execution_count": 129,
   "metadata": {},
   "outputs": [
    {
     "name": "stdout",
     "output_type": "stream",
     "text": [
      "\n",
      "landtech-container\n",
      "uk-container uk-container-center\n",
      "block-custom realestate-post-detail-custom\n",
      "uk-grid uk-grid-medium\n",
      "uk-width-medium-3-5\n",
      "project-global-object-block-003 information-custom\n",
      "wrapper\n",
      "uk-panel\n",
      "item\n",
      "body\n",
      "param\n",
      "uk-list\n"
     ]
    }
   ],
   "source": [
    "URL = r'https://batdongsan.vn/ban-nha/'\n",
    "\n",
    "# parse  string list[dict{str: str}]\n",
    "dict_html_parsing = [{'body':''},\\\n",
    "                    {'div': 'landtech-container'},\\\n",
    "                    {'div':  \"uk-container uk-container-center\"},\\\n",
    "                    {'div': \"block-custom realestate-post-detail-custom\"},\\\n",
    "                    {'div': \"uk-grid uk-grid-medium\"},\\\n",
    "                    {'div': \"uk-width-medium-3-5\"},\\\n",
    "                    {'div': \"project-global-object-block-003 information-custom\"},\\\n",
    "                    {'div': \"wrapper\"},\\\n",
    "                    {'div': \"uk-panel\"}]\n",
    "\n",
    "dict_html_house_attribs = list(x for x in dict_html_parsing)\n",
    "dict_html_house_title = list(x for x in dict_html_parsing)\n",
    "dict_html_house_price = list(x for x in dict_html_parsing)\n",
    "\n",
    "dict_html_house_title.extend([{'h1': \"uk-panel-title\"},\\\n",
    "                                                {'span':''}])\n",
    "\n",
    "dict_html_house_price.extend([{'div': \"item\"},\\\n",
    "                                                {'div': \"body\"},\\\n",
    "                                                {'div': \"meta\"},\\\n",
    "                                                {'strong': \"price\"}])\n",
    "\n",
    "dict_html_house_attribs.extend([{'div': \"item\"},\\\n",
    "                                                {'div': \"body\"},\\\n",
    "                                                {'div': \"param\"},\\\n",
    "                                                {'ul': \"uk-list\"}])\n",
    "\n",
    "header_features = ['Title', 'Price', 'Address', 'Area', 'Room', 'WC' , 'Description']\n",
    "\n",
    "for item in dict_html_house_attribs:\n",
    "    print(list(item.values())[0])\n"
   ]
  },
  {
   "cell_type": "code",
   "execution_count": 138,
   "metadata": {},
   "outputs": [
    {
     "name": "stdout",
     "output_type": "stream",
     "text": [
      "Empty DataFrame\n",
      "Columns: [Price, Title, Address, Area, Room, WC, Des]\n",
      "Index: []\n"
     ]
    }
   ],
   "source": [
    "house_dataframe = pd.DataFrame(columns = header_features)\n",
    "print(house_dataframe)\n"
   ]
  },
  {
   "attachments": {},
   "cell_type": "markdown",
   "metadata": {},
   "source": [
    "# Data Collection \n"
   ]
  },
  {
   "cell_type": "code",
   "execution_count": 42,
   "metadata": {},
   "outputs": [],
   "source": [
    "class Address:\n",
    "    def __init__(self, city, district, ward, street):\n",
    "        self._city = city\n",
    "        self._district = district\n",
    "        self._ward = ward\n",
    "        self._street = street\n",
    "    \n",
    "    def display(self):\n",
    "        print(self._street, self._ward, self._district, self._city)"
   ]
  },
  {
   "attachments": {},
   "cell_type": "markdown",
   "metadata": {},
   "source": []
  },
  {
   "cell_type": "code",
   "execution_count": 136,
   "metadata": {},
   "outputs": [],
   "source": [
    "class House:\n",
    "    def __init__(self, title,  price ,address, area, room, wc, description):\n",
    "        self._title = title\n",
    "        self._price = price\n",
    "        self._address = address\n",
    "        self._area= area \n",
    "        self._room = room \n",
    "        self._wc = wc\n",
    "        self._description = description\n",
    "    \n",
    "    def scrappingDataWeb(self, url):\n",
    "        page = requests.get(url)\n",
    "        \n",
    "        # title parsing\n",
    "        soup_title = BeautifulSoup(page.content, \"html.parser\")\n",
    "        for item in dict_html_house_title:\n",
    "            if list(item.values())[0] != '':\n",
    "                temp = soup_title.find(list(item.keys())[0], class_ = item.get(list(item.keys())[0]))\n",
    "                soup_title = temp\n",
    "            else:\n",
    "                temp = soup_title.find(list(item.keys())[0])\n",
    "                soup_title = temp\n",
    "        self._title = soup_title.text\n",
    "        \n",
    "        # price parsing\n",
    "        soup_price = BeautifulSoup(page.content, \"html.parser\")\n",
    "        for item in dict_html_house_price:\n",
    "            if item.get(list(item.keys())[0]) != '':\n",
    "                soup_price = soup_price.find(list(item.keys())[0], class_ = item.get(list(item.keys())[0]))\n",
    "            else:\n",
    "                soup_price = soup_price.find(list(item.keys())[0])\n",
    "        self._price = soup_price.text\n",
    "        \n",
    "        ## parsing another attributes\n",
    "        soup_attrib = BeautifulSoup(page.content, \"html.parser\")\n",
    "        for item in dict_html_house_attribs:\n",
    "            if list(item.values())[0] != '':\n",
    "                soup_attrib = soup_attrib.find(list(item.keys())[0], class_ = item.get(list(item.keys())[0]))\n",
    "            else:\n",
    "                soup_attrib = soup_attrib.find(list(item.keys())[0])\n",
    "        attrib_root = soup_attrib.find_all(\"li\")\n",
    "        for root in attrib_root:\n",
    "            if root.find('strong').text == \"Diện tích:\":\n",
    "                self._area = root.text\n",
    "            if root.find('strong').text == \"Địa chỉ:\":\n",
    "                self._address == root.text\n",
    "            if root.find('strong').text == \"Phòng ngủ:\":\n",
    "                self._room = root.text\n",
    "                \n",
    "            \n",
    "        ## chỉnh sửa phần này thành nhiều thành phần attib\n",
    "        \n",
    "    \n",
    "    ## attributes matching for finding address base on The compare with voacabulary embedded database with Levhein distance\n",
    "    def tranferDescription(self, embedded_database): \n",
    "        temp_address = Address('','','','')\n",
    "        for city in embedded_database:\n",
    "            for district in city._container:\n",
    "                ## tokenize description scrapping from web to list vocab\n",
    "                for token in tokenize(self._description):\n",
    "                    # compare each vocab with each item address from db\n",
    "                    score = fuzz(token, district)\n",
    "                    if score >= 0.7:\n",
    "                        Address._district = district\n",
    "        return\n",
    "    \n",
    "    ##\n",
    "    def tranferAddress(self):\n",
    "        return\n",
    "    def display(self):\n",
    "        print(self._title, \"\\n\",\\\n",
    "              self._price, \"\\n\",\\\n",
    "              self._address, \"\\n\",\\\n",
    "              self._area, \"\\n\",\\\n",
    "              self._room, \"\\n\",\\\n",
    "              self._wc, \"\\n\",\\\n",
    "              self._description)"
   ]
  },
  {
   "cell_type": "code",
   "execution_count": 137,
   "metadata": {},
   "outputs": [
    {
     "name": "stdout",
     "output_type": "stream",
     "text": [
      "Bán nhà phố Cự Lộc, Thanh Xuân 56m, 4 tầng. Giá: 5.45 tỷ \n",
      " \n",
      "\t\t\t\t\t\t\t\t\t\t\t\t\t\t5.45 tỷ\t\t\t\t\t\t\t\t\t\t\t\t\t\t\t\t\t\t\t\t\t\t\t\t\t\t\t \n",
      "  \n",
      " Diện tích: 56 m2 \n",
      " Phòng ngủ: 4 PN \n",
      "  \n",
      " \n"
     ]
    }
   ],
   "source": [
    "temp = House(\"\",\"\",\"\",\"\",\"\",\"\",\"\")\n",
    "temp.scrappingDataWeb(\"https://batdongsan.vn/ban-nha-pho-cu-loc-thanh-xuan-56m-4-tang-gia-545-ty-r268420\")\n",
    "temp.display()"
   ]
  },
  {
   "cell_type": "code",
   "execution_count": null,
   "metadata": {},
   "outputs": [],
   "source": [
    "class ContainerHouse:\n",
    "    def __init__(self, _list = []):\n",
    "        self._size = len(self._list)\n",
    "    "
   ]
  },
  {
   "attachments": {},
   "cell_type": "markdown",
   "metadata": {},
   "source": []
  }
 ],
 "metadata": {
  "kernelspec": {
   "display_name": "Python 3",
   "language": "python",
   "name": "python3"
  },
  "language_info": {
   "codemirror_mode": {
    "name": "ipython",
    "version": 3
   },
   "file_extension": ".py",
   "mimetype": "text/x-python",
   "name": "python",
   "nbconvert_exporter": "python",
   "pygments_lexer": "ipython3",
   "version": "3.10.9"
  },
  "orig_nbformat": 4
 },
 "nbformat": 4,
 "nbformat_minor": 2
}
