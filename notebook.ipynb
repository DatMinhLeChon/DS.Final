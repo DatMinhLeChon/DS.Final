{
 "cells": [
  {
   "cell_type": "code",
   "execution_count": null,
   "metadata": {},
   "outputs": [],
   "source": []
  },
  {
   "cell_type": "code",
   "execution_count": null,
   "metadata": {},
   "outputs": [],
   "source": [
    "import pandas as pd \n",
    "import numpy as np \n",
    "import matplotlib.pyplot as plt\n",
    "import requests\n",
    "import nltk\n",
    "from nltk import tokenize\n",
    "from fuzzywuzzy import fuzz\n",
    "from bs4 import BeautifulSoup\n",
    "from sklearn import preprocessing\n",
    "from sklearn import model_selection\n",
    "\n"
   ]
  },
  {
   "cell_type": "code",
   "execution_count": null,
   "metadata": {},
   "outputs": [],
   "source": [
    "URL = r'https://batdongsan.vn/ban-nha/'\n",
    "\n",
    "dict_html_parsing = [\n",
    "                    {'body':''},\\\n",
    "                    {'div': 'landtech-container'},\\\n",
    "                    {'div':  \"uk-container uk-container-center\"},\\\n",
    "                    {'div': \"block-custom realestate-post-detail-custom\"},\\\n",
    "                    {'div': \"uk-grid uk-grid-medium\"},\\\n",
    "                    {'div': \"uk-width-medium-3-5\"},\\\n",
    "                    {'div': \"project-global-object-block-003 information-custom\"},\\\n",
    "                    {'div': \"wrapper\"},\\\n",
    "                    {'div': \"item\"},\\\n",
    "                    {'div': \"body\"},\\\n",
    "                    {'div': \"meta\"}]\n",
    "\n",
    "dict_html_house_price = dict_html_parsing.append({'strong': \"price\"})\n",
    "dict_html_house_attribs = dict_html_parsing.append({'div': \"param\"}, {'ul', \"uk-list\"}, {'li': ''}, {'i': ''}, {'strong': ''})\n",
    "\n",
    "header_features = ['Price', 'Title', 'Address', 'Area', 'Room', 'WC' , 'Des']\n"
   ]
  },
  {
   "cell_type": "code",
   "execution_count": null,
   "metadata": {},
   "outputs": [],
   "source": []
  },
  {
   "attachments": {},
   "cell_type": "markdown",
   "metadata": {},
   "source": [
    "# Data Collection \n"
   ]
  },
  {
   "attachments": {},
   "cell_type": "markdown",
   "metadata": {},
   "source": []
  },
  {
   "cell_type": "code",
   "execution_count": null,
   "metadata": {},
   "outputs": [],
   "source": [
    "class Address:\n",
    "    def __init__(self, city, district, ward, street):\n",
    "        self._city = city\n",
    "        self._district = district\n",
    "        self._ward = ward\n",
    "        self._street = street"
   ]
  },
  {
   "cell_type": "code",
   "execution_count": null,
   "metadata": {},
   "outputs": [],
   "source": [
    "class House:\n",
    "    def __init__(self, title,  price ,address, square, room, wc, description):\n",
    "        self._title = title\n",
    "        self._price = price\n",
    "        self._address = address\n",
    "        self._square = square \n",
    "        self._room = room \n",
    "        self._wc = wc\n",
    "        self._description = description\n",
    "    \n",
    "    def tranferDescription(self, embedded_database):\n",
    "        temp_address = Address('','','','')\n",
    "        for city in embedded_database:\n",
    "            for district in city._container:\n",
    "                for token in tokenize(self._description):\n",
    "                    score = fuzz(token, district)\n",
    "                    if score >= 0.7:\n",
    "                        Address._district == \n",
    "        return\n",
    "    def tranferAddress(self):\n",
    "        return\n",
    "    def display(self):\n",
    "        return "
   ]
  },
  {
   "cell_type": "code",
   "execution_count": null,
   "metadata": {},
   "outputs": [],
   "source": [
    "class ContainerHouse:\n",
    "    def __init__(self, _list = []):\n",
    "        self._size = len(self._list)\n",
    "    \n",
    "    def scrappingDataWeb(self, url):\n",
    "        page = requests.get(url)\n",
    "        soup = BeautifulSoup(page.content, \"html.parser\")\n",
    "        \n",
    "        "
   ]
  },
  {
   "attachments": {},
   "cell_type": "markdown",
   "metadata": {},
   "source": []
  }
 ],
 "metadata": {
  "language_info": {
   "name": "python"
  },
  "orig_nbformat": 4
 },
 "nbformat": 4,
 "nbformat_minor": 2
}
