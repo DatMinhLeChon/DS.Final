{
 "cells": [
  {
   "attachments": {},
   "cell_type": "markdown",
   "metadata": {},
   "source": [
    "#Nhóm X\n"
   ]
  },
  {
   "cell_type": "code",
   "execution_count": 328,
   "metadata": {},
   "outputs": [],
   "source": [
    "import pandas as pd \n",
    "import numpy as np \n",
    "import matplotlib.pyplot as plt\n",
    "import requests\n",
    "import time\n",
    "import threading\n",
    "import nltk\n",
    "from threading import Thread, current_thread\n",
    "from multiprocessing import Process, current_process\n",
    "from nltk import tokenize\n",
    "from fuzzywuzzy import fuzz\n",
    "from bs4 import BeautifulSoup\n",
    "from sklearn import preprocessing\n",
    "from sklearn import model_selection\n",
    "from lxml import etree\n",
    "\n"
   ]
  },
  {
   "cell_type": "code",
   "execution_count": 283,
   "metadata": {},
   "outputs": [],
   "source": [
    "# first page ------------------\n",
    "URL = 'https://batdongsan.vn/ban-nha/'\n",
    "url_check = 'https://batdongsan.vn/ban-nha/p100000asdsad00'\n",
    "list_url = []\n",
    "\n",
    "# element page -----------------\n",
    "# parse  string list[dict{str: str}]\n",
    "dict_html_parsing = [{'body':''},\\\n",
    "                    {'div': 'landtech-container'},\\\n",
    "                    {'div':  \"uk-container uk-container-center\"},\\\n",
    "                    {'div': \"block-custom realestate-post-detail-custom\"},\\\n",
    "                    {'div': \"uk-grid uk-grid-medium\"},\\\n",
    "                    {'div': \"uk-width-medium-3-5\"},\\\n",
    "                    {'div': \"project-global-object-block-003 information-custom\"},\\\n",
    "                    {'div': \"wrapper\"},\\\n",
    "                    {'div': \"uk-panel\"}]\n",
    "\n",
    "dict_html_house_attribs = list(x for x in dict_html_parsing)\n",
    "dict_html_house_title = list(x for x in dict_html_parsing)\n",
    "dict_html_house_price = list(x for x in dict_html_parsing)\n",
    "\n",
    "dict_html_house_title.extend([{'h1': \"uk-panel-title\"},\\\n",
    "                                                {'span':''}])\n",
    "\n",
    "dict_html_house_price.extend([{'div': \"item\"},\\\n",
    "                                                {'div': \"body\"},\\\n",
    "                                                {'div': \"meta\"},\\\n",
    "                                                {'strong': \"price\"}])\n",
    "\n",
    "dict_html_house_attribs.extend([{'div': \"item\"},\\\n",
    "                                                {'div': \"body\"},\\\n",
    "                                                {'div': \"param\"},\\\n",
    "                                                {'ul': \"uk-list\"}])\n"
   ]
  },
  {
   "cell_type": "code",
   "execution_count": 163,
   "metadata": {},
   "outputs": [
    {
     "name": "stdout",
     "output_type": "stream",
     "text": [
      "Empty DataFrame\n",
      "Columns: [Title, Price, Address, Area, Room, WC, Description]\n",
      "Index: []\n"
     ]
    }
   ],
   "source": [
    "header_features = ['Title', 'Price', 'Address', 'Area', 'Room', 'WC' , 'Description']\n",
    "house_dataframe = pd.DataFrame(columns = header_features)\n",
    "print(house_dataframe)\n"
   ]
  },
  {
   "attachments": {},
   "cell_type": "markdown",
   "metadata": {},
   "source": [
    "# Data Collection \n"
   ]
  },
  {
   "cell_type": "code",
   "execution_count": 42,
   "metadata": {},
   "outputs": [],
   "source": [
    "class Address:\n",
    "    def __init__(self, city, district, ward, street):\n",
    "        self._city = city\n",
    "        self._district = district\n",
    "        self._ward = ward\n",
    "        self._street = street\n",
    "    \n",
    "    def display(self):\n",
    "        print(self._street, self._ward, self._district, self._city)"
   ]
  },
  {
   "cell_type": "code",
   "execution_count": 257,
   "metadata": {},
   "outputs": [],
   "source": [
    "class House:\n",
    "    def __init__(self, title,  price ,address, area, room, wc, description):\n",
    "        self._title = title\n",
    "        self._price = price\n",
    "        self._address = address\n",
    "        self._area= area \n",
    "        self._room = room \n",
    "        self._wc = wc\n",
    "        self._description = description\n",
    "    \n",
    "    def scrappingDataWeb(self, url):\n",
    "        page = requests.get(url)\n",
    "        \n",
    "        # title parsing\n",
    "        soup_title = BeautifulSoup(page.content, \"html.parser\")\n",
    "        for item in dict_html_house_title:\n",
    "            if list(item.values())[0] != '':\n",
    "                temp = soup_title.find(list(item.keys())[0], class_ = item.get(list(item.keys())[0]))\n",
    "                soup_title = temp\n",
    "            else:\n",
    "                temp = soup_title.find(list(item.keys())[0])\n",
    "                soup_title = temp\n",
    "        self._title = soup_title.text\n",
    "        \n",
    "        # price parsing\n",
    "        soup_price = BeautifulSoup(page.content, \"html.parser\")\n",
    "        for item in dict_html_house_price:\n",
    "            if item.get(list(item.keys())[0]) != '':\n",
    "                soup_price = soup_price.find(list(item.keys())[0], class_ = item.get(list(item.keys())[0]))\n",
    "            else:\n",
    "                soup_price = soup_price.find(list(item.keys())[0])\n",
    "        self._price = soup_price.text\n",
    "        \n",
    "        ## parsing another attributes\n",
    "        soup_attrib = BeautifulSoup(page.content, \"html.parser\")\n",
    "        for item in dict_html_house_attribs:\n",
    "            if list(item.values())[0] != '':\n",
    "                soup_attrib = soup_attrib.find(list(item.keys())[0], class_ = item.get(list(item.keys())[0]))\n",
    "            else: \n",
    "                soup_attrib = soup_attrib.find(list(item.keys())[0])\n",
    "        attrib_root = soup_attrib.find_all(\"li\")\n",
    "        for root in attrib_root:\n",
    "            if root.find('strong').text == \"Diện tích:\":\n",
    "                self._area = root.text\n",
    "            if root.find('strong').text == \"Địa chỉ:\":\n",
    "                self._address == root.text\n",
    "            if root.find('strong').text == \"Phòng ngủ:\":\n",
    "                self._room = root.text\n",
    "        \n",
    "        soup_des = BeautifulSoup(page.content, \"html.parser\")\n",
    "        dom = etree.HTML(str(soup_des))\n",
    "        xpath_str = '//*[@id=\"post-detail\"]/body/div[7]/div/div/div[1]/div[1]/div/div/div/div/div/p' # The XPath expression for the blog's title\n",
    "        soup_des = (dom.xpath(xpath_str)[0])\n",
    "        temp_text = soup_des.text\n",
    "        for item in soup_des.iter():\n",
    "            temp_text = ''.join([temp_text, item.tail])\n",
    "        self._description = temp_text\n",
    "        ## chỉnh sửa phần này thành nhiều thành phần attib\n",
    "        \n",
    "    \n",
    "    ## attributes matching for finding address base on The compare with voacabulary embedded database with Levhein distance\n",
    "    def tranferDescription(self, embedded_database): \n",
    "        temp_address = Address('','','','')\n",
    "        for city in embedded_database:\n",
    "            for district in city._container:\n",
    "                ## tokenize description scrapping from web to list vocab\n",
    "                for token in tokenize(self._description):\n",
    "                    # compare each vocab with each item address from db\n",
    "                    score = fuzz(token, district)\n",
    "                    if score >= 0.7:\n",
    "                        Address._district = district\n",
    "        return\n",
    "    \n",
    "    ##\n",
    "    def tranferAddress(self):\n",
    "        return\n",
    "    def display(self):\n",
    "        print(self._title, \"\\n\",\\\n",
    "              self._price, \"\\n\",\\\n",
    "              self._address, \"\\n\",\\\n",
    "              self._area, \"\\n\",\\\n",
    "              self._room, \"\\n\",\\\n",
    "              self._wc, \"\\n\",\\\n",
    "              self._description)"
   ]
  },
  {
   "cell_type": "code",
   "execution_count": null,
   "metadata": {},
   "outputs": [],
   "source": [
    "temp = House(\"\",\"\",\"\",\"\",\"\",\"\",\"\")\n",
    "temp.scrappingDataWeb(\"https://batdongsan.vn/ban-nha-pho-cu-loc-thanh-xuan-56m-4-tang-gia-545-ty-r268420\")\n",
    "temp.display()"
   ]
  },
  {
   "cell_type": "code",
   "execution_count": 337,
   "metadata": {},
   "outputs": [],
   "source": [
    "def process_request(url):\n",
    "    response = requests.get(url)\n",
    "    if response.status_code == 200:\n",
    "        return True\n",
    "    else:\n",
    "        return False\n",
    "\n",
    "class HouseContainer:\n",
    "    def __init__(self, list_in = []):\n",
    "        self._house_container = list_in\n",
    "        self._url_container = []\n",
    "        self._url_house_container = []\n",
    "        self._size = len(self._house_container)\n",
    "        \n",
    "    \n",
    "    def parsingUrlContainer(self):\n",
    "        index = 1\n",
    "        temp = URL\n",
    "        while check(temp) == True:\n",
    "            self._url_container.append(temp)\n",
    "            index +=1;\n",
    "            elem = ''.join(['p',str(index)])\n",
    "            temp = ''.join([URL, elem])\n",
    "            print(temp)\n",
    "        \n",
    "    def pasingHouseContainer(self, url):\n",
    "        return\n",
    "        \n",
    "    def containerToDataframe(self):\n",
    "        return\n",
    "    \n",
    "    def displayUrl(self):\n",
    "        for item in self._url_container:\n",
    "            print(item)\n",
    "    \n",
    "    def displayHouse(self):\n",
    "        for house in self._house_container:\n",
    "            house.display()\n",
    "    "
   ]
  },
  {
   "cell_type": "code",
   "execution_count": 338,
   "metadata": {},
   "outputs": [
    {
     "ename": "AttributeError",
     "evalue": "'Process' object has no attribute 'status_code'",
     "output_type": "error",
     "traceback": [
      "\u001b[0;31m---------------------------------------------------------------------------\u001b[0m",
      "\u001b[0;31mAttributeError\u001b[0m                            Traceback (most recent call last)",
      "Cell \u001b[0;32mIn[338], line 2\u001b[0m\n\u001b[1;32m      1\u001b[0m temp\u001b[39m=\u001b[39m HouseContainer([])\n\u001b[0;32m----> 2\u001b[0m temp\u001b[39m.\u001b[39;49mparsingUrlContainer()\n\u001b[1;32m      3\u001b[0m temp\u001b[39m.\u001b[39mdisplayUrl()\n",
      "Cell \u001b[0;32mIn[337], line 23\u001b[0m, in \u001b[0;36mHouseContainer.parsingUrlContainer\u001b[0;34m(self)\u001b[0m\n\u001b[1;32m     21\u001b[0m index \u001b[39m=\u001b[39m \u001b[39m1\u001b[39m\n\u001b[1;32m     22\u001b[0m temp \u001b[39m=\u001b[39m URL\n\u001b[0;32m---> 23\u001b[0m \u001b[39mwhile\u001b[39;00m check(temp) \u001b[39m==\u001b[39m \u001b[39mTrue\u001b[39;00m:\n\u001b[1;32m     24\u001b[0m     \u001b[39mself\u001b[39m\u001b[39m.\u001b[39m_url_container\u001b[39m.\u001b[39mappend(temp)\n\u001b[1;32m     25\u001b[0m     index \u001b[39m+\u001b[39m\u001b[39m=\u001b[39m\u001b[39m1\u001b[39m;\n",
      "Cell \u001b[0;32mIn[337], line 8\u001b[0m, in \u001b[0;36mcheck\u001b[0;34m(temp)\u001b[0m\n\u001b[1;32m      6\u001b[0m \u001b[39mwhile\u001b[39;00m elapsed_time(start_time) \u001b[39m<\u001b[39m \u001b[39m3000\u001b[39m:\n\u001b[1;32m      7\u001b[0m     p1 \u001b[39m=\u001b[39m Process(target \u001b[39m=\u001b[39m requests\u001b[39m.\u001b[39mget, args \u001b[39m=\u001b[39m(temp, ))\n\u001b[0;32m----> 8\u001b[0m     \u001b[39mif\u001b[39;00m p1\u001b[39m.\u001b[39;49mstatus_code \u001b[39m==\u001b[39m \u001b[39m200\u001b[39m:\n\u001b[1;32m      9\u001b[0m         \u001b[39mreturn\u001b[39;00m \u001b[39mTrue\u001b[39;00m\n\u001b[1;32m     10\u001b[0m \u001b[39mreturn\u001b[39;00m \u001b[39mFalse\u001b[39;00m\n",
      "\u001b[0;31mAttributeError\u001b[0m: 'Process' object has no attribute 'status_code'"
     ]
    }
   ],
   "source": [
    "temp= HouseContainer([])\n",
    "temp.parsingUrlContainer()\n",
    "temp.displayUrl()\n"
   ]
  }
 ],
 "metadata": {
  "kernelspec": {
   "display_name": "Python 3",
   "language": "python",
   "name": "python3"
  },
  "language_info": {
   "codemirror_mode": {
    "name": "ipython",
    "version": 3
   },
   "file_extension": ".py",
   "mimetype": "text/x-python",
   "name": "python",
   "nbconvert_exporter": "python",
   "pygments_lexer": "ipython3",
   "version": "3.10.9"
  },
  "orig_nbformat": 4
 },
 "nbformat": 4,
 "nbformat_minor": 2
}
