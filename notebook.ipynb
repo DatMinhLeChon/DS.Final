{
 "cells": [
  {
   "cell_type": "code",
   "execution_count": null,
   "metadata": {},
   "outputs": [],
   "source": []
  },
  {
   "cell_type": "code",
   "execution_count": null,
   "metadata": {},
   "outputs": [],
   "source": [
    "import pandas as pd \n",
    "import numpy as np \n",
    "import matplotlib.pyplot as plt\n",
    "import requests\n",
    "import nltk\n",
    "from nltk import tokenize\n",
    "from fuzzywuzzy import fuzz\n",
    "from bs4 import BeautifulSoup\n",
    "from sklearn import preprocessing\n",
    "from sklearn import model_selection\n",
    "\n"
   ]
  },
  {
   "cell_type": "code",
   "execution_count": null,
   "metadata": {},
   "outputs": [],
   "source": [
    "URL = r'https://batdongsan.vn/ban-nha/'\n",
    "## đường dẫn bộ chọn trong từng mục: body > div:nth-child(7) > div > div > div > div.uk-width-medium-3-5 > div > div.uk-width-medium-3-5 > div > div > div > div > div > div:nth-child(2) > ul\n",
    "## //*[@id=\"post-detail\"]/body/div[6]/div/div/div/div[2]/div/div[1]/div/div/div/div/div/div[2]/ul\n",
    "\n",
    "## <body> -> <div class=\"landtech-container\"> \n",
    "## <div class=\"uk-container uk-container-center\"> \n",
    "## <div class=\"block-custom realestate-post-detail-custom\"> \n",
    "## <div class=\"uk-grid uk-grid-medium\">\n",
    "## <div class=\"uk-width-medium-3-5\">\n",
    "## <div class=\"\"\n",
    "\n",
    "header_features = ['Price', 'Address', '']"
   ]
  },
  {
   "cell_type": "code",
   "execution_count": null,
   "metadata": {},
   "outputs": [],
   "source": []
  },
  {
   "cell_type": "code",
   "execution_count": null,
   "metadata": {},
   "outputs": [],
   "source": [
    "class Address:\n",
    "    def __init__(self, city, district, ward, street):\n",
    "        self._city = city\n",
    "        self._district = district\n",
    "        self._ward = ward\n",
    "        self._street = street"
   ]
  },
  {
   "cell_type": "code",
   "execution_count": null,
   "metadata": {},
   "outputs": [],
   "source": [
    "class House:\n",
    "    def __init__(self, price ,address, square, room, wc, description):\n",
    "        self._price = price\n",
    "        self._address = address\n",
    "        self._square = square \n",
    "        self._room = room \n",
    "        self._wc = wc\n",
    "        self._description = description\n",
    "    \n",
    "    def tranferDescription(self, embedded_database):\n",
    "        temp_address = Address('','','','')\n",
    "        for city in embedded_database:\n",
    "            for district in city:\n",
    "                for token in tokenize(self._description):\n",
    "                    score = fuzz(token, district)\n",
    "                    if score ==\n",
    "        return\n",
    "    def tranferAddress(self):\n",
    "        return\n",
    "    def display(self):\n",
    "        return \n",
    "        "
   ]
  }
 ],
 "metadata": {
  "language_info": {
   "name": "python"
  },
  "orig_nbformat": 4
 },
 "nbformat": 4,
 "nbformat_minor": 2
}
