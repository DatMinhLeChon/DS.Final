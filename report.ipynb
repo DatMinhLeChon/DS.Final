{
 "cells": [
  {
   "attachments": {},
   "cell_type": "markdown",
   "metadata": {},
   "source": [
    "# INTRODUCTION TO DATA SCIENCE\n",
    "## Final Projects - House Price Prediction - 21KDL\n",
    "## Nhóm: 5"
   ]
  },
  {
   "attachments": {},
   "cell_type": "markdown",
   "metadata": {},
   "source": [
    "| MSSV     \t| Tên                  \t| Tỷ lệ đóng góp \t| Ghi chú     \t|\n",
    "|----------\t|----------------------\t|----------------\t|-------------\t|\n",
    "| 21280064 \t| Lê Chơn Minh Đạt     \t| 40%               | Nhóm trưởng \t|\n",
    "| 21280100 \t| Nguyễn Thị Bích Ngọc \t| 30%               |             \t|\n",
    "| 21280102 \t| Đoàn Thị Mẫn Nhi     \t| 30%               |             \t|"
   ]
  },
  {
   "attachments": {},
   "cell_type": "markdown",
   "metadata": {},
   "source": [
    "## I. Quá trình thực hiện"
   ]
  },
  {
   "attachments": {},
   "cell_type": "markdown",
   "metadata": {},
   "source": [
    "### 1. Tìm hiểu khái quát về đề tài\n",
    "* Mục tiêu: Xây dựng mô hình dự đoán giá nhà\n",
    "* Tiến trình cơ bản: collect data -> preprocess data -> explore data -> build models -> assess results\n",
    "* Phạm vi dữ liệu: dữ liệu về giá nhà và các thông tin liên quan về các ngôi nhà được đăng bán trên trang web https://batdongsan.vn/ban-nha\n"
   ]
  },
  {
   "attachments": {},
   "cell_type": "markdown",
   "metadata": {},
   "source": [
    "### 2. Thu thập dữ liệu\n",
    "* Web scraping sử dụng BeautifulSoup để lấy thông tin về giá nhà, loại nhà, địa chỉ, diện tích, số tầng, số phòng ngủ và đường dẫn đến mỗi căn nhà (dùng cho việc kiểm tra)\n",
    "* Lấy toàn bộ dữ liệu từ web tại thời điểm nhất định (hơn 9000 căn nhà)\n",
    "* Thu thập đường dẫn đến các trang (bao gồm 483 trang, mỗi trang 20 căn nhà)\n",
    "* Ở mỗi trang, thu thập đường dẫn đến mỗi căn nhà\n",
    "* Thử nghiệm lấy dữ liệu của một căn nhà cụ thể, một số thông tin sẽ được lấy trực tiếp dựa trên cấu trúc của file html, một số thông tin sẽ được lấy từ phần mô tả do người bán nhập vào sử dụng kĩ thuật regrex (kiểm tra tất cả các trường hợp cần xử lí trong phần regrex).\n",
    "* Thực hiện thu thập dữ liệu và lưu trữ"
   ]
  },
  {
   "attachments": {},
   "cell_type": "markdown",
   "metadata": {},
   "source": [
    "### 3. Xử lí dữ liệu\n",
    "* Loại bỏ dữ liệu trùng lặp: có 1066 dòng dữ liệu trùng lặp bị loại bỏ trên tổng số 9674 dòng (do người bán có thể đăng tải một thông tin nhiều lần)\n",
    "* Về giá: kiểm tra tính chính xác của dữ liệu và loại bỏ một số dòng có giá không hợp lí (chỉ lấy giá trong khoảng 100 triệu - 500 tỷ)\n",
    "* Về diện tích: kiểm tra tính chính xác của dữ liệu và loại bỏ một số dòng có giá không hợp lí (chỉ lấy những căn nhà có diện tích trong khoảng 10m2 - 20000m2)\n",
    "* Về số tầng và số phòng ngủ: áp dụng thuật toán KNN để điền vào các giá trị thiếu. (giải thích về lí do, thuật toán/công thức, độ chính xác/độ lỗi)\n",
    "* Về loại nhà và địa chỉ: sử dụng one-hot encoding cho loại nhà và target encoding cho địa chỉ để chuyển đổi sang kiểu dữ liệu số\n"
   ]
  },
  {
   "attachments": {},
   "cell_type": "markdown",
   "metadata": {},
   "source": [
    "#### GIẢI THÍCH VỀ MÔ HÌNH KNN:\n",
    "* Để giải quyết vấn đề Missing Data, một cách hiệu quả là sử dụng một mô hình để dự đoán giá trị cho Missing Data đó, dựa vào những giá trị tồn tại trong tập dữ liệu. KNN là thuật toán học máy có giám sát, đơn giản và dễ triển khai, áp dụng được cho cả bài toán phân loại và hồi quy. Sau khi tìm hiểu các phương pháp khác nhau để xử lí missing values, nhóm đã áp dụng mô hình KNN như một bài toán regression cho những điểm dữ liệu thiếu.\n",
    "* Trước khi áp dụng mô hình, nhóm đã có quá trình kiểm thử liệu mô hình KNN có phù hợp cho bài toán hiện tại không bằng cách thử nghiệm trên bộ dữ liệu đầy đủ mà nhóm đã thu thập và trích lọc ra, sau đó xử lí để có được bộ dữ liệu với một số điểm dữ liệu thiếu ở hai features 'num_floors' và 'bedrooms', áp dụng mô hình KNN để điền vào các điểm dữ liệu thiếu này và so sánh với dữ liệu ban đầu. Kết quả được nhóm đánh giá là mô hình KNN xử lí missing values cho trường hợp này khá hiệu quả.\n",
    "* Thuật toán KNN cho rằng những dữ liệu tương tự nhau sẽ tồn tại gần nhau trong một không gian, từ đó công việc của chúng ta là sẽ tìm k điểm gần với dữ liệu cần kiểm tra nhất. Việc tìm khoảng cách giữa 2 điểm cũng có nhiều công thức có thể sử dụng, tùy trường hợp mà chúng ta lựa chọn cho phù hợp.\n",
    "* Sử dụng lớp KNNImputer từ thư viện Scikit-learn\n",
    "* Một Instance của KNNImputer có 3 tham số truyền vào cần quan tâm: số lượng mẫu dữ liệu lân cận (n_neighbors); loại khoảng cách (metric): mặc định là ‘nan_euclidean’, tức là Euclidean nhưng bỏ qua các Missing Data; trọng số (weight): sử dụng trọng số giữa các mẫu dữ liệu lân cận khi tính khoảng cách, giá trị mặc định là ‘uniform’, ngoài ra có thể sử dụng giá trị ‘distance’, tức là mẫu dữ liệu nào càng gần mẫu dữ liệu cần dự đoán thì trọng số càng cao.\n",
    "* metric: lựa chọn loại khoảng cách mặc định đó là khoảng cách Euclid (l2 norm): <br>\n",
    "$ d(\\mathbf{a}, \\mathbf{b}) = \\|\\mathbf{a} - \\mathbf{b}\\|_2 = \\sqrt{\\sum_{i=1}^{n} (a_i - b_i)^2}$ <br>\n",
    "* weight: lựa chọn trọng số mặc định là ‘uniform’\n",
    "* n_neighbors: tối ưu k bằng cách tối ưu sai số (RMSE) cho mô hình hồi qui thử nghiệm trên các bộ dữ liệu được fill missing với các giá trị k khác nhau"
   ]
  },
  {
   "attachments": {},
   "cell_type": "markdown",
   "metadata": {},
   "source": [
    "### 4. Khám phá dữ liệu\n",
    "* Đánh giá độ tương quan: sử dụng ma trận tương quan và biểu đồ heatmap để tính độ tương quan giữa các features với nhau và giữa features với target (coi công thức)\n",
    "* Vẽ biểu đồ thể hiện phân phối của các features\n"
   ]
  },
  {
   "attachments": {},
   "cell_type": "markdown",
   "metadata": {},
   "source": [
    "### 5. Xây dựng các mô hình"
   ]
  },
  {
   "attachments": {},
   "cell_type": "markdown",
   "metadata": {},
   "source": [
    "#### i. Linear Regression"
   ]
  },
  {
   "attachments": {},
   "cell_type": "markdown",
   "metadata": {},
   "source": [
    "#### ii. Rule Induction"
   ]
  },
  {
   "attachments": {},
   "cell_type": "markdown",
   "metadata": {},
   "source": [
    "#### iii.Neutral - Network"
   ]
  },
  {
   "attachments": {},
   "cell_type": "markdown",
   "metadata": {},
   "source": [
    "##### a. Simple ANN"
   ]
  },
  {
   "attachments": {},
   "cell_type": "markdown",
   "metadata": {},
   "source": [
    "##### b. Seq2Seq"
   ]
  },
  {
   "attachments": {},
   "cell_type": "markdown",
   "metadata": {},
   "source": [
    "##### c. Transformer"
   ]
  },
  {
   "attachments": {},
   "cell_type": "markdown",
   "metadata": {},
   "source": [
    "## II. Kết quả đạt được\n",
    "* Nắm bắt được mục tiêu và ý tưởng của đề tài\n",
    "* Thu thập được 9674 dòng dữ liệu về thông tin của các căn nhà\n",
    "* Qua quá trình xử lí, nhóm thu được dữ liệu sử dụng cho các mô hình và được nhóm đánh giá là có độ chính xác 70%\n",
    "* Qua quá trình khám phá, nhóm nhận xét là mối tương quan giữa các features và mối tương quan giữa features và target tương đối thấp\n",
    "* ..."
   ]
  },
  {
   "attachments": {},
   "cell_type": "markdown",
   "metadata": {},
   "source": [
    "## III. Các kiến thức được áp dụng"
   ]
  },
  {
   "attachments": {},
   "cell_type": "markdown",
   "metadata": {},
   "source": [
    "## IV. Các vấn đề gặp phải\n",
    "* Một số thông tin về căn nhà được lấy từ phần mô tả do người bán nhập vào, do đó quá trình thu thập các thông tin này cần xử lí bao quát tất cả các trường hợp có thể xảy ra (vd: tỷ, tỉ, ty, ti, TY, T, tỏi, ...)\n",
    "* Một số thông tin người bán nhập sai (vd: 1000 tỷ), nhập nhiều giá trị khác nhau cho cùng một thông tin\n",
    "* Khó xác định được phương pháp phù hợp để xử lí dữ liệu thiếu và chuyển đổi dữ liệu phân loại\n",
    "\n"
   ]
  },
  {
   "attachments": {},
   "cell_type": "markdown",
   "metadata": {},
   "source": [
    "## V. Tổng kết"
   ]
  },
  {
   "attachments": {},
   "cell_type": "markdown",
   "metadata": {},
   "source": [
    "## VI. Tài liệu tham khảo"
   ]
  }
 ],
 "metadata": {
  "language_info": {
   "name": "python"
  },
  "orig_nbformat": 4
 },
 "nbformat": 4,
 "nbformat_minor": 2
}
