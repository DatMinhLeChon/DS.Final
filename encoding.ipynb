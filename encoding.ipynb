{
 "cells": [
  {
   "cell_type": "code",
   "execution_count": 1,
   "metadata": {},
   "outputs": [],
   "source": [
    "import pandas as pd\n",
    "import numpy as np\n",
    "import matplotlib.pyplot as plt\n",
    "import seaborn as sns"
   ]
  },
  {
   "cell_type": "code",
   "execution_count": 3,
   "metadata": {},
   "outputs": [
    {
     "data": {
      "text/html": [
       "<div>\n",
       "<style scoped>\n",
       "    .dataframe tbody tr th:only-of-type {\n",
       "        vertical-align: middle;\n",
       "    }\n",
       "\n",
       "    .dataframe tbody tr th {\n",
       "        vertical-align: top;\n",
       "    }\n",
       "\n",
       "    .dataframe thead th {\n",
       "        text-align: right;\n",
       "    }\n",
       "</style>\n",
       "<table border=\"1\" class=\"dataframe\">\n",
       "  <thead>\n",
       "    <tr style=\"text-align: right;\">\n",
       "      <th></th>\n",
       "      <th>houseTypes</th>\n",
       "      <th>area</th>\n",
       "      <th>new_num_floors</th>\n",
       "      <th>new_bedrooms</th>\n",
       "      <th>district</th>\n",
       "      <th>city</th>\n",
       "      <th>price</th>\n",
       "    </tr>\n",
       "  </thead>\n",
       "  <tbody>\n",
       "    <tr>\n",
       "      <th>0</th>\n",
       "      <td>Bán Nhà riêng</td>\n",
       "      <td>130.0</td>\n",
       "      <td>3</td>\n",
       "      <td>7</td>\n",
       "      <td>Quận 12</td>\n",
       "      <td>TP Hồ Chí Minh</td>\n",
       "      <td>9.20</td>\n",
       "    </tr>\n",
       "    <tr>\n",
       "      <th>1</th>\n",
       "      <td>Bán Nhà riêng</td>\n",
       "      <td>65.0</td>\n",
       "      <td>2</td>\n",
       "      <td>2</td>\n",
       "      <td>Ngũ Hành Sơn</td>\n",
       "      <td>Đà Nẵng</td>\n",
       "      <td>2.90</td>\n",
       "    </tr>\n",
       "    <tr>\n",
       "      <th>2</th>\n",
       "      <td>Bán Nhà riêng</td>\n",
       "      <td>90.0</td>\n",
       "      <td>5</td>\n",
       "      <td>5</td>\n",
       "      <td>Hai Bà Trưng</td>\n",
       "      <td>Hà Nội</td>\n",
       "      <td>14.00</td>\n",
       "    </tr>\n",
       "    <tr>\n",
       "      <th>3</th>\n",
       "      <td>Bán Nhà riêng</td>\n",
       "      <td>30.0</td>\n",
       "      <td>1</td>\n",
       "      <td>2</td>\n",
       "      <td>Gò Vấp</td>\n",
       "      <td>TP Hồ Chí Minh</td>\n",
       "      <td>3.70</td>\n",
       "    </tr>\n",
       "    <tr>\n",
       "      <th>4</th>\n",
       "      <td>Bán Nhà riêng</td>\n",
       "      <td>38.0</td>\n",
       "      <td>3</td>\n",
       "      <td>3</td>\n",
       "      <td>Bình Thạnh</td>\n",
       "      <td>TP Hồ Chí Minh</td>\n",
       "      <td>4.40</td>\n",
       "    </tr>\n",
       "    <tr>\n",
       "      <th>...</th>\n",
       "      <td>...</td>\n",
       "      <td>...</td>\n",
       "      <td>...</td>\n",
       "      <td>...</td>\n",
       "      <td>...</td>\n",
       "      <td>...</td>\n",
       "      <td>...</td>\n",
       "    </tr>\n",
       "    <tr>\n",
       "      <th>8091</th>\n",
       "      <td>Bán Nhà riêng</td>\n",
       "      <td>61.0</td>\n",
       "      <td>3</td>\n",
       "      <td>4</td>\n",
       "      <td>Gò Vấp</td>\n",
       "      <td>TP Hồ Chí Minh</td>\n",
       "      <td>9.50</td>\n",
       "    </tr>\n",
       "    <tr>\n",
       "      <th>8092</th>\n",
       "      <td>Bán Nhà riêng</td>\n",
       "      <td>64.0</td>\n",
       "      <td>3</td>\n",
       "      <td>5</td>\n",
       "      <td>Bình Thạnh</td>\n",
       "      <td>TP Hồ Chí Minh</td>\n",
       "      <td>9.50</td>\n",
       "    </tr>\n",
       "    <tr>\n",
       "      <th>8093</th>\n",
       "      <td>Bán Nhà riêng</td>\n",
       "      <td>60.0</td>\n",
       "      <td>3</td>\n",
       "      <td>3</td>\n",
       "      <td>Tân Phú</td>\n",
       "      <td>TP Hồ Chí Minh</td>\n",
       "      <td>5.40</td>\n",
       "    </tr>\n",
       "    <tr>\n",
       "      <th>8094</th>\n",
       "      <td>Bán Nhà riêng</td>\n",
       "      <td>90.0</td>\n",
       "      <td>2</td>\n",
       "      <td>2</td>\n",
       "      <td>Biên Hòa</td>\n",
       "      <td>Đồng Nai</td>\n",
       "      <td>2.85</td>\n",
       "    </tr>\n",
       "    <tr>\n",
       "      <th>8095</th>\n",
       "      <td>Bán Nhà riêng</td>\n",
       "      <td>60.0</td>\n",
       "      <td>5</td>\n",
       "      <td>4</td>\n",
       "      <td>Gò Vấp</td>\n",
       "      <td>TP Hồ Chí Minh</td>\n",
       "      <td>7.93</td>\n",
       "    </tr>\n",
       "  </tbody>\n",
       "</table>\n",
       "<p>8096 rows × 7 columns</p>\n",
       "</div>"
      ],
      "text/plain": [
       "         houseTypes   area  new_num_floors  new_bedrooms      district  \\\n",
       "0     Bán Nhà riêng  130.0               3             7       Quận 12   \n",
       "1     Bán Nhà riêng   65.0               2             2  Ngũ Hành Sơn   \n",
       "2     Bán Nhà riêng   90.0               5             5  Hai Bà Trưng   \n",
       "3     Bán Nhà riêng   30.0               1             2        Gò Vấp   \n",
       "4     Bán Nhà riêng   38.0               3             3    Bình Thạnh   \n",
       "...             ...    ...             ...           ...           ...   \n",
       "8091  Bán Nhà riêng   61.0               3             4        Gò Vấp   \n",
       "8092  Bán Nhà riêng   64.0               3             5    Bình Thạnh   \n",
       "8093  Bán Nhà riêng   60.0               3             3       Tân Phú   \n",
       "8094  Bán Nhà riêng   90.0               2             2      Biên Hòa   \n",
       "8095  Bán Nhà riêng   60.0               5             4        Gò Vấp   \n",
       "\n",
       "                city  price  \n",
       "0     TP Hồ Chí Minh   9.20  \n",
       "1            Đà Nẵng   2.90  \n",
       "2             Hà Nội  14.00  \n",
       "3     TP Hồ Chí Minh   3.70  \n",
       "4     TP Hồ Chí Minh   4.40  \n",
       "...              ...    ...  \n",
       "8091  TP Hồ Chí Minh   9.50  \n",
       "8092  TP Hồ Chí Minh   9.50  \n",
       "8093  TP Hồ Chí Minh   5.40  \n",
       "8094        Đồng Nai   2.85  \n",
       "8095  TP Hồ Chí Minh   7.93  \n",
       "\n",
       "[8096 rows x 7 columns]"
      ]
     },
     "execution_count": 3,
     "metadata": {},
     "output_type": "execute_result"
    }
   ],
   "source": [
    "new_house_data = pd.read_excel('data/full_houses.xlsx')\n",
    "new_house_data.drop(['url','level_0','index','num_floors','bedrooms'],axis=1,inplace=True)\n",
    "new_house_data = new_house_data[['houseTypes','area','new_num_floors','new_bedrooms','district','city','price']]\n",
    "new_house_data"
   ]
  },
  {
   "cell_type": "code",
   "execution_count": 15,
   "metadata": {},
   "outputs": [
    {
     "data": {
      "text/plain": [
       "8096"
      ]
     },
     "execution_count": 15,
     "metadata": {},
     "output_type": "execute_result"
    }
   ],
   "source": [
    "len(new_house_data)"
   ]
  },
  {
   "cell_type": "code",
   "execution_count": 9,
   "metadata": {},
   "outputs": [
    {
     "data": {
      "text/plain": [
       "{'Bán Nhà riêng': 5962,\n",
       " 'Bán Nhà mặt phố': 1801,\n",
       " 'Bán Nhà': 318,\n",
       " 'Bán Luxury home': 9,\n",
       " 'Bán Nhà cổ': 6}"
      ]
     },
     "execution_count": 9,
     "metadata": {},
     "output_type": "execute_result"
    }
   ],
   "source": [
    "new_house_data.houseTypes.value_counts().to_dict()"
   ]
  },
  {
   "cell_type": "code",
   "execution_count": 14,
   "metadata": {},
   "outputs": [
    {
     "data": {
      "text/plain": [
       "134"
      ]
     },
     "execution_count": 14,
     "metadata": {},
     "output_type": "execute_result"
    }
   ],
   "source": [
    "num_district = new_house_data.district.value_counts().to_dict()\n",
    "# 134 districts\n",
    "len(num_district)"
   ]
  },
  {
   "cell_type": "code",
   "execution_count": 13,
   "metadata": {},
   "outputs": [
    {
     "data": {
      "text/plain": [
       "{'TP Hồ Chí Minh': 4641,\n",
       " 'Hà Nội': 2079,\n",
       " 'Đà Nẵng': 414,\n",
       " 'Đồng Nai': 286,\n",
       " 'Thừa Thiên Huế': 133,\n",
       " 'Hải Phòng': 112,\n",
       " 'Bình Dương': 98,\n",
       " 'Bắc Ninh': 60,\n",
       " 'Khánh Hòa': 48,\n",
       " 'Long An': 37,\n",
       " 'Lâm Đồng': 36,\n",
       " 'Tiền Giang': 24,\n",
       " 'Bà Rịa Vũng Tàu': 17,\n",
       " 'Hậu Giang': 17,\n",
       " 'Cần Thơ': 16,\n",
       " 'Đắk Lắk': 9,\n",
       " 'Quảng Bình': 7,\n",
       " 'An Giang': 7,\n",
       " 'Ninh Bình': 6,\n",
       " 'Thanh Hóa': 6,\n",
       " 'Bình Thuận': 6,\n",
       " 'Kiên Giang': 5,\n",
       " 'Ninh Thuận': 5,\n",
       " 'Bình Phước': 4,\n",
       " 'Sóc Trăng': 3,\n",
       " 'Bến Tre': 3,\n",
       " 'Yên Bái': 2,\n",
       " 'Bình Định': 2,\n",
       " 'Tây Ninh': 2,\n",
       " 'Lào Cai': 2,\n",
       " 'Vĩnh Phúc': 2,\n",
       " 'Quảng Ngãi': 1,\n",
       " 'Thái Nguyên': 1,\n",
       " 'Cà Mau': 1,\n",
       " 'Gia Lai': 1,\n",
       " 'Quảng Ninh': 1,\n",
       " 'Quảng Nam': 1,\n",
       " 'Nam Định': 1}"
      ]
     },
     "execution_count": 13,
     "metadata": {},
     "output_type": "execute_result"
    }
   ],
   "source": [
    "new_house_data.city.value_counts().to_dict()\n",
    "# 38 cities"
   ]
  }
 ],
 "metadata": {
  "kernelspec": {
   "display_name": "Python 3",
   "language": "python",
   "name": "python3"
  },
  "language_info": {
   "codemirror_mode": {
    "name": "ipython",
    "version": 3
   },
   "file_extension": ".py",
   "mimetype": "text/x-python",
   "name": "python",
   "nbconvert_exporter": "python",
   "pygments_lexer": "ipython3",
   "version": "3.10.11"
  },
  "orig_nbformat": 4
 },
 "nbformat": 4,
 "nbformat_minor": 2
}
