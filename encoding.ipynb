{
 "cells": [
  {
   "cell_type": "code",
   "execution_count": 2,
   "metadata": {},
   "outputs": [],
   "source": [
    "import pandas as pd\n",
    "import numpy as np\n",
    "import matplotlib.pyplot as plt\n",
    "import seaborn as sns"
   ]
  },
  {
   "cell_type": "code",
   "execution_count": 3,
   "metadata": {},
   "outputs": [],
   "source": [
    "new_house_data = pd.read_excel('data/houses/full_houses.xlsx')\n",
    "new_house_data.drop(['url','level_0','index','num_floors','bedrooms'],axis=1,inplace=True)\n",
    "new_house_data = new_house_data[['houseTypes','area','new_num_floors','new_bedrooms','district','city','price']]\n",
    "new_house_data.to_excel('full_data_not_encoding.xlsx', index=False)"
   ]
  },
  {
   "cell_type": "code",
   "execution_count": 15,
   "metadata": {},
   "outputs": [
    {
     "data": {
      "text/plain": [
       "8096"
      ]
     },
     "execution_count": 15,
     "metadata": {},
     "output_type": "execute_result"
    }
   ],
   "source": [
    "len(new_house_data)"
   ]
  },
  {
   "cell_type": "code",
   "execution_count": 9,
   "metadata": {},
   "outputs": [
    {
     "data": {
      "text/plain": [
       "{'Bán Nhà riêng': 5962,\n",
       " 'Bán Nhà mặt phố': 1801,\n",
       " 'Bán Nhà': 318,\n",
       " 'Bán Luxury home': 9,\n",
       " 'Bán Nhà cổ': 6}"
      ]
     },
     "execution_count": 9,
     "metadata": {},
     "output_type": "execute_result"
    }
   ],
   "source": [
    "new_house_data.houseTypes.value_counts().to_dict()"
   ]
  },
  {
   "cell_type": "code",
   "execution_count": 14,
   "metadata": {},
   "outputs": [
    {
     "data": {
      "text/plain": [
       "134"
      ]
     },
     "execution_count": 14,
     "metadata": {},
     "output_type": "execute_result"
    }
   ],
   "source": [
    "num_district = new_house_data.district.value_counts().to_dict()\n",
    "# 134 districts\n",
    "len(num_district)"
   ]
  },
  {
   "cell_type": "code",
   "execution_count": 13,
   "metadata": {},
   "outputs": [
    {
     "data": {
      "text/plain": [
       "{'TP Hồ Chí Minh': 4641,\n",
       " 'Hà Nội': 2079,\n",
       " 'Đà Nẵng': 414,\n",
       " 'Đồng Nai': 286,\n",
       " 'Thừa Thiên Huế': 133,\n",
       " 'Hải Phòng': 112,\n",
       " 'Bình Dương': 98,\n",
       " 'Bắc Ninh': 60,\n",
       " 'Khánh Hòa': 48,\n",
       " 'Long An': 37,\n",
       " 'Lâm Đồng': 36,\n",
       " 'Tiền Giang': 24,\n",
       " 'Bà Rịa Vũng Tàu': 17,\n",
       " 'Hậu Giang': 17,\n",
       " 'Cần Thơ': 16,\n",
       " 'Đắk Lắk': 9,\n",
       " 'Quảng Bình': 7,\n",
       " 'An Giang': 7,\n",
       " 'Ninh Bình': 6,\n",
       " 'Thanh Hóa': 6,\n",
       " 'Bình Thuận': 6,\n",
       " 'Kiên Giang': 5,\n",
       " 'Ninh Thuận': 5,\n",
       " 'Bình Phước': 4,\n",
       " 'Sóc Trăng': 3,\n",
       " 'Bến Tre': 3,\n",
       " 'Yên Bái': 2,\n",
       " 'Bình Định': 2,\n",
       " 'Tây Ninh': 2,\n",
       " 'Lào Cai': 2,\n",
       " 'Vĩnh Phúc': 2,\n",
       " 'Quảng Ngãi': 1,\n",
       " 'Thái Nguyên': 1,\n",
       " 'Cà Mau': 1,\n",
       " 'Gia Lai': 1,\n",
       " 'Quảng Ninh': 1,\n",
       " 'Quảng Nam': 1,\n",
       " 'Nam Định': 1}"
      ]
     },
     "execution_count": 13,
     "metadata": {},
     "output_type": "execute_result"
    }
   ],
   "source": [
    "new_house_data.city.value_counts().to_dict()\n",
    "# 38 cities"
   ]
  }
 ],
 "metadata": {
  "kernelspec": {
   "display_name": "Python 3",
   "language": "python",
   "name": "python3"
  },
  "language_info": {
   "codemirror_mode": {
    "name": "ipython",
    "version": 3
   },
   "file_extension": ".py",
   "mimetype": "text/x-python",
   "name": "python",
   "nbconvert_exporter": "python",
   "pygments_lexer": "ipython3",
   "version": "3.10.11"
  },
  "orig_nbformat": 4
 },
 "nbformat": 4,
 "nbformat_minor": 2
}
