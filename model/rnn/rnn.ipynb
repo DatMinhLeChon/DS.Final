{
 "cells": [
  {
   "cell_type": "code",
   "execution_count": 20,
   "metadata": {},
   "outputs": [],
   "source": [
    "import tensorflow\n",
    "import numpy as np\n",
    "import pandas as pd\n",
    "from sklearn.model_selection import train_test_split\n",
    "from sklearn.preprocessing import StandardScaler\n",
    "from tensorflow.keras.models import Sequential\n",
    "from tensorflow.keras.layers import Dense"
   ]
  },
  {
   "cell_type": "code",
   "execution_count": 7,
   "metadata": {},
   "outputs": [],
   "source": [
    "class splitData():\n",
    "    def __init__(self):\n",
    "        self.X_train = []\n",
    "        self.X_test = []\n",
    "        self.y_train = []\n",
    "        self.y_test = []\n",
    "    \n",
    "    def split(self, x, y):\n",
    "        self.X_train, self.X_test, self.y_train, self.y_test = train_test_split(x, y, test_size=0.1, random_state=42)"
   ]
  },
  {
   "cell_type": "code",
   "execution_count": 21,
   "metadata": {},
   "outputs": [],
   "source": [
    "features = ['district_encoder',\\\n",
    "        'area',\\\n",
    "        'new_num_floors',\\\n",
    "        'new_bedrooms',\\\n",
    "        'houseTypes_Bán Luxury home',\\\n",
    "        'houseTypes_Bán Nhà',\\\n",
    "        'houseTypes_Bán Nhà cổ',\\\n",
    "        'houseTypes_Bán Nhà mặt phố',\\\n",
    "        'houseTypes_Bán Nhà riêng']\n",
    "\n",
    "df = pd.read_excel('HCM_data.xlsx')\n",
    "df_tranform = pd.DataFrame(data = StandardScaler().fit_transform(df.loc[:, features].values), columns = features)\n",
    "y = df['price'].values\n",
    "x = df_tranform[features].values\n",
    "data = splitData()\n",
    "data.split(x, y)"
   ]
  },
  {
   "cell_type": "code",
   "execution_count": 28,
   "metadata": {},
   "outputs": [],
   "source": [
    "\n",
    "class ModelRNN():\n",
    "    def __init__(self):\n",
    "        self.model = Sequential()\n",
    "        self.model.add(Dense(units=20, activation='relu')) #fully connected networks\n",
    "        self.model.add(Dense(units=20, activation='relu'))\n",
    "        self.model.add(Dense(units=20, activation='relu'))\n",
    "        self.model.add(Dense(units=20, activation='relu'))\n",
    "        self.model.add(Dense(units=1)) #output layer\n",
    "        self.model.compile(optimizer='adam', loss='mse')\n",
    "    \n",
    "    def trainning(self, data):\n",
    "        self.model.fit(data.X_train, data.y_train,\n",
    "                validation_data=(data.X_test, data.y_test),\n",
    "                batch_size = 128,\n",
    "                epochs = 400)\n",
    "        \n",
    "    def evaluation(self, data):\n",
    "        y_pred =  self.model.predict(data.X_test)\n",
    "        from sklearn.metrics import mean_squared_error, mean_absolute_error, explained_variance_score\n",
    "        mean_squared_error(data.y_test, y_pred)\n",
    "        np.sqrt(mean_squared_error(data.y_test, y_pred))\n",
    "        explained_variance_score(data.y_test, y_pred)"
   ]
  },
  {
   "cell_type": "code",
   "execution_count": 29,
   "metadata": {},
   "outputs": [
    {
     "ename": "RuntimeError",
     "evalue": "You must compile your model before training/testing. Use `model.compile(optimizer, loss)`.",
     "output_type": "error",
     "traceback": [
      "\u001b[1;31m---------------------------------------------------------------------------\u001b[0m",
      "\u001b[1;31mRuntimeError\u001b[0m                              Traceback (most recent call last)",
      "Cell \u001b[1;32mIn[29], line 2\u001b[0m\n\u001b[0;32m      1\u001b[0m model_rnn \u001b[39m=\u001b[39m ModelRNN()\n\u001b[1;32m----> 2\u001b[0m model_rnn\u001b[39m.\u001b[39;49mtrainning(data)\n\u001b[0;32m      3\u001b[0m model_rnn\u001b[39m.\u001b[39mevaluation(data)\n",
      "Cell \u001b[1;32mIn[28], line 11\u001b[0m, in \u001b[0;36mModelRNN.trainning\u001b[1;34m(self, data)\u001b[0m\n\u001b[0;32m     10\u001b[0m \u001b[39mdef\u001b[39;00m \u001b[39mtrainning\u001b[39m(\u001b[39mself\u001b[39m, data):\n\u001b[1;32m---> 11\u001b[0m     \u001b[39mself\u001b[39;49m\u001b[39m.\u001b[39;49mmodel\u001b[39m.\u001b[39;49mfit(data\u001b[39m.\u001b[39;49mX_train, data\u001b[39m.\u001b[39;49my_train,\n\u001b[0;32m     12\u001b[0m             validation_data\u001b[39m=\u001b[39;49m(data\u001b[39m.\u001b[39;49mX_test, data\u001b[39m.\u001b[39;49my_test),\n\u001b[0;32m     13\u001b[0m             batch_size \u001b[39m=\u001b[39;49m \u001b[39m128\u001b[39;49m,\n\u001b[0;32m     14\u001b[0m             epochs \u001b[39m=\u001b[39;49m \u001b[39m400\u001b[39;49m)\n",
      "File \u001b[1;32mc:\\Users\\User\\AppData\\Local\\Programs\\Python\\Python311\\Lib\\site-packages\\keras\\utils\\traceback_utils.py:70\u001b[0m, in \u001b[0;36mfilter_traceback.<locals>.error_handler\u001b[1;34m(*args, **kwargs)\u001b[0m\n\u001b[0;32m     67\u001b[0m     filtered_tb \u001b[39m=\u001b[39m _process_traceback_frames(e\u001b[39m.\u001b[39m__traceback__)\n\u001b[0;32m     68\u001b[0m     \u001b[39m# To get the full stack trace, call:\u001b[39;00m\n\u001b[0;32m     69\u001b[0m     \u001b[39m# `tf.debugging.disable_traceback_filtering()`\u001b[39;00m\n\u001b[1;32m---> 70\u001b[0m     \u001b[39mraise\u001b[39;00m e\u001b[39m.\u001b[39mwith_traceback(filtered_tb) \u001b[39mfrom\u001b[39;00m \u001b[39mNone\u001b[39;00m\n\u001b[0;32m     71\u001b[0m \u001b[39mfinally\u001b[39;00m:\n\u001b[0;32m     72\u001b[0m     \u001b[39mdel\u001b[39;00m filtered_tb\n",
      "File \u001b[1;32mc:\\Users\\User\\AppData\\Local\\Programs\\Python\\Python311\\Lib\\site-packages\\keras\\engine\\training.py:3685\u001b[0m, in \u001b[0;36mModel._assert_compile_was_called\u001b[1;34m(self)\u001b[0m\n\u001b[0;32m   3679\u001b[0m \u001b[39mdef\u001b[39;00m \u001b[39m_assert_compile_was_called\u001b[39m(\u001b[39mself\u001b[39m):\n\u001b[0;32m   3680\u001b[0m     \u001b[39m# Checks whether `compile` has been called. If it has been called,\u001b[39;00m\n\u001b[0;32m   3681\u001b[0m     \u001b[39m# then the optimizer is set. This is different from whether the\u001b[39;00m\n\u001b[0;32m   3682\u001b[0m     \u001b[39m# model is compiled\u001b[39;00m\n\u001b[0;32m   3683\u001b[0m     \u001b[39m# (i.e. whether the model is built and its inputs/outputs are set).\u001b[39;00m\n\u001b[0;32m   3684\u001b[0m     \u001b[39mif\u001b[39;00m \u001b[39mnot\u001b[39;00m \u001b[39mself\u001b[39m\u001b[39m.\u001b[39m_is_compiled:\n\u001b[1;32m-> 3685\u001b[0m         \u001b[39mraise\u001b[39;00m \u001b[39mRuntimeError\u001b[39;00m(\n\u001b[0;32m   3686\u001b[0m             \u001b[39m\"\u001b[39m\u001b[39mYou must compile your model before \u001b[39m\u001b[39m\"\u001b[39m\n\u001b[0;32m   3687\u001b[0m             \u001b[39m\"\u001b[39m\u001b[39mtraining/testing. \u001b[39m\u001b[39m\"\u001b[39m\n\u001b[0;32m   3688\u001b[0m             \u001b[39m\"\u001b[39m\u001b[39mUse `model.compile(optimizer, loss)`.\u001b[39m\u001b[39m\"\u001b[39m\n\u001b[0;32m   3689\u001b[0m         )\n",
      "\u001b[1;31mRuntimeError\u001b[0m: You must compile your model before training/testing. Use `model.compile(optimizer, loss)`."
     ]
    }
   ],
   "source": [
    "model_rnn = ModelRNN()\n",
    "model_rnn.trainning(data)\n",
    "model_rnn.evaluation(data)"
   ]
  }
 ],
 "metadata": {
  "kernelspec": {
   "display_name": "Python 3",
   "language": "python",
   "name": "python3"
  },
  "language_info": {
   "codemirror_mode": {
    "name": "ipython",
    "version": 3
   },
   "file_extension": ".py",
   "mimetype": "text/x-python",
   "name": "python",
   "nbconvert_exporter": "python",
   "pygments_lexer": "ipython3",
   "version": "3.11.3"
  },
  "orig_nbformat": 4
 },
 "nbformat": 4,
 "nbformat_minor": 2
}
