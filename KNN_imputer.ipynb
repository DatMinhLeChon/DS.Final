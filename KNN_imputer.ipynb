{
 "cells": [
  {
   "cell_type": "code",
   "execution_count": 2,
   "metadata": {},
   "outputs": [],
   "source": [
    "import pandas as pd\n",
    "import numpy as np\n",
    "import seaborn as sns"
   ]
  },
  {
   "cell_type": "code",
   "execution_count": 37,
   "metadata": {},
   "outputs": [
    {
     "data": {
      "text/plain": [
       "houseTypes       0\n",
       "area             0\n",
       "num_floors    1680\n",
       "bedrooms      1709\n",
       "district         0\n",
       "city             0\n",
       "price            0\n",
       "url              0\n",
       "dtype: int64"
      ]
     },
     "execution_count": 37,
     "metadata": {},
     "output_type": "execute_result"
    }
   ],
   "source": [
    "house_data = pd.read_excel('data/houses/house_data.xlsx')\n",
    "house_data.isna().sum()"
   ]
  },
  {
   "cell_type": "code",
   "execution_count": 38,
   "metadata": {},
   "outputs": [
    {
     "data": {
      "text/plain": [
       "houseTypes       0\n",
       "area             0\n",
       "num_floors    1700\n",
       "bedrooms      1709\n",
       "district         0\n",
       "city             0\n",
       "price            0\n",
       "url              0\n",
       "dtype: int64"
      ]
     },
     "execution_count": 38,
     "metadata": {},
     "output_type": "execute_result"
    }
   ],
   "source": [
    "house_data.loc[house_data['num_floors'] > 11, 'num_floors'] = None\n",
    "house_data.isna().sum()"
   ]
  },
  {
   "cell_type": "code",
   "execution_count": 48,
   "metadata": {},
   "outputs": [
    {
     "data": {
      "text/plain": [
       "area          0\n",
       "num_floors    0\n",
       "bedrooms      0\n",
       "price         0\n",
       "dtype: int64"
      ]
     },
     "execution_count": 48,
     "metadata": {},
     "output_type": "execute_result"
    }
   ],
   "source": [
    "not_null_houses = house_data.dropna()\n",
    "full_houses = pd.DataFrame({'area':not_null_houses['area'],'num_floors':not_null_houses['num_floors'],'bedrooms':not_null_houses['bedrooms'],'price':not_null_houses['price']})\n",
    "full_houses.isna().sum()"
   ]
  },
  {
   "cell_type": "code",
   "execution_count": 49,
   "metadata": {},
   "outputs": [
    {
     "name": "stdout",
     "output_type": "stream",
     "text": [
      "[4528 4460 1111 5506 3165 4924 4949 1487 3803 5269 5990 3037  577 5565\n",
      " 2833  352   67 3087 4077 4551 2816 4388 6853  317 7523 6620  963 4367\n",
      "  949 3303 5936 7709  555 2342 7672 3753 7722 4332 5770 2842 2784 6660\n",
      " 1844 5379 6345 1464 5684 3412 3128 1919 3784 2395 1815  688 5172 7757\n",
      " 4027 3383 2508 4838 6434 5403  524 3689 4636 2137 3687 1888 3144  972\n",
      " 7138 4994 5154 6955 1582 6024 1308 6940 5991 2449  580 1121 8053 4881\n",
      " 4112 7655 5823  253 5795 6055 1518 5817 1609 3213 6870 4051 6776 4326\n",
      " 6825 6729 6836 2433 4970 3017 5478 4876 2965 1874  144 5210 7305 7935\n",
      " 1911 2728 2224 5868 2845 2946 1982 3544 2160 4557 6317 5596  289 4886\n",
      " 6024 7595 3630 4835 1353 6641 6444 7495 3256 3779 7584 1130 6359 3326\n",
      " 6282  172 6922  512 1473 5642 7611 7469 2105 7304 5208 2487 2975 7423\n",
      " 5016 7187 4011 1424 3312  114 4382 4211 3510 1168 7587  535 2707  443\n",
      " 7622 1579 7376 7028 4954 4255  205 7165 7091 4484 7867  288 3696 1024\n",
      " 3082 1890 7193 5596 4870 1965 2975 1007 4558 7245 2951 1205 5530 7834\n",
      " 1198  281 1127 1238]\n"
     ]
    }
   ],
   "source": [
    "i1 = np.random.choice(a=not_null_houses.index, size=200)\n",
    "# i2 = np.random.choice(a=not_null_houses.index, size=50)\n",
    "print(i1)\n",
    "# print(i2)"
   ]
  },
  {
   "cell_type": "code",
   "execution_count": 50,
   "metadata": {},
   "outputs": [
    {
     "data": {
      "text/plain": [
       "area            0\n",
       "num_floors    197\n",
       "bedrooms        0\n",
       "price           0\n",
       "dtype: int64"
      ]
     },
     "execution_count": 50,
     "metadata": {},
     "output_type": "execute_result"
    }
   ],
   "source": [
    "null_houses = full_houses.copy()\n",
    "null_houses.loc[i1, 'num_floors'] = np.nan\n",
    "null_houses.isna().sum()"
   ]
  },
  {
   "cell_type": "code",
   "execution_count": 51,
   "metadata": {},
   "outputs": [],
   "source": [
    "null_houses = null_houses.reset_index()"
   ]
  },
  {
   "cell_type": "code",
   "execution_count": 52,
   "metadata": {},
   "outputs": [],
   "source": [
    "from sklearn.impute import KNNImputer\n",
    "from sklearn.model_selection import train_test_split\n",
    "from sklearn.ensemble import RandomForestRegressor\n",
    "from sklearn.metrics import mean_squared_error\n",
    "\n",
    "rmse = lambda y, yhat: np.sqrt(mean_squared_error(y, yhat))\n",
    "\n",
    "imputer_test = KNNImputer(n_neighbors=13)\n",
    "imputed_test = imputer_test.fit_transform(null_houses)\n",
    "df_imputed_test = pd.DataFrame(imputed_test, columns=null_houses.columns)"
   ]
  },
  {
   "cell_type": "code",
   "execution_count": 57,
   "metadata": {},
   "outputs": [],
   "source": [
    "full_houses.to_excel('full_houses.xlsx', index=False)"
   ]
  },
  {
   "cell_type": "code",
   "execution_count": 58,
   "metadata": {},
   "outputs": [],
   "source": [
    "df_imputed_test.to_excel('df_imputed_test.xlsx', index=False)"
   ]
  },
  {
   "cell_type": "code",
   "execution_count": 55,
   "metadata": {},
   "outputs": [
    {
     "name": "stdout",
     "output_type": "stream",
     "text": [
      "0       3.0\n",
      "1       5.0\n",
      "2       1.0\n",
      "3       3.0\n",
      "4       2.0\n",
      "       ... \n",
      "5300    3.0\n",
      "5301    4.0\n",
      "5302    3.0\n",
      "5303    3.0\n",
      "5304    5.0\n",
      "Name: num_floors, Length: 5305, dtype: float64\n"
     ]
    }
   ],
   "source": [
    "print(df_imputed_test['num_floors'])"
   ]
  },
  {
   "cell_type": "code",
   "execution_count": 59,
   "metadata": {},
   "outputs": [
    {
     "name": "stdout",
     "output_type": "stream",
     "text": [
      "0.29203626161895413\n"
     ]
    }
   ],
   "source": [
    "error = rmse(full_houses['num_floors'], df_imputed_test['num_floors'])\n",
    "print(error)"
   ]
  }
 ],
 "metadata": {
  "kernelspec": {
   "display_name": "Python 3",
   "language": "python",
   "name": "python3"
  },
  "language_info": {
   "codemirror_mode": {
    "name": "ipython",
    "version": 3
   },
   "file_extension": ".py",
   "mimetype": "text/x-python",
   "name": "python",
   "nbconvert_exporter": "python",
   "pygments_lexer": "ipython3",
   "version": "3.10.11"
  },
  "orig_nbformat": 4
 },
 "nbformat": 4,
 "nbformat_minor": 2
}
