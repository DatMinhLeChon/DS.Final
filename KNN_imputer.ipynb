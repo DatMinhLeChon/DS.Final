{
 "cells": [
  {
   "cell_type": "code",
   "execution_count": 5,
   "metadata": {},
   "outputs": [],
   "source": [
    "import pandas as pd\n",
    "import numpy as np\n",
    "import seaborn as sns\n",
    "import matplotlib.pyplot as plt"
   ]
  },
  {
   "cell_type": "code",
   "execution_count": 37,
   "metadata": {},
   "outputs": [
    {
     "data": {
      "text/plain": [
       "houseTypes       0\n",
       "area             0\n",
       "num_floors    1680\n",
       "bedrooms      1709\n",
       "district         0\n",
       "city             0\n",
       "price            0\n",
       "url              0\n",
       "dtype: int64"
      ]
     },
     "execution_count": 37,
     "metadata": {},
     "output_type": "execute_result"
    }
   ],
   "source": [
    "house_data = pd.read_excel('data/houses/house_data.xlsx')\n",
    "house_data.isna().sum()"
   ]
  },
  {
   "cell_type": "code",
   "execution_count": 38,
   "metadata": {},
   "outputs": [
    {
     "data": {
      "text/plain": [
       "houseTypes       0\n",
       "area             0\n",
       "num_floors    1700\n",
       "bedrooms      1709\n",
       "district         0\n",
       "city             0\n",
       "price            0\n",
       "url              0\n",
       "dtype: int64"
      ]
     },
     "execution_count": 38,
     "metadata": {},
     "output_type": "execute_result"
    }
   ],
   "source": [
    "house_data.loc[house_data['num_floors'] > 11, 'num_floors'] = None\n",
    "house_data.isna().sum()"
   ]
  },
  {
   "cell_type": "code",
   "execution_count": 48,
   "metadata": {},
   "outputs": [
    {
     "data": {
      "text/plain": [
       "area          0\n",
       "num_floors    0\n",
       "bedrooms      0\n",
       "price         0\n",
       "dtype: int64"
      ]
     },
     "execution_count": 48,
     "metadata": {},
     "output_type": "execute_result"
    }
   ],
   "source": [
    "not_null_houses = house_data.dropna()\n",
    "full_houses = pd.DataFrame({'area':not_null_houses['area'],'num_floors':not_null_houses['num_floors'],'bedrooms':not_null_houses['bedrooms'],'price':not_null_houses['price']})\n",
    "full_houses.isna().sum()"
   ]
  },
  {
   "cell_type": "code",
   "execution_count": 49,
   "metadata": {},
   "outputs": [
    {
     "name": "stdout",
     "output_type": "stream",
     "text": [
      "[4528 4460 1111 5506 3165 4924 4949 1487 3803 5269 5990 3037  577 5565\n",
      " 2833  352   67 3087 4077 4551 2816 4388 6853  317 7523 6620  963 4367\n",
      "  949 3303 5936 7709  555 2342 7672 3753 7722 4332 5770 2842 2784 6660\n",
      " 1844 5379 6345 1464 5684 3412 3128 1919 3784 2395 1815  688 5172 7757\n",
      " 4027 3383 2508 4838 6434 5403  524 3689 4636 2137 3687 1888 3144  972\n",
      " 7138 4994 5154 6955 1582 6024 1308 6940 5991 2449  580 1121 8053 4881\n",
      " 4112 7655 5823  253 5795 6055 1518 5817 1609 3213 6870 4051 6776 4326\n",
      " 6825 6729 6836 2433 4970 3017 5478 4876 2965 1874  144 5210 7305 7935\n",
      " 1911 2728 2224 5868 2845 2946 1982 3544 2160 4557 6317 5596  289 4886\n",
      " 6024 7595 3630 4835 1353 6641 6444 7495 3256 3779 7584 1130 6359 3326\n",
      " 6282  172 6922  512 1473 5642 7611 7469 2105 7304 5208 2487 2975 7423\n",
      " 5016 7187 4011 1424 3312  114 4382 4211 3510 1168 7587  535 2707  443\n",
      " 7622 1579 7376 7028 4954 4255  205 7165 7091 4484 7867  288 3696 1024\n",
      " 3082 1890 7193 5596 4870 1965 2975 1007 4558 7245 2951 1205 5530 7834\n",
      " 1198  281 1127 1238]\n"
     ]
    }
   ],
   "source": [
    "i1 = np.random.choice(a=not_null_houses.index, size=200)\n",
    "# i2 = np.random.choice(a=not_null_houses.index, size=50)\n",
    "print(i1)\n",
    "# print(i2)"
   ]
  },
  {
   "cell_type": "code",
   "execution_count": 50,
   "metadata": {},
   "outputs": [
    {
     "data": {
      "text/plain": [
       "area            0\n",
       "num_floors    197\n",
       "bedrooms        0\n",
       "price           0\n",
       "dtype: int64"
      ]
     },
     "execution_count": 50,
     "metadata": {},
     "output_type": "execute_result"
    }
   ],
   "source": [
    "null_houses = full_houses.copy()\n",
    "null_houses.loc[i1, 'num_floors'] = np.nan\n",
    "null_houses.isna().sum()"
   ]
  },
  {
   "cell_type": "code",
   "execution_count": 51,
   "metadata": {},
   "outputs": [],
   "source": [
    "null_houses = null_houses.reset_index()"
   ]
  },
  {
   "cell_type": "code",
   "execution_count": 52,
   "metadata": {},
   "outputs": [],
   "source": [
    "from sklearn.impute import KNNImputer\n",
    "from sklearn.model_selection import train_test_split\n",
    "from sklearn.ensemble import RandomForestRegressor\n",
    "from sklearn.metrics import mean_squared_error\n",
    "\n",
    "rmse = lambda y, yhat: np.sqrt(mean_squared_error(y, yhat))\n",
    "\n",
    "imputer_test = KNNImputer(n_neighbors=13)\n",
    "imputed_test = imputer_test.fit_transform(null_houses)\n",
    "df_imputed_test = pd.DataFrame(imputed_test, columns=null_houses.columns)"
   ]
  },
  {
   "cell_type": "code",
   "execution_count": 57,
   "metadata": {},
   "outputs": [],
   "source": [
    "full_houses.to_excel('full_houses.xlsx', index=False)"
   ]
  },
  {
   "cell_type": "code",
   "execution_count": 58,
   "metadata": {},
   "outputs": [],
   "source": [
    "df_imputed_test.to_excel('df_imputed_test.xlsx', index=False)"
   ]
  },
  {
   "cell_type": "code",
   "execution_count": 55,
   "metadata": {},
   "outputs": [
    {
     "name": "stdout",
     "output_type": "stream",
     "text": [
      "0       3.0\n",
      "1       5.0\n",
      "2       1.0\n",
      "3       3.0\n",
      "4       2.0\n",
      "       ... \n",
      "5300    3.0\n",
      "5301    4.0\n",
      "5302    3.0\n",
      "5303    3.0\n",
      "5304    5.0\n",
      "Name: num_floors, Length: 5305, dtype: float64\n"
     ]
    }
   ],
   "source": [
    "print(df_imputed_test['num_floors'])"
   ]
  },
  {
   "cell_type": "code",
   "execution_count": 59,
   "metadata": {},
   "outputs": [
    {
     "name": "stdout",
     "output_type": "stream",
     "text": [
      "0.29203626161895413\n"
     ]
    }
   ],
   "source": [
    "error = rmse(full_houses['num_floors'], df_imputed_test['num_floors'])\n",
    "print(error)"
   ]
  },
  {
   "cell_type": "code",
   "execution_count": 3,
   "metadata": {},
   "outputs": [],
   "source": [
    "data = pd.read_excel('clean_data.xlsx')\n",
    "data = data.drop(['district','city'],axis=True)"
   ]
  },
  {
   "cell_type": "code",
   "execution_count": 4,
   "metadata": {},
   "outputs": [
    {
     "data": {
      "text/html": [
       "<div>\n",
       "<style scoped>\n",
       "    .dataframe tbody tr th:only-of-type {\n",
       "        vertical-align: middle;\n",
       "    }\n",
       "\n",
       "    .dataframe tbody tr th {\n",
       "        vertical-align: top;\n",
       "    }\n",
       "\n",
       "    .dataframe thead th {\n",
       "        text-align: right;\n",
       "    }\n",
       "</style>\n",
       "<table border=\"1\" class=\"dataframe\">\n",
       "  <thead>\n",
       "    <tr style=\"text-align: right;\">\n",
       "      <th></th>\n",
       "      <th>area</th>\n",
       "      <th>new_num_floors</th>\n",
       "      <th>new_bedrooms</th>\n",
       "      <th>price</th>\n",
       "      <th>city_encoder</th>\n",
       "      <th>district_encoder</th>\n",
       "      <th>houseTypes_Bán Luxury home</th>\n",
       "      <th>houseTypes_Bán Nhà</th>\n",
       "      <th>houseTypes_Bán Nhà cổ</th>\n",
       "      <th>houseTypes_Bán Nhà mặt phố</th>\n",
       "      <th>houseTypes_Bán Nhà riêng</th>\n",
       "    </tr>\n",
       "  </thead>\n",
       "  <tbody>\n",
       "    <tr>\n",
       "      <th>0</th>\n",
       "      <td>130.0</td>\n",
       "      <td>3</td>\n",
       "      <td>7</td>\n",
       "      <td>9.20</td>\n",
       "      <td>9.292954</td>\n",
       "      <td>8.661038</td>\n",
       "      <td>0</td>\n",
       "      <td>0</td>\n",
       "      <td>0</td>\n",
       "      <td>0</td>\n",
       "      <td>1</td>\n",
       "    </tr>\n",
       "    <tr>\n",
       "      <th>1</th>\n",
       "      <td>65.0</td>\n",
       "      <td>2</td>\n",
       "      <td>2</td>\n",
       "      <td>2.90</td>\n",
       "      <td>7.417350</td>\n",
       "      <td>7.708597</td>\n",
       "      <td>0</td>\n",
       "      <td>0</td>\n",
       "      <td>0</td>\n",
       "      <td>0</td>\n",
       "      <td>1</td>\n",
       "    </tr>\n",
       "    <tr>\n",
       "      <th>2</th>\n",
       "      <td>90.0</td>\n",
       "      <td>5</td>\n",
       "      <td>5</td>\n",
       "      <td>14.00</td>\n",
       "      <td>11.089988</td>\n",
       "      <td>8.835714</td>\n",
       "      <td>0</td>\n",
       "      <td>0</td>\n",
       "      <td>0</td>\n",
       "      <td>0</td>\n",
       "      <td>1</td>\n",
       "    </tr>\n",
       "    <tr>\n",
       "      <th>3</th>\n",
       "      <td>30.0</td>\n",
       "      <td>1</td>\n",
       "      <td>2</td>\n",
       "      <td>3.70</td>\n",
       "      <td>9.292954</td>\n",
       "      <td>6.731978</td>\n",
       "      <td>0</td>\n",
       "      <td>0</td>\n",
       "      <td>0</td>\n",
       "      <td>0</td>\n",
       "      <td>1</td>\n",
       "    </tr>\n",
       "    <tr>\n",
       "      <th>4</th>\n",
       "      <td>38.0</td>\n",
       "      <td>3</td>\n",
       "      <td>3</td>\n",
       "      <td>4.40</td>\n",
       "      <td>9.292954</td>\n",
       "      <td>11.315324</td>\n",
       "      <td>0</td>\n",
       "      <td>0</td>\n",
       "      <td>0</td>\n",
       "      <td>0</td>\n",
       "      <td>1</td>\n",
       "    </tr>\n",
       "    <tr>\n",
       "      <th>...</th>\n",
       "      <td>...</td>\n",
       "      <td>...</td>\n",
       "      <td>...</td>\n",
       "      <td>...</td>\n",
       "      <td>...</td>\n",
       "      <td>...</td>\n",
       "      <td>...</td>\n",
       "      <td>...</td>\n",
       "      <td>...</td>\n",
       "      <td>...</td>\n",
       "      <td>...</td>\n",
       "    </tr>\n",
       "    <tr>\n",
       "      <th>8091</th>\n",
       "      <td>61.0</td>\n",
       "      <td>3</td>\n",
       "      <td>4</td>\n",
       "      <td>9.50</td>\n",
       "      <td>9.292954</td>\n",
       "      <td>6.731978</td>\n",
       "      <td>0</td>\n",
       "      <td>0</td>\n",
       "      <td>0</td>\n",
       "      <td>0</td>\n",
       "      <td>1</td>\n",
       "    </tr>\n",
       "    <tr>\n",
       "      <th>8092</th>\n",
       "      <td>64.0</td>\n",
       "      <td>3</td>\n",
       "      <td>5</td>\n",
       "      <td>9.50</td>\n",
       "      <td>9.292954</td>\n",
       "      <td>11.315324</td>\n",
       "      <td>0</td>\n",
       "      <td>0</td>\n",
       "      <td>0</td>\n",
       "      <td>0</td>\n",
       "      <td>1</td>\n",
       "    </tr>\n",
       "    <tr>\n",
       "      <th>8093</th>\n",
       "      <td>60.0</td>\n",
       "      <td>3</td>\n",
       "      <td>3</td>\n",
       "      <td>5.40</td>\n",
       "      <td>9.292954</td>\n",
       "      <td>7.525423</td>\n",
       "      <td>0</td>\n",
       "      <td>0</td>\n",
       "      <td>0</td>\n",
       "      <td>0</td>\n",
       "      <td>1</td>\n",
       "    </tr>\n",
       "    <tr>\n",
       "      <th>8094</th>\n",
       "      <td>90.0</td>\n",
       "      <td>2</td>\n",
       "      <td>2</td>\n",
       "      <td>2.85</td>\n",
       "      <td>3.986999</td>\n",
       "      <td>4.159400</td>\n",
       "      <td>0</td>\n",
       "      <td>0</td>\n",
       "      <td>0</td>\n",
       "      <td>0</td>\n",
       "      <td>1</td>\n",
       "    </tr>\n",
       "    <tr>\n",
       "      <th>8095</th>\n",
       "      <td>60.0</td>\n",
       "      <td>5</td>\n",
       "      <td>4</td>\n",
       "      <td>7.93</td>\n",
       "      <td>9.292954</td>\n",
       "      <td>6.731978</td>\n",
       "      <td>0</td>\n",
       "      <td>0</td>\n",
       "      <td>0</td>\n",
       "      <td>0</td>\n",
       "      <td>1</td>\n",
       "    </tr>\n",
       "  </tbody>\n",
       "</table>\n",
       "<p>8096 rows × 11 columns</p>\n",
       "</div>"
      ],
      "text/plain": [
       "       area  new_num_floors  new_bedrooms  price  city_encoder  \\\n",
       "0     130.0               3             7   9.20      9.292954   \n",
       "1      65.0               2             2   2.90      7.417350   \n",
       "2      90.0               5             5  14.00     11.089988   \n",
       "3      30.0               1             2   3.70      9.292954   \n",
       "4      38.0               3             3   4.40      9.292954   \n",
       "...     ...             ...           ...    ...           ...   \n",
       "8091   61.0               3             4   9.50      9.292954   \n",
       "8092   64.0               3             5   9.50      9.292954   \n",
       "8093   60.0               3             3   5.40      9.292954   \n",
       "8094   90.0               2             2   2.85      3.986999   \n",
       "8095   60.0               5             4   7.93      9.292954   \n",
       "\n",
       "      district_encoder  houseTypes_Bán Luxury home  houseTypes_Bán Nhà  \\\n",
       "0             8.661038                           0                   0   \n",
       "1             7.708597                           0                   0   \n",
       "2             8.835714                           0                   0   \n",
       "3             6.731978                           0                   0   \n",
       "4            11.315324                           0                   0   \n",
       "...                ...                         ...                 ...   \n",
       "8091          6.731978                           0                   0   \n",
       "8092         11.315324                           0                   0   \n",
       "8093          7.525423                           0                   0   \n",
       "8094          4.159400                           0                   0   \n",
       "8095          6.731978                           0                   0   \n",
       "\n",
       "      houseTypes_Bán Nhà cổ  houseTypes_Bán Nhà mặt phố  \\\n",
       "0                         0                           0   \n",
       "1                         0                           0   \n",
       "2                         0                           0   \n",
       "3                         0                           0   \n",
       "4                         0                           0   \n",
       "...                     ...                         ...   \n",
       "8091                      0                           0   \n",
       "8092                      0                           0   \n",
       "8093                      0                           0   \n",
       "8094                      0                           0   \n",
       "8095                      0                           0   \n",
       "\n",
       "      houseTypes_Bán Nhà riêng  \n",
       "0                            1  \n",
       "1                            1  \n",
       "2                            1  \n",
       "3                            1  \n",
       "4                            1  \n",
       "...                        ...  \n",
       "8091                         1  \n",
       "8092                         1  \n",
       "8093                         1  \n",
       "8094                         1  \n",
       "8095                         1  \n",
       "\n",
       "[8096 rows x 11 columns]"
      ]
     },
     "execution_count": 4,
     "metadata": {},
     "output_type": "execute_result"
    }
   ],
   "source": [
    "data"
   ]
  },
  {
   "cell_type": "code",
   "execution_count": 8,
   "metadata": {},
   "outputs": [
    {
     "data": {
      "image/png": "[encoded data removed]",
      "text/plain": [
       "<Figure size 640x480 with 1 Axes>"
      ]
     },
     "metadata": {},
     "output_type": "display_data"
    }
   ],
   "source": [
    "\n",
    "plt.scatter(data.district_encoder, data.price)\n",
    "plt.show()"
   ]
  }
 ],
 "metadata": {
  "kernelspec": {
   "display_name": "Python 3",
   "language": "python",
   "name": "python3"
  },
  "language_info": {
   "codemirror_mode": {
    "name": "ipython",
    "version": 3
   },
   "file_extension": ".py",
   "mimetype": "text/x-python",
   "name": "python",
   "nbconvert_exporter": "python",
   "pygments_lexer": "ipython3",
   "version": "3.10.11"
  },
  "orig_nbformat": 4
 },
 "nbformat": 4,
 "nbformat_minor": 2
}
