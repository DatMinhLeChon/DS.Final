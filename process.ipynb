{
 "cells": [
  {
   "cell_type": "code",
   "execution_count": 1,
   "metadata": {},
   "outputs": [],
   "source": [
    "import pandas as pd\n",
    "import numpy as np\n",
    "import matplotlib.pyplot as plt\n",
    "import re\n",
    "import requests\n",
    "from bs4 import BeautifulSoup\n",
    "import time\n",
    "import seaborn as sns\n",
    "# import folium"
   ]
  },
  {
   "cell_type": "code",
   "execution_count": 2,
   "metadata": {},
   "outputs": [
    {
     "data": {
      "text/plain": [
       "9674"
      ]
     },
     "execution_count": 2,
     "metadata": {},
     "output_type": "execute_result"
    }
   ],
   "source": [
    "data = pd.read_csv('data/houses/houses_current.csv')\n",
    "data.head()\n",
    "len(data)"
   ]
  },
  {
   "cell_type": "code",
   "execution_count": null,
   "metadata": {},
   "outputs": [],
   "source": [
    "data.info()"
   ]
  },
  {
   "attachments": {},
   "cell_type": "markdown",
   "metadata": {},
   "source": [
    "REMOVE DUPLICATES"
   ]
  },
  {
   "cell_type": "code",
   "execution_count": null,
   "metadata": {},
   "outputs": [],
   "source": [
    "print('Sum of duplicates: ', data.duplicated(subset=['houseTypes', 'area', 'num_floors', 'bedrooms','address','price']).sum())\n",
    "data = data.drop_duplicates(subset=['houseTypes', 'area', 'num_floors', 'bedrooms','address','price']).copy()\n",
    "print('After removing duplicates: ', data.duplicated().sum())\n",
    "print('Length of data then: ', len(data))"
   ]
  },
  {
   "attachments": {},
   "cell_type": "markdown",
   "metadata": {},
   "source": [
    "CONVERT OBJECT TO FLOAT64 AND STRING"
   ]
  },
  {
   "cell_type": "code",
   "execution_count": null,
   "metadata": {},
   "outputs": [],
   "source": [
    "data = data.astype({'houseTypes':'string','address':'string','url':'string'})"
   ]
  },
  {
   "cell_type": "code",
   "execution_count": null,
   "metadata": {},
   "outputs": [],
   "source": [
    "data.info()"
   ]
  },
  {
   "cell_type": "code",
   "execution_count": null,
   "metadata": {},
   "outputs": [],
   "source": [
    "for col in data.columns:\n",
    "    print('Ratio of missing data of ' + str(col) +': ' + str(round(data[col].isna().sum()*100/len(data[col]),3)) + '%')"
   ]
  },
  {
   "cell_type": "code",
   "execution_count": null,
   "metadata": {},
   "outputs": [],
   "source": [
    "data[['district','city']] = data['address'].apply(lambda x: pd.Series(str(x).split(', ')))\n"
   ]
  },
  {
   "cell_type": "code",
   "execution_count": null,
   "metadata": {},
   "outputs": [],
   "source": [
    "data = data.drop(['address'], axis=True)"
   ]
  },
  {
   "cell_type": "code",
   "execution_count": null,
   "metadata": {},
   "outputs": [],
   "source": [
    "data.reset_index(inplace=True, drop=True)"
   ]
  },
  {
   "cell_type": "code",
   "execution_count": null,
   "metadata": {},
   "outputs": [],
   "source": [
    "data = data[['houseTypes','area','num_floors','bedrooms','district','city','price','url']]"
   ]
  },
  {
   "cell_type": "code",
   "execution_count": null,
   "metadata": {},
   "outputs": [],
   "source": [
    "data.head()"
   ]
  },
  {
   "cell_type": "code",
   "execution_count": null,
   "metadata": {},
   "outputs": [],
   "source": [
    "# data.to_csv('houses.csv',index=False)\n",
    "# data.to_excel('houses.xlsx',index=False)"
   ]
  },
  {
   "attachments": {},
   "cell_type": "markdown",
   "metadata": {},
   "source": [
    "## Xử lí giá"
   ]
  },
  {
   "cell_type": "code",
   "execution_count": null,
   "metadata": {},
   "outputs": [],
   "source": [
    "low_noise_data = data.loc[(data['price'] < 0.1)]\n",
    "hign_noise_data = data.loc[(data['price'] >= 500)]\n",
    "null_price_data = data[data['price'].isna()]"
   ]
  },
  {
   "cell_type": "code",
   "execution_count": null,
   "metadata": {},
   "outputs": [],
   "source": [
    "house_data_1 = data.loc[(data['price'] >= 0.1) & (data['price'] < 10)]\n",
    "fig,ax = plt.subplots(figsize = (8,5))\n",
    "sns.distplot(house_data_1['price'])"
   ]
  },
  {
   "cell_type": "code",
   "execution_count": null,
   "metadata": {},
   "outputs": [],
   "source": [
    "house_data_2 = data.loc[(data['price'] >= 0.1) & (data['price'] < 50)]\n",
    "fig,ax = plt.subplots(figsize = (8,5))\n",
    "sns.distplot(house_data_2['price'])"
   ]
  },
  {
   "cell_type": "code",
   "execution_count": null,
   "metadata": {},
   "outputs": [],
   "source": [
    "house_data = data.loc[(data['price'] >= 0.1) & (data['price'] < 500)]"
   ]
  },
  {
   "cell_type": "code",
   "execution_count": null,
   "metadata": {},
   "outputs": [],
   "source": [
    "#house_data.to_excel('house_data.xlsx', index=False)"
   ]
  },
  {
   "cell_type": "code",
   "execution_count": null,
   "metadata": {},
   "outputs": [],
   "source": [
    "fig,ax = plt.subplots(figsize = (8,5))\n",
    "sns.distplot(house_data['price'])"
   ]
  },
  {
   "attachments": {},
   "cell_type": "markdown",
   "metadata": {},
   "source": [
    "## Xử lí area"
   ]
  },
  {
   "cell_type": "code",
   "execution_count": null,
   "metadata": {},
   "outputs": [],
   "source": [
    "house_data['area'].isna().sum()"
   ]
  },
  {
   "cell_type": "code",
   "execution_count": null,
   "metadata": {},
   "outputs": [],
   "source": [
    "house_data['area'].describe()"
   ]
  },
  {
   "cell_type": "code",
   "execution_count": null,
   "metadata": {},
   "outputs": [],
   "source": [
    "house_data = house_data.loc[(house_data['area'] >= 10) & (house_data['area'] <= 20000)]"
   ]
  },
  {
   "cell_type": "code",
   "execution_count": null,
   "metadata": {},
   "outputs": [],
   "source": [
    "house_data['area'].describe()"
   ]
  },
  {
   "cell_type": "code",
   "execution_count": null,
   "metadata": {},
   "outputs": [],
   "source": [
    "house_data_3 = house_data.loc[(house_data['area'] >=10) & (house_data['area'] <=500)]\n",
    "fig,ax = plt.subplots(figsize = (8,5))\n",
    "sns.distplot(house_data_3['area'])"
   ]
  },
  {
   "attachments": {},
   "cell_type": "markdown",
   "metadata": {},
   "source": [
    "# Xử lý num_floors và bedrooms"
   ]
  },
  {
   "cell_type": "code",
   "execution_count": null,
   "metadata": {},
   "outputs": [],
   "source": [
    "house_data.isna().sum()"
   ]
  },
  {
   "cell_type": "code",
   "execution_count": null,
   "metadata": {},
   "outputs": [],
   "source": [
    "house_data.loc[house_data['num_floors'] > 11, 'num_floors'] = None\n",
    "house_data.isna().sum()"
   ]
  },
  {
   "cell_type": "code",
   "execution_count": null,
   "metadata": {},
   "outputs": [],
   "source": [
    "fig,ax = plt.subplots(figsize = (8,5))\n",
    "sns.distplot(house_data['num_floors'])"
   ]
  },
  {
   "cell_type": "code",
   "execution_count": null,
   "metadata": {},
   "outputs": [],
   "source": [
    "fig,ax = plt.subplots(figsize = (8,5))\n",
    "sns.distplot(house_data['bedrooms'])"
   ]
  },
  {
   "cell_type": "code",
   "execution_count": null,
   "metadata": {},
   "outputs": [],
   "source": [
    "numeric_houses = pd.DataFrame({'area':house_data['area'],'num_floors':house_data['num_floors'],'bedrooms':house_data['bedrooms'],'price':house_data['price']})\n",
    "numeric_houses.isna().sum()"
   ]
  },
  {
   "cell_type": "code",
   "execution_count": null,
   "metadata": {},
   "outputs": [],
   "source": [
    "len(numeric_houses)"
   ]
  },
  {
   "cell_type": "code",
   "execution_count": null,
   "metadata": {},
   "outputs": [],
   "source": [
    "from sklearn.model_selection import train_test_split\n",
    "from sklearn.ensemble import RandomForestRegressor\n",
    "from sklearn.metrics import mean_squared_error\n",
    "from sklearn.impute import KNNImputer\n",
    "\n",
    "rmse = lambda y, yhat: np.sqrt(mean_squared_error(y, yhat))"
   ]
  },
  {
   "cell_type": "code",
   "execution_count": null,
   "metadata": {},
   "outputs": [],
   "source": [
    "def optimize_k(data, target):\n",
    "    errors = []\n",
    "    for k in range(1, 20):\n",
    "        imputer = KNNImputer(n_neighbors=k)\n",
    "        imputed = imputer.fit_transform(data)\n",
    "        df_imputed = pd.DataFrame(imputed, columns=data.columns)\n",
    "        \n",
    "        X = df_imputed.drop(target, axis=1)\n",
    "        y = df_imputed[target]\n",
    "        X_train, X_test, y_train, y_test = train_test_split(X, y, test_size=0.2, random_state=42)\n",
    "\n",
    "        model = RandomForestRegressor()\n",
    "        model.fit(X_train, y_train)\n",
    "        preds = model.predict(X_test)\n",
    "        error = rmse(y_test, preds)\n",
    "        errors.append({'K': k, 'RMSE': error})\n",
    "        \n",
    "    return errors"
   ]
  },
  {
   "cell_type": "code",
   "execution_count": null,
   "metadata": {},
   "outputs": [],
   "source": [
    "test_numeric_house = numeric_houses.copy()\n",
    "test_numeric_house.isna().sum()"
   ]
  },
  {
   "cell_type": "code",
   "execution_count": null,
   "metadata": {},
   "outputs": [],
   "source": [
    "k_errors = optimize_k(data=test_numeric_house, target='price')\n",
    "print(k_errors)"
   ]
  },
  {
   "cell_type": "code",
   "execution_count": null,
   "metadata": {},
   "outputs": [],
   "source": [
    "imputer = KNNImputer(n_neighbors=17)\n",
    "imputed = imputer.fit_transform(numeric_houses)\n",
    "df_imputed = pd.DataFrame(imputed, columns=numeric_houses.columns)"
   ]
  },
  {
   "cell_type": "code",
   "execution_count": null,
   "metadata": {},
   "outputs": [],
   "source": [
    "df_imputed.isna().sum()"
   ]
  },
  {
   "cell_type": "code",
   "execution_count": null,
   "metadata": {},
   "outputs": [],
   "source": [
    "df_imputed['bedrooms'].describe()"
   ]
  },
  {
   "cell_type": "code",
   "execution_count": null,
   "metadata": {},
   "outputs": [],
   "source": [
    "# numeric_houses.to_excel('numeric_houses.xlsx',index=False)\n",
    "# df_imputed.to_excel('df_imputed.xlsx',index=False)"
   ]
  },
  {
   "cell_type": "code",
   "execution_count": null,
   "metadata": {},
   "outputs": [],
   "source": [
    "house_data = house_data.reset_index()"
   ]
  },
  {
   "cell_type": "code",
   "execution_count": null,
   "metadata": {},
   "outputs": [],
   "source": [
    "house_data['new_num_floors'] = df_imputed['num_floors'].round(0)\n",
    "house_data['new_bedrooms'] = df_imputed['bedrooms'].round(0)"
   ]
  },
  {
   "cell_type": "code",
   "execution_count": null,
   "metadata": {},
   "outputs": [],
   "source": [
    "house_data.isna().sum()"
   ]
  },
  {
   "cell_type": "code",
   "execution_count": null,
   "metadata": {},
   "outputs": [],
   "source": [
    "# house_data.to_excel('full_houses.xlsx', index=False)\n",
    "house_data"
   ]
  },
  {
   "attachments": {},
   "cell_type": "markdown",
   "metadata": {},
   "source": [
    "# Thử nghiệm KNN cho missing values"
   ]
  },
  {
   "cell_type": "code",
   "execution_count": null,
   "metadata": {},
   "outputs": [],
   "source": [
    "not_null_houses = house_data.dropna() # phải lấy house_data lúc còn null (trước khi fill ở phần trên)\n",
    "not_null_houses.to_excel('data/not_null_houses.xlsx',index=False)"
   ]
  },
  {
   "cell_type": "code",
   "execution_count": null,
   "metadata": {},
   "outputs": [],
   "source": [
    "i1 = np.random.choice(a=not_null_houses.index, size=50)\n",
    "i2 = np.random.choice(a=not_null_houses.index, size=50)\n",
    "print(i1)\n",
    "print(i2)"
   ]
  },
  {
   "cell_type": "code",
   "execution_count": null,
   "metadata": {},
   "outputs": [],
   "source": [
    "null_houses = pd.DataFrame({'area':not_null_houses['area'],'num_floors':not_null_houses['num_floors'],'bedrooms':not_null_houses['bedrooms'],'price':not_null_houses['price']})\n",
    "null_houses.isna().sum()"
   ]
  },
  {
   "cell_type": "code",
   "execution_count": null,
   "metadata": {},
   "outputs": [],
   "source": [
    "null_houses.loc[i1, 'num_floors'] = np.nan\n",
    "null_houses.loc[i2, 'bedrooms'] = np.nan"
   ]
  },
  {
   "cell_type": "code",
   "execution_count": null,
   "metadata": {},
   "outputs": [],
   "source": [
    "#null_houses.loc[164]"
   ]
  },
  {
   "cell_type": "code",
   "execution_count": null,
   "metadata": {},
   "outputs": [],
   "source": [
    "null_houses.isna().sum()"
   ]
  },
  {
   "cell_type": "code",
   "execution_count": null,
   "metadata": {},
   "outputs": [],
   "source": [
    "from sklearn.model_selection import train_test_split\n",
    "from sklearn.ensemble import RandomForestRegressor\n",
    "from sklearn.metrics import mean_squared_error\n",
    "from sklearn.impute import KNNImputer\n",
    "\n",
    "rmse = lambda y, yhat: np.sqrt(mean_squared_error(y, yhat))"
   ]
  },
  {
   "cell_type": "code",
   "execution_count": null,
   "metadata": {},
   "outputs": [],
   "source": [
    "def optimize_k(data, target):\n",
    "    errors = []\n",
    "    for k in range(1, 20, 2):\n",
    "        imputer = KNNImputer(n_neighbors=k)\n",
    "        imputed = imputer.fit_transform(data)\n",
    "        df_imputed = pd.DataFrame(imputed, columns=data.columns)\n",
    "        \n",
    "        X = df_imputed.drop(target, axis=1)\n",
    "        y = df_imputed[target]\n",
    "        X_train, X_test, y_train, y_test = train_test_split(X, y, test_size=0.2, random_state=42)\n",
    "\n",
    "        model = RandomForestRegressor()\n",
    "        model.fit(X_train, y_train)\n",
    "        preds = model.predict(X_test)\n",
    "        error = rmse(y_test, preds)\n",
    "        errors.append({'K': k, 'RMSE': error})\n",
    "        \n",
    "    return errors"
   ]
  },
  {
   "cell_type": "code",
   "execution_count": null,
   "metadata": {},
   "outputs": [],
   "source": [
    "k_errors = optimize_k(data=null_houses, target='price')\n",
    "print(k_errors)"
   ]
  },
  {
   "cell_type": "code",
   "execution_count": null,
   "metadata": {},
   "outputs": [],
   "source": [
    "imputer_test = KNNImputer(n_neighbors=13)\n",
    "imputed_test = imputer_test.fit_transform(null_houses)\n",
    "df_imputed_test = pd.DataFrame(imputed_test, columns=null_houses.columns)"
   ]
  },
  {
   "cell_type": "code",
   "execution_count": null,
   "metadata": {},
   "outputs": [],
   "source": [
    "df_imputed_test.isna().sum()\n",
    "df_imputed_test.to_excel('data/df_imputed_test.xlsx',index=False)"
   ]
  },
  {
   "attachments": {},
   "cell_type": "markdown",
   "metadata": {},
   "source": [
    "Note: so sánh not_null_houses.xlsx và df_imputed_test.xlsx"
   ]
  },
  {
   "attachments": {},
   "cell_type": "markdown",
   "metadata": {},
   "source": [
    " # Initialize google map"
   ]
  },
  {
   "cell_type": "code",
   "execution_count": null,
   "metadata": {},
   "outputs": [],
   "source": [
    "from geopy.geocoders import Nominatim\n",
    "\n",
    "geolocator = Nominatim(user_agent='my_app')\n",
    "\n",
    "# Tạo đối tượng geocoder\n",
    "geocoder = geolocator.geocode\n",
    "\n",
    "# Geocode the addresses to obtain latitude and longitude coordinates\n",
    "locations = [geocoder(f\"{district}, {city}\") for district, city in zip(house_data['district'][0:100], house_data['city'][0:100])]\n",
    "\n",
    "# Extract latitude and longitude coordinates from the locations\n",
    "latitude = [location.latitude for location in locations]\n",
    "longitude = [location.longitude for location in locations]"
   ]
  },
  {
   "attachments": {},
   "cell_type": "markdown",
   "metadata": {},
   "source": [
    "# Mark points on google map"
   ]
  },
  {
   "cell_type": "code",
   "execution_count": null,
   "metadata": {},
   "outputs": [],
   "source": [
    "lat = 10.861410750000001\n",
    "long = 106.66420925636413\n",
    "zoom = 6\n",
    "gmap2 = folium.Map(location=(lat, long), zoom_start=zoom)\n",
    "def _addMarker(latitudes, longitudes,gmap):\n",
    "    # Kiểm tra độ dài của danh sách latitude và longitude\n",
    "    if len(latitudes) != len(longitudes):\n",
    "        print(\"Danh sách latitude và longitude không cùng độ dài.\")\n",
    "        return\n",
    "    # Thêm Marker vào map_obj\n",
    "    for lat, lng in zip(latitudes, longitudes):\n",
    "        marker = folium.Marker(location=(lat, lng))\n",
    "        marker.add_to(gmap)\n",
    "_addMarker(latitude,longitude,gmap2)\n",
    "gmap2.save(\"foliumMarkerMultiple.html\")"
   ]
  },
  {
   "attachments": {},
   "cell_type": "markdown",
   "metadata": {},
   "source": [
    "# Heatmap"
   ]
  },
  {
   "cell_type": "code",
   "execution_count": null,
   "metadata": {},
   "outputs": [],
   "source": [
    "from folium.plugins import HeatMap\n",
    "\n",
    "lat = 10.861410750000001\n",
    "long = 106.66420925636413\n",
    "zoom = 6\n",
    "gmap2 = folium.Map(location=(lat, long), zoom_start=zoom)\n",
    "maximum = max(house_data['price'])\n",
    "\n",
    "def _addHeatMap(map_obj, latitudes, longitudes, values):\n",
    "    # Tạo danh sách các tọa độ (latitude, longitude, value)\n",
    "    data = list(zip(latitudes, longitudes, values))\n",
    "    # Tạo HeatMap từ danh sách tọa độ và values\n",
    "    heat_map = HeatMap(data)\n",
    "    # Thêm HeatMap vào bản đồ\n",
    "    map_obj.add_child(heat_map)\n",
    "_addHeatMap(gmap2,latitude,longitude,house_data['price'][0:100])\n",
    "gmap2.save(\"foliumHeatMap.html\")"
   ]
  },
  {
   "attachments": {},
   "cell_type": "markdown",
   "metadata": {},
   "source": [
    "# Encoding"
   ]
  },
  {
   "cell_type": "code",
   "execution_count": 3,
   "metadata": {},
   "outputs": [
    {
     "ename": "FileNotFoundError",
     "evalue": "[Errno 2] No such file or directory: 'data/full_houses.xlsx'",
     "output_type": "error",
     "traceback": [
      "\u001b[1;31m---------------------------------------------------------------------------\u001b[0m",
      "\u001b[1;31mFileNotFoundError\u001b[0m                         Traceback (most recent call last)",
      "Cell \u001b[1;32mIn[3], line 1\u001b[0m\n\u001b[1;32m----> 1\u001b[0m new_house_data \u001b[39m=\u001b[39m pd\u001b[39m.\u001b[39;49mread_excel(\u001b[39m'\u001b[39;49m\u001b[39mdata/full_houses.xlsx\u001b[39;49m\u001b[39m'\u001b[39;49m)\n\u001b[0;32m      2\u001b[0m new_house_data\u001b[39m.\u001b[39mdrop([\u001b[39m'\u001b[39m\u001b[39mdistrict\u001b[39m\u001b[39m'\u001b[39m,\u001b[39m'\u001b[39m\u001b[39murl\u001b[39m\u001b[39m'\u001b[39m,\u001b[39m'\u001b[39m\u001b[39mlevel_0\u001b[39m\u001b[39m'\u001b[39m,\u001b[39m'\u001b[39m\u001b[39mindex\u001b[39m\u001b[39m'\u001b[39m,\u001b[39m'\u001b[39m\u001b[39mnum_floors\u001b[39m\u001b[39m'\u001b[39m,\u001b[39m'\u001b[39m\u001b[39mbedrooms\u001b[39m\u001b[39m'\u001b[39m],axis\u001b[39m=\u001b[39m\u001b[39m1\u001b[39m,inplace\u001b[39m=\u001b[39m\u001b[39mTrue\u001b[39;00m)\n\u001b[0;32m      3\u001b[0m new_house_data \u001b[39m=\u001b[39m new_house_data[[\u001b[39m'\u001b[39m\u001b[39mhouseTypes\u001b[39m\u001b[39m'\u001b[39m,\u001b[39m'\u001b[39m\u001b[39marea\u001b[39m\u001b[39m'\u001b[39m,\u001b[39m'\u001b[39m\u001b[39mnew_num_floors\u001b[39m\u001b[39m'\u001b[39m,\u001b[39m'\u001b[39m\u001b[39mnew_bedrooms\u001b[39m\u001b[39m'\u001b[39m,\u001b[39m'\u001b[39m\u001b[39mcity\u001b[39m\u001b[39m'\u001b[39m,\u001b[39m'\u001b[39m\u001b[39mprice\u001b[39m\u001b[39m'\u001b[39m]]\n",
      "File \u001b[1;32mc:\\Users\\User\\AppData\\Local\\Programs\\Python\\Python311\\Lib\\site-packages\\pandas\\io\\excel\\_base.py:478\u001b[0m, in \u001b[0;36mread_excel\u001b[1;34m(io, sheet_name, header, names, index_col, usecols, dtype, engine, converters, true_values, false_values, skiprows, nrows, na_values, keep_default_na, na_filter, verbose, parse_dates, date_parser, date_format, thousands, decimal, comment, skipfooter, storage_options, dtype_backend)\u001b[0m\n\u001b[0;32m    476\u001b[0m \u001b[39mif\u001b[39;00m \u001b[39mnot\u001b[39;00m \u001b[39misinstance\u001b[39m(io, ExcelFile):\n\u001b[0;32m    477\u001b[0m     should_close \u001b[39m=\u001b[39m \u001b[39mTrue\u001b[39;00m\n\u001b[1;32m--> 478\u001b[0m     io \u001b[39m=\u001b[39m ExcelFile(io, storage_options\u001b[39m=\u001b[39;49mstorage_options, engine\u001b[39m=\u001b[39;49mengine)\n\u001b[0;32m    479\u001b[0m \u001b[39melif\u001b[39;00m engine \u001b[39mand\u001b[39;00m engine \u001b[39m!=\u001b[39m io\u001b[39m.\u001b[39mengine:\n\u001b[0;32m    480\u001b[0m     \u001b[39mraise\u001b[39;00m \u001b[39mValueError\u001b[39;00m(\n\u001b[0;32m    481\u001b[0m         \u001b[39m\"\u001b[39m\u001b[39mEngine should not be specified when passing \u001b[39m\u001b[39m\"\u001b[39m\n\u001b[0;32m    482\u001b[0m         \u001b[39m\"\u001b[39m\u001b[39man ExcelFile - ExcelFile already has the engine set\u001b[39m\u001b[39m\"\u001b[39m\n\u001b[0;32m    483\u001b[0m     )\n",
      "File \u001b[1;32mc:\\Users\\User\\AppData\\Local\\Programs\\Python\\Python311\\Lib\\site-packages\\pandas\\io\\excel\\_base.py:1496\u001b[0m, in \u001b[0;36mExcelFile.__init__\u001b[1;34m(self, path_or_buffer, engine, storage_options)\u001b[0m\n\u001b[0;32m   1494\u001b[0m     ext \u001b[39m=\u001b[39m \u001b[39m\"\u001b[39m\u001b[39mxls\u001b[39m\u001b[39m\"\u001b[39m\n\u001b[0;32m   1495\u001b[0m \u001b[39melse\u001b[39;00m:\n\u001b[1;32m-> 1496\u001b[0m     ext \u001b[39m=\u001b[39m inspect_excel_format(\n\u001b[0;32m   1497\u001b[0m         content_or_path\u001b[39m=\u001b[39;49mpath_or_buffer, storage_options\u001b[39m=\u001b[39;49mstorage_options\n\u001b[0;32m   1498\u001b[0m     )\n\u001b[0;32m   1499\u001b[0m     \u001b[39mif\u001b[39;00m ext \u001b[39mis\u001b[39;00m \u001b[39mNone\u001b[39;00m:\n\u001b[0;32m   1500\u001b[0m         \u001b[39mraise\u001b[39;00m \u001b[39mValueError\u001b[39;00m(\n\u001b[0;32m   1501\u001b[0m             \u001b[39m\"\u001b[39m\u001b[39mExcel file format cannot be determined, you must specify \u001b[39m\u001b[39m\"\u001b[39m\n\u001b[0;32m   1502\u001b[0m             \u001b[39m\"\u001b[39m\u001b[39man engine manually.\u001b[39m\u001b[39m\"\u001b[39m\n\u001b[0;32m   1503\u001b[0m         )\n",
      "File \u001b[1;32mc:\\Users\\User\\AppData\\Local\\Programs\\Python\\Python311\\Lib\\site-packages\\pandas\\io\\excel\\_base.py:1371\u001b[0m, in \u001b[0;36minspect_excel_format\u001b[1;34m(content_or_path, storage_options)\u001b[0m\n\u001b[0;32m   1368\u001b[0m \u001b[39mif\u001b[39;00m \u001b[39misinstance\u001b[39m(content_or_path, \u001b[39mbytes\u001b[39m):\n\u001b[0;32m   1369\u001b[0m     content_or_path \u001b[39m=\u001b[39m BytesIO(content_or_path)\n\u001b[1;32m-> 1371\u001b[0m \u001b[39mwith\u001b[39;00m get_handle(\n\u001b[0;32m   1372\u001b[0m     content_or_path, \u001b[39m\"\u001b[39;49m\u001b[39mrb\u001b[39;49m\u001b[39m\"\u001b[39;49m, storage_options\u001b[39m=\u001b[39;49mstorage_options, is_text\u001b[39m=\u001b[39;49m\u001b[39mFalse\u001b[39;49;00m\n\u001b[0;32m   1373\u001b[0m ) \u001b[39mas\u001b[39;00m handle:\n\u001b[0;32m   1374\u001b[0m     stream \u001b[39m=\u001b[39m handle\u001b[39m.\u001b[39mhandle\n\u001b[0;32m   1375\u001b[0m     stream\u001b[39m.\u001b[39mseek(\u001b[39m0\u001b[39m)\n",
      "File \u001b[1;32mc:\\Users\\User\\AppData\\Local\\Programs\\Python\\Python311\\Lib\\site-packages\\pandas\\io\\common.py:868\u001b[0m, in \u001b[0;36mget_handle\u001b[1;34m(path_or_buf, mode, encoding, compression, memory_map, is_text, errors, storage_options)\u001b[0m\n\u001b[0;32m    859\u001b[0m         handle \u001b[39m=\u001b[39m \u001b[39mopen\u001b[39m(\n\u001b[0;32m    860\u001b[0m             handle,\n\u001b[0;32m    861\u001b[0m             ioargs\u001b[39m.\u001b[39mmode,\n\u001b[1;32m   (...)\u001b[0m\n\u001b[0;32m    864\u001b[0m             newline\u001b[39m=\u001b[39m\u001b[39m\"\u001b[39m\u001b[39m\"\u001b[39m,\n\u001b[0;32m    865\u001b[0m         )\n\u001b[0;32m    866\u001b[0m     \u001b[39melse\u001b[39;00m:\n\u001b[0;32m    867\u001b[0m         \u001b[39m# Binary mode\u001b[39;00m\n\u001b[1;32m--> 868\u001b[0m         handle \u001b[39m=\u001b[39m \u001b[39mopen\u001b[39;49m(handle, ioargs\u001b[39m.\u001b[39;49mmode)\n\u001b[0;32m    869\u001b[0m     handles\u001b[39m.\u001b[39mappend(handle)\n\u001b[0;32m    871\u001b[0m \u001b[39m# Convert BytesIO or file objects passed with an encoding\u001b[39;00m\n",
      "\u001b[1;31mFileNotFoundError\u001b[0m: [Errno 2] No such file or directory: 'data/full_houses.xlsx'"
     ]
    }
   ],
   "source": [
    "new_house_data = pd.read_excel('data/full_houses.xlsx')\n",
    "new_house_data.drop(['district','url','level_0','index','num_floors','bedrooms'],axis=1,inplace=True)\n",
    "new_house_data = new_house_data[['houseTypes','area','new_num_floors','new_bedrooms','city','price']]\n",
    "new_house_data.to_excel('full_data_not_encoding.xlsx', index=False)"
   ]
  },
  {
   "attachments": {},
   "cell_type": "markdown",
   "metadata": {},
   "source": [
    "# TargetEncoder for city and OneHot for housetypes "
   ]
  },
  {
   "cell_type": "code",
   "execution_count": 32,
   "metadata": {},
   "outputs": [],
   "source": [
    "new_house_data = pd.read_excel('full_data_not_encoding.xlsx')"
   ]
  },
  {
   "cell_type": "code",
   "execution_count": 44,
   "metadata": {},
   "outputs": [],
   "source": [
    "#pip install category_encoders"
   ]
  },
  {
   "cell_type": "code",
   "execution_count": 47,
   "metadata": {},
   "outputs": [
    {
     "name": "stdout",
     "output_type": "stream",
     "text": [
      "    area  new_num_floors  new_bedrooms      district            city  price   \n",
      "0  130.0               3             7       Quận 12  TP Hồ Chí Minh    9.2  \\\n",
      "1   65.0               2             2  Ngũ Hành Sơn         Đà Nẵng    2.9   \n",
      "2   90.0               5             5  Hai Bà Trưng          Hà Nội   14.0   \n",
      "3   30.0               1             2        Gò Vấp  TP Hồ Chí Minh    3.7   \n",
      "4   38.0               3             3    Bình Thạnh  TP Hồ Chí Minh    4.4   \n",
      "\n",
      "   city_encoder  district_encoder  houseTypes_Bán Luxury home   \n",
      "0      9.292954          8.661038                         0.0  \\\n",
      "1      7.417350          7.708597                         0.0   \n",
      "2     11.089988          8.835714                         0.0   \n",
      "3      9.292954          6.731978                         0.0   \n",
      "4      9.292954         11.315324                         0.0   \n",
      "\n",
      "   houseTypes_Bán Nhà  houseTypes_Bán Nhà cổ  houseTypes_Bán Nhà mặt phố   \n",
      "0                 0.0                    0.0                         0.0  \\\n",
      "1                 0.0                    0.0                         0.0   \n",
      "2                 0.0                    0.0                         0.0   \n",
      "3                 0.0                    0.0                         0.0   \n",
      "4                 0.0                    0.0                         0.0   \n",
      "\n",
      "   houseTypes_Bán Nhà riêng  \n",
      "0                       1.0  \n",
      "1                       1.0  \n",
      "2                       1.0  \n",
      "3                       1.0  \n",
      "4                       1.0  \n"
     ]
    },
    {
     "name": "stderr",
     "output_type": "stream",
     "text": [
      "c:\\Users\\User\\AppData\\Local\\Programs\\Python\\Python311\\Lib\\site-packages\\sklearn\\preprocessing\\_encoders.py:868: FutureWarning: `sparse` was renamed to `sparse_output` in version 1.2 and will be removed in 1.4. `sparse_output` is ignored unless you leave `sparse` to its default value.\n",
      "  warnings.warn(\n"
     ]
    }
   ],
   "source": [
    "import category_encoders as ce\n",
    "from sklearn.preprocessing import OneHotEncoder\n",
    "\n",
    "# encoding city\n",
    "target_encoder =ce.TargetEncoder() \n",
    "district_city = target_encoder.fit_transform(new_house_data[['city','district']],new_house_data['price'])\n",
    "district_city = district_city.rename(columns={'city':'city_encoder','district':'district_encoder'})\n",
    "data_encoded = pd.concat([new_house_data, district_city], axis=1)\n",
    "\n",
    "\n",
    "# Tạo một đối tượng OneHotEncoder\n",
    "encoder = OneHotEncoder(sparse=False)\n",
    "# Chọn cột cần mã hóa\n",
    "columns_to_encode = ['houseTypes']\n",
    "# Mã hóa one-hot cho các cột\n",
    "houseTypes = encoder.fit_transform(data_encoded[columns_to_encode])\n",
    "# Tạo DataFrame mới từ dữ liệu đã mã hóa\n",
    "encoded_houseTypes = pd.DataFrame(houseTypes, columns=encoder.get_feature_names_out(columns_to_encode))\n",
    "\n",
    "# Xóa các cột gốc trong biến data\n",
    "data_encoded.drop(['houseTypes'], axis=1, inplace=True)\n",
    "\n",
    "# Kết hợp dữ liệu đã mã hóa với biến data\n",
    "data_encoded = pd.concat([data_encoded, encoded_houseTypes], axis=1)\n",
    "\n",
    "print(data_encoded.head())"
   ]
  },
  {
   "cell_type": "code",
   "execution_count": 48,
   "metadata": {},
   "outputs": [],
   "source": [
    "data_encoded.to_excel('clean_data.xlsx', index=False)"
   ]
  },
  {
   "attachments": {},
   "cell_type": "markdown",
   "metadata": {},
   "source": [
    "# Derived features"
   ]
  },
  {
   "attachments": {},
   "cell_type": "markdown",
   "metadata": {},
   "source": [
    "### Standalize"
   ]
  },
  {
   "cell_type": "code",
   "execution_count": 49,
   "metadata": {},
   "outputs": [],
   "source": [
    "from sklearn.preprocessing import StandardScaler\n",
    "from sklearn.decomposition import PCA\n",
    "features_remove_target = ['city_area', 'population', 'gdp']"
   ]
  },
  {
   "cell_type": "code",
   "execution_count": 50,
   "metadata": {},
   "outputs": [],
   "source": [
    "\n",
    "df_unit = df_city = pd.read_excel('data/city_features/city.xlsx')\n",
    "df_tranform = pd.DataFrame(data = StandardScaler().fit_transform(df_unit.loc[:, features_remove_target ].values), columns = features_remove_target)\n"
   ]
  },
  {
   "attachments": {},
   "cell_type": "markdown",
   "metadata": {},
   "source": [
    "### PCA"
   ]
  },
  {
   "cell_type": "code",
   "execution_count": 51,
   "metadata": {},
   "outputs": [
    {
     "name": "stdout",
     "output_type": "stream",
     "text": [
      "               city  city_index\n",
      "0          An Giang   -0.092849\n",
      "1   Bà Rịa Vũng Tàu    3.842388\n",
      "2          Bạc Liêu   -0.257118\n",
      "3         Bắc Giang    0.278812\n",
      "4           Bắc Kạn   -0.963055\n",
      "..              ...         ...\n",
      "58         Trà Vinh   -0.031466\n",
      "59      Tuyên Quang   -0.823390\n",
      "60        Vĩnh Long    0.050324\n",
      "61        Vĩnh Phúc    0.994318\n",
      "62          Yên Bái   -0.991059\n",
      "\n",
      "[63 rows x 2 columns]\n"
     ]
    }
   ],
   "source": [
    "pca = PCA(n_components = 1)\n",
    "component = pd.DataFrame(pca.fit_transform(df_tranform.values), columns = ['city_index'])\n",
    "df_city_index = pd.concat([df_unit['city'], component], axis=1)\n",
    "print(df_city_index)"
   ]
  },
  {
   "cell_type": "code",
   "execution_count": 52,
   "metadata": {},
   "outputs": [],
   "source": [
    "df_house = pd.read_excel(\"clean_data.xlsx\")"
   ]
  },
  {
   "cell_type": "code",
   "execution_count": 54,
   "metadata": {},
   "outputs": [],
   "source": [
    "new_df = pd.merge(df_house, df_city_index, on= 'city')\n",
    "new_df = new_df[['price',\\\n",
    "        'city',\\\n",
    "        'city_encoder',\\\n",
    "        'city_index',\\\n",
    "        'district',\\\n",
    "        'district_encoder',\\\n",
    "        'area',\\\n",
    "        'new_num_floors',\\\n",
    "        'new_bedrooms',\\\n",
    "        'houseTypes_Bán Luxury home',\\\n",
    "        'houseTypes_Bán Nhà',\\\n",
    "        'houseTypes_Bán Nhà cổ',\\\n",
    "        'houseTypes_Bán Nhà mặt phố',\\\n",
    "        'houseTypes_Bán Nhà riêng']]"
   ]
  },
  {
   "cell_type": "code",
   "execution_count": 55,
   "metadata": {},
   "outputs": [],
   "source": [
    "features = ['price',\\\n",
    "        'city',\\\n",
    "        'city_encoder',\\\n",
    "        'city_index',\\\n",
    "        'district',\\\n",
    "        'district_encoder',\\\n",
    "        'area',\\\n",
    "        'new_num_floors',\\\n",
    "        'new_bedrooms',\\\n",
    "        'houseTypes_Bán Luxury home',\\\n",
    "        'houseTypes_Bán Nhà',\\\n",
    "        'houseTypes_Bán Nhà cổ',\\\n",
    "        'houseTypes_Bán Nhà mặt phố',\\\n",
    "        'houseTypes_Bán Nhà riêng']"
   ]
  },
  {
   "cell_type": "code",
   "execution_count": 56,
   "metadata": {},
   "outputs": [
    {
     "name": "stdout",
     "output_type": "stream",
     "text": [
      "None\n"
     ]
    }
   ],
   "source": [
    "print(new_df.to_excel('final_data.xlsx', index=False))"
   ]
  },
  {
   "cell_type": "code",
   "execution_count": 57,
   "metadata": {},
   "outputs": [
    {
     "name": "stdout",
     "output_type": "stream",
     "text": [
      "None\n"
     ]
    }
   ],
   "source": [
    "HCM_df =  new_df[new_df['city'] == 'TP Hồ Chí Minh']\n",
    "print(HCM_df.to_excel('HCM_data.xlsx', index=False))"
   ]
  }
 ],
 "metadata": {
  "kernelspec": {
   "display_name": "Python 3",
   "language": "python",
   "name": "python3"
  },
  "language_info": {
   "codemirror_mode": {
    "name": "ipython",
    "version": 3
   },
   "file_extension": ".py",
   "mimetype": "text/x-python",
   "name": "python",
   "nbconvert_exporter": "python",
   "pygments_lexer": "ipython3",
   "version": "3.11.3"
  },
  "orig_nbformat": 4
 },
 "nbformat": 4,
 "nbformat_minor": 2
}
