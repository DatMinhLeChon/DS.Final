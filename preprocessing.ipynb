{
 "cells": [
  {
   "cell_type": "code",
   "execution_count": 1,
   "metadata": {},
   "outputs": [],
   "source": [
    "import pandas as pd\n",
    "import numpy as np\n",
    "import matplotlib.pyplot as plt\n",
    "import re\n",
    "import requests\n",
    "from bs4 import BeautifulSoup\n",
    "import time\n",
    "import seaborn as sns"
   ]
  },
  {
   "cell_type": "code",
   "execution_count": 2,
   "metadata": {},
   "outputs": [
    {
     "data": {
      "text/html": [
       "<div>\n",
       "<style scoped>\n",
       "    .dataframe tbody tr th:only-of-type {\n",
       "        vertical-align: middle;\n",
       "    }\n",
       "\n",
       "    .dataframe tbody tr th {\n",
       "        vertical-align: top;\n",
       "    }\n",
       "\n",
       "    .dataframe thead th {\n",
       "        text-align: right;\n",
       "    }\n",
       "</style>\n",
       "<table border=\"1\" class=\"dataframe\">\n",
       "  <thead>\n",
       "    <tr style=\"text-align: right;\">\n",
       "      <th></th>\n",
       "      <th>houseTypes</th>\n",
       "      <th>area</th>\n",
       "      <th>num_floors</th>\n",
       "      <th>bedrooms</th>\n",
       "      <th>address</th>\n",
       "      <th>price</th>\n",
       "      <th>url</th>\n",
       "    </tr>\n",
       "  </thead>\n",
       "  <tbody>\n",
       "    <tr>\n",
       "      <th>0</th>\n",
       "      <td>Bán Nhà riêng</td>\n",
       "      <td>130.0</td>\n",
       "      <td>3.0</td>\n",
       "      <td>7.0</td>\n",
       "      <td>Quận 12, TP Hồ Chí Minh</td>\n",
       "      <td>9.200</td>\n",
       "      <td>https://batdongsan.vn/ban-biet-thu-san-vuon-qu...</td>\n",
       "    </tr>\n",
       "    <tr>\n",
       "      <th>1</th>\n",
       "      <td>Bán Nhà riêng</td>\n",
       "      <td>65.0</td>\n",
       "      <td>NaN</td>\n",
       "      <td>2.0</td>\n",
       "      <td>Ngũ Hành Sơn, Đà Nẵng</td>\n",
       "      <td>2.900</td>\n",
       "      <td>https://batdongsan.vn/29-ty-dien-tich-6580m2-n...</td>\n",
       "    </tr>\n",
       "    <tr>\n",
       "      <th>2</th>\n",
       "      <td>Bán Nhà riêng</td>\n",
       "      <td>90.0</td>\n",
       "      <td>5.0</td>\n",
       "      <td>5.0</td>\n",
       "      <td>Hai Bà Trưng, Hà Nội</td>\n",
       "      <td>14.000</td>\n",
       "      <td>https://batdongsan.vn/ban-nha-kim-nguu-phan-lo...</td>\n",
       "    </tr>\n",
       "    <tr>\n",
       "      <th>3</th>\n",
       "      <td>Bán Nhà riêng</td>\n",
       "      <td>50.0</td>\n",
       "      <td>5.0</td>\n",
       "      <td>5.0</td>\n",
       "      <td>Quận 3, TP Hồ Chí Minh</td>\n",
       "      <td>0.001</td>\n",
       "      <td>https://batdongsan.vn/quan-3-le-van-sy-5-tang-...</td>\n",
       "    </tr>\n",
       "    <tr>\n",
       "      <th>4</th>\n",
       "      <td>Bán Nhà riêng</td>\n",
       "      <td>30.0</td>\n",
       "      <td>1.0</td>\n",
       "      <td>2.0</td>\n",
       "      <td>Gò Vấp, TP Hồ Chí Minh</td>\n",
       "      <td>3.700</td>\n",
       "      <td>https://batdongsan.vn/nha-moi-full-noi-that-hx...</td>\n",
       "    </tr>\n",
       "  </tbody>\n",
       "</table>\n",
       "</div>"
      ],
      "text/plain": [
       "      houseTypes   area  num_floors  bedrooms                  address  \\\n",
       "0  Bán Nhà riêng  130.0         3.0       7.0  Quận 12, TP Hồ Chí Minh   \n",
       "1  Bán Nhà riêng   65.0         NaN       2.0    Ngũ Hành Sơn, Đà Nẵng   \n",
       "2  Bán Nhà riêng   90.0         5.0       5.0     Hai Bà Trưng, Hà Nội   \n",
       "3  Bán Nhà riêng   50.0         5.0       5.0   Quận 3, TP Hồ Chí Minh   \n",
       "4  Bán Nhà riêng   30.0         1.0       2.0   Gò Vấp, TP Hồ Chí Minh   \n",
       "\n",
       "    price                                                url  \n",
       "0   9.200  https://batdongsan.vn/ban-biet-thu-san-vuon-qu...  \n",
       "1   2.900  https://batdongsan.vn/29-ty-dien-tich-6580m2-n...  \n",
       "2  14.000  https://batdongsan.vn/ban-nha-kim-nguu-phan-lo...  \n",
       "3   0.001  https://batdongsan.vn/quan-3-le-van-sy-5-tang-...  \n",
       "4   3.700  https://batdongsan.vn/nha-moi-full-noi-that-hx...  "
      ]
     },
     "execution_count": 2,
     "metadata": {},
     "output_type": "execute_result"
    }
   ],
   "source": [
    "data = pd.read_csv('houses_current.csv')\n",
    "data.head()"
   ]
  },
  {
   "cell_type": "code",
   "execution_count": 3,
   "metadata": {},
   "outputs": [
    {
     "name": "stdout",
     "output_type": "stream",
     "text": [
      "<class 'pandas.core.frame.DataFrame'>\n",
      "RangeIndex: 9674 entries, 0 to 9673\n",
      "Data columns (total 7 columns):\n",
      " #   Column      Non-Null Count  Dtype  \n",
      "---  ------      --------------  -----  \n",
      " 0   houseTypes  9674 non-null   object \n",
      " 1   area        9497 non-null   float64\n",
      " 2   num_floors  7706 non-null   float64\n",
      " 3   bedrooms    7577 non-null   float64\n",
      " 4   address     9674 non-null   object \n",
      " 5   price       9548 non-null   float64\n",
      " 6   url         9674 non-null   object \n",
      "dtypes: float64(4), object(3)\n",
      "memory usage: 529.2+ KB\n"
     ]
    }
   ],
   "source": [
    "data.info()"
   ]
  },
  {
   "attachments": {},
   "cell_type": "markdown",
   "metadata": {},
   "source": [
    "REMOVE DUPLICATES"
   ]
  },
  {
   "cell_type": "code",
   "execution_count": 4,
   "metadata": {},
   "outputs": [
    {
     "name": "stdout",
     "output_type": "stream",
     "text": [
      "Sum of duplicates:  1066\n",
      "After removing duplicates:  0\n",
      "Length of data then:  8608\n"
     ]
    }
   ],
   "source": [
    "print('Sum of duplicates: ', data.duplicated(subset=['houseTypes', 'area', 'num_floors', 'bedrooms','address','price']).sum())\n",
    "data = data.drop_duplicates(subset=['houseTypes', 'area', 'num_floors', 'bedrooms','address','price']).copy()\n",
    "print('After removing duplicates: ', data.duplicated().sum())\n",
    "print('Length of data then: ', len(data))"
   ]
  },
  {
   "attachments": {},
   "cell_type": "markdown",
   "metadata": {},
   "source": [
    "CONVERT OBJECT TO FLOAT64 AND STRING"
   ]
  },
  {
   "cell_type": "code",
   "execution_count": 5,
   "metadata": {},
   "outputs": [],
   "source": [
    "data = data.astype({'houseTypes':'string','address':'string','url':'string'})"
   ]
  },
  {
   "cell_type": "code",
   "execution_count": 6,
   "metadata": {},
   "outputs": [
    {
     "name": "stdout",
     "output_type": "stream",
     "text": [
      "<class 'pandas.core.frame.DataFrame'>\n",
      "Int64Index: 8608 entries, 0 to 9673\n",
      "Data columns (total 7 columns):\n",
      " #   Column      Non-Null Count  Dtype  \n",
      "---  ------      --------------  -----  \n",
      " 0   houseTypes  8608 non-null   string \n",
      " 1   area        8447 non-null   float64\n",
      " 2   num_floors  6798 non-null   float64\n",
      " 3   bedrooms    6698 non-null   float64\n",
      " 4   address     8608 non-null   string \n",
      " 5   price       8492 non-null   float64\n",
      " 6   url         8608 non-null   string \n",
      "dtypes: float64(4), string(3)\n",
      "memory usage: 538.0 KB\n"
     ]
    }
   ],
   "source": [
    "data.info()"
   ]
  },
  {
   "cell_type": "code",
   "execution_count": 7,
   "metadata": {},
   "outputs": [
    {
     "name": "stdout",
     "output_type": "stream",
     "text": [
      "Ratio of missing data of houseTypes: 0.0%\n",
      "Ratio of missing data of area: 1.87%\n",
      "Ratio of missing data of num_floors: 21.027%\n",
      "Ratio of missing data of bedrooms: 22.189%\n",
      "Ratio of missing data of address: 0.0%\n",
      "Ratio of missing data of price: 1.348%\n",
      "Ratio of missing data of url: 0.0%\n"
     ]
    }
   ],
   "source": [
    "for col in data.columns:\n",
    "    print('Ratio of missing data of ' + str(col) +': ' + str(round(data[col].isna().sum()*100/len(data[col]),3)) + '%')"
   ]
  },
  {
   "cell_type": "code",
   "execution_count": 8,
   "metadata": {},
   "outputs": [],
   "source": [
    "data[['district','city']] = data['address'].apply(lambda x: pd.Series(str(x).split(', ')))"
   ]
  },
  {
   "cell_type": "code",
   "execution_count": 9,
   "metadata": {},
   "outputs": [],
   "source": [
    "data = data.drop(['address'], axis=True)"
   ]
  },
  {
   "cell_type": "code",
   "execution_count": 10,
   "metadata": {},
   "outputs": [],
   "source": [
    "data.reset_index(inplace=True, drop=True)"
   ]
  },
  {
   "cell_type": "code",
   "execution_count": 11,
   "metadata": {},
   "outputs": [],
   "source": [
    "data = data[['houseTypes','area','num_floors','bedrooms','district','city','price','url']]"
   ]
  },
  {
   "cell_type": "code",
   "execution_count": 12,
   "metadata": {},
   "outputs": [
    {
     "data": {
      "text/html": [
       "<div>\n",
       "<style scoped>\n",
       "    .dataframe tbody tr th:only-of-type {\n",
       "        vertical-align: middle;\n",
       "    }\n",
       "\n",
       "    .dataframe tbody tr th {\n",
       "        vertical-align: top;\n",
       "    }\n",
       "\n",
       "    .dataframe thead th {\n",
       "        text-align: right;\n",
       "    }\n",
       "</style>\n",
       "<table border=\"1\" class=\"dataframe\">\n",
       "  <thead>\n",
       "    <tr style=\"text-align: right;\">\n",
       "      <th></th>\n",
       "      <th>houseTypes</th>\n",
       "      <th>area</th>\n",
       "      <th>num_floors</th>\n",
       "      <th>bedrooms</th>\n",
       "      <th>district</th>\n",
       "      <th>city</th>\n",
       "      <th>price</th>\n",
       "      <th>url</th>\n",
       "    </tr>\n",
       "  </thead>\n",
       "  <tbody>\n",
       "    <tr>\n",
       "      <th>0</th>\n",
       "      <td>Bán Nhà riêng</td>\n",
       "      <td>130.0</td>\n",
       "      <td>3.0</td>\n",
       "      <td>7.0</td>\n",
       "      <td>Quận 12</td>\n",
       "      <td>TP Hồ Chí Minh</td>\n",
       "      <td>9.200</td>\n",
       "      <td>https://batdongsan.vn/ban-biet-thu-san-vuon-qu...</td>\n",
       "    </tr>\n",
       "    <tr>\n",
       "      <th>1</th>\n",
       "      <td>Bán Nhà riêng</td>\n",
       "      <td>65.0</td>\n",
       "      <td>NaN</td>\n",
       "      <td>2.0</td>\n",
       "      <td>Ngũ Hành Sơn</td>\n",
       "      <td>Đà Nẵng</td>\n",
       "      <td>2.900</td>\n",
       "      <td>https://batdongsan.vn/29-ty-dien-tich-6580m2-n...</td>\n",
       "    </tr>\n",
       "    <tr>\n",
       "      <th>2</th>\n",
       "      <td>Bán Nhà riêng</td>\n",
       "      <td>90.0</td>\n",
       "      <td>5.0</td>\n",
       "      <td>5.0</td>\n",
       "      <td>Hai Bà Trưng</td>\n",
       "      <td>Hà Nội</td>\n",
       "      <td>14.000</td>\n",
       "      <td>https://batdongsan.vn/ban-nha-kim-nguu-phan-lo...</td>\n",
       "    </tr>\n",
       "    <tr>\n",
       "      <th>3</th>\n",
       "      <td>Bán Nhà riêng</td>\n",
       "      <td>50.0</td>\n",
       "      <td>5.0</td>\n",
       "      <td>5.0</td>\n",
       "      <td>Quận 3</td>\n",
       "      <td>TP Hồ Chí Minh</td>\n",
       "      <td>0.001</td>\n",
       "      <td>https://batdongsan.vn/quan-3-le-van-sy-5-tang-...</td>\n",
       "    </tr>\n",
       "    <tr>\n",
       "      <th>4</th>\n",
       "      <td>Bán Nhà riêng</td>\n",
       "      <td>30.0</td>\n",
       "      <td>1.0</td>\n",
       "      <td>2.0</td>\n",
       "      <td>Gò Vấp</td>\n",
       "      <td>TP Hồ Chí Minh</td>\n",
       "      <td>3.700</td>\n",
       "      <td>https://batdongsan.vn/nha-moi-full-noi-that-hx...</td>\n",
       "    </tr>\n",
       "  </tbody>\n",
       "</table>\n",
       "</div>"
      ],
      "text/plain": [
       "      houseTypes   area  num_floors  bedrooms      district            city  \\\n",
       "0  Bán Nhà riêng  130.0         3.0       7.0       Quận 12  TP Hồ Chí Minh   \n",
       "1  Bán Nhà riêng   65.0         NaN       2.0  Ngũ Hành Sơn         Đà Nẵng   \n",
       "2  Bán Nhà riêng   90.0         5.0       5.0  Hai Bà Trưng          Hà Nội   \n",
       "3  Bán Nhà riêng   50.0         5.0       5.0        Quận 3  TP Hồ Chí Minh   \n",
       "4  Bán Nhà riêng   30.0         1.0       2.0        Gò Vấp  TP Hồ Chí Minh   \n",
       "\n",
       "    price                                                url  \n",
       "0   9.200  https://batdongsan.vn/ban-biet-thu-san-vuon-qu...  \n",
       "1   2.900  https://batdongsan.vn/29-ty-dien-tich-6580m2-n...  \n",
       "2  14.000  https://batdongsan.vn/ban-nha-kim-nguu-phan-lo...  \n",
       "3   0.001  https://batdongsan.vn/quan-3-le-van-sy-5-tang-...  \n",
       "4   3.700  https://batdongsan.vn/nha-moi-full-noi-that-hx...  "
      ]
     },
     "execution_count": 12,
     "metadata": {},
     "output_type": "execute_result"
    }
   ],
   "source": [
    "data.head()"
   ]
  },
  {
   "cell_type": "code",
   "execution_count": 13,
   "metadata": {},
   "outputs": [],
   "source": [
    "# data.to_csv('houses.csv',index=False)\n",
    "# data.to_excel('houses.xlsx',index=False)"
   ]
  },
  {
   "cell_type": "code",
   "execution_count": 14,
   "metadata": {},
   "outputs": [],
   "source": [
    "low_noise_data = data.loc[(data['price'] < 0.1)]\n",
    "hign_noise_data = data.loc[(data['price'] >= 500)]\n",
    "null_price_data = data[data['price'].isna()]\n"
   ]
  },
  {
   "cell_type": "code",
   "execution_count": 15,
   "metadata": {},
   "outputs": [],
   "source": [
    "low_noise_data = low_noise_data.copy()\n",
    "low_noise_data.to_excel('error_price_low.xlsx', index=False)  "
   ]
  },
  {
   "cell_type": "code",
   "execution_count": 16,
   "metadata": {},
   "outputs": [],
   "source": [
    "hign_noise_data = hign_noise_data.copy()\n",
    "hign_noise_data.to_excel('error_price_hign.xlsx', index=False)  "
   ]
  },
  {
   "cell_type": "code",
   "execution_count": 17,
   "metadata": {},
   "outputs": [],
   "source": [
    "house_data = data.loc[(data['price'] >= 0.1) & (data['price'] < 500)]\n",
    "house_data.to_excel('house_data.xlsx', index=False)"
   ]
  },
  {
   "cell_type": "code",
   "execution_count": 18,
   "metadata": {},
   "outputs": [
    {
     "data": {
      "text/plain": [
       "8266"
      ]
     },
     "execution_count": 18,
     "metadata": {},
     "output_type": "execute_result"
    }
   ],
   "source": [
    "len(house_data)"
   ]
  },
  {
   "cell_type": "code",
   "execution_count": 19,
   "metadata": {},
   "outputs": [],
   "source": [
    "numeric_feature = house_data.drop(['houseTypes','district','city','url'],axis=True)"
   ]
  },
  {
   "cell_type": "code",
   "execution_count": 20,
   "metadata": {},
   "outputs": [
    {
     "data": {
      "text/plain": [
       "8266"
      ]
     },
     "execution_count": 20,
     "metadata": {},
     "output_type": "execute_result"
    }
   ],
   "source": [
    "len(numeric_feature)"
   ]
  },
  {
   "cell_type": "code",
   "execution_count": 21,
   "metadata": {},
   "outputs": [
    {
     "data": {
      "text/plain": [
       "area           124\n",
       "num_floors    1716\n",
       "bedrooms      1794\n",
       "price            0\n",
       "dtype: int64"
      ]
     },
     "execution_count": 21,
     "metadata": {},
     "output_type": "execute_result"
    }
   ],
   "source": [
    "numeric_feature.isna().sum()"
   ]
  },
  {
   "cell_type": "code",
   "execution_count": 22,
   "metadata": {},
   "outputs": [
    {
     "name": "stdout",
     "output_type": "stream",
     "text": [
      "area          0\n",
      "num_floors    0\n",
      "bedrooms      0\n",
      "price         0\n",
      "dtype: int64\n"
     ]
    }
   ],
   "source": [
    "no_na = numeric_feature.dropna()\n",
    "print(no_na.isna().sum())"
   ]
  },
  {
   "cell_type": "code",
   "execution_count": 23,
   "metadata": {},
   "outputs": [
    {
     "data": {
      "text/plain": [
       "5340"
      ]
     },
     "execution_count": 23,
     "metadata": {},
     "output_type": "execute_result"
    }
   ],
   "source": [
    "len(no_na)"
   ]
  },
  {
   "cell_type": "code",
   "execution_count": 24,
   "metadata": {},
   "outputs": [
    {
     "data": {
      "text/plain": [
       "<AxesSubplot: >"
      ]
     },
     "execution_count": 24,
     "metadata": {},
     "output_type": "execute_result"
    },
    {
     "data": {
      "image/png": "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",
      "text/plain": [
       "<Figure size 1000x1000 with 2 Axes>"
      ]
     },
     "metadata": {},
     "output_type": "display_data"
    }
   ],
   "source": [
    "plt.figure(figsize=(10,10))\n",
    "sns.heatmap(no_na.corr(), square=True ,annot=True, linewidths=1,cmap=\"coolwarm\")"
   ]
  },
  {
   "cell_type": "code",
   "execution_count": 33,
   "metadata": {},
   "outputs": [
    {
     "name": "stderr",
     "output_type": "stream",
     "text": [
      "C:\\Users\\84947\\AppData\\Local\\Temp\\ipykernel_14752\\2090696788.py:2: UserWarning: \n",
      "\n",
      "`distplot` is a deprecated function and will be removed in seaborn v0.14.0.\n",
      "\n",
      "Please adapt your code to use either `displot` (a figure-level function with\n",
      "similar flexibility) or `histplot` (an axes-level function for histograms).\n",
      "\n",
      "For a guide to updating your code to use the new functions, please see\n",
      "https://gist.github.com/mwaskom/de44147ed2974457ad6372750bbe5751\n",
      "\n",
      "  sns.distplot(house_data['price'])\n"
     ]
    },
    {
     "data": {
      "text/plain": [
       "<AxesSubplot: xlabel='price', ylabel='Density'>"
      ]
     },
     "execution_count": 33,
     "metadata": {},
     "output_type": "execute_result"
    },
    {
     "data": {
      "image/png": "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",
      "text/plain": [
       "<Figure size 1500x700 with 1 Axes>"
      ]
     },
     "metadata": {},
     "output_type": "display_data"
    }
   ],
   "source": [
    "fig,ax = plt.subplots(figsize = (15,7))\n",
    "sns.distplot(house_data['price'])"
   ]
  },
  {
   "cell_type": "code",
   "execution_count": 38,
   "metadata": {},
   "outputs": [
    {
     "data": {
      "text/plain": [
       "0       3.0\n",
       "1       NaN\n",
       "2       5.0\n",
       "4       1.0\n",
       "5       3.0\n",
       "       ... \n",
       "8603    3.0\n",
       "8604    NaN\n",
       "8605    3.0\n",
       "8606    NaN\n",
       "8607    5.0\n",
       "Name: num_floors, Length: 8266, dtype: float64"
      ]
     },
     "execution_count": 38,
     "metadata": {},
     "output_type": "execute_result"
    }
   ],
   "source": [
    "house_data['num_floors']\n"
   ]
  },
  {
   "cell_type": "code",
   "execution_count": 34,
   "metadata": {},
   "outputs": [
    {
     "name": "stderr",
     "output_type": "stream",
     "text": [
      "C:\\Users\\84947\\AppData\\Local\\Temp\\ipykernel_14752\\4066788805.py:2: UserWarning: \n",
      "\n",
      "`distplot` is a deprecated function and will be removed in seaborn v0.14.0.\n",
      "\n",
      "Please adapt your code to use either `displot` (a figure-level function with\n",
      "similar flexibility) or `histplot` (an axes-level function for histograms).\n",
      "\n",
      "For a guide to updating your code to use the new functions, please see\n",
      "https://gist.github.com/mwaskom/de44147ed2974457ad6372750bbe5751\n",
      "\n",
      "  sns.distplot(no_na['num_floors'])\n"
     ]
    },
    {
     "data": {
      "text/plain": [
       "<AxesSubplot: xlabel='num_floors', ylabel='Density'>"
      ]
     },
     "execution_count": 34,
     "metadata": {},
     "output_type": "execute_result"
    },
    {
     "data": {
      "image/png": "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",
      "text/plain": [
       "<Figure size 1500x700 with 1 Axes>"
      ]
     },
     "metadata": {},
     "output_type": "display_data"
    }
   ],
   "source": [
    "fig,ax = plt.subplots(figsize = (15,7))\n",
    "sns.distplot(no_na['num_floors'])"
   ]
  },
  {
   "cell_type": "code",
   "execution_count": 25,
   "metadata": {},
   "outputs": [],
   "source": [
    "# new_low_price = []\n",
    "# for url in low_noise_data['url']:\n",
    "#     match = re.search(r'(\\d+)-ty', url) or re.search(r'(\\d+)ty-', url) or re.search(r'(\\d+)-ti', url)\n",
    "#     if match:\n",
    "#         number = match.group(1)\n",
    "#         if int(number) <= 10:\n",
    "#             new_low_price.append(float(number))\n",
    "#         elif int(number) <= 100:\n",
    "#             new_low_price.append(float(number)/10)\n",
    "#         else:\n",
    "#             new_low_price.append(float(number)/100)\n",
    "#     else:\n",
    "#         match = re.search(r'(\\d+)-trieu-', url) or re.search(r'(\\d+)tr-', url) or re.search(r'(\\d+)trieu-', url)\n",
    "#         if match:\n",
    "#             number = match.group(1)\n",
    "#             new_low_price.append(float(number)/1000)\n",
    "#         else:\n",
    "#             new_low_price.append(0)\n",
    "  \n",
    "# -2ty5-    -70trm2-    -2x-ty-  -4ty95-    -2ty2x-     -shr6ty120-  -360trphan             "
   ]
  },
  {
   "cell_type": "code",
   "execution_count": 26,
   "metadata": {},
   "outputs": [],
   "source": [
    "# new_price =[]\n",
    "# count_error = 0\n",
    "# for url in low_noise_data['url']:\n",
    "#     match = re.search(r'(\\d+)-ty', url) \n",
    "#     if match:\n",
    "#         number = match.group(1)\n",
    "#         if int(number) > 10 & int(number) < 100:\n",
    "#             new_price.append(float(number)/10)\n",
    "#         elif int(number) >= 100:\n",
    "#             new_price.append(float(number)/100)\n",
    "#         else:\n",
    "#             new_price.append(float(number))\n",
    "#     else:\n",
    "#         match =  re.search(r'(\\d+)tr', url)\n",
    "#         if match:\n",
    "#             new_price.append(float(match.group(1))/1000)\n",
    "#         elif match == None:\n",
    "#             try:\n",
    "#                 data = requests.get(url)\n",
    "#                 soup = BeautifulSoup(data.text, 'lxml')\n",
    "#                 if data:\n",
    "#                     if(soup.find('div',{'class':'project-global-object-block-003 information-custom'}) and soup.find('div',{'class':'content'})):\n",
    "#                         text_info=\"\"\n",
    "#                         text_info = soup.find('div',{'class':'project-global-object-block-003 information-custom'}).text.strip() + soup.find('div',{'class':'content'}).text.strip().replace('\\n','')\n",
    "#                         text_info = text_info.replace(\"\\r\",\" \")\n",
    "#                         text_info = text_info.replace(\"\\n\",\" \")\n",
    "#                         text_info = text_info.replace(\"\\t\",\" \")\n",
    "#                         z = re.search(r\"(\\d+(?:\\.\\d+)?(?:,\\d+)?) Tỷ\", text_info, re.IGNORECASE)\n",
    "#                         if z:\n",
    "#                             new_price.append(float(z.group(1)))\n",
    "#             except:\n",
    "#                 print(\"error\")\n",
    "#                 new_price.append(0.00001)\n",
    "#         else:\n",
    "#             new_price.append(0.00001)\n",
    "\n",
    "# len(low_noise_data)\n",
    "# #low_noise_data['new_price'] = new_price\n",
    "# new_price"
   ]
  },
  {
   "cell_type": "code",
   "execution_count": 27,
   "metadata": {},
   "outputs": [
    {
     "data": {
      "text/html": [
       "<div>\n",
       "<style scoped>\n",
       "    .dataframe tbody tr th:only-of-type {\n",
       "        vertical-align: middle;\n",
       "    }\n",
       "\n",
       "    .dataframe tbody tr th {\n",
       "        vertical-align: top;\n",
       "    }\n",
       "\n",
       "    .dataframe thead th {\n",
       "        text-align: right;\n",
       "    }\n",
       "</style>\n",
       "<table border=\"1\" class=\"dataframe\">\n",
       "  <thead>\n",
       "    <tr style=\"text-align: right;\">\n",
       "      <th></th>\n",
       "      <th>houseTypes</th>\n",
       "      <th>area</th>\n",
       "      <th>num_floors</th>\n",
       "      <th>bedrooms</th>\n",
       "      <th>district</th>\n",
       "      <th>city</th>\n",
       "      <th>price</th>\n",
       "      <th>url</th>\n",
       "    </tr>\n",
       "  </thead>\n",
       "  <tbody>\n",
       "    <tr>\n",
       "      <th>0</th>\n",
       "      <td>Bán Nhà riêng</td>\n",
       "      <td>130.0</td>\n",
       "      <td>3.0</td>\n",
       "      <td>7.0</td>\n",
       "      <td>Quận 12</td>\n",
       "      <td>TP Hồ Chí Minh</td>\n",
       "      <td>9.200</td>\n",
       "      <td>https://batdongsan.vn/ban-biet-thu-san-vuon-qu...</td>\n",
       "    </tr>\n",
       "    <tr>\n",
       "      <th>1</th>\n",
       "      <td>Bán Nhà riêng</td>\n",
       "      <td>65.0</td>\n",
       "      <td>NaN</td>\n",
       "      <td>2.0</td>\n",
       "      <td>Ngũ Hành Sơn</td>\n",
       "      <td>Đà Nẵng</td>\n",
       "      <td>2.900</td>\n",
       "      <td>https://batdongsan.vn/29-ty-dien-tich-6580m2-n...</td>\n",
       "    </tr>\n",
       "    <tr>\n",
       "      <th>2</th>\n",
       "      <td>Bán Nhà riêng</td>\n",
       "      <td>90.0</td>\n",
       "      <td>5.0</td>\n",
       "      <td>5.0</td>\n",
       "      <td>Hai Bà Trưng</td>\n",
       "      <td>Hà Nội</td>\n",
       "      <td>14.000</td>\n",
       "      <td>https://batdongsan.vn/ban-nha-kim-nguu-phan-lo...</td>\n",
       "    </tr>\n",
       "    <tr>\n",
       "      <th>3</th>\n",
       "      <td>Bán Nhà riêng</td>\n",
       "      <td>50.0</td>\n",
       "      <td>5.0</td>\n",
       "      <td>5.0</td>\n",
       "      <td>Quận 3</td>\n",
       "      <td>TP Hồ Chí Minh</td>\n",
       "      <td>0.001</td>\n",
       "      <td>https://batdongsan.vn/quan-3-le-van-sy-5-tang-...</td>\n",
       "    </tr>\n",
       "    <tr>\n",
       "      <th>4</th>\n",
       "      <td>Bán Nhà riêng</td>\n",
       "      <td>30.0</td>\n",
       "      <td>1.0</td>\n",
       "      <td>2.0</td>\n",
       "      <td>Gò Vấp</td>\n",
       "      <td>TP Hồ Chí Minh</td>\n",
       "      <td>3.700</td>\n",
       "      <td>https://batdongsan.vn/nha-moi-full-noi-that-hx...</td>\n",
       "    </tr>\n",
       "    <tr>\n",
       "      <th>...</th>\n",
       "      <td>...</td>\n",
       "      <td>...</td>\n",
       "      <td>...</td>\n",
       "      <td>...</td>\n",
       "      <td>...</td>\n",
       "      <td>...</td>\n",
       "      <td>...</td>\n",
       "      <td>...</td>\n",
       "    </tr>\n",
       "    <tr>\n",
       "      <th>8603</th>\n",
       "      <td>Bán Nhà riêng</td>\n",
       "      <td>61.0</td>\n",
       "      <td>3.0</td>\n",
       "      <td>4.0</td>\n",
       "      <td>Gò Vấp</td>\n",
       "      <td>TP Hồ Chí Minh</td>\n",
       "      <td>9.500</td>\n",
       "      <td>https://batdongsan.vn/hxh-3-lau-47x13-nguyen-v...</td>\n",
       "    </tr>\n",
       "    <tr>\n",
       "      <th>8604</th>\n",
       "      <td>Bán Nhà riêng</td>\n",
       "      <td>64.0</td>\n",
       "      <td>NaN</td>\n",
       "      <td>5.0</td>\n",
       "      <td>Bình Thạnh</td>\n",
       "      <td>TP Hồ Chí Minh</td>\n",
       "      <td>9.500</td>\n",
       "      <td>https://batdongsan.vn/hxh-4x16-xo-viet-nghe-ti...</td>\n",
       "    </tr>\n",
       "    <tr>\n",
       "      <th>8605</th>\n",
       "      <td>Bán Nhà riêng</td>\n",
       "      <td>60.0</td>\n",
       "      <td>3.0</td>\n",
       "      <td>3.0</td>\n",
       "      <td>Tân Phú</td>\n",
       "      <td>TP Hồ Chí Minh</td>\n",
       "      <td>5.400</td>\n",
       "      <td>https://batdongsan.vn/nha-3-tang-xe-hoi-do-cua...</td>\n",
       "    </tr>\n",
       "    <tr>\n",
       "      <th>8606</th>\n",
       "      <td>Bán Nhà riêng</td>\n",
       "      <td>90.0</td>\n",
       "      <td>NaN</td>\n",
       "      <td>2.0</td>\n",
       "      <td>Biên Hòa</td>\n",
       "      <td>Đồng Nai</td>\n",
       "      <td>2.850</td>\n",
       "      <td>https://batdongsan.vn/ban-nha-90m2-gan-giao-xu...</td>\n",
       "    </tr>\n",
       "    <tr>\n",
       "      <th>8607</th>\n",
       "      <td>Bán Nhà riêng</td>\n",
       "      <td>60.0</td>\n",
       "      <td>5.0</td>\n",
       "      <td>4.0</td>\n",
       "      <td>Gò Vấp</td>\n",
       "      <td>TP Hồ Chí Minh</td>\n",
       "      <td>7.930</td>\n",
       "      <td>https://batdongsan.vn/ban-nha-moi-dep-lung-lin...</td>\n",
       "    </tr>\n",
       "  </tbody>\n",
       "</table>\n",
       "<p>8608 rows × 8 columns</p>\n",
       "</div>"
      ],
      "text/plain": [
       "         houseTypes   area  num_floors  bedrooms      district  \\\n",
       "0     Bán Nhà riêng  130.0         3.0       7.0       Quận 12   \n",
       "1     Bán Nhà riêng   65.0         NaN       2.0  Ngũ Hành Sơn   \n",
       "2     Bán Nhà riêng   90.0         5.0       5.0  Hai Bà Trưng   \n",
       "3     Bán Nhà riêng   50.0         5.0       5.0        Quận 3   \n",
       "4     Bán Nhà riêng   30.0         1.0       2.0        Gò Vấp   \n",
       "...             ...    ...         ...       ...           ...   \n",
       "8603  Bán Nhà riêng   61.0         3.0       4.0        Gò Vấp   \n",
       "8604  Bán Nhà riêng   64.0         NaN       5.0    Bình Thạnh   \n",
       "8605  Bán Nhà riêng   60.0         3.0       3.0       Tân Phú   \n",
       "8606  Bán Nhà riêng   90.0         NaN       2.0      Biên Hòa   \n",
       "8607  Bán Nhà riêng   60.0         5.0       4.0        Gò Vấp   \n",
       "\n",
       "                city   price  \\\n",
       "0     TP Hồ Chí Minh   9.200   \n",
       "1            Đà Nẵng   2.900   \n",
       "2             Hà Nội  14.000   \n",
       "3     TP Hồ Chí Minh   0.001   \n",
       "4     TP Hồ Chí Minh   3.700   \n",
       "...              ...     ...   \n",
       "8603  TP Hồ Chí Minh   9.500   \n",
       "8604  TP Hồ Chí Minh   9.500   \n",
       "8605  TP Hồ Chí Minh   5.400   \n",
       "8606        Đồng Nai   2.850   \n",
       "8607  TP Hồ Chí Minh   7.930   \n",
       "\n",
       "                                                    url  \n",
       "0     https://batdongsan.vn/ban-biet-thu-san-vuon-qu...  \n",
       "1     https://batdongsan.vn/29-ty-dien-tich-6580m2-n...  \n",
       "2     https://batdongsan.vn/ban-nha-kim-nguu-phan-lo...  \n",
       "3     https://batdongsan.vn/quan-3-le-van-sy-5-tang-...  \n",
       "4     https://batdongsan.vn/nha-moi-full-noi-that-hx...  \n",
       "...                                                 ...  \n",
       "8603  https://batdongsan.vn/hxh-3-lau-47x13-nguyen-v...  \n",
       "8604  https://batdongsan.vn/hxh-4x16-xo-viet-nghe-ti...  \n",
       "8605  https://batdongsan.vn/nha-3-tang-xe-hoi-do-cua...  \n",
       "8606  https://batdongsan.vn/ban-nha-90m2-gan-giao-xu...  \n",
       "8607  https://batdongsan.vn/ban-nha-moi-dep-lung-lin...  \n",
       "\n",
       "[8608 rows x 8 columns]"
      ]
     },
     "execution_count": 27,
     "metadata": {},
     "output_type": "execute_result"
    }
   ],
   "source": [
    "data"
   ]
  },
  {
   "cell_type": "code",
   "execution_count": 28,
   "metadata": {},
   "outputs": [
    {
     "name": "stdout",
     "output_type": "stream",
     "text": [
      "Missing Values by Column\n",
      "------------------------------\n",
      "houseTypes       0\n",
      "area           161\n",
      "num_floors    1810\n",
      "bedrooms      1910\n",
      "district         0\n",
      "city             0\n",
      "price          116\n",
      "url              0\n",
      "dtype: int64\n",
      "------------------------------\n",
      "TOTAL MISSING VALUES: 3997\n"
     ]
    }
   ],
   "source": [
    "print(\"Missing Values by Column\")\n",
    "print(\"-\"*30)\n",
    "print(data.isna().sum())\n",
    "print(\"-\"*30)\n",
    "print(\"TOTAL MISSING VALUES:\",data.isna().sum().sum())"
   ]
<<<<<<< Updated upstream
  },
  {
   "cell_type": "code",
   "execution_count": 5,
   "metadata": {},
   "outputs": [
    {
     "name": "stdout",
     "output_type": "stream",
     "text": [
      "123\n"
     ]
    }
   ],
   "source": [
    "print(\"123\")"
   ]
=======
>>>>>>> Stashed changes
  }
 ],
 "metadata": {
  "kernelspec": {
   "display_name": "Python 3",
   "language": "python",
   "name": "python3"
  },
  "language_info": {
   "codemirror_mode": {
    "name": "ipython",
    "version": 3
   },
   "file_extension": ".py",
   "mimetype": "text/x-python",
   "name": "python",
   "nbconvert_exporter": "python",
   "pygments_lexer": "ipython3",
   "version": "3.10.11"
  },
  "orig_nbformat": 4
 },
 "nbformat": 4,
 "nbformat_minor": 2
}
