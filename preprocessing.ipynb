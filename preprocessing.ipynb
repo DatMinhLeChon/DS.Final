{
 "cells": [
  {
   "cell_type": "code",
   "execution_count": 15,
   "metadata": {},
   "outputs": [],
   "source": [
    "import pandas as pd\n",
    "import numpy as np\n",
    "import matplotlib.pyplot as plt\n",
    "import re\n",
    "import requests\n",
    "from bs4 import BeautifulSoup\n",
    "import time\n",
    "import seaborn as sns"
   ]
  },
  {
   "cell_type": "code",
   "execution_count": 2,
   "metadata": {},
   "outputs": [
    {
     "data": {
      "text/html": [
       "<div>\n",
       "<style scoped>\n",
       "    .dataframe tbody tr th:only-of-type {\n",
       "        vertical-align: middle;\n",
       "    }\n",
       "\n",
       "    .dataframe tbody tr th {\n",
       "        vertical-align: top;\n",
       "    }\n",
       "\n",
       "    .dataframe thead th {\n",
       "        text-align: right;\n",
       "    }\n",
       "</style>\n",
       "<table border=\"1\" class=\"dataframe\">\n",
       "  <thead>\n",
       "    <tr style=\"text-align: right;\">\n",
       "      <th></th>\n",
       "      <th>houseTypes</th>\n",
       "      <th>area</th>\n",
       "      <th>num_floors</th>\n",
       "      <th>bedrooms</th>\n",
       "      <th>address</th>\n",
       "      <th>price</th>\n",
       "      <th>url</th>\n",
       "    </tr>\n",
       "  </thead>\n",
       "  <tbody>\n",
       "    <tr>\n",
       "      <th>0</th>\n",
       "      <td>Bán Nhà riêng</td>\n",
       "      <td>130.0</td>\n",
       "      <td>3.0</td>\n",
       "      <td>7.0</td>\n",
       "      <td>Quận 12, TP Hồ Chí Minh</td>\n",
       "      <td>9.200</td>\n",
       "      <td>https://batdongsan.vn/ban-biet-thu-san-vuon-qu...</td>\n",
       "    </tr>\n",
       "    <tr>\n",
       "      <th>1</th>\n",
       "      <td>Bán Nhà riêng</td>\n",
       "      <td>65.0</td>\n",
       "      <td>NaN</td>\n",
       "      <td>2.0</td>\n",
       "      <td>Ngũ Hành Sơn, Đà Nẵng</td>\n",
       "      <td>2.900</td>\n",
       "      <td>https://batdongsan.vn/29-ty-dien-tich-6580m2-n...</td>\n",
       "    </tr>\n",
       "    <tr>\n",
       "      <th>2</th>\n",
       "      <td>Bán Nhà riêng</td>\n",
       "      <td>90.0</td>\n",
       "      <td>5.0</td>\n",
       "      <td>5.0</td>\n",
       "      <td>Hai Bà Trưng, Hà Nội</td>\n",
       "      <td>14.000</td>\n",
       "      <td>https://batdongsan.vn/ban-nha-kim-nguu-phan-lo...</td>\n",
       "    </tr>\n",
       "    <tr>\n",
       "      <th>3</th>\n",
       "      <td>Bán Nhà riêng</td>\n",
       "      <td>50.0</td>\n",
       "      <td>5.0</td>\n",
       "      <td>5.0</td>\n",
       "      <td>Quận 3, TP Hồ Chí Minh</td>\n",
       "      <td>0.001</td>\n",
       "      <td>https://batdongsan.vn/quan-3-le-van-sy-5-tang-...</td>\n",
       "    </tr>\n",
       "    <tr>\n",
       "      <th>4</th>\n",
       "      <td>Bán Nhà riêng</td>\n",
       "      <td>30.0</td>\n",
       "      <td>1.0</td>\n",
       "      <td>2.0</td>\n",
       "      <td>Gò Vấp, TP Hồ Chí Minh</td>\n",
       "      <td>3.700</td>\n",
       "      <td>https://batdongsan.vn/nha-moi-full-noi-that-hx...</td>\n",
       "    </tr>\n",
       "  </tbody>\n",
       "</table>\n",
       "</div>"
      ],
      "text/plain": [
       "      houseTypes   area  num_floors  bedrooms                  address  \\\n",
       "0  Bán Nhà riêng  130.0         3.0       7.0  Quận 12, TP Hồ Chí Minh   \n",
       "1  Bán Nhà riêng   65.0         NaN       2.0    Ngũ Hành Sơn, Đà Nẵng   \n",
       "2  Bán Nhà riêng   90.0         5.0       5.0     Hai Bà Trưng, Hà Nội   \n",
       "3  Bán Nhà riêng   50.0         5.0       5.0   Quận 3, TP Hồ Chí Minh   \n",
       "4  Bán Nhà riêng   30.0         1.0       2.0   Gò Vấp, TP Hồ Chí Minh   \n",
       "\n",
       "    price                                                url  \n",
       "0   9.200  https://batdongsan.vn/ban-biet-thu-san-vuon-qu...  \n",
       "1   2.900  https://batdongsan.vn/29-ty-dien-tich-6580m2-n...  \n",
       "2  14.000  https://batdongsan.vn/ban-nha-kim-nguu-phan-lo...  \n",
       "3   0.001  https://batdongsan.vn/quan-3-le-van-sy-5-tang-...  \n",
       "4   3.700  https://batdongsan.vn/nha-moi-full-noi-that-hx...  "
      ]
     },
     "execution_count": 2,
     "metadata": {},
     "output_type": "execute_result"
    }
   ],
   "source": [
    "data = pd.read_csv('houses_current.csv')\n",
    "data.head()"
   ]
  },
  {
   "cell_type": "code",
   "execution_count": 3,
   "metadata": {},
   "outputs": [
    {
     "name": "stdout",
     "output_type": "stream",
     "text": [
      "<class 'pandas.core.frame.DataFrame'>\n",
      "RangeIndex: 9674 entries, 0 to 9673\n",
      "Data columns (total 7 columns):\n",
      " #   Column      Non-Null Count  Dtype  \n",
      "---  ------      --------------  -----  \n",
      " 0   houseTypes  9674 non-null   object \n",
      " 1   area        9497 non-null   float64\n",
      " 2   num_floors  7706 non-null   float64\n",
      " 3   bedrooms    7577 non-null   float64\n",
      " 4   address     9674 non-null   object \n",
      " 5   price       9548 non-null   float64\n",
      " 6   url         9674 non-null   object \n",
      "dtypes: float64(4), object(3)\n",
      "memory usage: 529.2+ KB\n"
     ]
    }
   ],
   "source": [
    "data.info()"
   ]
  },
  {
   "attachments": {},
   "cell_type": "markdown",
   "metadata": {},
   "source": [
    "REMOVE DUPLICATES"
   ]
  },
  {
   "cell_type": "code",
   "execution_count": 4,
   "metadata": {},
   "outputs": [
    {
     "name": "stdout",
     "output_type": "stream",
     "text": [
      "Sum of duplicates:  1066\n",
      "After removing duplicates:  0\n",
      "Length of data then:  8608\n"
     ]
    }
   ],
   "source": [
    "print('Sum of duplicates: ', data.duplicated(subset=['houseTypes', 'area', 'num_floors', 'bedrooms','address','price']).sum())\n",
    "data = data.drop_duplicates(subset=['houseTypes', 'area', 'num_floors', 'bedrooms','address','price']).copy()\n",
    "print('After removing duplicates: ', data.duplicated().sum())\n",
    "print('Length of data then: ', len(data))"
   ]
  },
  {
   "attachments": {},
   "cell_type": "markdown",
   "metadata": {},
   "source": [
    "CONVERT OBJECT TO FLOAT64 AND STRING"
   ]
  },
  {
   "cell_type": "code",
   "execution_count": 5,
   "metadata": {},
   "outputs": [],
   "source": [
    "data = data.astype({'houseTypes':'string','address':'string','url':'string'})"
   ]
  },
  {
   "cell_type": "code",
   "execution_count": 6,
   "metadata": {},
   "outputs": [
    {
     "name": "stdout",
     "output_type": "stream",
     "text": [
      "<class 'pandas.core.frame.DataFrame'>\n",
      "Int64Index: 8608 entries, 0 to 9673\n",
      "Data columns (total 7 columns):\n",
      " #   Column      Non-Null Count  Dtype  \n",
      "---  ------      --------------  -----  \n",
      " 0   houseTypes  8608 non-null   string \n",
      " 1   area        8447 non-null   float64\n",
      " 2   num_floors  6798 non-null   float64\n",
      " 3   bedrooms    6698 non-null   float64\n",
      " 4   address     8608 non-null   string \n",
      " 5   price       8492 non-null   float64\n",
      " 6   url         8608 non-null   string \n",
      "dtypes: float64(4), string(3)\n",
      "memory usage: 538.0 KB\n"
     ]
    }
   ],
   "source": [
    "data.info()"
   ]
  },
  {
   "cell_type": "code",
   "execution_count": 19,
   "metadata": {},
   "outputs": [
    {
     "name": "stdout",
     "output_type": "stream",
     "text": [
      "Ratio of missing data of houseTypes: 0.0%\n",
      "Ratio of missing data of area: 1.87%\n",
      "Ratio of missing data of num_floors: 21.027%\n",
      "Ratio of missing data of bedrooms: 22.189%\n",
      "Ratio of missing data of district: 0.0%\n",
      "Ratio of missing data of city: 0.0%\n",
      "Ratio of missing data of price: 1.348%\n",
      "Ratio of missing data of url: 0.0%\n"
     ]
    }
   ],
   "source": [
    "for col in data.columns:\n",
    "    print('Ratio of missing data of ' + str(col) +': ' + str(round(data[col].isna().sum()*100/len(data[col]),3)) + '%')"
   ]
  },
  {
   "cell_type": "code",
   "execution_count": 7,
   "metadata": {},
   "outputs": [],
   "source": [
    "data[['district','city']] = data['address'].apply(lambda x: pd.Series(str(x).split(', ')))"
   ]
  },
  {
   "cell_type": "code",
   "execution_count": 8,
   "metadata": {},
   "outputs": [],
   "source": [
    "data = data.drop(['address'], axis=True)"
   ]
  },
  {
   "cell_type": "code",
   "execution_count": 9,
   "metadata": {},
   "outputs": [],
   "source": [
    "data.reset_index(inplace=True, drop=True)"
   ]
  },
  {
   "cell_type": "code",
   "execution_count": 10,
   "metadata": {},
   "outputs": [],
   "source": [
    "data = data[['houseTypes','area','num_floors','bedrooms','district','city','price','url']]"
   ]
  },
  {
   "cell_type": "code",
   "execution_count": 11,
   "metadata": {},
   "outputs": [
    {
     "data": {
      "text/html": [
       "<div>\n",
       "<style scoped>\n",
       "    .dataframe tbody tr th:only-of-type {\n",
       "        vertical-align: middle;\n",
       "    }\n",
       "\n",
       "    .dataframe tbody tr th {\n",
       "        vertical-align: top;\n",
       "    }\n",
       "\n",
       "    .dataframe thead th {\n",
       "        text-align: right;\n",
       "    }\n",
       "</style>\n",
       "<table border=\"1\" class=\"dataframe\">\n",
       "  <thead>\n",
       "    <tr style=\"text-align: right;\">\n",
       "      <th></th>\n",
       "      <th>houseTypes</th>\n",
       "      <th>area</th>\n",
       "      <th>num_floors</th>\n",
       "      <th>bedrooms</th>\n",
       "      <th>district</th>\n",
       "      <th>city</th>\n",
       "      <th>price</th>\n",
       "      <th>url</th>\n",
       "    </tr>\n",
       "  </thead>\n",
       "  <tbody>\n",
       "    <tr>\n",
       "      <th>0</th>\n",
       "      <td>Bán Nhà riêng</td>\n",
       "      <td>130.0</td>\n",
       "      <td>3.0</td>\n",
       "      <td>7.0</td>\n",
       "      <td>Quận 12</td>\n",
       "      <td>TP Hồ Chí Minh</td>\n",
       "      <td>9.200</td>\n",
       "      <td>https://batdongsan.vn/ban-biet-thu-san-vuon-qu...</td>\n",
       "    </tr>\n",
       "    <tr>\n",
       "      <th>1</th>\n",
       "      <td>Bán Nhà riêng</td>\n",
       "      <td>65.0</td>\n",
       "      <td>NaN</td>\n",
       "      <td>2.0</td>\n",
       "      <td>Ngũ Hành Sơn</td>\n",
       "      <td>Đà Nẵng</td>\n",
       "      <td>2.900</td>\n",
       "      <td>https://batdongsan.vn/29-ty-dien-tich-6580m2-n...</td>\n",
       "    </tr>\n",
       "    <tr>\n",
       "      <th>2</th>\n",
       "      <td>Bán Nhà riêng</td>\n",
       "      <td>90.0</td>\n",
       "      <td>5.0</td>\n",
       "      <td>5.0</td>\n",
       "      <td>Hai Bà Trưng</td>\n",
       "      <td>Hà Nội</td>\n",
       "      <td>14.000</td>\n",
       "      <td>https://batdongsan.vn/ban-nha-kim-nguu-phan-lo...</td>\n",
       "    </tr>\n",
       "    <tr>\n",
       "      <th>3</th>\n",
       "      <td>Bán Nhà riêng</td>\n",
       "      <td>50.0</td>\n",
       "      <td>5.0</td>\n",
       "      <td>5.0</td>\n",
       "      <td>Quận 3</td>\n",
       "      <td>TP Hồ Chí Minh</td>\n",
       "      <td>0.001</td>\n",
       "      <td>https://batdongsan.vn/quan-3-le-van-sy-5-tang-...</td>\n",
       "    </tr>\n",
       "    <tr>\n",
       "      <th>4</th>\n",
       "      <td>Bán Nhà riêng</td>\n",
       "      <td>30.0</td>\n",
       "      <td>1.0</td>\n",
       "      <td>2.0</td>\n",
       "      <td>Gò Vấp</td>\n",
       "      <td>TP Hồ Chí Minh</td>\n",
       "      <td>3.700</td>\n",
       "      <td>https://batdongsan.vn/nha-moi-full-noi-that-hx...</td>\n",
       "    </tr>\n",
       "  </tbody>\n",
       "</table>\n",
       "</div>"
      ],
      "text/plain": [
       "      houseTypes   area  num_floors  bedrooms      district            city  \\\n",
       "0  Bán Nhà riêng  130.0         3.0       7.0       Quận 12  TP Hồ Chí Minh   \n",
       "1  Bán Nhà riêng   65.0         NaN       2.0  Ngũ Hành Sơn         Đà Nẵng   \n",
       "2  Bán Nhà riêng   90.0         5.0       5.0  Hai Bà Trưng          Hà Nội   \n",
       "3  Bán Nhà riêng   50.0         5.0       5.0        Quận 3  TP Hồ Chí Minh   \n",
       "4  Bán Nhà riêng   30.0         1.0       2.0        Gò Vấp  TP Hồ Chí Minh   \n",
       "\n",
       "    price                                                url  \n",
       "0   9.200  https://batdongsan.vn/ban-biet-thu-san-vuon-qu...  \n",
       "1   2.900  https://batdongsan.vn/29-ty-dien-tich-6580m2-n...  \n",
       "2  14.000  https://batdongsan.vn/ban-nha-kim-nguu-phan-lo...  \n",
       "3   0.001  https://batdongsan.vn/quan-3-le-van-sy-5-tang-...  \n",
       "4   3.700  https://batdongsan.vn/nha-moi-full-noi-that-hx...  "
      ]
     },
     "execution_count": 11,
     "metadata": {},
     "output_type": "execute_result"
    }
   ],
   "source": [
    "data.head()"
   ]
  },
  {
   "cell_type": "code",
   "execution_count": 50,
   "metadata": {},
   "outputs": [],
   "source": [
    "# data.to_csv('houses.csv',index=False)\n",
    "# data.to_excel('houses.xlsx',index=False)"
   ]
  },
  {
   "cell_type": "code",
   "execution_count": 12,
   "metadata": {},
   "outputs": [],
   "source": [
    "low_noise_data = data.loc[(data['price'] < 0.1)]\n",
    "hign_noise_data = data.loc[(data['price'] >= 500)]\n",
    "null_price_data = data[data['price'].isna()]\n"
   ]
  },
  {
   "cell_type": "code",
   "execution_count": 52,
   "metadata": {},
   "outputs": [],
   "source": [
    "low_noise_data = low_noise_data.copy()\n",
    "low_noise_data.to_excel('error_price_low.xlsx', index=False)  "
   ]
  },
  {
   "cell_type": "code",
   "execution_count": 99,
   "metadata": {},
   "outputs": [],
   "source": [
    "hign_noise_data = hign_noise_data.copy()\n",
    "hign_noise_data.to_excel('error_price_hign.xlsx', index=False)  "
   ]
  },
  {
   "cell_type": "code",
   "execution_count": 53,
   "metadata": {},
   "outputs": [],
   "source": [
    "# new_low_price = []\n",
    "# for url in low_noise_data['url']:\n",
    "#     match = re.search(r'(\\d+)-ty', url) or re.search(r'(\\d+)ty-', url) or re.search(r'(\\d+)-ti', url)\n",
    "#     if match:\n",
    "#         number = match.group(1)\n",
    "#         if int(number) <= 10:\n",
    "#             new_low_price.append(float(number))\n",
    "#         elif int(number) <= 100:\n",
    "#             new_low_price.append(float(number)/10)\n",
    "#         else:\n",
    "#             new_low_price.append(float(number)/100)\n",
    "#     else:\n",
    "#         match = re.search(r'(\\d+)-trieu-', url) or re.search(r'(\\d+)tr-', url) or re.search(r'(\\d+)trieu-', url)\n",
    "#         if match:\n",
    "#             number = match.group(1)\n",
    "#             new_low_price.append(float(number)/1000)\n",
    "#         else:\n",
    "#             new_low_price.append(0)\n",
    "  \n",
    "# -2ty5-    -70trm2-    -2x-ty-  -4ty95-    -2ty2x-     -shr6ty120-  -360trphan             "
   ]
  },
  {
   "cell_type": "code",
   "execution_count": 54,
   "metadata": {},
   "outputs": [],
   "source": [
    "# new_price =[]\n",
    "# count_error = 0\n",
    "# for url in low_noise_data['url']:\n",
    "#     match = re.search(r'(\\d+)-ty', url) \n",
    "#     if match:\n",
    "#         number = match.group(1)\n",
    "#         if int(number) > 10 & int(number) < 100:\n",
    "#             new_price.append(float(number)/10)\n",
    "#         elif int(number) >= 100:\n",
    "#             new_price.append(float(number)/100)\n",
    "#         else:\n",
    "#             new_price.append(float(number))\n",
    "#     else:\n",
    "#         match =  re.search(r'(\\d+)tr', url)\n",
    "#         if match:\n",
    "#             new_price.append(float(match.group(1))/1000)\n",
    "#         elif match == None:\n",
    "#             try:\n",
    "#                 data = requests.get(url)\n",
    "#                 soup = BeautifulSoup(data.text, 'lxml')\n",
    "#                 if data:\n",
    "#                     if(soup.find('div',{'class':'project-global-object-block-003 information-custom'}) and soup.find('div',{'class':'content'})):\n",
    "#                         text_info=\"\"\n",
    "#                         text_info = soup.find('div',{'class':'project-global-object-block-003 information-custom'}).text.strip() + soup.find('div',{'class':'content'}).text.strip().replace('\\n','')\n",
    "#                         text_info = text_info.replace(\"\\r\",\" \")\n",
    "#                         text_info = text_info.replace(\"\\n\",\" \")\n",
    "#                         text_info = text_info.replace(\"\\t\",\" \")\n",
    "#                         z = re.search(r\"(\\d+(?:\\.\\d+)?(?:,\\d+)?) Tỷ\", text_info, re.IGNORECASE)\n",
    "#                         if z:\n",
    "#                             new_price.append(float(z.group(1)))\n",
    "#             except:\n",
    "#                 print(\"error\")\n",
    "#                 new_price.append(0.00001)\n",
    "#         else:\n",
    "#             new_price.append(0.00001)\n",
    "\n",
    "# len(low_noise_data)\n",
    "# #low_noise_data['new_price'] = new_price\n",
    "# new_price"
   ]
  },
  {
   "cell_type": "code",
   "execution_count": 18,
   "metadata": {},
   "outputs": [
    {
     "data": {
      "text/html": [
       "<div>\n",
       "<style scoped>\n",
       "    .dataframe tbody tr th:only-of-type {\n",
       "        vertical-align: middle;\n",
       "    }\n",
       "\n",
       "    .dataframe tbody tr th {\n",
       "        vertical-align: top;\n",
       "    }\n",
       "\n",
       "    .dataframe thead th {\n",
       "        text-align: right;\n",
       "    }\n",
       "</style>\n",
       "<table border=\"1\" class=\"dataframe\">\n",
       "  <thead>\n",
       "    <tr style=\"text-align: right;\">\n",
       "      <th></th>\n",
       "      <th>houseTypes</th>\n",
       "      <th>area</th>\n",
       "      <th>num_floors</th>\n",
       "      <th>bedrooms</th>\n",
       "      <th>district</th>\n",
       "      <th>city</th>\n",
       "      <th>price</th>\n",
       "      <th>url</th>\n",
       "    </tr>\n",
       "  </thead>\n",
       "  <tbody>\n",
       "    <tr>\n",
       "      <th>0</th>\n",
       "      <td>Bán Nhà riêng</td>\n",
       "      <td>130.0</td>\n",
       "      <td>3.0</td>\n",
       "      <td>7.0</td>\n",
       "      <td>Quận 12</td>\n",
       "      <td>TP Hồ Chí Minh</td>\n",
       "      <td>9.200</td>\n",
       "      <td>https://batdongsan.vn/ban-biet-thu-san-vuon-qu...</td>\n",
       "    </tr>\n",
       "    <tr>\n",
       "      <th>1</th>\n",
       "      <td>Bán Nhà riêng</td>\n",
       "      <td>65.0</td>\n",
       "      <td>NaN</td>\n",
       "      <td>2.0</td>\n",
       "      <td>Ngũ Hành Sơn</td>\n",
       "      <td>Đà Nẵng</td>\n",
       "      <td>2.900</td>\n",
       "      <td>https://batdongsan.vn/29-ty-dien-tich-6580m2-n...</td>\n",
       "    </tr>\n",
       "    <tr>\n",
       "      <th>2</th>\n",
       "      <td>Bán Nhà riêng</td>\n",
       "      <td>90.0</td>\n",
       "      <td>5.0</td>\n",
       "      <td>5.0</td>\n",
       "      <td>Hai Bà Trưng</td>\n",
       "      <td>Hà Nội</td>\n",
       "      <td>14.000</td>\n",
       "      <td>https://batdongsan.vn/ban-nha-kim-nguu-phan-lo...</td>\n",
       "    </tr>\n",
       "    <tr>\n",
       "      <th>3</th>\n",
       "      <td>Bán Nhà riêng</td>\n",
       "      <td>50.0</td>\n",
       "      <td>5.0</td>\n",
       "      <td>5.0</td>\n",
       "      <td>Quận 3</td>\n",
       "      <td>TP Hồ Chí Minh</td>\n",
       "      <td>0.001</td>\n",
       "      <td>https://batdongsan.vn/quan-3-le-van-sy-5-tang-...</td>\n",
       "    </tr>\n",
       "    <tr>\n",
       "      <th>4</th>\n",
       "      <td>Bán Nhà riêng</td>\n",
       "      <td>30.0</td>\n",
       "      <td>1.0</td>\n",
       "      <td>2.0</td>\n",
       "      <td>Gò Vấp</td>\n",
       "      <td>TP Hồ Chí Minh</td>\n",
       "      <td>3.700</td>\n",
       "      <td>https://batdongsan.vn/nha-moi-full-noi-that-hx...</td>\n",
       "    </tr>\n",
       "    <tr>\n",
       "      <th>...</th>\n",
       "      <td>...</td>\n",
       "      <td>...</td>\n",
       "      <td>...</td>\n",
       "      <td>...</td>\n",
       "      <td>...</td>\n",
       "      <td>...</td>\n",
       "      <td>...</td>\n",
       "      <td>...</td>\n",
       "    </tr>\n",
       "    <tr>\n",
       "      <th>8603</th>\n",
       "      <td>Bán Nhà riêng</td>\n",
       "      <td>61.0</td>\n",
       "      <td>3.0</td>\n",
       "      <td>4.0</td>\n",
       "      <td>Gò Vấp</td>\n",
       "      <td>TP Hồ Chí Minh</td>\n",
       "      <td>9.500</td>\n",
       "      <td>https://batdongsan.vn/hxh-3-lau-47x13-nguyen-v...</td>\n",
       "    </tr>\n",
       "    <tr>\n",
       "      <th>8604</th>\n",
       "      <td>Bán Nhà riêng</td>\n",
       "      <td>64.0</td>\n",
       "      <td>NaN</td>\n",
       "      <td>5.0</td>\n",
       "      <td>Bình Thạnh</td>\n",
       "      <td>TP Hồ Chí Minh</td>\n",
       "      <td>9.500</td>\n",
       "      <td>https://batdongsan.vn/hxh-4x16-xo-viet-nghe-ti...</td>\n",
       "    </tr>\n",
       "    <tr>\n",
       "      <th>8605</th>\n",
       "      <td>Bán Nhà riêng</td>\n",
       "      <td>60.0</td>\n",
       "      <td>3.0</td>\n",
       "      <td>3.0</td>\n",
       "      <td>Tân Phú</td>\n",
       "      <td>TP Hồ Chí Minh</td>\n",
       "      <td>5.400</td>\n",
       "      <td>https://batdongsan.vn/nha-3-tang-xe-hoi-do-cua...</td>\n",
       "    </tr>\n",
       "    <tr>\n",
       "      <th>8606</th>\n",
       "      <td>Bán Nhà riêng</td>\n",
       "      <td>90.0</td>\n",
       "      <td>NaN</td>\n",
       "      <td>2.0</td>\n",
       "      <td>Biên Hòa</td>\n",
       "      <td>Đồng Nai</td>\n",
       "      <td>2.850</td>\n",
       "      <td>https://batdongsan.vn/ban-nha-90m2-gan-giao-xu...</td>\n",
       "    </tr>\n",
       "    <tr>\n",
       "      <th>8607</th>\n",
       "      <td>Bán Nhà riêng</td>\n",
       "      <td>60.0</td>\n",
       "      <td>5.0</td>\n",
       "      <td>4.0</td>\n",
       "      <td>Gò Vấp</td>\n",
       "      <td>TP Hồ Chí Minh</td>\n",
       "      <td>7.930</td>\n",
       "      <td>https://batdongsan.vn/ban-nha-moi-dep-lung-lin...</td>\n",
       "    </tr>\n",
       "  </tbody>\n",
       "</table>\n",
       "<p>8608 rows × 8 columns</p>\n",
       "</div>"
      ],
      "text/plain": [
       "         houseTypes   area  num_floors  bedrooms      district  \\\n",
       "0     Bán Nhà riêng  130.0         3.0       7.0       Quận 12   \n",
       "1     Bán Nhà riêng   65.0         NaN       2.0  Ngũ Hành Sơn   \n",
       "2     Bán Nhà riêng   90.0         5.0       5.0  Hai Bà Trưng   \n",
       "3     Bán Nhà riêng   50.0         5.0       5.0        Quận 3   \n",
       "4     Bán Nhà riêng   30.0         1.0       2.0        Gò Vấp   \n",
       "...             ...    ...         ...       ...           ...   \n",
       "8603  Bán Nhà riêng   61.0         3.0       4.0        Gò Vấp   \n",
       "8604  Bán Nhà riêng   64.0         NaN       5.0    Bình Thạnh   \n",
       "8605  Bán Nhà riêng   60.0         3.0       3.0       Tân Phú   \n",
       "8606  Bán Nhà riêng   90.0         NaN       2.0      Biên Hòa   \n",
       "8607  Bán Nhà riêng   60.0         5.0       4.0        Gò Vấp   \n",
       "\n",
       "                city   price  \\\n",
       "0     TP Hồ Chí Minh   9.200   \n",
       "1            Đà Nẵng   2.900   \n",
       "2             Hà Nội  14.000   \n",
       "3     TP Hồ Chí Minh   0.001   \n",
       "4     TP Hồ Chí Minh   3.700   \n",
       "...              ...     ...   \n",
       "8603  TP Hồ Chí Minh   9.500   \n",
       "8604  TP Hồ Chí Minh   9.500   \n",
       "8605  TP Hồ Chí Minh   5.400   \n",
       "8606        Đồng Nai   2.850   \n",
       "8607  TP Hồ Chí Minh   7.930   \n",
       "\n",
       "                                                    url  \n",
       "0     https://batdongsan.vn/ban-biet-thu-san-vuon-qu...  \n",
       "1     https://batdongsan.vn/29-ty-dien-tich-6580m2-n...  \n",
       "2     https://batdongsan.vn/ban-nha-kim-nguu-phan-lo...  \n",
       "3     https://batdongsan.vn/quan-3-le-van-sy-5-tang-...  \n",
       "4     https://batdongsan.vn/nha-moi-full-noi-that-hx...  \n",
       "...                                                 ...  \n",
       "8603  https://batdongsan.vn/hxh-3-lau-47x13-nguyen-v...  \n",
       "8604  https://batdongsan.vn/hxh-4x16-xo-viet-nghe-ti...  \n",
       "8605  https://batdongsan.vn/nha-3-tang-xe-hoi-do-cua...  \n",
       "8606  https://batdongsan.vn/ban-nha-90m2-gan-giao-xu...  \n",
       "8607  https://batdongsan.vn/ban-nha-moi-dep-lung-lin...  \n",
       "\n",
       "[8608 rows x 8 columns]"
      ]
     },
     "execution_count": 18,
     "metadata": {},
     "output_type": "execute_result"
    }
   ],
   "source": [
    "data"
   ]
  },
  {
   "cell_type": "code",
   "execution_count": 17,
   "metadata": {},
   "outputs": [
    {
     "name": "stdout",
     "output_type": "stream",
     "text": [
      "Missing Values by Column\n",
      "------------------------------\n",
      "houseTypes       0\n",
      "area           161\n",
      "num_floors    1810\n",
      "bedrooms      1910\n",
      "district         0\n",
      "city             0\n",
      "price          116\n",
      "url              0\n",
      "dtype: int64\n",
      "------------------------------\n",
      "TOTAL MISSING VALUES: 3997\n"
     ]
    }
   ],
   "source": [
    "print(\"Missing Values by Column\")\n",
    "print(\"-\"*30)\n",
    "print(data.isna().sum())\n",
    "print(\"-\"*30)\n",
    "print(\"TOTAL MISSING VALUES:\",data.isna().sum().sum())"
   ]
  },
  {
   "cell_type": "code",
   "execution_count": 100,
   "metadata": {},
   "outputs": [
    {
     "name": "stdout",
     "output_type": "stream",
     "text": [
      "change 2\n"
     ]
    }
   ],
   "source": [
    "print('change 2')"
   ]
  },
  {
   "cell_type": "code",
   "execution_count": 101,
   "metadata": {},
   "outputs": [
    {
     "name": "stdout",
     "output_type": "stream",
     "text": [
      "bich ngoc\n"
     ]
    }
   ],
   "source": [
    "print('bich ngoc')"
   ]
  }
 ],
 "metadata": {
  "kernelspec": {
   "display_name": "Python 3",
   "language": "python",
   "name": "python3"
  },
  "language_info": {
   "codemirror_mode": {
    "name": "ipython",
    "version": 3
   },
   "file_extension": ".py",
   "mimetype": "text/x-python",
   "name": "python",
   "nbconvert_exporter": "python",
   "pygments_lexer": "ipython3",
   "version": "3.9.13"
  },
  "orig_nbformat": 4
 },
 "nbformat": 4,
 "nbformat_minor": 2
}
