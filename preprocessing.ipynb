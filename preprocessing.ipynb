{
 "cells": [
  {
   "cell_type": "code",
   "execution_count": 1,
   "metadata": {},
   "outputs": [],
   "source": [
    "import pandas as pd\n",
    "import numpy as np\n",
    "import matplotlib.pyplot as plt\n",
    "import re\n",
    "import requests\n",
    "from bs4 import BeautifulSoup\n",
    "import time\n",
    "import seaborn as sns\n",
    "# import folium\n"
   ]
  },
  {
   "cell_type": "code",
   "execution_count": 3,
   "metadata": {},
   "outputs": [
    {
     "data": {
      "text/plain": [
       "9674"
      ]
     },
     "execution_count": 3,
     "metadata": {},
     "output_type": "execute_result"
    }
   ],
   "source": [
    "data = pd.read_csv('houses_current.csv')\n",
    "data.head()\n",
    "len(data)"
   ]
  },
  {
   "cell_type": "code",
   "execution_count": 4,
   "metadata": {},
   "outputs": [
    {
     "name": "stdout",
     "output_type": "stream",
     "text": [
      "<class 'pandas.core.frame.DataFrame'>\n",
      "RangeIndex: 9674 entries, 0 to 9673\n",
      "Data columns (total 7 columns):\n",
      " #   Column      Non-Null Count  Dtype  \n",
      "---  ------      --------------  -----  \n",
      " 0   houseTypes  9674 non-null   object \n",
      " 1   area        9497 non-null   float64\n",
      " 2   num_floors  7706 non-null   float64\n",
      " 3   bedrooms    7577 non-null   float64\n",
      " 4   address     9674 non-null   object \n",
      " 5   price       9548 non-null   float64\n",
      " 6   url         9674 non-null   object \n",
      "dtypes: float64(4), object(3)\n",
      "memory usage: 529.2+ KB\n"
     ]
    }
   ],
   "source": [
    "data.info()"
   ]
  },
  {
   "attachments": {},
   "cell_type": "markdown",
   "metadata": {},
   "source": [
    "REMOVE DUPLICATES"
   ]
  },
  {
   "cell_type": "code",
   "execution_count": 5,
   "metadata": {},
   "outputs": [
    {
     "name": "stdout",
     "output_type": "stream",
     "text": [
      "Sum of duplicates:  1066\n",
      "After removing duplicates:  0\n",
      "Length of data then:  8608\n"
     ]
    }
   ],
   "source": [
    "print('Sum of duplicates: ', data.duplicated(subset=['houseTypes', 'area', 'num_floors', 'bedrooms','address','price']).sum())\n",
    "data = data.drop_duplicates(subset=['houseTypes', 'area', 'num_floors', 'bedrooms','address','price']).copy()\n",
    "print('After removing duplicates: ', data.duplicated().sum())\n",
    "print('Length of data then: ', len(data))"
   ]
  },
  {
   "attachments": {},
   "cell_type": "markdown",
   "metadata": {},
   "source": [
    "CONVERT OBJECT TO FLOAT64 AND STRING"
   ]
  },
  {
   "cell_type": "code",
   "execution_count": 6,
   "metadata": {},
   "outputs": [],
   "source": [
    "data = data.astype({'houseTypes':'string','address':'string','url':'string'})"
   ]
  },
  {
   "cell_type": "code",
   "execution_count": 7,
   "metadata": {},
   "outputs": [
    {
     "name": "stdout",
     "output_type": "stream",
     "text": [
      "<class 'pandas.core.frame.DataFrame'>\n",
      "Int64Index: 8608 entries, 0 to 9673\n",
      "Data columns (total 7 columns):\n",
      " #   Column      Non-Null Count  Dtype  \n",
      "---  ------      --------------  -----  \n",
      " 0   houseTypes  8608 non-null   string \n",
      " 1   area        8447 non-null   float64\n",
      " 2   num_floors  6798 non-null   float64\n",
      " 3   bedrooms    6698 non-null   float64\n",
      " 4   address     8608 non-null   string \n",
      " 5   price       8492 non-null   float64\n",
      " 6   url         8608 non-null   string \n",
      "dtypes: float64(4), string(3)\n",
      "memory usage: 538.0 KB\n"
     ]
    }
   ],
   "source": [
    "data.info()"
   ]
  },
  {
   "cell_type": "code",
   "execution_count": 8,
   "metadata": {},
   "outputs": [
    {
     "name": "stdout",
     "output_type": "stream",
     "text": [
      "Ratio of missing data of houseTypes: 0.0%\n",
      "Ratio of missing data of area: 1.87%\n",
      "Ratio of missing data of num_floors: 21.027%\n",
      "Ratio of missing data of bedrooms: 22.189%\n",
      "Ratio of missing data of address: 0.0%\n",
      "Ratio of missing data of price: 1.348%\n",
      "Ratio of missing data of url: 0.0%\n"
     ]
    }
   ],
   "source": [
    "for col in data.columns:\n",
    "    print('Ratio of missing data of ' + str(col) +': ' + str(round(data[col].isna().sum()*100/len(data[col]),3)) + '%')"
   ]
  },
  {
   "cell_type": "code",
   "execution_count": 9,
   "metadata": {},
   "outputs": [],
   "source": [
    "data[['district','city']] = data['address'].apply(lambda x: pd.Series(str(x).split(', ')))"
   ]
  },
  {
   "cell_type": "code",
   "execution_count": 10,
   "metadata": {},
   "outputs": [],
   "source": [
    "data = data.drop(['address'], axis=True)"
   ]
  },
  {
   "cell_type": "code",
   "execution_count": 11,
   "metadata": {},
   "outputs": [],
   "source": [
    "data.reset_index(inplace=True, drop=True)"
   ]
  },
  {
   "cell_type": "code",
   "execution_count": 12,
   "metadata": {},
   "outputs": [],
   "source": [
    "data = data[['houseTypes','area','num_floors','bedrooms','district','city','price','url']]"
   ]
  },
  {
   "cell_type": "code",
   "execution_count": 13,
   "metadata": {},
   "outputs": [
    {
     "data": {
      "text/html": [
       "<div>\n",
       "<style scoped>\n",
       "    .dataframe tbody tr th:only-of-type {\n",
       "        vertical-align: middle;\n",
       "    }\n",
       "\n",
       "    .dataframe tbody tr th {\n",
       "        vertical-align: top;\n",
       "    }\n",
       "\n",
       "    .dataframe thead th {\n",
       "        text-align: right;\n",
       "    }\n",
       "</style>\n",
       "<table border=\"1\" class=\"dataframe\">\n",
       "  <thead>\n",
       "    <tr style=\"text-align: right;\">\n",
       "      <th></th>\n",
       "      <th>houseTypes</th>\n",
       "      <th>area</th>\n",
       "      <th>num_floors</th>\n",
       "      <th>bedrooms</th>\n",
       "      <th>district</th>\n",
       "      <th>city</th>\n",
       "      <th>price</th>\n",
       "      <th>url</th>\n",
       "    </tr>\n",
       "  </thead>\n",
       "  <tbody>\n",
       "    <tr>\n",
       "      <th>0</th>\n",
       "      <td>Bán Nhà riêng</td>\n",
       "      <td>130.0</td>\n",
       "      <td>3.0</td>\n",
       "      <td>7.0</td>\n",
       "      <td>Quận 12</td>\n",
       "      <td>TP Hồ Chí Minh</td>\n",
       "      <td>9.200</td>\n",
       "      <td>https://batdongsan.vn/ban-biet-thu-san-vuon-qu...</td>\n",
       "    </tr>\n",
       "    <tr>\n",
       "      <th>1</th>\n",
       "      <td>Bán Nhà riêng</td>\n",
       "      <td>65.0</td>\n",
       "      <td>NaN</td>\n",
       "      <td>2.0</td>\n",
       "      <td>Ngũ Hành Sơn</td>\n",
       "      <td>Đà Nẵng</td>\n",
       "      <td>2.900</td>\n",
       "      <td>https://batdongsan.vn/29-ty-dien-tich-6580m2-n...</td>\n",
       "    </tr>\n",
       "    <tr>\n",
       "      <th>2</th>\n",
       "      <td>Bán Nhà riêng</td>\n",
       "      <td>90.0</td>\n",
       "      <td>5.0</td>\n",
       "      <td>5.0</td>\n",
       "      <td>Hai Bà Trưng</td>\n",
       "      <td>Hà Nội</td>\n",
       "      <td>14.000</td>\n",
       "      <td>https://batdongsan.vn/ban-nha-kim-nguu-phan-lo...</td>\n",
       "    </tr>\n",
       "    <tr>\n",
       "      <th>3</th>\n",
       "      <td>Bán Nhà riêng</td>\n",
       "      <td>50.0</td>\n",
       "      <td>5.0</td>\n",
       "      <td>5.0</td>\n",
       "      <td>Quận 3</td>\n",
       "      <td>TP Hồ Chí Minh</td>\n",
       "      <td>0.001</td>\n",
       "      <td>https://batdongsan.vn/quan-3-le-van-sy-5-tang-...</td>\n",
       "    </tr>\n",
       "    <tr>\n",
       "      <th>4</th>\n",
       "      <td>Bán Nhà riêng</td>\n",
       "      <td>30.0</td>\n",
       "      <td>1.0</td>\n",
       "      <td>2.0</td>\n",
       "      <td>Gò Vấp</td>\n",
       "      <td>TP Hồ Chí Minh</td>\n",
       "      <td>3.700</td>\n",
       "      <td>https://batdongsan.vn/nha-moi-full-noi-that-hx...</td>\n",
       "    </tr>\n",
       "  </tbody>\n",
       "</table>\n",
       "</div>"
      ],
      "text/plain": [
       "      houseTypes   area  num_floors  bedrooms      district            city  \\\n",
       "0  Bán Nhà riêng  130.0         3.0       7.0       Quận 12  TP Hồ Chí Minh   \n",
       "1  Bán Nhà riêng   65.0         NaN       2.0  Ngũ Hành Sơn         Đà Nẵng   \n",
       "2  Bán Nhà riêng   90.0         5.0       5.0  Hai Bà Trưng          Hà Nội   \n",
       "3  Bán Nhà riêng   50.0         5.0       5.0        Quận 3  TP Hồ Chí Minh   \n",
       "4  Bán Nhà riêng   30.0         1.0       2.0        Gò Vấp  TP Hồ Chí Minh   \n",
       "\n",
       "    price                                                url  \n",
       "0   9.200  https://batdongsan.vn/ban-biet-thu-san-vuon-qu...  \n",
       "1   2.900  https://batdongsan.vn/29-ty-dien-tich-6580m2-n...  \n",
       "2  14.000  https://batdongsan.vn/ban-nha-kim-nguu-phan-lo...  \n",
       "3   0.001  https://batdongsan.vn/quan-3-le-van-sy-5-tang-...  \n",
       "4   3.700  https://batdongsan.vn/nha-moi-full-noi-that-hx...  "
      ]
     },
     "execution_count": 13,
     "metadata": {},
     "output_type": "execute_result"
    }
   ],
   "source": [
    "data.head()"
   ]
  },
  {
   "cell_type": "code",
   "execution_count": 13,
   "metadata": {},
   "outputs": [],
   "source": [
    "data.to_csv('houses.csv',index=False)\n",
    "data.to_excel('houses.xlsx',index=False)"
   ]
  },
  {
   "attachments": {},
   "cell_type": "markdown",
   "metadata": {},
   "source": [
    "## Xử lí giá"
   ]
  },
  {
   "cell_type": "code",
   "execution_count": 14,
   "metadata": {},
   "outputs": [],
   "source": [
    "low_noise_data = data.loc[(data['price'] < 0.1)]\n",
    "hign_noise_data = data.loc[(data['price'] >= 500)]\n",
    "null_price_data = data[data['price'].isna()]"
   ]
  },
  {
   "cell_type": "code",
   "execution_count": 19,
   "metadata": {},
   "outputs": [],
   "source": [
    "low_noise_data = low_noise_data.copy()\n",
    "low_noise_data.to_excel('error_price_low.xlsx', index=False)  "
   ]
  },
  {
   "cell_type": "code",
   "execution_count": 20,
   "metadata": {},
   "outputs": [],
   "source": [
    "hign_noise_data = hign_noise_data.copy()\n",
    "hign_noise_data.to_excel('error_price_hign.xlsx', index=False)  "
   ]
  },
  {
   "cell_type": "code",
   "execution_count": 15,
   "metadata": {},
   "outputs": [
    {
     "name": "stderr",
     "output_type": "stream",
     "text": [
      "c:\\Users\\ASUS\\anaconda3\\lib\\site-packages\\seaborn\\distributions.py:2619: FutureWarning: `distplot` is a deprecated function and will be removed in a future version. Please adapt your code to use either `displot` (a figure-level function with similar flexibility) or `histplot` (an axes-level function for histograms).\n",
      "  warnings.warn(msg, FutureWarning)\n"
     ]
    },
    {
     "data": {
      "text/plain": [
       "<AxesSubplot:xlabel='price', ylabel='Density'>"
      ]
     },
     "execution_count": 15,
     "metadata": {},
     "output_type": "execute_result"
    },
    {
     "data": {
      "image/png": "[encoded data removed]",
      "text/plain": [
       "<Figure size 800x500 with 1 Axes>"
      ]
     },
     "metadata": {},
     "output_type": "display_data"
    }
   ],
   "source": [
    "house_data_1 = data.loc[(data['price'] >= 0.1) & (data['price'] < 10)]\n",
    "fig,ax = plt.subplots(figsize = (8,5))\n",
    "sns.distplot(house_data_1['price'])"
   ]
  },
  {
   "cell_type": "code",
   "execution_count": 16,
   "metadata": {},
   "outputs": [
    {
     "name": "stderr",
     "output_type": "stream",
     "text": [
      "c:\\Users\\ASUS\\anaconda3\\lib\\site-packages\\seaborn\\distributions.py:2619: FutureWarning: `distplot` is a deprecated function and will be removed in a future version. Please adapt your code to use either `displot` (a figure-level function with similar flexibility) or `histplot` (an axes-level function for histograms).\n",
      "  warnings.warn(msg, FutureWarning)\n"
     ]
    },
    {
     "data": {
      "text/plain": [
       "<AxesSubplot:xlabel='price', ylabel='Density'>"
      ]
     },
     "execution_count": 16,
     "metadata": {},
     "output_type": "execute_result"
    },
    {
     "data": {
      "image/png": "[encoded data removed]",
      "text/plain": [
       "<Figure size 800x500 with 1 Axes>"
      ]
     },
     "metadata": {},
     "output_type": "display_data"
    }
   ],
   "source": [
    "house_data_2 = data.loc[(data['price'] >= 0.1) & (data['price'] < 50)]\n",
    "fig,ax = plt.subplots(figsize = (8,5))\n",
    "sns.distplot(house_data_2['price'])"
   ]
  },
  {
   "cell_type": "code",
   "execution_count": 17,
   "metadata": {},
   "outputs": [],
   "source": [
    "house_data = data.loc[(data['price'] >= 0.1) & (data['price'] < 500)]"
   ]
  },
  {
   "cell_type": "code",
   "execution_count": null,
   "metadata": {},
   "outputs": [],
   "source": [
    "house_data.to_excel('house_data.xlsx', index=False)"
   ]
  },
  {
   "cell_type": "code",
   "execution_count": 18,
   "metadata": {},
   "outputs": [
    {
     "name": "stderr",
     "output_type": "stream",
     "text": [
      "c:\\Users\\ASUS\\anaconda3\\lib\\site-packages\\seaborn\\distributions.py:2619: FutureWarning: `distplot` is a deprecated function and will be removed in a future version. Please adapt your code to use either `displot` (a figure-level function with similar flexibility) or `histplot` (an axes-level function for histograms).\n",
      "  warnings.warn(msg, FutureWarning)\n"
     ]
    },
    {
     "data": {
      "text/plain": [
       "<AxesSubplot:xlabel='price', ylabel='Density'>"
      ]
     },
     "execution_count": 18,
     "metadata": {},
     "output_type": "execute_result"
    },
    {
     "data": {
      "image/png": "[encoded data removed]",
      "text/plain": [
       "<Figure size 800x500 with 1 Axes>"
      ]
     },
     "metadata": {},
     "output_type": "display_data"
    }
   ],
   "source": [
    "fig,ax = plt.subplots(figsize = (8,5))\n",
    "sns.distplot(house_data['price'])"
   ]
  },
  {
   "attachments": {},
   "cell_type": "markdown",
   "metadata": {},
   "source": [
    "## Xử lí diện tích"
   ]
  },
  {
   "cell_type": "code",
   "execution_count": 19,
   "metadata": {},
   "outputs": [
    {
     "data": {
      "text/plain": [
       "124"
      ]
     },
     "execution_count": 19,
     "metadata": {},
     "output_type": "execute_result"
    }
   ],
   "source": [
    "house_data['area'].isna().sum()"
   ]
  },
  {
   "cell_type": "code",
   "execution_count": 20,
   "metadata": {},
   "outputs": [
    {
     "data": {
      "text/plain": [
       "count      8142.000000\n",
       "mean         97.477207\n",
       "std        1148.948237\n",
       "min           3.000000\n",
       "25%          43.000000\n",
       "50%          58.000000\n",
       "75%          84.000000\n",
       "max      100103.000000\n",
       "Name: area, dtype: float64"
      ]
     },
     "execution_count": 20,
     "metadata": {},
     "output_type": "execute_result"
    }
   ],
   "source": [
    "house_data['area'].describe()"
   ]
  },
  {
   "cell_type": "code",
   "execution_count": 21,
   "metadata": {},
   "outputs": [],
   "source": [
    "house_data=house_data.loc[(house_data['area'] >=10) & (house_data['area'] <=20000)]"
   ]
  },
  {
   "cell_type": "code",
   "execution_count": 22,
   "metadata": {},
   "outputs": [
    {
     "data": {
      "text/plain": [
       "count     8096.000000\n",
       "mean        85.640689\n",
       "std        303.197151\n",
       "min         10.000000\n",
       "25%         44.000000\n",
       "50%         59.000000\n",
       "75%         85.000000\n",
       "max      18264.000000\n",
       "Name: area, dtype: float64"
      ]
     },
     "execution_count": 22,
     "metadata": {},
     "output_type": "execute_result"
    }
   ],
   "source": [
    "house_data['area'].describe()"
   ]
  },
  {
   "cell_type": "code",
   "execution_count": 23,
   "metadata": {},
   "outputs": [
    {
     "name": "stderr",
     "output_type": "stream",
     "text": [
      "c:\\Users\\ASUS\\anaconda3\\lib\\site-packages\\seaborn\\distributions.py:2619: FutureWarning: `distplot` is a deprecated function and will be removed in a future version. Please adapt your code to use either `displot` (a figure-level function with similar flexibility) or `histplot` (an axes-level function for histograms).\n",
      "  warnings.warn(msg, FutureWarning)\n"
     ]
    },
    {
     "data": {
      "text/plain": [
       "<AxesSubplot:xlabel='area', ylabel='Density'>"
      ]
     },
     "execution_count": 23,
     "metadata": {},
     "output_type": "execute_result"
    },
    {
     "data": {
      "image/png": "[encoded data removed]",
      "text/plain": [
       "<Figure size 800x500 with 1 Axes>"
      ]
     },
     "metadata": {},
     "output_type": "display_data"
    }
   ],
   "source": [
    "house_data_3 = house_data.loc[(house_data['area'] >=10) & (house_data['area'] <=500)]\n",
    "fig,ax = plt.subplots(figsize = (8,5))\n",
    "sns.distplot(house_data_3['area'])"
   ]
  },
  {
   "attachments": {},
   "cell_type": "markdown",
   "metadata": {},
   "source": [
    "# Xử lý num_floors\n",
    "\n"
   ]
  },
  {
   "cell_type": "code",
   "execution_count": 24,
   "metadata": {},
   "outputs": [
    {
     "data": {
      "text/plain": [
       "count    6416.000000\n",
       "mean        3.386222\n",
       "std         5.116125\n",
       "min         1.000000\n",
       "25%         2.000000\n",
       "50%         3.000000\n",
       "75%         4.000000\n",
       "max       345.000000\n",
       "Name: num_floors, dtype: float64"
      ]
     },
     "execution_count": 24,
     "metadata": {},
     "output_type": "execute_result"
    }
   ],
   "source": [
    "house_data['num_floors'].describe()"
   ]
  },
  {
   "cell_type": "code",
   "execution_count": 25,
   "metadata": {},
   "outputs": [
    {
     "name": "stdout",
     "output_type": "stream",
     "text": [
      "      num_floors   price\n",
      "580         65.0    5.65\n",
      "1153        15.0    2.65\n",
      "2001        16.0    1.70\n",
      "2132        17.0    2.20\n",
      "2735        27.0  125.00\n",
      "4909        28.0    3.70\n",
      "5431        65.0    1.65\n",
      "5436        75.0    1.75\n",
      "5650        12.0    6.70\n",
      "5788        29.0    3.80\n",
      "5974        30.0    3.70\n",
      "5989        28.0    3.70\n",
      "6050        28.0    0.34\n",
      "6560       345.0    8.75\n",
      "6692        43.0    6.00\n",
      "6782        18.0    4.50\n",
      "7927        89.0    1.89\n",
      "7935        35.0    2.35\n",
      "7936        89.0    2.89\n",
      "7970        12.0    1.25\n"
     ]
    }
   ],
   "source": [
    "filtered_data = house_data[house_data['num_floors'] > 11]\n",
    "print(filtered_data[['num_floors', 'price']])\n"
   ]
  },
  {
   "cell_type": "code",
   "execution_count": 26,
   "metadata": {},
   "outputs": [],
   "source": [
    "house_data = house_data.drop(house_data[house_data['num_floors'] == 27].index).reset_index(drop=True)\n"
   ]
  },
  {
   "cell_type": "code",
   "execution_count": 27,
   "metadata": {},
   "outputs": [],
   "source": [
    "house_data.loc[house_data['num_floors'] > 11, 'num_floors'] = 1\n"
   ]
  },
  {
   "cell_type": "code",
   "execution_count": 28,
   "metadata": {},
   "outputs": [],
   "source": [
    "from sklearn.linear_model import LinearRegression\n",
    "regressor = LinearRegression()\n",
    "# Tạo tập dữ liệu chỉ chứa các dòng có giá trị không bị thiếu trong cột 'num_floors' và 'price'\n",
    "train_data = house_data.dropna(subset=['num_floors', 'price'])\n"
   ]
  },
  {
   "cell_type": "code",
   "execution_count": 29,
   "metadata": {},
   "outputs": [],
   "source": [
    "X_train = train_data[['price']]\n",
    "y_train = train_data['num_floors']\n",
    "X_test = house_data.loc[house_data['num_floors'].isna(), ['price']]"
   ]
  },
  {
   "cell_type": "code",
   "execution_count": 30,
   "metadata": {},
   "outputs": [
    {
     "data": {
      "text/html": [
       "<div>\n",
       "<style scoped>\n",
       "    .dataframe tbody tr th:only-of-type {\n",
       "        vertical-align: middle;\n",
       "    }\n",
       "\n",
       "    .dataframe tbody tr th {\n",
       "        vertical-align: top;\n",
       "    }\n",
       "\n",
       "    .dataframe thead th {\n",
       "        text-align: right;\n",
       "    }\n",
       "</style>\n",
       "<table border=\"1\" class=\"dataframe\">\n",
       "  <thead>\n",
       "    <tr style=\"text-align: right;\">\n",
       "      <th></th>\n",
       "      <th>price</th>\n",
       "    </tr>\n",
       "  </thead>\n",
       "  <tbody>\n",
       "    <tr>\n",
       "      <th>1</th>\n",
       "      <td>2.90</td>\n",
       "    </tr>\n",
       "    <tr>\n",
       "      <th>8</th>\n",
       "      <td>4.50</td>\n",
       "    </tr>\n",
       "    <tr>\n",
       "      <th>10</th>\n",
       "      <td>1.08</td>\n",
       "    </tr>\n",
       "    <tr>\n",
       "      <th>24</th>\n",
       "      <td>3.15</td>\n",
       "    </tr>\n",
       "    <tr>\n",
       "      <th>40</th>\n",
       "      <td>3.20</td>\n",
       "    </tr>\n",
       "    <tr>\n",
       "      <th>...</th>\n",
       "      <td>...</td>\n",
       "    </tr>\n",
       "    <tr>\n",
       "      <th>8073</th>\n",
       "      <td>6.49</td>\n",
       "    </tr>\n",
       "    <tr>\n",
       "      <th>8075</th>\n",
       "      <td>4.90</td>\n",
       "    </tr>\n",
       "    <tr>\n",
       "      <th>8086</th>\n",
       "      <td>1.77</td>\n",
       "    </tr>\n",
       "    <tr>\n",
       "      <th>8091</th>\n",
       "      <td>9.50</td>\n",
       "    </tr>\n",
       "    <tr>\n",
       "      <th>8093</th>\n",
       "      <td>2.85</td>\n",
       "    </tr>\n",
       "  </tbody>\n",
       "</table>\n",
       "<p>1680 rows × 1 columns</p>\n",
       "</div>"
      ],
      "text/plain": [
       "      price\n",
       "1      2.90\n",
       "8      4.50\n",
       "10     1.08\n",
       "24     3.15\n",
       "40     3.20\n",
       "...     ...\n",
       "8073   6.49\n",
       "8075   4.90\n",
       "8086   1.77\n",
       "8091   9.50\n",
       "8093   2.85\n",
       "\n",
       "[1680 rows x 1 columns]"
      ]
     },
     "execution_count": 30,
     "metadata": {},
     "output_type": "execute_result"
    }
   ],
   "source": [
    "X_test"
   ]
  },
  {
   "cell_type": "code",
   "execution_count": 196,
   "metadata": {},
   "outputs": [
    {
     "data": {
      "text/plain": [
       "LinearRegression()"
      ]
     },
     "execution_count": 196,
     "metadata": {},
     "output_type": "execute_result"
    }
   ],
   "source": [
    "# Huấn luyện mô hình Linear Regression trên tập dữ liệu không bị thiếu\n",
    "regressor.fit(X_train, y_train)"
   ]
  },
  {
   "cell_type": "code",
   "execution_count": 197,
   "metadata": {},
   "outputs": [],
   "source": [
    "# Dự đoán giá trị thiếu trong cột 'num_floors' dựa trên giá (price)\n",
    "predicted_values = regressor.predict(X_test)"
   ]
  },
  {
   "cell_type": "code",
   "execution_count": 204,
   "metadata": {},
   "outputs": [],
   "source": [
    "# Làm tròn giá trị dự đoán thành số nguyên\n",
    "predicted_values_rounded = np.round(predicted_values).astype(int)\n"
   ]
  },
  {
   "cell_type": "code",
   "execution_count": 205,
   "metadata": {},
   "outputs": [
    {
     "data": {
      "text/plain": [
       "array([3, 3, 3, ..., 3, 3, 3])"
      ]
     },
     "execution_count": 205,
     "metadata": {},
     "output_type": "execute_result"
    }
   ],
   "source": [
    "predicted_values_rounded"
   ]
  },
  {
   "cell_type": "code",
   "execution_count": 199,
   "metadata": {},
   "outputs": [],
   "source": [
    "# Cập nhật giá trị thiếu trong cột 'num_floors' với các giá trị dự đoán đã làm tròn\n",
    "house_data.loc[house_data['num_floors'].isna(), 'num_floors'] = predicted_values_rounded"
   ]
  },
  {
   "cell_type": "code",
   "execution_count": 31,
   "metadata": {},
   "outputs": [
    {
     "data": {
      "text/plain": [
       "count    6415.000000\n",
       "mean        3.223539\n",
       "std         1.609696\n",
       "min         1.000000\n",
       "25%         2.000000\n",
       "50%         3.000000\n",
       "75%         4.000000\n",
       "max        11.000000\n",
       "Name: num_floors, dtype: float64"
      ]
     },
     "execution_count": 31,
     "metadata": {},
     "output_type": "execute_result"
    }
   ],
   "source": [
    "house_data['num_floors'].describe()"
   ]
  },
  {
   "cell_type": "code",
   "execution_count": 32,
   "metadata": {},
   "outputs": [
    {
     "name": "stderr",
     "output_type": "stream",
     "text": [
      "c:\\Users\\ASUS\\anaconda3\\lib\\site-packages\\seaborn\\distributions.py:2619: FutureWarning: `distplot` is a deprecated function and will be removed in a future version. Please adapt your code to use either `displot` (a figure-level function with similar flexibility) or `histplot` (an axes-level function for histograms).\n",
      "  warnings.warn(msg, FutureWarning)\n"
     ]
    },
    {
     "data": {
      "text/plain": [
       "<AxesSubplot:xlabel='num_floors', ylabel='Density'>"
      ]
     },
     "execution_count": 32,
     "metadata": {},
     "output_type": "execute_result"
    },
    {
     "data": {
      "image/png": "[encoded data removed]",
      "text/plain": [
       "<Figure size 800x500 with 1 Axes>"
      ]
     },
     "metadata": {},
     "output_type": "display_data"
    }
   ],
   "source": [
    "fig,ax = plt.subplots(figsize = (8,5))\n",
    "sns.distplot(house_data['num_floors'])"
   ]
  },
  {
   "cell_type": "code",
   "execution_count": 33,
   "metadata": {},
   "outputs": [
    {
     "data": {
      "text/plain": [
       "houseTypes       0\n",
       "area             0\n",
       "num_floors    1680\n",
       "bedrooms      1708\n",
       "district         0\n",
       "city             0\n",
       "price            0\n",
       "url              0\n",
       "dtype: int64"
      ]
     },
     "execution_count": 33,
     "metadata": {},
     "output_type": "execute_result"
    }
   ],
   "source": [
    "house_data.isna().sum()"
   ]
  },
  {
   "cell_type": "code",
   "execution_count": null,
   "metadata": {},
   "outputs": [],
   "source": []
  },
  {
   "cell_type": "code",
   "execution_count": 34,
   "metadata": {},
   "outputs": [],
   "source": [
    "house_data.to_excel('new_house_data.xlsx', index=False)"
   ]
  },
  {
   "attachments": {},
   "cell_type": "markdown",
   "metadata": {},
   "source": [
    "# Xử lý bedrooms"
   ]
  },
  {
   "cell_type": "code",
   "execution_count": 35,
   "metadata": {},
   "outputs": [
    {
     "data": {
      "text/plain": [
       "count    6387.000000\n",
       "mean        3.703304\n",
       "std         3.465249\n",
       "min         1.000000\n",
       "25%         2.000000\n",
       "50%         3.000000\n",
       "75%         4.000000\n",
       "max       111.000000\n",
       "Name: bedrooms, dtype: float64"
      ]
     },
     "execution_count": 35,
     "metadata": {},
     "output_type": "execute_result"
    }
   ],
   "source": [
    "house_data['bedrooms'].describe()"
   ]
  },
  {
   "cell_type": "code",
   "execution_count": 36,
   "metadata": {},
   "outputs": [
    {
     "name": "stderr",
     "output_type": "stream",
     "text": [
      "c:\\Users\\ASUS\\anaconda3\\lib\\site-packages\\seaborn\\distributions.py:2619: FutureWarning: `distplot` is a deprecated function and will be removed in a future version. Please adapt your code to use either `displot` (a figure-level function with similar flexibility) or `histplot` (an axes-level function for histograms).\n",
      "  warnings.warn(msg, FutureWarning)\n"
     ]
    },
    {
     "data": {
      "text/plain": [
       "<AxesSubplot:xlabel='bedrooms', ylabel='Density'>"
      ]
     },
     "execution_count": 36,
     "metadata": {},
     "output_type": "execute_result"
    },
    {
     "data": {
      "image/png": "[encoded data removed]",
      "text/plain": [
       "<Figure size 800x500 with 1 Axes>"
      ]
     },
     "metadata": {},
     "output_type": "display_data"
    }
   ],
   "source": [
    "fig,ax = plt.subplots(figsize = (8,5))\n",
    "sns.distplot(house_data['bedrooms'])"
   ]
  },
  {
   "cell_type": "code",
   "execution_count": 132,
   "metadata": {},
   "outputs": [
    {
     "name": "stdout",
     "output_type": "stream",
     "text": [
      "30\n",
      "           houseTypes    area  num_floors  bedrooms    district  \\\n",
      "610   Bán Nhà mặt phố  1518.0         1.0      30.0     Thủ Đức   \n",
      "760   Bán Nhà mặt phố  1518.0         1.0      30.0     Thủ Đức   \n",
      "814     Bán Nhà riêng   270.0         5.0      50.0    Tân Bình   \n",
      "1175    Bán Nhà riêng   350.0         8.0     111.0    Tân Bình   \n",
      "1295  Bán Nhà mặt phố   100.0         9.0      24.0     Sơn Trà   \n",
      "1373    Bán Nhà riêng    77.0         2.0      33.0         Huế   \n",
      "1645    Bán Nhà riêng    75.0         7.0      24.0  Thanh Xuân   \n",
      "2318    Bán Nhà riêng   165.0         9.0      61.0    Cầu Giấy   \n",
      "2385    Bán Nhà riêng   558.0         5.0      65.0      Quận 7   \n",
      "2490  Bán Nhà mặt phố   435.0         9.0     100.0      Quận 7   \n",
      "2790  Bán Nhà mặt phố   137.0         7.0      25.0      Quận 3   \n",
      "3551  Bán Nhà mặt phố   800.0         5.0     100.0      Quận 7   \n",
      "4143    Bán Nhà riêng    65.0         9.0      21.0   Thanh Trì   \n",
      "4307  Bán Nhà mặt phố   170.0         6.0      28.0     Quận 12   \n",
      "4361    Bán Nhà riêng   350.0         3.0      36.0     Quận 12   \n",
      "4554    Bán Nhà riêng   163.0         2.0      22.0         Huế   \n",
      "4743    Bán Nhà riêng   174.0         6.0      27.0    Cầu Giấy   \n",
      "4839    Bán Nhà riêng   260.0         8.0      30.0      Gò Vấp   \n",
      "4875  Bán Nhà mặt phố   165.0         8.0      30.0   Thanh Trì   \n",
      "5078  Bán Nhà mặt phố   144.0         6.0      32.0      Đà Lạt   \n",
      "5081    Bán Nhà riêng   180.0         9.0      40.0      Đà Lạt   \n",
      "5132    Bán Nhà riêng    64.0         4.0      23.0      Đà Lạt   \n",
      "5134  Bán Nhà mặt phố   250.0         3.0      25.0   Thanh Khê   \n",
      "5667  Bán Nhà mặt phố   407.0         6.0      26.0    Vũng Tàu   \n",
      "6299  Bán Nhà mặt phố   160.0         4.0      28.0     Quận 12   \n",
      "7006  Bán Nhà mặt phố   199.0         6.0      23.0     Tân Phú   \n",
      "7352  Bán Nhà mặt phố   131.0         6.0      33.0      Quận 7   \n",
      "7565    Bán Nhà riêng   324.0         2.0      38.0      Quận 7   \n",
      "7685    Bán Nhà riêng   120.0         6.0      21.0  Bình Thạnh   \n",
      "7749    Bán Nhà riêng    86.0         8.0      25.0  Thanh Xuân   \n",
      "\n",
      "                 city   price  \\\n",
      "610    TP Hồ Chí Minh  135.00   \n",
      "760    TP Hồ Chí Minh  145.00   \n",
      "814    TP Hồ Chí Minh   40.00   \n",
      "1175   TP Hồ Chí Minh   35.00   \n",
      "1295         An Giang   32.00   \n",
      "1373   Thừa Thiên Huế    3.35   \n",
      "1645           Hà Nội   15.20   \n",
      "2318           Hà Nội   45.00   \n",
      "2385   TP Hồ Chí Minh   55.00   \n",
      "2490   TP Hồ Chí Minh  126.00   \n",
      "2790   TP Hồ Chí Minh   49.00   \n",
      "3551   TP Hồ Chí Minh  150.00   \n",
      "4143           Hà Nội   11.50   \n",
      "4307   TP Hồ Chí Minh   18.80   \n",
      "4361   TP Hồ Chí Minh   14.00   \n",
      "4554   Thừa Thiên Huế    5.00   \n",
      "4743           Hà Nội   19.00   \n",
      "4839   TP Hồ Chí Minh   28.00   \n",
      "4875           Hà Nội   27.00   \n",
      "5078         Lâm Đồng   65.00   \n",
      "5081         Lâm Đồng   78.00   \n",
      "5132         Lâm Đồng   35.00   \n",
      "5134          Đà Nẵng   30.00   \n",
      "5667  Bà Rịa Vũng Tàu   75.00   \n",
      "6299   TP Hồ Chí Minh   14.00   \n",
      "7006   TP Hồ Chí Minh   25.00   \n",
      "7352   TP Hồ Chí Minh   23.50   \n",
      "7565   TP Hồ Chí Minh   25.00   \n",
      "7685   TP Hồ Chí Minh   17.90   \n",
      "7749           Hà Nội   13.20   \n",
      "\n",
      "                                                    url  \n",
      "610   https://batdongsan.vn/nha-mat-tien-duong-hoang...  \n",
      "760   https://batdongsan.vn/nha-mt-duong-hoang-dieu-...  \n",
      "814   https://batdongsan.vn/dat-thanh-tan-binh-mat-t...  \n",
      "1175  https://batdongsan.vn/loi-ngay-khi-mua-7-ty-ch...  \n",
      "1295  https://batdongsan.vn/khach-san-bien-sam-uat-h...  \n",
      "1373  https://batdongsan.vn/nha-2-tang-mat-tien-kqh-...  \n",
      "1645  https://batdongsan.vn/chinh-chu-ban-ccmn-khuon...  \n",
      "2318  https://batdongsan.vn/ban-ccmn-61-phong-doan-k...  \n",
      "2385  https://batdongsan.vn/ban-chdv-65-phong-thang-...  \n",
      "2490  https://batdongsan.vn/ban-toa-nha-chdv-9-tang-...  \n",
      "2790  https://batdongsan.vn/cuc-pham-ly-chinh-thang-...  \n",
      "3551  https://batdongsan.vn/ban-gap-chdv-100-phong-q...  \n",
      "4143  https://batdongsan.vn/nha-dong-tien-ccmn-9-tan...  \n",
      "4307  https://batdongsan.vn/nha-6-tang-thiet-ke-penh...  \n",
      "4361  https://batdongsan.vn/chdv-350-m2-thu-nhap-60-...  \n",
      "4554  https://batdongsan.vn/dau-tu-sieu-loi-nhuan-vo...  \n",
      "4743  https://batdongsan.vn/ban-gap-ban-gap-ccmn-ho-...  \n",
      "4839  https://batdongsan.vn/toa-nha-chdv-30-phong-du...  \n",
      "4875  https://batdongsan.vn/ban-toa-nha-8-tang-tu-hi...  \n",
      "5078  https://batdongsan.vn/can-ban-khach-san-dep-ma...  \n",
      "5081  https://batdongsan.vn/can-ban-khach-san-sieu-s...  \n",
      "5132  https://batdongsan.vn/ban-khach-san-sieu-xin-s...  \n",
      "5134  https://batdongsan.vn/ban-nha-3-tang-moi-lo-go...  \n",
      "5667  https://batdongsan.vn/ban-khach-san-mat-tien-b...  \n",
      "6299  https://batdongsan.vn/chdv-to-ky-tan-chanh-hie...  \n",
      "7006  https://batdongsan.vn/ngop-bank-ban-toa-nha-mt...  \n",
      "7352  https://batdongsan.vn/can-ho-dich-vu-duong-huy...  \n",
      "7565  https://batdongsan.vn/ban-chdv-38-phong-dt-324...  \n",
      "7685  https://batdongsan.vn/ban-chdv-binh-thanh-21-p...  \n",
      "7749  https://batdongsan.vn/tin-duoc-khong-ccmn-nguy...  \n"
     ]
    }
   ],
   "source": [
    "many_bedrooms = house_data[house_data['bedrooms']>20]\n",
    "print(len(many_bedrooms))\n",
    "print(many_bedrooms.head(30))\n",
    "many_bedrooms.to_excel('many_bedrooms.xlsx', index=False)"
   ]
  },
  {
   "cell_type": "code",
   "execution_count": 37,
   "metadata": {},
   "outputs": [
    {
     "name": "stdout",
     "output_type": "stream",
     "text": [
      "      bedrooms  num_floors\n",
      "610       30.0         NaN\n",
      "760       30.0         NaN\n",
      "814       50.0         5.0\n",
      "1175     111.0         8.0\n",
      "1295      24.0         9.0\n",
      "1373      33.0         2.0\n",
      "1645      24.0         7.0\n",
      "2318      61.0         9.0\n",
      "2385      65.0         5.0\n",
      "2490     100.0         9.0\n",
      "2789      25.0         7.0\n",
      "3550     100.0         5.0\n",
      "4142      21.0         9.0\n",
      "4306      28.0         6.0\n",
      "4360      36.0         3.0\n",
      "4553      22.0         2.0\n",
      "4742      27.0         6.0\n",
      "4838      30.0         8.0\n",
      "4874      30.0         8.0\n",
      "5077      32.0         6.0\n",
      "5080      40.0         9.0\n",
      "5131      23.0         4.0\n",
      "5133      25.0         3.0\n",
      "5666      26.0         6.0\n",
      "6298      28.0         4.0\n",
      "7005      23.0         6.0\n",
      "7351      33.0         6.0\n",
      "7564      38.0         2.0\n",
      "7684      21.0         6.0\n",
      "7748      25.0         8.0\n"
     ]
    }
   ],
   "source": [
    "filtered_data2 = house_data[house_data['bedrooms'] > 20]\n",
    "print(filtered_data2[['bedrooms', 'num_floors']])"
   ]
  },
  {
   "cell_type": "code",
   "execution_count": null,
   "metadata": {},
   "outputs": [],
   "source": []
  },
  {
   "cell_type": "code",
   "execution_count": 25,
   "metadata": {},
   "outputs": [],
   "source": [
    "# new_low_price = []\n",
    "# for url in low_noise_data['url']:\n",
    "#     match = re.search(r'(\\d+)-ty', url) or re.search(r'(\\d+)ty-', url) or re.search(r'(\\d+)-ti', url)\n",
    "#     if match:\n",
    "#         number = match.group(1)\n",
    "#         if int(number) <= 10:\n",
    "#             new_low_price.append(float(number))\n",
    "#         elif int(number) <= 100:\n",
    "#             new_low_price.append(float(number)/10)\n",
    "#         else:\n",
    "#             new_low_price.append(float(number)/100)\n",
    "#     else:\n",
    "#         match = re.search(r'(\\d+)-trieu-', url) or re.search(r'(\\d+)tr-', url) or re.search(r'(\\d+)trieu-', url)\n",
    "#         if match:\n",
    "#             number = match.group(1)\n",
    "#             new_low_price.append(float(number)/1000)\n",
    "#         else:\n",
    "#             new_low_price.append(0)\n",
    "  \n",
    "# -2ty5-    -70trm2-    -2x-ty-  -4ty95-    -2ty2x-     -shr6ty120-  -360trphan             "
   ]
  },
  {
   "cell_type": "code",
   "execution_count": 26,
   "metadata": {},
   "outputs": [],
   "source": [
    "# new_price =[]\n",
    "# count_error = 0\n",
    "# for url in low_noise_data['url']:\n",
    "#     match = re.search(r'(\\d+)-ty', url) \n",
    "#     if match:\n",
    "#         number = match.group(1)\n",
    "#         if int(number) > 10 & int(number) < 100:\n",
    "#             new_price.append(float(number)/10)\n",
    "#         elif int(number) >= 100:\n",
    "#             new_price.append(float(number)/100)\n",
    "#         else:\n",
    "#             new_price.append(float(number))\n",
    "#     else:\n",
    "#         match =  re.search(r'(\\d+)tr', url)\n",
    "#         if match:\n",
    "#             new_price.append(float(match.group(1))/1000)\n",
    "#         elif match == None:\n",
    "#             try:\n",
    "#                 data = requests.get(url)\n",
    "#                 soup = BeautifulSoup(data.text, 'lxml')\n",
    "#                 if data:\n",
    "#                     if(soup.find('div',{'class':'project-global-object-block-003 information-custom'}) and soup.find('div',{'class':'content'})):\n",
    "#                         text_info=\"\"\n",
    "#                         text_info = soup.find('div',{'class':'project-global-object-block-003 information-custom'}).text.strip() + soup.find('div',{'class':'content'}).text.strip().replace('\\n','')\n",
    "#                         text_info = text_info.replace(\"\\r\",\" \")\n",
    "#                         text_info = text_info.replace(\"\\n\",\" \")\n",
    "#                         text_info = text_info.replace(\"\\t\",\" \")\n",
    "#                         z = re.search(r\"(\\d+(?:\\.\\d+)?(?:,\\d+)?) Tỷ\", text_info, re.IGNORECASE)\n",
    "#                         if z:\n",
    "#                             new_price.append(float(z.group(1)))\n",
    "#             except:\n",
    "#                 print(\"error\")\n",
    "#                 new_price.append(0.00001)\n",
    "#         else:\n",
    "#             new_price.append(0.00001)\n",
    "\n",
    "# len(low_noise_data)\n",
    "# #low_noise_data['new_price'] = new_price\n",
    "# new_price"
   ]
  },
  {
   "cell_type": "code",
   "execution_count": 38,
   "metadata": {},
   "outputs": [
    {
     "data": {
      "text/plain": [
       "8095"
      ]
     },
     "execution_count": 38,
     "metadata": {},
     "output_type": "execute_result"
    }
   ],
   "source": [
    "len(house_data)"
   ]
  },
  {
   "cell_type": "code",
   "execution_count": 39,
   "metadata": {},
   "outputs": [
    {
     "name": "stdout",
     "output_type": "stream",
     "text": [
      "Missing Values by Column\n",
      "------------------------------\n",
      "houseTypes       0\n",
      "area             0\n",
      "num_floors    1680\n",
      "bedrooms      1708\n",
      "district         0\n",
      "city             0\n",
      "price            0\n",
      "url              0\n",
      "dtype: int64\n",
      "------------------------------\n",
      "TOTAL MISSING VALUES: 3388\n"
     ]
    }
   ],
   "source": [
    "print(\"Missing Values by Column\")\n",
    "print(\"-\"*30)\n",
    "print(house_data.isna().sum())\n",
    "print(\"-\"*30)\n",
    "print(\"TOTAL MISSING VALUES:\",house_data.isna().sum().sum())"
   ]
  },
  {
   "cell_type": "code",
   "execution_count": 40,
   "metadata": {},
   "outputs": [
    {
     "data": {
      "text/plain": [
       "<AxesSubplot:>"
      ]
     },
     "execution_count": 40,
     "metadata": {},
     "output_type": "execute_result"
    },
    {
     "data": {
      "image/png": "[encoded data removed]",
      "text/plain": [
       "<Figure size 1000x1000 with 2 Axes>"
      ]
     },
     "metadata": {},
     "output_type": "display_data"
    }
   ],
   "source": [
    "plt.figure(figsize=(10,10))\n",
    "sns.heatmap(house_data.corr(), square=True ,annot=True, linewidths=1,cmap=\"coolwarm\")"
   ]
  },
  {
   "cell_type": "code",
   "execution_count": 41,
   "metadata": {},
   "outputs": [
    {
     "data": {
      "image/png": "[encoded data removed]",
      "text/plain": [
       "<Figure size 800x600 with 1 Axes>"
      ]
     },
     "metadata": {},
     "output_type": "display_data"
    },
    {
     "data": {
      "image/png": "[encoded data removed]",
      "text/plain": [
       "<Figure size 800x600 with 1 Axes>"
      ]
     },
     "metadata": {},
     "output_type": "display_data"
    },
    {
     "data": {
      "image/png": "[encoded data removed]",
      "text/plain": [
       "<Figure size 800x600 with 1 Axes>"
      ]
     },
     "metadata": {},
     "output_type": "display_data"
    },
    {
     "data": {
      "image/png": "[encoded data removed]",
      "text/plain": [
       "<Figure size 800x600 with 1 Axes>"
      ]
     },
     "metadata": {},
     "output_type": "display_data"
    }
   ],
   "source": [
    "\n",
    "# Danh sách các feature cần xem phân phối\n",
    "features = ['area','num_floors','bedrooms','price']\n",
    "\n",
    "# Vẽ biểu đồ phân phối của các feature\n",
    "for feature in features:\n",
    "    plt.figure(figsize=(8, 6))\n",
    "    plt.hist(house_data[feature], bins=20, color='skyblue')\n",
    "    plt.xlabel(feature)\n",
    "    plt.ylabel('Số lượng')\n",
    "    plt.title('Phân phối của ' + feature)\n",
    "    plt.show()"
   ]
  },
  {
   "cell_type": "code",
   "execution_count": null,
   "metadata": {},
   "outputs": [],
   "source": []
  },
  {
   "cell_type": "code",
   "execution_count": null,
   "metadata": {},
   "outputs": [],
   "source": []
  },
  {
   "cell_type": "code",
   "execution_count": 105,
   "metadata": {},
   "outputs": [],
   "source": [
    "new_house_data = pd.read_excel('new_house_data.xlsx')\n",
    "new_house_data.drop(['district','url'],axis=1,inplace=True)\n"
   ]
  },
  {
   "cell_type": "code",
   "execution_count": 106,
   "metadata": {},
   "outputs": [
    {
     "name": "stdout",
     "output_type": "stream",
     "text": [
      "Missing Values by Column\n",
      "------------------------------\n",
      "houseTypes       0\n",
      "area             0\n",
      "num_floors    1680\n",
      "bedrooms      1708\n",
      "city             0\n",
      "price            0\n",
      "dtype: int64\n",
      "------------------------------\n",
      "TOTAL MISSING VALUES: 3388\n"
     ]
    }
   ],
   "source": [
    "print(\"Missing Values by Column\")\n",
    "print(\"-\"*30)\n",
    "print(new_house_data.isna().sum())\n",
    "print(\"-\"*30)\n",
    "print(\"TOTAL MISSING VALUES:\",new_house_data.isna().sum().sum())"
   ]
  },
  {
   "cell_type": "code",
   "execution_count": 95,
   "metadata": {},
   "outputs": [
    {
     "name": "stdout",
     "output_type": "stream",
     "text": [
      "38\n"
     ]
    }
   ],
   "source": [
    "print(new_house_data['city'].nunique())"
   ]
  },
  {
   "attachments": {},
   "cell_type": "markdown",
   "metadata": {},
   "source": [
    "# OneHotEncoder"
   ]
  },
  {
   "cell_type": "code",
   "execution_count": 107,
   "metadata": {},
   "outputs": [
    {
     "name": "stdout",
     "output_type": "stream",
     "text": [
      "    area  num_floors  bedrooms  price  houseTypes_Bán Luxury home  \\\n",
      "0  130.0         3.0       7.0    9.2                         0.0   \n",
      "1   65.0         NaN       2.0    2.9                         0.0   \n",
      "2   90.0         5.0       5.0   14.0                         0.0   \n",
      "3   30.0         1.0       2.0    3.7                         0.0   \n",
      "4   38.0         3.0       3.0    4.4                         0.0   \n",
      "\n",
      "   houseTypes_Bán Nhà  houseTypes_Bán Nhà cổ  houseTypes_Bán Nhà mặt phố  \\\n",
      "0                 0.0                    0.0                         0.0   \n",
      "1                 0.0                    0.0                         0.0   \n",
      "2                 0.0                    0.0                         0.0   \n",
      "3                 0.0                    0.0                         0.0   \n",
      "4                 0.0                    0.0                         0.0   \n",
      "\n",
      "   houseTypes_Bán Nhà riêng  city_An Giang  ...  city_Thanh Hóa  \\\n",
      "0                       1.0            0.0  ...             0.0   \n",
      "1                       1.0            0.0  ...             0.0   \n",
      "2                       1.0            0.0  ...             0.0   \n",
      "3                       1.0            0.0  ...             0.0   \n",
      "4                       1.0            0.0  ...             0.0   \n",
      "\n",
      "   city_Thái Nguyên  city_Thừa Thiên Huế  city_Tiền Giang  city_Tây Ninh  \\\n",
      "0               0.0                  0.0              0.0            0.0   \n",
      "1               0.0                  0.0              0.0            0.0   \n",
      "2               0.0                  0.0              0.0            0.0   \n",
      "3               0.0                  0.0              0.0            0.0   \n",
      "4               0.0                  0.0              0.0            0.0   \n",
      "\n",
      "   city_Vĩnh Phúc  city_Yên Bái  city_Đà Nẵng  city_Đắk Lắk  city_Đồng Nai  \n",
      "0             0.0           0.0           0.0           0.0            0.0  \n",
      "1             0.0           0.0           1.0           0.0            0.0  \n",
      "2             0.0           0.0           0.0           0.0            0.0  \n",
      "3             0.0           0.0           0.0           0.0            0.0  \n",
      "4             0.0           0.0           0.0           0.0            0.0  \n",
      "\n",
      "[5 rows x 47 columns]\n"
     ]
    },
    {
     "name": "stderr",
     "output_type": "stream",
     "text": [
      "c:\\Users\\ASUS\\anaconda3\\lib\\site-packages\\sklearn\\utils\\deprecation.py:87: FutureWarning: Function get_feature_names is deprecated; get_feature_names is deprecated in 1.0 and will be removed in 1.2. Please use get_feature_names_out instead.\n",
      "  warnings.warn(msg, category=FutureWarning)\n"
     ]
    }
   ],
   "source": [
    "from sklearn.preprocessing import OneHotEncoder\n",
    "# Tạo một đối tượng OneHotEncoder\n",
    "encoder = OneHotEncoder(sparse=False)\n",
    "\n",
    "# Chọn cột cần mã hóa\n",
    "columns_to_encode = ['houseTypes','city']\n",
    "\n",
    "# Mã hóa one-hot cho các cột\n",
    "encoded_data = encoder.fit_transform(new_house_data[columns_to_encode])\n",
    "\n",
    "\n",
    "# Tạo DataFrame mới từ dữ liệu đã mã hóa\n",
    "encoded_df = pd.DataFrame(encoded_data, columns=encoder.get_feature_names(columns_to_encode))\n",
    "\n",
    "# Xóa các cột gốc trong biến data\n",
    "new_house_data.drop(columns_to_encode, axis=1, inplace=True)\n",
    "\n",
    "# Kết hợp dữ liệu đã mã hóa với biến data\n",
    "new_house_data = pd.concat([new_house_data, encoded_df], axis=1)\n",
    "\n",
    "# In ra 5 dòng đầu tiên của dữ liệu sau khi mã hóa\n",
    "print(new_house_data.head())"
   ]
  },
  {
   "cell_type": "code",
   "execution_count": 108,
   "metadata": {},
   "outputs": [
    {
     "name": "stdout",
     "output_type": "stream",
     "text": [
      "None\n"
     ]
    }
   ],
   "source": [
    "print(new_house_data.to_excel('oneHot.xlsx', index=False))"
   ]
  },
  {
   "attachments": {},
   "cell_type": "markdown",
   "metadata": {},
   "source": [
    "# Label Encoder"
   ]
  },
  {
   "cell_type": "code",
   "execution_count": 109,
   "metadata": {},
   "outputs": [],
   "source": [
    "new_house_data = pd.read_excel('new_house_data.xlsx')\n",
    "new_house_data.drop(['district','url'],axis=1,inplace=True)"
   ]
  },
  {
   "cell_type": "code",
   "execution_count": 111,
   "metadata": {},
   "outputs": [
    {
     "name": "stdout",
     "output_type": "stream",
     "text": [
      "    area  num_floors  bedrooms  price  houseTypes_encoded  city_encoded\n",
      "0  130.0         3.0       7.0    9.2                   4            27\n",
      "1   65.0         NaN       2.0    2.9                   4            35\n",
      "2   90.0         5.0       5.0   14.0                   4            11\n",
      "3   30.0         1.0       2.0    3.7                   4            27\n",
      "4   38.0         3.0       3.0    4.4                   4            27\n"
     ]
    }
   ],
   "source": [
    "from sklearn.preprocessing import LabelEncoder\n",
    "\n",
    "# Tạo một đối tượng LabelEncoder\n",
    "label_encoder = LabelEncoder()\n",
    "\n",
    "# Mã hóa nhãn cho cột 'loại nhà'\n",
    "new_house_data['houseTypes_encoded'] = label_encoder.fit_transform(new_house_data['houseTypes'])\n",
    "\n",
    "# Mã hóa nhãn cho cột 'city'\n",
    "new_house_data['city_encoded'] = label_encoder.fit_transform(new_house_data['city'])\n",
    "\n",
    "new_house_data.drop(['city','houseTypes'],axis=1,inplace=True)\n",
    "\n",
    "# In ra 5 dòng đầu tiên của dữ liệu đã mã hóa\n",
    "print(new_house_data.head())"
   ]
  },
  {
   "cell_type": "code",
   "execution_count": 113,
   "metadata": {},
   "outputs": [
    {
     "name": "stdout",
     "output_type": "stream",
     "text": [
      "None\n"
     ]
    }
   ],
   "source": [
    "print(new_house_data.to_excel('Label.xlsx', index=False))"
   ]
  },
  {
   "attachments": {},
   "cell_type": "markdown",
   "metadata": {},
   "source": [
    "# TargetEncoder for city and OneHot for housetypes "
   ]
  },
  {
   "cell_type": "code",
   "execution_count": 66,
   "metadata": {},
   "outputs": [],
   "source": [
    "new_house_data = pd.read_excel('data/houses/not_null_houses.xlsx')\n",
    "new_house_data.drop(['district','url'],axis=1,inplace=True)\n"
   ]
  },
  {
   "cell_type": "code",
   "execution_count": 81,
   "metadata": {},
   "outputs": [],
   "source": [
    "#pip install category_encoders"
   ]
  },
  {
   "cell_type": "code",
   "execution_count": 82,
   "metadata": {},
   "outputs": [
    {
     "name": "stdout",
     "output_type": "stream",
     "text": [
      "   city_target_encoder  index   area  num_floors  bedrooms            city  \\\n",
      "0             8.644173      0  130.0           3         7  TP Hồ Chí Minh   \n",
      "1             8.941202      2   90.0           5         5          Hà Nội   \n",
      "2             8.644173      4   30.0           1         2  TP Hồ Chí Minh   \n",
      "3             8.644173      5   38.0           3         3  TP Hồ Chí Minh   \n",
      "4             8.644173      6   45.0           2         2  TP Hồ Chí Minh   \n",
      "\n",
      "   price  new_num_floors  new_bedrooms        city_new  \\\n",
      "0    9.2               3             7  TP Hồ Chí Minh   \n",
      "1   14.0               5             5          Hà Nội   \n",
      "2    3.7               3             3  TP Hồ Chí Minh   \n",
      "3    4.4               2             2  TP Hồ Chí Minh   \n",
      "4    3.9               6             4  TP Hồ Chí Minh   \n",
      "\n",
      "   houseTypes_Bán Luxury home  houseTypes_Bán Nhà  houseTypes_Bán Nhà cổ  \\\n",
      "0                         0.0                 0.0                    0.0   \n",
      "1                         0.0                 0.0                    0.0   \n",
      "2                         0.0                 0.0                    0.0   \n",
      "3                         0.0                 0.0                    0.0   \n",
      "4                         0.0                 0.0                    0.0   \n",
      "\n",
      "   houseTypes_Bán Nhà mặt phố  houseTypes_Bán Nhà riêng  \n",
      "0                         0.0                       1.0  \n",
      "1                         0.0                       1.0  \n",
      "2                         0.0                       1.0  \n",
      "3                         0.0                       1.0  \n",
      "4                         0.0                       1.0  \n"
     ]
    },
    {
     "name": "stderr",
     "output_type": "stream",
     "text": [
      "/opt/homebrew/lib/python3.10/site-packages/sklearn/preprocessing/_encoders.py:868: FutureWarning: `sparse` was renamed to `sparse_output` in version 1.2 and will be removed in 1.4. `sparse_output` is ignored unless you leave `sparse` to its default value.\n",
      "  warnings.warn(\n"
     ]
    }
   ],
   "source": [
    "import category_encoders as ce\n",
    "from sklearn.preprocessing import OneHotEncoder\n",
    "\n",
    "target_encoder =ce.TargetEncoder() \n",
    "\n",
    "new_house_data['city_target_encoder'] = new_house_data['city']\n",
    "df_city = target_encoder.fit_transform(new_house_data['city_target_encoder'],new_house_data['price'])\n",
    "df_new = df_city.join(new_house_data.drop('city_target_encoder',axis = 1))\n",
    "\n",
    "# Tạo một đối tượng OneHotEncoder\n",
    "encoder = OneHotEncoder(sparse=False)\n",
    "# Chọn cột cần mã hóa\n",
    "columns_to_encode = ['houseTypes']\n",
    "# Mã hóa one-hot cho các cột\n",
    "encoded_data = encoder.fit_transform(new_house_data[columns_to_encode])\n",
    "# Tạo DataFrame mới từ dữ liệu đã mã hóa\n",
    "encoded_df = pd.DataFrame(encoded_data, columns=encoder.get_feature_names_out(columns_to_encode))\n",
    "\n",
    "# Xóa các cột gốc trong biến data\n",
    "df_new.drop(columns_to_encode, axis=1, inplace=True)\n",
    "\n",
    "# Kết hợp dữ liệu đã mã hóa với biến data\n",
    "df_new = pd.concat([df_new, encoded_df], axis=1)\n",
    "\n",
    "print(df_new.head())"
   ]
  },
  {
   "cell_type": "code",
   "execution_count": 83,
   "metadata": {},
   "outputs": [
    {
     "name": "stdout",
     "output_type": "stream",
     "text": [
      "None\n"
     ]
    }
   ],
   "source": [
    "print(df_new.to_excel('data/houses/Target.xlsx', index=False))"
   ]
  },
  {
   "attachments": {},
   "cell_type": "markdown",
   "metadata": {},
   "source": [
    " # Initialize google map\n"
   ]
  },
  {
   "cell_type": "code",
   "execution_count": 45,
   "metadata": {},
   "outputs": [],
   "source": [
    "from geopy.geocoders import Nominatim\n",
    "\n",
    "geolocator = Nominatim(user_agent='my_app')\n",
    "\n",
    "# Tạo đối tượng geocoder\n",
    "geocoder = geolocator.geocode\n",
    "\n",
    "# Geocode the addresses to obtain latitude and longitude coordinates\n",
    "locations = [geocoder(f\"{district}, {city}\") for district, city in zip(house_data['district'][0:100], house_data['city'][0:100])]\n",
    "\n",
    "# Extract latitude and longitude coordinates from the locations\n",
    "latitude = [location.latitude for location in locations]\n",
    "longitude = [location.longitude for location in locations]"
   ]
  },
  {
   "attachments": {},
   "cell_type": "markdown",
   "metadata": {},
   "source": [
    "# Mark points on google map"
   ]
  },
  {
   "cell_type": "code",
   "execution_count": 46,
   "metadata": {},
   "outputs": [],
   "source": [
    "lat = 10.861410750000001\n",
    "long = 106.66420925636413\n",
    "zoom = 6\n",
    "gmap2 = folium.Map(location=(lat, long), zoom_start=zoom)\n",
    "def _addMarker(latitudes, longitudes,gmap):\n",
    "    # Kiểm tra độ dài của danh sách latitude và longitude\n",
    "    if len(latitudes) != len(longitudes):\n",
    "        print(\"Danh sách latitude và longitude không cùng độ dài.\")\n",
    "        return\n",
    "    # Thêm Marker vào map_obj\n",
    "    for lat, lng in zip(latitudes, longitudes):\n",
    "        marker = folium.Marker(location=(lat, lng))\n",
    "        marker.add_to(gmap)\n",
    "_addMarker(latitude,longitude,gmap2)\n",
    "gmap2.save(\"foliumMarkerMultiple.html\")"
   ]
  },
  {
   "attachments": {},
   "cell_type": "markdown",
   "metadata": {},
   "source": [
    "# Heatmap"
   ]
  },
  {
   "cell_type": "code",
   "execution_count": 47,
   "metadata": {},
   "outputs": [],
   "source": [
    "from folium.plugins import HeatMap\n",
    "\n",
    "lat = 10.861410750000001\n",
    "long = 106.66420925636413\n",
    "zoom = 6\n",
    "gmap2 = folium.Map(location=(lat, long), zoom_start=zoom)\n",
    "maximum = max(house_data['price'])\n",
    "\n",
    "def _addHeatMap(map_obj, latitudes, longitudes, values):\n",
    "    # Tạo danh sách các tọa độ (latitude, longitude, value)\n",
    "    data = list(zip(latitudes, longitudes, values))\n",
    "    # Tạo HeatMap từ danh sách tọa độ và values\n",
    "    heat_map = HeatMap(data)\n",
    "    # Thêm HeatMap vào bản đồ\n",
    "    map_obj.add_child(heat_map)\n",
    "_addHeatMap(gmap2,latitude,longitude,house_data['price'][0:100])\n",
    "gmap2.save(\"foliumHeatMap.html\")"
   ]
  },
  {
   "attachments": {},
   "cell_type": "markdown",
   "metadata": {},
   "source": [
    "# Derived features\n"
   ]
  },
  {
   "attachments": {},
   "cell_type": "markdown",
   "metadata": {},
   "source": [
    "### Standalize"
   ]
  },
  {
   "cell_type": "code",
   "execution_count": 84,
   "metadata": {},
   "outputs": [],
   "source": [
    "from sklearn.preprocessing import StandardScaler\n",
    "from sklearn.decomposition import PCA\n",
    "features_remove_target = ['city_area', 'population', 'gdp']"
   ]
  },
  {
   "cell_type": "code",
   "execution_count": 85,
   "metadata": {},
   "outputs": [],
   "source": [
    "\n",
    "df_unit = df_city = pd.read_excel('data/city_features/city.xlsx')\n",
    "df_tranform = pd.DataFrame(data = StandardScaler().fit_transform(df_unit.loc[:, features_remove_target ].values), columns = features_remove_target)\n"
   ]
  },
  {
   "attachments": {},
   "cell_type": "markdown",
   "metadata": {},
   "source": [
    "### PCA\n"
   ]
  },
  {
   "cell_type": "code",
   "execution_count": 86,
   "metadata": {},
   "outputs": [
    {
     "name": "stdout",
     "output_type": "stream",
     "text": [
      "               city  city_index\n",
      "0          An Giang   -0.092849\n",
      "1   Bà Rịa Vũng Tàu    3.842388\n",
      "2          Bạc Liêu   -0.257118\n",
      "3         Bắc Giang    0.278812\n",
      "4           Bắc Kạn   -0.963055\n",
      "..              ...         ...\n",
      "58         Trà Vinh   -0.031466\n",
      "59      Tuyên Quang   -0.823390\n",
      "60        Vĩnh Long    0.050324\n",
      "61        Vĩnh Phúc    0.994318\n",
      "62          Yên Bái   -0.991059\n",
      "\n",
      "[63 rows x 2 columns]\n"
     ]
    }
   ],
   "source": [
    "pca = PCA(n_components = 1)\n",
    "component = pd.DataFrame(pca.fit_transform(df_tranform.values), columns = ['city_index'])\n",
    "df_city_index = pd.concat([df_unit['city'], component], axis=1)\n",
    "print(df_city_index)"
   ]
  },
  {
   "cell_type": "code",
   "execution_count": 87,
   "metadata": {},
   "outputs": [],
   "source": [
    "df_house = pd.read_excel(\"data/houses/Target.xlsx\")"
   ]
  },
  {
   "cell_type": "code",
   "execution_count": 96,
   "metadata": {},
   "outputs": [],
   "source": [
    "new_df = pd.merge(df_house, df_city_index, on= 'city')\n",
    "new_df = new_df[['price',\\\n",
    "        'city',\\\n",
    "        'city_target_encoder',\\\n",
    "        'city_index',\\\n",
    "        'area',\\\n",
    "        'new_num_floors',\\\n",
    "        'new_bedrooms',\\\n",
    "        'houseTypes_Bán Luxury home',\\\n",
    "        'houseTypes_Bán Nhà',\\\n",
    "        'houseTypes_Bán Nhà cổ',\\\n",
    "        'houseTypes_Bán Nhà mặt phố',\\\n",
    "        'houseTypes_Bán Nhà riêng']]"
   ]
  },
  {
   "cell_type": "code",
   "execution_count": null,
   "metadata": {},
   "outputs": [],
   "source": [
    "features = ['price',\\\n",
    "        'city',\\\n",
    "        'city_target_encoder',\\\n",
    "        'city_index',\\\n",
    "        'area',\\\n",
    "        'new_num_floors',\\\n",
    "        'new_bedrooms',\\\n",
    "        'houseTypes_Bán Luxury home',\\\n",
    "        'houseTypes_Bán Nhà',\\\n",
    "        'houseTypes_Bán Nhà cổ',\\\n",
    "        'houseTypes_Bán Nhà mặt phố',\\\n",
    "        'houseTypes_Bán Nhà riêng']"
   ]
  },
  {
   "cell_type": "code",
   "execution_count": null,
   "metadata": {},
   "outputs": [],
   "source": [
    "print(new_df.to_excel('final_data.xlsx', index=False))"
   ]
  },
  {
   "cell_type": "code",
   "execution_count": 99,
   "metadata": {},
   "outputs": [
    {
     "data": {
      "text/plain": [
       "<bound method NDFrame.describe of         price            city  city_target_encoder  city_index   area  \\\n",
       "0      9.2000  TP Hồ Chí Minh             8.644173    3.710867  130.0   \n",
       "1      3.7000  TP Hồ Chí Minh             8.644173    3.710867   30.0   \n",
       "2      4.4000  TP Hồ Chí Minh             8.644173    3.710867   38.0   \n",
       "3      3.9000  TP Hồ Chí Minh             8.644173    3.710867   45.0   \n",
       "4     12.7000  TP Hồ Chí Minh             8.644173    3.710867   51.0   \n",
       "...       ...             ...                  ...         ...    ...   \n",
       "4961   4.0000      Bình Thuận             8.659372   -0.515325  108.0   \n",
       "4962  16.5000      Bình Thuận             8.659372   -0.515325  140.0   \n",
       "4963   7.5000      Bình Thuận             8.659372   -0.515325  150.0   \n",
       "4964   0.1972         Yên Bái             7.451269   -0.991059   68.0   \n",
       "4965   4.1200       Sóc Trăng             7.961659   -0.392208  279.0   \n",
       "\n",
       "      new_num_floors  new_bedrooms  houseTypes_Bán Luxury home  \\\n",
       "0                  3             7                           0   \n",
       "1                  3             3                           0   \n",
       "2                  2             2                           0   \n",
       "3                  6             4                           0   \n",
       "4                  4             4                           0   \n",
       "...              ...           ...                         ...   \n",
       "4961               4             4                           0   \n",
       "4962               3             5                           0   \n",
       "4963               4             4                           0   \n",
       "4964               2             1                           0   \n",
       "4965               8             5                           0   \n",
       "\n",
       "      houseTypes_Bán Nhà  houseTypes_Bán Nhà cổ  houseTypes_Bán Nhà mặt phố  \\\n",
       "0                      0                      0                           0   \n",
       "1                      0                      0                           0   \n",
       "2                      0                      0                           0   \n",
       "3                      0                      0                           0   \n",
       "4                      0                      0                           0   \n",
       "...                  ...                    ...                         ...   \n",
       "4961                   0                      0                           1   \n",
       "4962                   0                      0                           1   \n",
       "4963                   0                      0                           1   \n",
       "4964                   0                      0                           0   \n",
       "4965                   0                      0                           1   \n",
       "\n",
       "      houseTypes_Bán Nhà riêng  \n",
       "0                            1  \n",
       "1                            1  \n",
       "2                            1  \n",
       "3                            1  \n",
       "4                            1  \n",
       "...                        ...  \n",
       "4961                         0  \n",
       "4962                         0  \n",
       "4963                         0  \n",
       "4964                         1  \n",
       "4965                         0  \n",
       "\n",
       "[4966 rows x 12 columns]>"
      ]
     },
     "execution_count": 99,
     "metadata": {},
     "output_type": "execute_result"
    }
   ],
   "source": [
    "new_df.describe"
   ]
  }
 ],
 "metadata": {
  "kernelspec": {
   "display_name": "Python 3",
   "language": "python",
   "name": "python3"
  },
  "language_info": {
   "codemirror_mode": {
    "name": "ipython",
    "version": 3
   },
   "file_extension": ".py",
   "mimetype": "text/x-python",
   "name": "python",
   "nbconvert_exporter": "python",
   "pygments_lexer": "ipython3",
   "version": "3.10.9"
  },
  "orig_nbformat": 4
 },
 "nbformat": 4,
 "nbformat_minor": 2
}
