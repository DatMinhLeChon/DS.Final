{
 "cells": [
  {
   "cell_type": "code",
   "execution_count": 42,
   "metadata": {},
   "outputs": [],
   "source": [
    "import pandas as pd\n",
    "import numpy as np\n",
    "import matplotlib.pyplot as plt\n",
    "import re\n",
    "import requests\n",
    "from bs4 import BeautifulSoup\n",
    "import time\n",
    "import seaborn as sns\n",
    "# import folium\n"
   ]
  },
  {
   "cell_type": "code",
   "execution_count": 90,
   "metadata": {},
   "outputs": [
    {
     "data": {
      "text/plain": [
       "9674"
      ]
     },
     "execution_count": 90,
     "metadata": {},
     "output_type": "execute_result"
    }
   ],
   "source": [
    "data = pd.read_csv('houses_current.csv')\n",
    "data.head()\n",
    "len(data)"
   ]
  },
  {
   "cell_type": "code",
   "execution_count": 91,
   "metadata": {},
   "outputs": [
    {
     "name": "stdout",
     "output_type": "stream",
     "text": [
      "<class 'pandas.core.frame.DataFrame'>\n",
      "RangeIndex: 9674 entries, 0 to 9673\n",
      "Data columns (total 7 columns):\n",
      " #   Column      Non-Null Count  Dtype  \n",
      "---  ------      --------------  -----  \n",
      " 0   houseTypes  9674 non-null   object \n",
      " 1   area        9497 non-null   float64\n",
      " 2   num_floors  7706 non-null   float64\n",
      " 3   bedrooms    7577 non-null   float64\n",
      " 4   address     9674 non-null   object \n",
      " 5   price       9548 non-null   float64\n",
      " 6   url         9674 non-null   object \n",
      "dtypes: float64(4), object(3)\n",
      "memory usage: 529.2+ KB\n"
     ]
    }
   ],
   "source": [
    "data.info()"
   ]
  },
  {
   "attachments": {},
   "cell_type": "markdown",
   "metadata": {},
   "source": [
    "REMOVE DUPLICATES"
   ]
  },
  {
   "cell_type": "code",
   "execution_count": 92,
   "metadata": {},
   "outputs": [
    {
     "name": "stdout",
     "output_type": "stream",
     "text": [
      "Sum of duplicates:  1066\n",
      "After removing duplicates:  0\n",
      "Length of data then:  8608\n"
     ]
    }
   ],
   "source": [
    "print('Sum of duplicates: ', data.duplicated(subset=['houseTypes', 'area', 'num_floors', 'bedrooms','address','price']).sum())\n",
    "data = data.drop_duplicates(subset=['houseTypes', 'area', 'num_floors', 'bedrooms','address','price']).copy()\n",
    "print('After removing duplicates: ', data.duplicated().sum())\n",
    "print('Length of data then: ', len(data))"
   ]
  },
  {
   "attachments": {},
   "cell_type": "markdown",
   "metadata": {},
   "source": [
    "CONVERT OBJECT TO FLOAT64 AND STRING"
   ]
  },
  {
   "cell_type": "code",
   "execution_count": 93,
   "metadata": {},
   "outputs": [],
   "source": [
    "data = data.astype({'houseTypes':'string','address':'string','url':'string'})"
   ]
  },
  {
   "cell_type": "code",
   "execution_count": 94,
   "metadata": {},
   "outputs": [
    {
     "name": "stdout",
     "output_type": "stream",
     "text": [
      "<class 'pandas.core.frame.DataFrame'>\n",
      "Int64Index: 8608 entries, 0 to 9673\n",
      "Data columns (total 7 columns):\n",
      " #   Column      Non-Null Count  Dtype  \n",
      "---  ------      --------------  -----  \n",
      " 0   houseTypes  8608 non-null   string \n",
      " 1   area        8447 non-null   float64\n",
      " 2   num_floors  6798 non-null   float64\n",
      " 3   bedrooms    6698 non-null   float64\n",
      " 4   address     8608 non-null   string \n",
      " 5   price       8492 non-null   float64\n",
      " 6   url         8608 non-null   string \n",
      "dtypes: float64(4), string(3)\n",
      "memory usage: 538.0 KB\n"
     ]
    }
   ],
   "source": [
    "data.info()"
   ]
  },
  {
   "cell_type": "code",
   "execution_count": 95,
   "metadata": {},
   "outputs": [
    {
     "name": "stdout",
     "output_type": "stream",
     "text": [
      "Ratio of missing data of houseTypes: 0.0%\n",
      "Ratio of missing data of area: 1.87%\n",
      "Ratio of missing data of num_floors: 21.027%\n",
      "Ratio of missing data of bedrooms: 22.189%\n",
      "Ratio of missing data of address: 0.0%\n",
      "Ratio of missing data of price: 1.348%\n",
      "Ratio of missing data of url: 0.0%\n"
     ]
    }
   ],
   "source": [
    "for col in data.columns:\n",
    "    print('Ratio of missing data of ' + str(col) +': ' + str(round(data[col].isna().sum()*100/len(data[col]),3)) + '%')"
   ]
  },
  {
   "cell_type": "code",
   "execution_count": 96,
   "metadata": {},
   "outputs": [],
   "source": [
    "data[['district','city']] = data['address'].apply(lambda x: pd.Series(str(x).split(', ')))"
   ]
  },
  {
   "cell_type": "code",
   "execution_count": 97,
   "metadata": {},
   "outputs": [],
   "source": [
    "data = data.drop(['address'], axis=True)"
   ]
  },
  {
   "cell_type": "code",
   "execution_count": 98,
   "metadata": {},
   "outputs": [],
   "source": [
    "data.reset_index(inplace=True, drop=True)"
   ]
  },
  {
   "cell_type": "code",
   "execution_count": 99,
   "metadata": {},
   "outputs": [],
   "source": [
    "data = data[['houseTypes','area','num_floors','bedrooms','district','city','price','url']]"
   ]
  },
  {
   "cell_type": "code",
   "execution_count": 100,
   "metadata": {},
   "outputs": [
    {
     "data": {
      "text/html": [
       "<div>\n",
       "<style scoped>\n",
       "    .dataframe tbody tr th:only-of-type {\n",
       "        vertical-align: middle;\n",
       "    }\n",
       "\n",
       "    .dataframe tbody tr th {\n",
       "        vertical-align: top;\n",
       "    }\n",
       "\n",
       "    .dataframe thead th {\n",
       "        text-align: right;\n",
       "    }\n",
       "</style>\n",
       "<table border=\"1\" class=\"dataframe\">\n",
       "  <thead>\n",
       "    <tr style=\"text-align: right;\">\n",
       "      <th></th>\n",
       "      <th>houseTypes</th>\n",
       "      <th>area</th>\n",
       "      <th>num_floors</th>\n",
       "      <th>bedrooms</th>\n",
       "      <th>district</th>\n",
       "      <th>city</th>\n",
       "      <th>price</th>\n",
       "      <th>url</th>\n",
       "    </tr>\n",
       "  </thead>\n",
       "  <tbody>\n",
       "    <tr>\n",
       "      <th>0</th>\n",
       "      <td>Bán Nhà riêng</td>\n",
       "      <td>130.0</td>\n",
       "      <td>3.0</td>\n",
       "      <td>7.0</td>\n",
       "      <td>Quận 12</td>\n",
       "      <td>TP Hồ Chí Minh</td>\n",
       "      <td>9.200</td>\n",
       "      <td>https://batdongsan.vn/ban-biet-thu-san-vuon-qu...</td>\n",
       "    </tr>\n",
       "    <tr>\n",
       "      <th>1</th>\n",
       "      <td>Bán Nhà riêng</td>\n",
       "      <td>65.0</td>\n",
       "      <td>NaN</td>\n",
       "      <td>2.0</td>\n",
       "      <td>Ngũ Hành Sơn</td>\n",
       "      <td>Đà Nẵng</td>\n",
       "      <td>2.900</td>\n",
       "      <td>https://batdongsan.vn/29-ty-dien-tich-6580m2-n...</td>\n",
       "    </tr>\n",
       "    <tr>\n",
       "      <th>2</th>\n",
       "      <td>Bán Nhà riêng</td>\n",
       "      <td>90.0</td>\n",
       "      <td>5.0</td>\n",
       "      <td>5.0</td>\n",
       "      <td>Hai Bà Trưng</td>\n",
       "      <td>Hà Nội</td>\n",
       "      <td>14.000</td>\n",
       "      <td>https://batdongsan.vn/ban-nha-kim-nguu-phan-lo...</td>\n",
       "    </tr>\n",
       "    <tr>\n",
       "      <th>3</th>\n",
       "      <td>Bán Nhà riêng</td>\n",
       "      <td>50.0</td>\n",
       "      <td>5.0</td>\n",
       "      <td>5.0</td>\n",
       "      <td>Quận 3</td>\n",
       "      <td>TP Hồ Chí Minh</td>\n",
       "      <td>0.001</td>\n",
       "      <td>https://batdongsan.vn/quan-3-le-van-sy-5-tang-...</td>\n",
       "    </tr>\n",
       "    <tr>\n",
       "      <th>4</th>\n",
       "      <td>Bán Nhà riêng</td>\n",
       "      <td>30.0</td>\n",
       "      <td>1.0</td>\n",
       "      <td>2.0</td>\n",
       "      <td>Gò Vấp</td>\n",
       "      <td>TP Hồ Chí Minh</td>\n",
       "      <td>3.700</td>\n",
       "      <td>https://batdongsan.vn/nha-moi-full-noi-that-hx...</td>\n",
       "    </tr>\n",
       "  </tbody>\n",
       "</table>\n",
       "</div>"
      ],
      "text/plain": [
       "      houseTypes   area  num_floors  bedrooms      district            city  \\\n",
       "0  Bán Nhà riêng  130.0         3.0       7.0       Quận 12  TP Hồ Chí Minh   \n",
       "1  Bán Nhà riêng   65.0         NaN       2.0  Ngũ Hành Sơn         Đà Nẵng   \n",
       "2  Bán Nhà riêng   90.0         5.0       5.0  Hai Bà Trưng          Hà Nội   \n",
       "3  Bán Nhà riêng   50.0         5.0       5.0        Quận 3  TP Hồ Chí Minh   \n",
       "4  Bán Nhà riêng   30.0         1.0       2.0        Gò Vấp  TP Hồ Chí Minh   \n",
       "\n",
       "    price                                                url  \n",
       "0   9.200  https://batdongsan.vn/ban-biet-thu-san-vuon-qu...  \n",
       "1   2.900  https://batdongsan.vn/29-ty-dien-tich-6580m2-n...  \n",
       "2  14.000  https://batdongsan.vn/ban-nha-kim-nguu-phan-lo...  \n",
       "3   0.001  https://batdongsan.vn/quan-3-le-van-sy-5-tang-...  \n",
       "4   3.700  https://batdongsan.vn/nha-moi-full-noi-that-hx...  "
      ]
     },
     "execution_count": 100,
     "metadata": {},
     "output_type": "execute_result"
    }
   ],
   "source": [
    "data.head()"
   ]
  },
  {
   "cell_type": "code",
   "execution_count": 166,
   "metadata": {},
   "outputs": [],
   "source": [
    "# data.to_csv('houses.csv',index=False)\n",
    "# data.to_excel('houses.xlsx',index=False)"
   ]
  },
  {
   "attachments": {},
   "cell_type": "markdown",
   "metadata": {},
   "source": [
    "## Xử lí giá"
   ]
  },
  {
   "cell_type": "code",
   "execution_count": 101,
   "metadata": {},
   "outputs": [],
   "source": [
    "low_noise_data = data.loc[(data['price'] < 0.1)]\n",
    "hign_noise_data = data.loc[(data['price'] >= 500)]\n",
    "null_price_data = data[data['price'].isna()]"
   ]
  },
  {
   "cell_type": "code",
   "execution_count": 149,
   "metadata": {},
   "outputs": [],
   "source": [
    "# low_noise_data = low_noise_data.copy()\n",
    "# low_noise_data.to_excel('error_price_low.xlsx', index=False)  "
   ]
  },
  {
   "cell_type": "code",
   "execution_count": 150,
   "metadata": {},
   "outputs": [],
   "source": [
    "# hign_noise_data = hign_noise_data.copy()\n",
    "# hign_noise_data.to_excel('error_price_hign.xlsx', index=False)  "
   ]
  },
  {
   "cell_type": "code",
   "execution_count": 54,
   "metadata": {},
   "outputs": [
    {
     "name": "stderr",
     "output_type": "stream",
     "text": [
      "C:\\Users\\84947\\AppData\\Local\\Temp\\ipykernel_19136\\958291345.py:3: UserWarning: \n",
      "\n",
      "`distplot` is a deprecated function and will be removed in seaborn v0.14.0.\n",
      "\n",
      "Please adapt your code to use either `displot` (a figure-level function with\n",
      "similar flexibility) or `histplot` (an axes-level function for histograms).\n",
      "\n",
      "For a guide to updating your code to use the new functions, please see\n",
      "https://gist.github.com/mwaskom/de44147ed2974457ad6372750bbe5751\n",
      "\n",
      "  sns.distplot(house_data_1['price'])\n"
     ]
    },
    {
     "data": {
      "text/plain": [
       "<AxesSubplot: xlabel='price', ylabel='Density'>"
      ]
     },
     "execution_count": 54,
     "metadata": {},
     "output_type": "execute_result"
    },
    {
     "data": {
      "image/png": "[encoded data removed]",
      "text/plain": [
       "<Figure size 800x500 with 1 Axes>"
      ]
     },
     "metadata": {},
     "output_type": "display_data"
    }
   ],
   "source": [
    "house_data_1 = data.loc[(data['price'] >= 0.1) & (data['price'] < 10)]\n",
    "fig,ax = plt.subplots(figsize = (8,5))\n",
    "sns.distplot(house_data_1['price'])"
   ]
  },
  {
   "cell_type": "code",
   "execution_count": 55,
   "metadata": {},
   "outputs": [
    {
     "name": "stderr",
     "output_type": "stream",
     "text": [
      "C:\\Users\\84947\\AppData\\Local\\Temp\\ipykernel_19136\\840156701.py:3: UserWarning: \n",
      "\n",
      "`distplot` is a deprecated function and will be removed in seaborn v0.14.0.\n",
      "\n",
      "Please adapt your code to use either `displot` (a figure-level function with\n",
      "similar flexibility) or `histplot` (an axes-level function for histograms).\n",
      "\n",
      "For a guide to updating your code to use the new functions, please see\n",
      "https://gist.github.com/mwaskom/de44147ed2974457ad6372750bbe5751\n",
      "\n",
      "  sns.distplot(house_data_2['price'])\n"
     ]
    },
    {
     "data": {
      "text/plain": [
       "<AxesSubplot: xlabel='price', ylabel='Density'>"
      ]
     },
     "execution_count": 55,
     "metadata": {},
     "output_type": "execute_result"
    },
    {
     "data": {
      "image/png": "[encoded data removed]",
      "text/plain": [
       "<Figure size 800x500 with 1 Axes>"
      ]
     },
     "metadata": {},
     "output_type": "display_data"
    }
   ],
   "source": [
    "house_data_2 = data.loc[(data['price'] >= 0.1) & (data['price'] < 50)]\n",
    "fig,ax = plt.subplots(figsize = (8,5))\n",
    "sns.distplot(house_data_2['price'])"
   ]
  },
  {
   "cell_type": "code",
   "execution_count": 102,
   "metadata": {},
   "outputs": [],
   "source": [
    "house_data = data.loc[(data['price'] >= 0.1) & (data['price'] < 500)]\n",
    "house_data.to_excel('house_data.xlsx', index=False)"
   ]
  },
  {
   "cell_type": "code",
   "execution_count": 57,
   "metadata": {},
   "outputs": [
    {
     "data": {
      "text/plain": [
       "8266"
      ]
     },
     "execution_count": 57,
     "metadata": {},
     "output_type": "execute_result"
    }
   ],
   "source": [
    "len(house_data)"
   ]
  },
  {
   "cell_type": "code",
   "execution_count": 58,
   "metadata": {},
   "outputs": [
    {
     "name": "stderr",
     "output_type": "stream",
     "text": [
      "C:\\Users\\84947\\AppData\\Local\\Temp\\ipykernel_19136\\3740483212.py:2: UserWarning: \n",
      "\n",
      "`distplot` is a deprecated function and will be removed in seaborn v0.14.0.\n",
      "\n",
      "Please adapt your code to use either `displot` (a figure-level function with\n",
      "similar flexibility) or `histplot` (an axes-level function for histograms).\n",
      "\n",
      "For a guide to updating your code to use the new functions, please see\n",
      "https://gist.github.com/mwaskom/de44147ed2974457ad6372750bbe5751\n",
      "\n",
      "  sns.distplot(house_data['price'])\n"
     ]
    },
    {
     "data": {
      "text/plain": [
       "<AxesSubplot: xlabel='price', ylabel='Density'>"
      ]
     },
     "execution_count": 58,
     "metadata": {},
     "output_type": "execute_result"
    },
    {
     "data": {
      "image/png": "[encoded data removed]",
      "text/plain": [
       "<Figure size 800x500 with 1 Axes>"
      ]
     },
     "metadata": {},
     "output_type": "display_data"
    }
   ],
   "source": [
    "fig,ax = plt.subplots(figsize = (8,5))\n",
    "sns.distplot(house_data['price'])"
   ]
  },
  {
   "attachments": {},
   "cell_type": "markdown",
   "metadata": {},
   "source": [
    "## Xử lí area"
   ]
  },
  {
   "cell_type": "code",
   "execution_count": 59,
   "metadata": {},
   "outputs": [
    {
     "data": {
      "text/plain": [
       "124"
      ]
     },
     "execution_count": 59,
     "metadata": {},
     "output_type": "execute_result"
    }
   ],
   "source": [
    "house_data['area'].isna().sum()"
   ]
  },
  {
   "cell_type": "code",
   "execution_count": 60,
   "metadata": {},
   "outputs": [
    {
     "data": {
      "text/plain": [
       "count      8142.000000\n",
       "mean         97.477207\n",
       "std        1148.948237\n",
       "min           3.000000\n",
       "25%          43.000000\n",
       "50%          58.000000\n",
       "75%          84.000000\n",
       "max      100103.000000\n",
       "Name: area, dtype: float64"
      ]
     },
     "execution_count": 60,
     "metadata": {},
     "output_type": "execute_result"
    }
   ],
   "source": [
    "house_data['area'].describe()"
   ]
  },
  {
   "cell_type": "code",
   "execution_count": 103,
   "metadata": {},
   "outputs": [],
   "source": [
    "house_data = house_data.loc[(house_data['area'] >= 10) & (house_data['area'] <= 20000)]"
   ]
  },
  {
   "cell_type": "code",
   "execution_count": 104,
   "metadata": {},
   "outputs": [
    {
     "data": {
      "text/plain": [
       "count     8096.000000\n",
       "mean        85.640689\n",
       "std        303.197151\n",
       "min         10.000000\n",
       "25%         44.000000\n",
       "50%         59.000000\n",
       "75%         85.000000\n",
       "max      18264.000000\n",
       "Name: area, dtype: float64"
      ]
     },
     "execution_count": 104,
     "metadata": {},
     "output_type": "execute_result"
    }
   ],
   "source": [
    "house_data['area'].describe()"
   ]
  },
  {
   "cell_type": "code",
   "execution_count": 63,
   "metadata": {},
   "outputs": [
    {
     "name": "stderr",
     "output_type": "stream",
     "text": [
      "C:\\Users\\84947\\AppData\\Local\\Temp\\ipykernel_19136\\255560388.py:3: UserWarning: \n",
      "\n",
      "`distplot` is a deprecated function and will be removed in seaborn v0.14.0.\n",
      "\n",
      "Please adapt your code to use either `displot` (a figure-level function with\n",
      "similar flexibility) or `histplot` (an axes-level function for histograms).\n",
      "\n",
      "For a guide to updating your code to use the new functions, please see\n",
      "https://gist.github.com/mwaskom/de44147ed2974457ad6372750bbe5751\n",
      "\n",
      "  sns.distplot(house_data_3['area'])\n"
     ]
    },
    {
     "data": {
      "text/plain": [
       "<AxesSubplot: xlabel='area', ylabel='Density'>"
      ]
     },
     "execution_count": 63,
     "metadata": {},
     "output_type": "execute_result"
    },
    {
     "data": {
      "image/png": "[encoded data removed]",
      "text/plain": [
       "<Figure size 800x500 with 1 Axes>"
      ]
     },
     "metadata": {},
     "output_type": "display_data"
    }
   ],
   "source": [
    "house_data_3 = house_data.loc[(house_data['area'] >=10) & (house_data['area'] <=500)]\n",
    "fig,ax = plt.subplots(figsize = (8,5))\n",
    "sns.distplot(house_data_3['area'])"
   ]
  },
  {
   "cell_type": "code",
   "execution_count": 105,
   "metadata": {},
   "outputs": [
    {
     "data": {
      "text/plain": [
       "8096"
      ]
     },
     "execution_count": 105,
     "metadata": {},
     "output_type": "execute_result"
    }
   ],
   "source": [
    "len(house_data)"
   ]
  },
  {
   "attachments": {},
   "cell_type": "markdown",
   "metadata": {},
   "source": [
    "# Xử lý num_floors và bedrooms"
   ]
  },
  {
   "cell_type": "code",
   "execution_count": 106,
   "metadata": {},
   "outputs": [
    {
     "data": {
      "text/plain": [
       "houseTypes       0\n",
       "area             0\n",
       "num_floors    1680\n",
       "bedrooms      1709\n",
       "district         0\n",
       "city             0\n",
       "price            0\n",
       "url              0\n",
       "dtype: int64"
      ]
     },
     "execution_count": 106,
     "metadata": {},
     "output_type": "execute_result"
    }
   ],
   "source": [
    "house_data.isna().sum()"
   ]
  },
  {
   "cell_type": "code",
   "execution_count": 107,
   "metadata": {},
   "outputs": [
    {
     "data": {
      "text/plain": [
       "houseTypes       0\n",
       "area             0\n",
       "num_floors    1700\n",
       "bedrooms      1709\n",
       "district         0\n",
       "city             0\n",
       "price            0\n",
       "url              0\n",
       "dtype: int64"
      ]
     },
     "execution_count": 107,
     "metadata": {},
     "output_type": "execute_result"
    }
   ],
   "source": [
    "house_data.loc[house_data['num_floors'] > 11, 'num_floors'] = None\n",
    "house_data.isna().sum()"
   ]
  },
  {
   "cell_type": "code",
   "execution_count": 67,
   "metadata": {},
   "outputs": [
    {
     "name": "stderr",
     "output_type": "stream",
     "text": [
      "C:\\Users\\84947\\AppData\\Local\\Temp\\ipykernel_19136\\4248583683.py:2: UserWarning: \n",
      "\n",
      "`distplot` is a deprecated function and will be removed in seaborn v0.14.0.\n",
      "\n",
      "Please adapt your code to use either `displot` (a figure-level function with\n",
      "similar flexibility) or `histplot` (an axes-level function for histograms).\n",
      "\n",
      "For a guide to updating your code to use the new functions, please see\n",
      "https://gist.github.com/mwaskom/de44147ed2974457ad6372750bbe5751\n",
      "\n",
      "  sns.distplot(house_data['num_floors'])\n"
     ]
    },
    {
     "data": {
      "text/plain": [
       "<AxesSubplot: xlabel='num_floors', ylabel='Density'>"
      ]
     },
     "execution_count": 67,
     "metadata": {},
     "output_type": "execute_result"
    },
    {
     "data": {
      "image/png": "[encoded data removed]",
      "text/plain": [
       "<Figure size 800x500 with 1 Axes>"
      ]
     },
     "metadata": {},
     "output_type": "display_data"
    }
   ],
   "source": [
    "fig,ax = plt.subplots(figsize = (8,5))\n",
    "sns.distplot(house_data['num_floors'])"
   ]
  },
  {
   "cell_type": "code",
   "execution_count": 68,
   "metadata": {},
   "outputs": [
    {
     "name": "stderr",
     "output_type": "stream",
     "text": [
      "C:\\Users\\84947\\AppData\\Local\\Temp\\ipykernel_19136\\2031751330.py:2: UserWarning: \n",
      "\n",
      "`distplot` is a deprecated function and will be removed in seaborn v0.14.0.\n",
      "\n",
      "Please adapt your code to use either `displot` (a figure-level function with\n",
      "similar flexibility) or `histplot` (an axes-level function for histograms).\n",
      "\n",
      "For a guide to updating your code to use the new functions, please see\n",
      "https://gist.github.com/mwaskom/de44147ed2974457ad6372750bbe5751\n",
      "\n",
      "  sns.distplot(house_data['bedrooms'])\n"
     ]
    },
    {
     "data": {
      "text/plain": [
       "<AxesSubplot: xlabel='bedrooms', ylabel='Density'>"
      ]
     },
     "execution_count": 68,
     "metadata": {},
     "output_type": "execute_result"
    },
    {
     "data": {
      "image/png": "[encoded data removed]",
      "text/plain": [
       "<Figure size 800x500 with 1 Axes>"
      ]
     },
     "metadata": {},
     "output_type": "display_data"
    }
   ],
   "source": [
    "fig,ax = plt.subplots(figsize = (8,5))\n",
    "sns.distplot(house_data['bedrooms'])"
   ]
  },
  {
   "cell_type": "code",
   "execution_count": 108,
   "metadata": {},
   "outputs": [
    {
     "data": {
      "text/plain": [
       "area             0\n",
       "num_floors    1700\n",
       "bedrooms      1709\n",
       "price            0\n",
       "dtype: int64"
      ]
     },
     "execution_count": 108,
     "metadata": {},
     "output_type": "execute_result"
    }
   ],
   "source": [
    "numeric_houses = pd.DataFrame({'area':house_data['area'],'num_floors':house_data['num_floors'],'bedrooms':house_data['bedrooms'],'price':house_data['price']})\n",
    "numeric_houses.isna().sum()"
   ]
  },
  {
   "cell_type": "code",
   "execution_count": 109,
   "metadata": {},
   "outputs": [
    {
     "data": {
      "text/plain": [
       "8096"
      ]
     },
     "execution_count": 109,
     "metadata": {},
     "output_type": "execute_result"
    }
   ],
   "source": [
    "len(numeric_houses)"
   ]
  },
  {
   "cell_type": "code",
   "execution_count": 110,
   "metadata": {},
   "outputs": [],
   "source": [
    "from sklearn.model_selection import train_test_split\n",
    "from sklearn.ensemble import RandomForestRegressor\n",
    "from sklearn.metrics import mean_squared_error\n",
    "from sklearn.impute import KNNImputer\n",
    "\n",
    "rmse = lambda y, yhat: np.sqrt(mean_squared_error(y, yhat))"
   ]
  },
  {
   "cell_type": "code",
   "execution_count": 111,
   "metadata": {},
   "outputs": [],
   "source": [
    "def optimize_k(data, target):\n",
    "    errors = []\n",
    "    for k in range(1, 20):\n",
    "        imputer = KNNImputer(n_neighbors=k)\n",
    "        imputed = imputer.fit_transform(data)\n",
    "        df_imputed = pd.DataFrame(imputed, columns=data.columns)\n",
    "        \n",
    "        X = df_imputed.drop(target, axis=1)\n",
    "        y = df_imputed[target]\n",
    "        X_train, X_test, y_train, y_test = train_test_split(X, y, test_size=0.2, random_state=42)\n",
    "\n",
    "        model = RandomForestRegressor()\n",
    "        model.fit(X_train, y_train)\n",
    "        preds = model.predict(X_test)\n",
    "        error = rmse(y_test, preds)\n",
    "        errors.append({'K': k, 'RMSE': error})\n",
    "        \n",
    "    return errors"
   ]
  },
  {
   "cell_type": "code",
   "execution_count": 112,
   "metadata": {},
   "outputs": [
    {
     "data": {
      "text/plain": [
       "area             0\n",
       "num_floors    1700\n",
       "bedrooms      1709\n",
       "price            0\n",
       "dtype: int64"
      ]
     },
     "execution_count": 112,
     "metadata": {},
     "output_type": "execute_result"
    }
   ],
   "source": [
    "test_numeric_house = numeric_houses.copy()\n",
    "test_numeric_house.isna().sum()"
   ]
  },
  {
   "cell_type": "code",
   "execution_count": 113,
   "metadata": {},
   "outputs": [
    {
     "data": {
      "text/plain": [
       "8096"
      ]
     },
     "execution_count": 113,
     "metadata": {},
     "output_type": "execute_result"
    }
   ],
   "source": [
    "len(test_numeric_house)"
   ]
  },
  {
   "cell_type": "code",
   "execution_count": 114,
   "metadata": {},
   "outputs": [
    {
     "name": "stdout",
     "output_type": "stream",
     "text": [
      "[{'K': 1, 'RMSE': 17.120584945798544}, {'K': 2, 'RMSE': 19.179746719473975}, {'K': 3, 'RMSE': 19.215943596614498}, {'K': 4, 'RMSE': 19.187231943803106}, {'K': 5, 'RMSE': 18.37773331267445}, {'K': 6, 'RMSE': 19.408072756808533}, {'K': 7, 'RMSE': 18.096497294286063}, {'K': 8, 'RMSE': 18.384712275317742}, {'K': 9, 'RMSE': 18.179111425959498}, {'K': 10, 'RMSE': 18.587207238622003}, {'K': 11, 'RMSE': 18.390243197786575}, {'K': 12, 'RMSE': 18.082770843015165}, {'K': 13, 'RMSE': 17.706677794586284}, {'K': 14, 'RMSE': 17.531815420113276}, {'K': 15, 'RMSE': 17.856434046708}, {'K': 16, 'RMSE': 17.547360057660658}, {'K': 17, 'RMSE': 17.354498035210295}, {'K': 18, 'RMSE': 17.490362610336025}, {'K': 19, 'RMSE': 17.656572675815987}]\n"
     ]
    }
   ],
   "source": [
    "k_errors = optimize_k(data=test_numeric_house, target='price')\n",
    "print(k_errors)"
   ]
  },
  {
   "cell_type": "code",
   "execution_count": 115,
   "metadata": {},
   "outputs": [],
   "source": [
    "imputer = KNNImputer(n_neighbors=17)\n",
    "imputed = imputer.fit_transform(numeric_houses)\n",
    "df_imputed = pd.DataFrame(imputed, columns=numeric_houses.columns)"
   ]
  },
  {
   "cell_type": "code",
   "execution_count": 116,
   "metadata": {},
   "outputs": [
    {
     "data": {
      "text/plain": [
       "area          0\n",
       "num_floors    0\n",
       "bedrooms      0\n",
       "price         0\n",
       "dtype: int64"
      ]
     },
     "execution_count": 116,
     "metadata": {},
     "output_type": "execute_result"
    }
   ],
   "source": [
    "df_imputed.isna().sum()"
   ]
  },
  {
   "cell_type": "code",
   "execution_count": 117,
   "metadata": {},
   "outputs": [
    {
     "name": "stdout",
     "output_type": "stream",
     "text": [
      "8096\n",
      "8096\n"
     ]
    }
   ],
   "source": [
    "print(len(df_imputed['num_floors']))\n",
    "print(len(df_imputed['bedrooms']))"
   ]
  },
  {
   "cell_type": "code",
   "execution_count": 118,
   "metadata": {},
   "outputs": [
    {
     "data": {
      "text/plain": [
       "count    8096.000000\n",
       "mean        3.791517\n",
       "std         3.246003\n",
       "min         1.000000\n",
       "25%         2.705882\n",
       "50%         3.000000\n",
       "75%         4.000000\n",
       "max       111.000000\n",
       "Name: bedrooms, dtype: float64"
      ]
     },
     "execution_count": 118,
     "metadata": {},
     "output_type": "execute_result"
    }
   ],
   "source": [
    "df_imputed['bedrooms'].describe()"
   ]
  },
  {
   "cell_type": "code",
   "execution_count": 119,
   "metadata": {},
   "outputs": [
    {
     "name": "stdout",
     "output_type": "stream",
     "text": [
      "8096\n"
     ]
    }
   ],
   "source": [
    "print(len(house_data))"
   ]
  },
  {
   "cell_type": "code",
   "execution_count": 179,
   "metadata": {},
   "outputs": [],
   "source": [
    "# numeric_houses.to_excel('numeric_houses.xlsx',index=False)\n",
    "# df_imputed.to_excel('df_imputed.xlsx',index=False)"
   ]
  },
  {
   "cell_type": "code",
   "execution_count": 123,
   "metadata": {},
   "outputs": [],
   "source": [
    "house_data['new_num_floors'] = df_imputed['num_floors'].round(0)\n",
    "house_data['new_bedrooms'] = df_imputed['bedrooms'].round(0)"
   ]
  },
  {
   "cell_type": "code",
   "execution_count": 120,
   "metadata": {},
   "outputs": [],
   "source": [
    "# house_data.insert(loc=len(house_data.columns), column='new_num_floors', value=df_imputed['num_floors'].round(0))\n",
    "# house_data.insert(loc=len(house_data.columns), column='new_bedrooms', value=df_imputed['bedrooms'].round(0))"
   ]
  },
  {
   "cell_type": "code",
   "execution_count": 124,
   "metadata": {},
   "outputs": [],
   "source": [
    "house_data = house_data.reset_index()"
   ]
  },
  {
   "cell_type": "code",
   "execution_count": 132,
   "metadata": {},
   "outputs": [
    {
     "data": {
      "text/plain": [
       "level_0              0\n",
       "index                0\n",
       "houseTypes           0\n",
       "area                 0\n",
       "num_floors        1700\n",
       "bedrooms          1709\n",
       "district             0\n",
       "city                 0\n",
       "price                0\n",
       "url                  0\n",
       "new_num_floors       0\n",
       "new_bedrooms         0\n",
       "dtype: int64"
      ]
     },
     "execution_count": 132,
     "metadata": {},
     "output_type": "execute_result"
    }
   ],
   "source": [
    "house_data.isna().sum()"
   ]
  },
  {
   "cell_type": "code",
   "execution_count": 130,
   "metadata": {},
   "outputs": [],
   "source": [
    "# house_data.to_excel('full_houses.xlsx', index=False)"
   ]
  },
  {
   "cell_type": "code",
   "execution_count": 126,
   "metadata": {},
   "outputs": [
    {
     "data": {
      "text/html": [
       "<div>\n",
       "<style scoped>\n",
       "    .dataframe tbody tr th:only-of-type {\n",
       "        vertical-align: middle;\n",
       "    }\n",
       "\n",
       "    .dataframe tbody tr th {\n",
       "        vertical-align: top;\n",
       "    }\n",
       "\n",
       "    .dataframe thead th {\n",
       "        text-align: right;\n",
       "    }\n",
       "</style>\n",
       "<table border=\"1\" class=\"dataframe\">\n",
       "  <thead>\n",
       "    <tr style=\"text-align: right;\">\n",
       "      <th></th>\n",
       "      <th>level_0</th>\n",
       "      <th>index</th>\n",
       "      <th>houseTypes</th>\n",
       "      <th>area</th>\n",
       "      <th>num_floors</th>\n",
       "      <th>bedrooms</th>\n",
       "      <th>district</th>\n",
       "      <th>city</th>\n",
       "      <th>price</th>\n",
       "      <th>url</th>\n",
       "      <th>new_num_floors</th>\n",
       "      <th>new_bedrooms</th>\n",
       "    </tr>\n",
       "  </thead>\n",
       "  <tbody>\n",
       "    <tr>\n",
       "      <th>0</th>\n",
       "      <td>0</td>\n",
       "      <td>0</td>\n",
       "      <td>Bán Nhà riêng</td>\n",
       "      <td>130.0</td>\n",
       "      <td>3.0</td>\n",
       "      <td>7.0</td>\n",
       "      <td>Quận 12</td>\n",
       "      <td>TP Hồ Chí Minh</td>\n",
       "      <td>9.20</td>\n",
       "      <td>https://batdongsan.vn/ban-biet-thu-san-vuon-qu...</td>\n",
       "      <td>3.0</td>\n",
       "      <td>7.0</td>\n",
       "    </tr>\n",
       "    <tr>\n",
       "      <th>1</th>\n",
       "      <td>1</td>\n",
       "      <td>1</td>\n",
       "      <td>Bán Nhà riêng</td>\n",
       "      <td>65.0</td>\n",
       "      <td>NaN</td>\n",
       "      <td>2.0</td>\n",
       "      <td>Ngũ Hành Sơn</td>\n",
       "      <td>Đà Nẵng</td>\n",
       "      <td>2.90</td>\n",
       "      <td>https://batdongsan.vn/29-ty-dien-tich-6580m2-n...</td>\n",
       "      <td>2.0</td>\n",
       "      <td>2.0</td>\n",
       "    </tr>\n",
       "    <tr>\n",
       "      <th>2</th>\n",
       "      <td>2</td>\n",
       "      <td>2</td>\n",
       "      <td>Bán Nhà riêng</td>\n",
       "      <td>90.0</td>\n",
       "      <td>5.0</td>\n",
       "      <td>5.0</td>\n",
       "      <td>Hai Bà Trưng</td>\n",
       "      <td>Hà Nội</td>\n",
       "      <td>14.00</td>\n",
       "      <td>https://batdongsan.vn/ban-nha-kim-nguu-phan-lo...</td>\n",
       "      <td>5.0</td>\n",
       "      <td>5.0</td>\n",
       "    </tr>\n",
       "    <tr>\n",
       "      <th>3</th>\n",
       "      <td>3</td>\n",
       "      <td>4</td>\n",
       "      <td>Bán Nhà riêng</td>\n",
       "      <td>30.0</td>\n",
       "      <td>1.0</td>\n",
       "      <td>2.0</td>\n",
       "      <td>Gò Vấp</td>\n",
       "      <td>TP Hồ Chí Minh</td>\n",
       "      <td>3.70</td>\n",
       "      <td>https://batdongsan.vn/nha-moi-full-noi-that-hx...</td>\n",
       "      <td>1.0</td>\n",
       "      <td>2.0</td>\n",
       "    </tr>\n",
       "    <tr>\n",
       "      <th>4</th>\n",
       "      <td>4</td>\n",
       "      <td>5</td>\n",
       "      <td>Bán Nhà riêng</td>\n",
       "      <td>38.0</td>\n",
       "      <td>3.0</td>\n",
       "      <td>3.0</td>\n",
       "      <td>Bình Thạnh</td>\n",
       "      <td>TP Hồ Chí Minh</td>\n",
       "      <td>4.40</td>\n",
       "      <td>https://batdongsan.vn/ban-gap-nha-dep-dien-bie...</td>\n",
       "      <td>3.0</td>\n",
       "      <td>3.0</td>\n",
       "    </tr>\n",
       "    <tr>\n",
       "      <th>...</th>\n",
       "      <td>...</td>\n",
       "      <td>...</td>\n",
       "      <td>...</td>\n",
       "      <td>...</td>\n",
       "      <td>...</td>\n",
       "      <td>...</td>\n",
       "      <td>...</td>\n",
       "      <td>...</td>\n",
       "      <td>...</td>\n",
       "      <td>...</td>\n",
       "      <td>...</td>\n",
       "      <td>...</td>\n",
       "    </tr>\n",
       "    <tr>\n",
       "      <th>8091</th>\n",
       "      <td>8091</td>\n",
       "      <td>8603</td>\n",
       "      <td>Bán Nhà riêng</td>\n",
       "      <td>61.0</td>\n",
       "      <td>3.0</td>\n",
       "      <td>4.0</td>\n",
       "      <td>Gò Vấp</td>\n",
       "      <td>TP Hồ Chí Minh</td>\n",
       "      <td>9.50</td>\n",
       "      <td>https://batdongsan.vn/hxh-3-lau-47x13-nguyen-v...</td>\n",
       "      <td>3.0</td>\n",
       "      <td>4.0</td>\n",
       "    </tr>\n",
       "    <tr>\n",
       "      <th>8092</th>\n",
       "      <td>8092</td>\n",
       "      <td>8604</td>\n",
       "      <td>Bán Nhà riêng</td>\n",
       "      <td>64.0</td>\n",
       "      <td>NaN</td>\n",
       "      <td>5.0</td>\n",
       "      <td>Bình Thạnh</td>\n",
       "      <td>TP Hồ Chí Minh</td>\n",
       "      <td>9.50</td>\n",
       "      <td>https://batdongsan.vn/hxh-4x16-xo-viet-nghe-ti...</td>\n",
       "      <td>3.0</td>\n",
       "      <td>5.0</td>\n",
       "    </tr>\n",
       "    <tr>\n",
       "      <th>8093</th>\n",
       "      <td>8093</td>\n",
       "      <td>8605</td>\n",
       "      <td>Bán Nhà riêng</td>\n",
       "      <td>60.0</td>\n",
       "      <td>3.0</td>\n",
       "      <td>3.0</td>\n",
       "      <td>Tân Phú</td>\n",
       "      <td>TP Hồ Chí Minh</td>\n",
       "      <td>5.40</td>\n",
       "      <td>https://batdongsan.vn/nha-3-tang-xe-hoi-do-cua...</td>\n",
       "      <td>3.0</td>\n",
       "      <td>3.0</td>\n",
       "    </tr>\n",
       "    <tr>\n",
       "      <th>8094</th>\n",
       "      <td>8094</td>\n",
       "      <td>8606</td>\n",
       "      <td>Bán Nhà riêng</td>\n",
       "      <td>90.0</td>\n",
       "      <td>NaN</td>\n",
       "      <td>2.0</td>\n",
       "      <td>Biên Hòa</td>\n",
       "      <td>Đồng Nai</td>\n",
       "      <td>2.85</td>\n",
       "      <td>https://batdongsan.vn/ban-nha-90m2-gan-giao-xu...</td>\n",
       "      <td>2.0</td>\n",
       "      <td>2.0</td>\n",
       "    </tr>\n",
       "    <tr>\n",
       "      <th>8095</th>\n",
       "      <td>8095</td>\n",
       "      <td>8607</td>\n",
       "      <td>Bán Nhà riêng</td>\n",
       "      <td>60.0</td>\n",
       "      <td>5.0</td>\n",
       "      <td>4.0</td>\n",
       "      <td>Gò Vấp</td>\n",
       "      <td>TP Hồ Chí Minh</td>\n",
       "      <td>7.93</td>\n",
       "      <td>https://batdongsan.vn/ban-nha-moi-dep-lung-lin...</td>\n",
       "      <td>5.0</td>\n",
       "      <td>4.0</td>\n",
       "    </tr>\n",
       "  </tbody>\n",
       "</table>\n",
       "<p>8096 rows × 12 columns</p>\n",
       "</div>"
      ],
      "text/plain": [
       "      level_0  index     houseTypes   area  num_floors  bedrooms  \\\n",
       "0           0      0  Bán Nhà riêng  130.0         3.0       7.0   \n",
       "1           1      1  Bán Nhà riêng   65.0         NaN       2.0   \n",
       "2           2      2  Bán Nhà riêng   90.0         5.0       5.0   \n",
       "3           3      4  Bán Nhà riêng   30.0         1.0       2.0   \n",
       "4           4      5  Bán Nhà riêng   38.0         3.0       3.0   \n",
       "...       ...    ...            ...    ...         ...       ...   \n",
       "8091     8091   8603  Bán Nhà riêng   61.0         3.0       4.0   \n",
       "8092     8092   8604  Bán Nhà riêng   64.0         NaN       5.0   \n",
       "8093     8093   8605  Bán Nhà riêng   60.0         3.0       3.0   \n",
       "8094     8094   8606  Bán Nhà riêng   90.0         NaN       2.0   \n",
       "8095     8095   8607  Bán Nhà riêng   60.0         5.0       4.0   \n",
       "\n",
       "          district            city  price  \\\n",
       "0          Quận 12  TP Hồ Chí Minh   9.20   \n",
       "1     Ngũ Hành Sơn         Đà Nẵng   2.90   \n",
       "2     Hai Bà Trưng          Hà Nội  14.00   \n",
       "3           Gò Vấp  TP Hồ Chí Minh   3.70   \n",
       "4       Bình Thạnh  TP Hồ Chí Minh   4.40   \n",
       "...            ...             ...    ...   \n",
       "8091        Gò Vấp  TP Hồ Chí Minh   9.50   \n",
       "8092    Bình Thạnh  TP Hồ Chí Minh   9.50   \n",
       "8093       Tân Phú  TP Hồ Chí Minh   5.40   \n",
       "8094      Biên Hòa        Đồng Nai   2.85   \n",
       "8095        Gò Vấp  TP Hồ Chí Minh   7.93   \n",
       "\n",
       "                                                    url  new_num_floors  \\\n",
       "0     https://batdongsan.vn/ban-biet-thu-san-vuon-qu...             3.0   \n",
       "1     https://batdongsan.vn/29-ty-dien-tich-6580m2-n...             2.0   \n",
       "2     https://batdongsan.vn/ban-nha-kim-nguu-phan-lo...             5.0   \n",
       "3     https://batdongsan.vn/nha-moi-full-noi-that-hx...             1.0   \n",
       "4     https://batdongsan.vn/ban-gap-nha-dep-dien-bie...             3.0   \n",
       "...                                                 ...             ...   \n",
       "8091  https://batdongsan.vn/hxh-3-lau-47x13-nguyen-v...             3.0   \n",
       "8092  https://batdongsan.vn/hxh-4x16-xo-viet-nghe-ti...             3.0   \n",
       "8093  https://batdongsan.vn/nha-3-tang-xe-hoi-do-cua...             3.0   \n",
       "8094  https://batdongsan.vn/ban-nha-90m2-gan-giao-xu...             2.0   \n",
       "8095  https://batdongsan.vn/ban-nha-moi-dep-lung-lin...             5.0   \n",
       "\n",
       "      new_bedrooms  \n",
       "0              7.0  \n",
       "1              2.0  \n",
       "2              5.0  \n",
       "3              2.0  \n",
       "4              3.0  \n",
       "...            ...  \n",
       "8091           4.0  \n",
       "8092           5.0  \n",
       "8093           3.0  \n",
       "8094           2.0  \n",
       "8095           4.0  \n",
       "\n",
       "[8096 rows x 12 columns]"
      ]
     },
     "execution_count": 126,
     "metadata": {},
     "output_type": "execute_result"
    }
   ],
   "source": [
    "house_data"
   ]
  },
  {
   "cell_type": "code",
   "execution_count": 128,
   "metadata": {},
   "outputs": [
    {
     "name": "stderr",
     "output_type": "stream",
     "text": [
      "C:\\Users\\84947\\AppData\\Local\\Temp\\ipykernel_19136\\202928946.py:2: UserWarning: \n",
      "\n",
      "`distplot` is a deprecated function and will be removed in seaborn v0.14.0.\n",
      "\n",
      "Please adapt your code to use either `displot` (a figure-level function with\n",
      "similar flexibility) or `histplot` (an axes-level function for histograms).\n",
      "\n",
      "For a guide to updating your code to use the new functions, please see\n",
      "https://gist.github.com/mwaskom/de44147ed2974457ad6372750bbe5751\n",
      "\n",
      "  sns.distplot(house_data['new_num_floors'])\n"
     ]
    },
    {
     "data": {
      "text/plain": [
       "<AxesSubplot: xlabel='new_num_floors', ylabel='Density'>"
      ]
     },
     "execution_count": 128,
     "metadata": {},
     "output_type": "execute_result"
    },
    {
     "data": {
      "image/png": "[encoded data removed]",
      "text/plain": [
       "<Figure size 800x500 with 1 Axes>"
      ]
     },
     "metadata": {},
     "output_type": "display_data"
    }
   ],
   "source": [
    "fig,ax = plt.subplots(figsize = (8,5))\n",
    "sns.distplot(house_data['new_num_floors'])"
   ]
  },
  {
   "cell_type": "code",
   "execution_count": 129,
   "metadata": {},
   "outputs": [
    {
     "name": "stderr",
     "output_type": "stream",
     "text": [
      "C:\\Users\\84947\\AppData\\Local\\Temp\\ipykernel_19136\\3734845656.py:2: UserWarning: \n",
      "\n",
      "`distplot` is a deprecated function and will be removed in seaborn v0.14.0.\n",
      "\n",
      "Please adapt your code to use either `displot` (a figure-level function with\n",
      "similar flexibility) or `histplot` (an axes-level function for histograms).\n",
      "\n",
      "For a guide to updating your code to use the new functions, please see\n",
      "https://gist.github.com/mwaskom/de44147ed2974457ad6372750bbe5751\n",
      "\n",
      "  sns.distplot(house_data['new_bedrooms'])\n"
     ]
    },
    {
     "data": {
      "text/plain": [
       "<AxesSubplot: xlabel='new_bedrooms', ylabel='Density'>"
      ]
     },
     "execution_count": 129,
     "metadata": {},
     "output_type": "execute_result"
    },
    {
     "data": {
      "image/png": "[encoded data removed]",
      "text/plain": [
       "<Figure size 800x500 with 1 Axes>"
      ]
     },
     "metadata": {},
     "output_type": "display_data"
    }
   ],
   "source": [
    "fig,ax = plt.subplots(figsize = (8,5))\n",
    "sns.distplot(house_data['new_bedrooms'])"
   ]
  },
  {
   "attachments": {},
   "cell_type": "markdown",
   "metadata": {},
   "source": [
    "# Thử nghiệm KNN cho missing values"
   ]
  },
  {
   "cell_type": "code",
   "execution_count": 29,
   "metadata": {},
   "outputs": [],
   "source": [
    "not_null_houses = house_data.dropna() # phải lấy house_data lúc còn null (trước khi fill ở phần trên)\n",
    "not_null_houses.to_excel('not_null_houses.xlsx',index=False)"
   ]
  },
  {
   "cell_type": "code",
   "execution_count": 30,
   "metadata": {},
   "outputs": [
    {
     "name": "stdout",
     "output_type": "stream",
     "text": [
      "[ 911 1186 7861 1546 4291   72 7519 2193 4654 3814 3168 4053 2109 2473\n",
      " 5916 3793 4063 6909 8370 5013 1794 4654 6629  803 8398 6755 4127 1119\n",
      " 6168 5439 1732 7704 6909 3291  147 2143 5744 3492 8596 4855 1665 4043\n",
      " 5180 3849 5290 4065 5192 1994  484 1831]\n",
      "[3326 1443  155  162 5886 4670 4155 2604 1554 3030 3689  816  441 2176\n",
      " 2228 7368 6113 7562 5504 1774 4973 3725 7206 5099  297 3094 2615 4994\n",
      " 6385 7876 1970 1383 5776 8321 2131 7698 3135  309 6346 6267 7301 7725\n",
      " 8553 3263 2123  435 1442 6563 2191  164]\n"
     ]
    }
   ],
   "source": [
    "i1 = np.random.choice(a=not_null_houses.index, size=50)\n",
    "i2 = np.random.choice(a=not_null_houses.index, size=50)\n",
    "print(i1)\n",
    "print(i2)"
   ]
  },
  {
   "cell_type": "code",
   "execution_count": 31,
   "metadata": {},
   "outputs": [
    {
     "data": {
      "text/plain": [
       "area          0\n",
       "num_floors    0\n",
       "bedrooms      0\n",
       "price         0\n",
       "dtype: int64"
      ]
     },
     "execution_count": 31,
     "metadata": {},
     "output_type": "execute_result"
    }
   ],
   "source": [
    "null_houses = pd.DataFrame({'area':not_null_houses['area'],'num_floors':not_null_houses['num_floors'],'bedrooms':not_null_houses['bedrooms'],'price':not_null_houses['price']})\n",
    "null_houses.isna().sum()"
   ]
  },
  {
   "cell_type": "code",
   "execution_count": 32,
   "metadata": {},
   "outputs": [],
   "source": [
    "null_houses.loc[i1, 'num_floors'] = np.nan\n",
    "null_houses.loc[i2, 'bedrooms'] = np.nan"
   ]
  },
  {
   "cell_type": "code",
   "execution_count": 33,
   "metadata": {},
   "outputs": [
    {
     "data": {
      "text/plain": [
       "area          15.0\n",
       "num_floors     4.0\n",
       "bedrooms       NaN\n",
       "price          1.8\n",
       "Name: 164, dtype: float64"
      ]
     },
     "execution_count": 33,
     "metadata": {},
     "output_type": "execute_result"
    }
   ],
   "source": [
    "null_houses.loc[164]"
   ]
  },
  {
   "cell_type": "code",
   "execution_count": 34,
   "metadata": {},
   "outputs": [
    {
     "data": {
      "text/plain": [
       "area           0\n",
       "num_floors    48\n",
       "bedrooms      50\n",
       "price          0\n",
       "dtype: int64"
      ]
     },
     "execution_count": 34,
     "metadata": {},
     "output_type": "execute_result"
    }
   ],
   "source": [
    "null_houses.isna().sum()"
   ]
  },
  {
   "cell_type": "code",
   "execution_count": 35,
   "metadata": {},
   "outputs": [],
   "source": [
    "from sklearn.model_selection import train_test_split\n",
    "from sklearn.ensemble import RandomForestRegressor\n",
    "from sklearn.metrics import mean_squared_error\n",
    "from sklearn.impute import KNNImputer\n",
    "\n",
    "rmse = lambda y, yhat: np.sqrt(mean_squared_error(y, yhat))"
   ]
  },
  {
   "cell_type": "code",
   "execution_count": 36,
   "metadata": {},
   "outputs": [],
   "source": [
    "def optimize_k(data, target):\n",
    "    errors = []\n",
    "    for k in range(1, 20, 2):\n",
    "        imputer = KNNImputer(n_neighbors=k)\n",
    "        imputed = imputer.fit_transform(data)\n",
    "        df_imputed = pd.DataFrame(imputed, columns=data.columns)\n",
    "        \n",
    "        X = df_imputed.drop(target, axis=1)\n",
    "        y = df_imputed[target]\n",
    "        X_train, X_test, y_train, y_test = train_test_split(X, y, test_size=0.2, random_state=42)\n",
    "\n",
    "        model = RandomForestRegressor()\n",
    "        model.fit(X_train, y_train)\n",
    "        preds = model.predict(X_test)\n",
    "        error = rmse(y_test, preds)\n",
    "        errors.append({'K': k, 'RMSE': error})\n",
    "        \n",
    "    return errors"
   ]
  },
  {
   "cell_type": "code",
   "execution_count": 37,
   "metadata": {},
   "outputs": [
    {
     "name": "stdout",
     "output_type": "stream",
     "text": [
      "[{'K': 1, 'RMSE': 10.377036074956955}, {'K': 3, 'RMSE': 10.315518759485371}, {'K': 5, 'RMSE': 10.288269348019378}, {'K': 7, 'RMSE': 10.438021171138988}, {'K': 9, 'RMSE': 10.211586494427266}, {'K': 11, 'RMSE': 10.23628724167357}, {'K': 13, 'RMSE': 10.115194052110384}, {'K': 15, 'RMSE': 10.227989253865525}, {'K': 17, 'RMSE': 10.330540424285378}, {'K': 19, 'RMSE': 10.288387655322568}]\n"
     ]
    }
   ],
   "source": [
    "k_errors = optimize_k(data=null_houses, target='price')\n",
    "print(k_errors)"
   ]
  },
  {
   "cell_type": "code",
   "execution_count": 38,
   "metadata": {},
   "outputs": [],
   "source": [
    "imputer_test = KNNImputer(n_neighbors=13)\n",
    "imputed_test = imputer_test.fit_transform(null_houses)\n",
    "df_imputed_test = pd.DataFrame(imputed_test, columns=null_houses.columns)"
   ]
  },
  {
   "cell_type": "code",
   "execution_count": 40,
   "metadata": {},
   "outputs": [],
   "source": [
    "df_imputed_test.isna().sum()\n",
    "df_imputed_test.to_excel('df_imputed_test.xlsx',index=False)"
   ]
  },
  {
   "attachments": {},
   "cell_type": "markdown",
   "metadata": {},
   "source": [
    "Note: so sánh not_null_houses.xlsx và df_imputed_test.xlsx"
   ]
  },
  {
   "attachments": {},
   "cell_type": "markdown",
   "metadata": {},
   "source": [
    " # Initialize google map\n"
   ]
  },
  {
   "cell_type": "code",
   "execution_count": null,
   "metadata": {},
   "outputs": [],
   "source": [
    "from geopy.geocoders import Nominatim\n",
    "\n",
    "geolocator = Nominatim(user_agent='my_app')\n",
    "\n",
    "# Tạo đối tượng geocoder\n",
    "geocoder = geolocator.geocode\n",
    "\n",
    "# Geocode the addresses to obtain latitude and longitude coordinates\n",
    "locations = [geocoder(f\"{district}, {city}\") for district, city in zip(house_data['district'][0:100], house_data['city'][0:100])]\n",
    "\n",
    "# Extract latitude and longitude coordinates from the locations\n",
    "latitude = [location.latitude for location in locations]\n",
    "longitude = [location.longitude for location in locations]"
   ]
  },
  {
   "attachments": {},
   "cell_type": "markdown",
   "metadata": {},
   "source": [
    "# Mark points on google map"
   ]
  },
  {
   "cell_type": "code",
   "execution_count": null,
   "metadata": {},
   "outputs": [],
   "source": [
    "lat = 10.861410750000001\n",
    "long = 106.66420925636413\n",
    "zoom = 6\n",
    "gmap2 = folium.Map(location=(lat, long), zoom_start=zoom)\n",
    "def _addMarker(latitudes, longitudes,gmap):\n",
    "    # Kiểm tra độ dài của danh sách latitude và longitude\n",
    "    if len(latitudes) != len(longitudes):\n",
    "        print(\"Danh sách latitude và longitude không cùng độ dài.\")\n",
    "        return\n",
    "    # Thêm Marker vào map_obj\n",
    "    for lat, lng in zip(latitudes, longitudes):\n",
    "        marker = folium.Marker(location=(lat, lng))\n",
    "        marker.add_to(gmap)\n",
    "_addMarker(latitude,longitude,gmap2)\n",
    "gmap2.save(\"foliumMarkerMultiple.html\")"
   ]
  },
  {
   "attachments": {},
   "cell_type": "markdown",
   "metadata": {},
   "source": [
    "# Heatmap"
   ]
  },
  {
   "cell_type": "code",
   "execution_count": null,
   "metadata": {},
   "outputs": [],
   "source": [
    "from folium.plugins import HeatMap\n",
    "\n",
    "lat = 10.861410750000001\n",
    "long = 106.66420925636413\n",
    "zoom = 6\n",
    "gmap2 = folium.Map(location=(lat, long), zoom_start=zoom)\n",
    "maximum = max(house_data['price'])\n",
    "\n",
    "def _addHeatMap(map_obj, latitudes, longitudes, values):\n",
    "    # Tạo danh sách các tọa độ (latitude, longitude, value)\n",
    "    data = list(zip(latitudes, longitudes, values))\n",
    "    # Tạo HeatMap từ danh sách tọa độ và values\n",
    "    heat_map = HeatMap(data)\n",
    "    # Thêm HeatMap vào bản đồ\n",
    "    map_obj.add_child(heat_map)\n",
    "_addHeatMap(gmap2,latitude,longitude,house_data['price'][0:100])\n",
    "gmap2.save(\"foliumHeatMap.html\")"
   ]
  },
  {
   "attachments": {},
   "cell_type": "markdown",
   "metadata": {},
   "source": [
    "# Encoding"
   ]
  },
  {
   "cell_type": "code",
   "execution_count": 136,
   "metadata": {},
   "outputs": [
    {
     "data": {
      "text/html": [
       "<div>\n",
       "<style scoped>\n",
       "    .dataframe tbody tr th:only-of-type {\n",
       "        vertical-align: middle;\n",
       "    }\n",
       "\n",
       "    .dataframe tbody tr th {\n",
       "        vertical-align: top;\n",
       "    }\n",
       "\n",
       "    .dataframe thead th {\n",
       "        text-align: right;\n",
       "    }\n",
       "</style>\n",
       "<table border=\"1\" class=\"dataframe\">\n",
       "  <thead>\n",
       "    <tr style=\"text-align: right;\">\n",
       "      <th></th>\n",
       "      <th>houseTypes</th>\n",
       "      <th>area</th>\n",
       "      <th>new_num_floors</th>\n",
       "      <th>new_bedrooms</th>\n",
       "      <th>city</th>\n",
       "      <th>price</th>\n",
       "    </tr>\n",
       "  </thead>\n",
       "  <tbody>\n",
       "    <tr>\n",
       "      <th>0</th>\n",
       "      <td>Bán Nhà riêng</td>\n",
       "      <td>130.0</td>\n",
       "      <td>3</td>\n",
       "      <td>7</td>\n",
       "      <td>TP Hồ Chí Minh</td>\n",
       "      <td>9.20</td>\n",
       "    </tr>\n",
       "    <tr>\n",
       "      <th>1</th>\n",
       "      <td>Bán Nhà riêng</td>\n",
       "      <td>65.0</td>\n",
       "      <td>2</td>\n",
       "      <td>2</td>\n",
       "      <td>Đà Nẵng</td>\n",
       "      <td>2.90</td>\n",
       "    </tr>\n",
       "    <tr>\n",
       "      <th>2</th>\n",
       "      <td>Bán Nhà riêng</td>\n",
       "      <td>90.0</td>\n",
       "      <td>5</td>\n",
       "      <td>5</td>\n",
       "      <td>Hà Nội</td>\n",
       "      <td>14.00</td>\n",
       "    </tr>\n",
       "    <tr>\n",
       "      <th>3</th>\n",
       "      <td>Bán Nhà riêng</td>\n",
       "      <td>30.0</td>\n",
       "      <td>1</td>\n",
       "      <td>2</td>\n",
       "      <td>TP Hồ Chí Minh</td>\n",
       "      <td>3.70</td>\n",
       "    </tr>\n",
       "    <tr>\n",
       "      <th>4</th>\n",
       "      <td>Bán Nhà riêng</td>\n",
       "      <td>38.0</td>\n",
       "      <td>3</td>\n",
       "      <td>3</td>\n",
       "      <td>TP Hồ Chí Minh</td>\n",
       "      <td>4.40</td>\n",
       "    </tr>\n",
       "    <tr>\n",
       "      <th>...</th>\n",
       "      <td>...</td>\n",
       "      <td>...</td>\n",
       "      <td>...</td>\n",
       "      <td>...</td>\n",
       "      <td>...</td>\n",
       "      <td>...</td>\n",
       "    </tr>\n",
       "    <tr>\n",
       "      <th>8091</th>\n",
       "      <td>Bán Nhà riêng</td>\n",
       "      <td>61.0</td>\n",
       "      <td>3</td>\n",
       "      <td>4</td>\n",
       "      <td>TP Hồ Chí Minh</td>\n",
       "      <td>9.50</td>\n",
       "    </tr>\n",
       "    <tr>\n",
       "      <th>8092</th>\n",
       "      <td>Bán Nhà riêng</td>\n",
       "      <td>64.0</td>\n",
       "      <td>3</td>\n",
       "      <td>5</td>\n",
       "      <td>TP Hồ Chí Minh</td>\n",
       "      <td>9.50</td>\n",
       "    </tr>\n",
       "    <tr>\n",
       "      <th>8093</th>\n",
       "      <td>Bán Nhà riêng</td>\n",
       "      <td>60.0</td>\n",
       "      <td>3</td>\n",
       "      <td>3</td>\n",
       "      <td>TP Hồ Chí Minh</td>\n",
       "      <td>5.40</td>\n",
       "    </tr>\n",
       "    <tr>\n",
       "      <th>8094</th>\n",
       "      <td>Bán Nhà riêng</td>\n",
       "      <td>90.0</td>\n",
       "      <td>2</td>\n",
       "      <td>2</td>\n",
       "      <td>Đồng Nai</td>\n",
       "      <td>2.85</td>\n",
       "    </tr>\n",
       "    <tr>\n",
       "      <th>8095</th>\n",
       "      <td>Bán Nhà riêng</td>\n",
       "      <td>60.0</td>\n",
       "      <td>5</td>\n",
       "      <td>4</td>\n",
       "      <td>TP Hồ Chí Minh</td>\n",
       "      <td>7.93</td>\n",
       "    </tr>\n",
       "  </tbody>\n",
       "</table>\n",
       "<p>8096 rows × 6 columns</p>\n",
       "</div>"
      ],
      "text/plain": [
       "         houseTypes   area  new_num_floors  new_bedrooms            city  \\\n",
       "0     Bán Nhà riêng  130.0               3             7  TP Hồ Chí Minh   \n",
       "1     Bán Nhà riêng   65.0               2             2         Đà Nẵng   \n",
       "2     Bán Nhà riêng   90.0               5             5          Hà Nội   \n",
       "3     Bán Nhà riêng   30.0               1             2  TP Hồ Chí Minh   \n",
       "4     Bán Nhà riêng   38.0               3             3  TP Hồ Chí Minh   \n",
       "...             ...    ...             ...           ...             ...   \n",
       "8091  Bán Nhà riêng   61.0               3             4  TP Hồ Chí Minh   \n",
       "8092  Bán Nhà riêng   64.0               3             5  TP Hồ Chí Minh   \n",
       "8093  Bán Nhà riêng   60.0               3             3  TP Hồ Chí Minh   \n",
       "8094  Bán Nhà riêng   90.0               2             2        Đồng Nai   \n",
       "8095  Bán Nhà riêng   60.0               5             4  TP Hồ Chí Minh   \n",
       "\n",
       "      price  \n",
       "0      9.20  \n",
       "1      2.90  \n",
       "2     14.00  \n",
       "3      3.70  \n",
       "4      4.40  \n",
       "...     ...  \n",
       "8091   9.50  \n",
       "8092   9.50  \n",
       "8093   5.40  \n",
       "8094   2.85  \n",
       "8095   7.93  \n",
       "\n",
       "[8096 rows x 6 columns]"
      ]
     },
     "execution_count": 136,
     "metadata": {},
     "output_type": "execute_result"
    }
   ],
   "source": [
    "new_house_data = pd.read_excel('full_houses.xlsx')\n",
    "new_house_data.drop(['district','url','level_0','index','num_floors','bedrooms'],axis=1,inplace=True)\n",
    "new_house_data = new_house_data[['houseTypes','area','new_num_floors','new_bedrooms','city','price']]\n",
    "new_house_data"
   ]
  },
  {
   "cell_type": "code",
   "execution_count": 137,
   "metadata": {},
   "outputs": [
    {
     "name": "stdout",
     "output_type": "stream",
     "text": [
      "38\n"
     ]
    }
   ],
   "source": [
    "print(new_house_data['city'].nunique())"
   ]
  },
  {
   "attachments": {},
   "cell_type": "markdown",
   "metadata": {},
   "source": [
    "# OneHotEncoder"
   ]
  },
  {
   "cell_type": "code",
   "execution_count": null,
   "metadata": {},
   "outputs": [],
   "source": [
    "from sklearn.preprocessing import OneHotEncoder\n",
    "# Tạo một đối tượng OneHotEncoder\n",
    "encoder = OneHotEncoder(sparse=False)\n",
    "\n",
    "# Chọn cột cần mã hóa\n",
    "columns_to_encode = ['houseTypes','city']\n",
    "\n",
    "# Mã hóa one-hot cho các cột\n",
    "encoded_data = encoder.fit_transform(new_house_data[columns_to_encode])\n",
    "\n",
    "\n",
    "# Tạo DataFrame mới từ dữ liệu đã mã hóa\n",
    "encoded_df = pd.DataFrame(encoded_data, columns=encoder.get_feature_names(columns_to_encode))\n",
    "\n",
    "# Xóa các cột gốc trong biến data\n",
    "new_house_data.drop(columns_to_encode, axis=1, inplace=True)\n",
    "\n",
    "# Kết hợp dữ liệu đã mã hóa với biến data\n",
    "new_house_data = pd.concat([new_house_data, encoded_df], axis=1)\n",
    "\n",
    "# In ra 5 dòng đầu tiên của dữ liệu sau khi mã hóa\n",
    "print(new_house_data.head())"
   ]
  },
  {
   "cell_type": "code",
   "execution_count": null,
   "metadata": {},
   "outputs": [],
   "source": [
    "print(new_house_data.to_excel('oneHot.xlsx', index=False))"
   ]
  },
  {
   "attachments": {},
   "cell_type": "markdown",
   "metadata": {},
   "source": [
    "# Label Encoder"
   ]
  },
  {
   "cell_type": "code",
   "execution_count": null,
   "metadata": {},
   "outputs": [],
   "source": [
    "new_house_data = pd.read_excel('new_house_data.xlsx')\n",
    "new_house_data.drop(['district','url'],axis=1,inplace=True)"
   ]
  },
  {
   "cell_type": "code",
   "execution_count": null,
   "metadata": {},
   "outputs": [],
   "source": [
    "from sklearn.preprocessing import LabelEncoder\n",
    "\n",
    "# Tạo một đối tượng LabelEncoder\n",
    "label_encoder = LabelEncoder()\n",
    "\n",
    "# Mã hóa nhãn cho cột 'loại nhà'\n",
    "new_house_data['houseTypes_encoded'] = label_encoder.fit_transform(new_house_data['houseTypes'])\n",
    "\n",
    "# Mã hóa nhãn cho cột 'city'\n",
    "new_house_data['city_encoded'] = label_encoder.fit_transform(new_house_data['city'])\n",
    "\n",
    "new_house_data.drop(['city','houseTypes'],axis=1,inplace=True)\n",
    "\n",
    "# In ra 5 dòng đầu tiên của dữ liệu đã mã hóa\n",
    "print(new_house_data.head())"
   ]
  },
  {
   "cell_type": "code",
   "execution_count": null,
   "metadata": {},
   "outputs": [],
   "source": [
    "print(new_house_data.to_excel('Label.xlsx', index=False))"
   ]
  },
  {
   "attachments": {},
   "cell_type": "markdown",
   "metadata": {},
   "source": [
    "# TargetEncoder for city and OneHot for housetypes "
   ]
  },
  {
   "cell_type": "code",
   "execution_count": null,
   "metadata": {},
   "outputs": [],
   "source": [
    "new_house_data = pd.read_excel('new_house_data.xlsx')\n",
    "new_house_data.drop(['district','url'],axis=1,inplace=True)"
   ]
  },
  {
   "cell_type": "code",
   "execution_count": null,
   "metadata": {},
   "outputs": [],
   "source": [
    "#pip install category_encoders"
   ]
  },
  {
   "cell_type": "code",
   "execution_count": 140,
   "metadata": {},
   "outputs": [
    {
     "name": "stdout",
     "output_type": "stream",
     "text": [
      "        city   area  new_num_floors  new_bedrooms  price  \\\n",
      "0   9.292954  130.0               3             7    9.2   \n",
      "1   7.417350   65.0               2             2    2.9   \n",
      "2  11.089988   90.0               5             5   14.0   \n",
      "3   9.292954   30.0               1             2    3.7   \n",
      "4   9.292954   38.0               3             3    4.4   \n",
      "\n",
      "   houseTypes_Bán Luxury home  houseTypes_Bán Nhà  houseTypes_Bán Nhà cổ  \\\n",
      "0                         0.0                 0.0                    0.0   \n",
      "1                         0.0                 0.0                    0.0   \n",
      "2                         0.0                 0.0                    0.0   \n",
      "3                         0.0                 0.0                    0.0   \n",
      "4                         0.0                 0.0                    0.0   \n",
      "\n",
      "   houseTypes_Bán Nhà mặt phố  houseTypes_Bán Nhà riêng  \n",
      "0                         0.0                       1.0  \n",
      "1                         0.0                       1.0  \n",
      "2                         0.0                       1.0  \n",
      "3                         0.0                       1.0  \n",
      "4                         0.0                       1.0  \n"
     ]
    },
    {
     "name": "stderr",
     "output_type": "stream",
     "text": [
      "C:\\Users\\84947\\AppData\\Local\\Packages\\PythonSoftwareFoundation.Python.3.10_qbz5n2kfra8p0\\LocalCache\\local-packages\\Python310\\site-packages\\sklearn\\preprocessing\\_encoders.py:868: FutureWarning: `sparse` was renamed to `sparse_output` in version 1.2 and will be removed in 1.4. `sparse_output` is ignored unless you leave `sparse` to its default value.\n",
      "  warnings.warn(\n"
     ]
    }
   ],
   "source": [
    "import category_encoders as ce\n",
    "from sklearn.preprocessing import OneHotEncoder\n",
    "\n",
    "target_encoder =ce.TargetEncoder() \n",
    "df_city=target_encoder.fit_transform(new_house_data['city'],new_house_data['price'])\n",
    "df_new = df_city.join(new_house_data.drop('city',axis = 1))\n",
    "\n",
    "# Tạo một đối tượng OneHotEncoder\n",
    "encoder = OneHotEncoder(sparse=False)\n",
    "# Chọn cột cần mã hóa\n",
    "columns_to_encode = ['houseTypes']\n",
    "# Mã hóa one-hot cho các cột\n",
    "encoded_data = encoder.fit_transform(new_house_data[columns_to_encode])\n",
    "# Tạo DataFrame mới từ dữ liệu đã mã hóa\n",
    "encoded_df = pd.DataFrame(encoded_data, columns=encoder.get_feature_names_out(columns_to_encode))\n",
    "\n",
    "# Xóa các cột gốc trong biến data\n",
    "df_new.drop(columns_to_encode, axis=1, inplace=True)\n",
    "\n",
    "# Kết hợp dữ liệu đã mã hóa với biến data\n",
    "df_new = pd.concat([df_new, encoded_df], axis=1)\n",
    "\n",
    "print(df_new.head())"
   ]
  },
  {
   "cell_type": "code",
   "execution_count": 141,
   "metadata": {},
   "outputs": [
    {
     "name": "stdout",
     "output_type": "stream",
     "text": [
      "None\n"
     ]
    }
   ],
   "source": [
    "print(df_new.to_excel('Target.xlsx', index=False))"
   ]
  }
 ],
 "metadata": {
  "kernelspec": {
   "display_name": "Python 3",
   "language": "python",
   "name": "python3"
  },
  "language_info": {
   "codemirror_mode": {
    "name": "ipython",
    "version": 3
   },
   "file_extension": ".py",
   "mimetype": "text/x-python",
   "name": "python",
   "nbconvert_exporter": "python",
   "pygments_lexer": "ipython3",
   "version": "3.10.11"
  },
  "orig_nbformat": 4
 },
 "nbformat": 4,
 "nbformat_minor": 2
}
