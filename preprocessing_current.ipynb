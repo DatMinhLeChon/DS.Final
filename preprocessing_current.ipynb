{
 "cells": [
  {
   "cell_type": "code",
<<<<<<< HEAD
   "execution_count": 1,
=======
   "execution_count": 2,
>>>>>>> 566809af46a4ead4d70304c3eec0437a3b92b45e
   "metadata": {},
   "outputs": [],
   "source": [
    "import pandas as pd\n",
    "import numpy as np\n",
    "import matplotlib.pyplot as plt\n",
    "import re\n",
    "import requests\n",
    "from bs4 import BeautifulSoup\n",
    "import time\n",
    "import seaborn as sns\n",
    "# import folium\n"
   ]
  },
  {
   "cell_type": "code",
   "execution_count": 2,
   "metadata": {},
   "outputs": [
    {
     "data": {
      "text/plain": [
       "9674"
      ]
     },
     "execution_count": 2,
     "metadata": {},
     "output_type": "execute_result"
    }
   ],
   "source": [
    "data = pd.read_csv('data/houses_current.csv')\n",
    "data.head()\n",
    "len(data)"
   ]
  },
  {
   "cell_type": "code",
   "execution_count": 3,
   "metadata": {},
   "outputs": [
    {
     "name": "stdout",
     "output_type": "stream",
     "text": [
      "<class 'pandas.core.frame.DataFrame'>\n",
      "RangeIndex: 9674 entries, 0 to 9673\n",
      "Data columns (total 7 columns):\n",
      " #   Column      Non-Null Count  Dtype  \n",
      "---  ------      --------------  -----  \n",
      " 0   houseTypes  9674 non-null   object \n",
      " 1   area        9497 non-null   float64\n",
      " 2   num_floors  7706 non-null   float64\n",
      " 3   bedrooms    7577 non-null   float64\n",
      " 4   address     9674 non-null   object \n",
      " 5   price       9548 non-null   float64\n",
      " 6   url         9674 non-null   object \n",
      "dtypes: float64(4), object(3)\n",
      "memory usage: 529.2+ KB\n"
     ]
    }
   ],
   "source": [
    "data.info()"
   ]
  },
  {
   "attachments": {},
   "cell_type": "markdown",
   "metadata": {},
   "source": [
    "REMOVE DUPLICATES"
   ]
  },
  {
   "cell_type": "code",
   "execution_count": 4,
   "metadata": {},
   "outputs": [
    {
     "name": "stdout",
     "output_type": "stream",
     "text": [
      "Sum of duplicates:  1066\n",
      "After removing duplicates:  0\n",
      "Length of data then:  8608\n"
     ]
    }
   ],
   "source": [
    "print('Sum of duplicates: ', data.duplicated(subset=['houseTypes', 'area', 'num_floors', 'bedrooms','address','price']).sum())\n",
    "data = data.drop_duplicates(subset=['houseTypes', 'area', 'num_floors', 'bedrooms','address','price']).copy()\n",
    "print('After removing duplicates: ', data.duplicated().sum())\n",
    "print('Length of data then: ', len(data))"
   ]
  },
  {
   "attachments": {},
   "cell_type": "markdown",
   "metadata": {},
   "source": [
    "CONVERT OBJECT TO FLOAT64 AND STRING"
   ]
  },
  {
   "cell_type": "code",
   "execution_count": 5,
   "metadata": {},
   "outputs": [],
   "source": [
    "data = data.astype({'houseTypes':'string','address':'string','url':'string'})"
   ]
  },
  {
   "cell_type": "code",
   "execution_count": 6,
   "metadata": {},
   "outputs": [
    {
     "name": "stdout",
     "output_type": "stream",
     "text": [
      "<class 'pandas.core.frame.DataFrame'>\n",
      "Int64Index: 8608 entries, 0 to 9673\n",
      "Data columns (total 7 columns):\n",
      " #   Column      Non-Null Count  Dtype  \n",
      "---  ------      --------------  -----  \n",
      " 0   houseTypes  8608 non-null   string \n",
      " 1   area        8447 non-null   float64\n",
      " 2   num_floors  6798 non-null   float64\n",
      " 3   bedrooms    6698 non-null   float64\n",
      " 4   address     8608 non-null   string \n",
      " 5   price       8492 non-null   float64\n",
      " 6   url         8608 non-null   string \n",
      "dtypes: float64(4), string(3)\n",
      "memory usage: 538.0 KB\n"
     ]
    }
   ],
   "source": [
    "data.info()"
   ]
  },
  {
   "cell_type": "code",
   "execution_count": 7,
   "metadata": {},
   "outputs": [
    {
     "name": "stdout",
     "output_type": "stream",
     "text": [
      "Ratio of missing data of houseTypes: 0.0%\n",
      "Ratio of missing data of area: 1.87%\n",
      "Ratio of missing data of num_floors: 21.027%\n",
      "Ratio of missing data of bedrooms: 22.189%\n",
      "Ratio of missing data of address: 0.0%\n",
      "Ratio of missing data of price: 1.348%\n",
      "Ratio of missing data of url: 0.0%\n"
     ]
    }
   ],
   "source": [
    "for col in data.columns:\n",
    "    print('Ratio of missing data of ' + str(col) +': ' + str(round(data[col].isna().sum()*100/len(data[col]),3)) + '%')"
   ]
  },
  {
   "cell_type": "code",
   "execution_count": 8,
   "metadata": {},
   "outputs": [],
   "source": [
    "data[['district','city']] = data['address'].apply(lambda x: pd.Series(str(x).split(', ')))"
   ]
  },
  {
   "cell_type": "code",
   "execution_count": 9,
   "metadata": {},
   "outputs": [],
   "source": [
    "data = data.drop(['address'], axis=True)"
   ]
  },
  {
   "cell_type": "code",
   "execution_count": 10,
   "metadata": {},
   "outputs": [],
   "source": [
    "data.reset_index(inplace=True, drop=True)"
   ]
  },
  {
   "cell_type": "code",
   "execution_count": 11,
   "metadata": {},
   "outputs": [],
   "source": [
    "data = data[['houseTypes','area','num_floors','bedrooms','district','city','price','url']]"
   ]
  },
  {
   "cell_type": "code",
   "execution_count": 12,
   "metadata": {},
   "outputs": [
    {
     "data": {
      "text/html": [
       "<div>\n",
       "<style scoped>\n",
       "    .dataframe tbody tr th:only-of-type {\n",
       "        vertical-align: middle;\n",
       "    }\n",
       "\n",
       "    .dataframe tbody tr th {\n",
       "        vertical-align: top;\n",
       "    }\n",
       "\n",
       "    .dataframe thead th {\n",
       "        text-align: right;\n",
       "    }\n",
       "</style>\n",
       "<table border=\"1\" class=\"dataframe\">\n",
       "  <thead>\n",
       "    <tr style=\"text-align: right;\">\n",
       "      <th></th>\n",
       "      <th>houseTypes</th>\n",
       "      <th>area</th>\n",
       "      <th>num_floors</th>\n",
       "      <th>bedrooms</th>\n",
       "      <th>district</th>\n",
       "      <th>city</th>\n",
       "      <th>price</th>\n",
       "      <th>url</th>\n",
       "    </tr>\n",
       "  </thead>\n",
       "  <tbody>\n",
       "    <tr>\n",
       "      <th>0</th>\n",
       "      <td>Bán Nhà riêng</td>\n",
       "      <td>130.0</td>\n",
       "      <td>3.0</td>\n",
       "      <td>7.0</td>\n",
       "      <td>Quận 12</td>\n",
       "      <td>TP Hồ Chí Minh</td>\n",
       "      <td>9.200</td>\n",
       "      <td>https://batdongsan.vn/ban-biet-thu-san-vuon-qu...</td>\n",
       "    </tr>\n",
       "    <tr>\n",
       "      <th>1</th>\n",
       "      <td>Bán Nhà riêng</td>\n",
       "      <td>65.0</td>\n",
       "      <td>NaN</td>\n",
       "      <td>2.0</td>\n",
       "      <td>Ngũ Hành Sơn</td>\n",
       "      <td>Đà Nẵng</td>\n",
       "      <td>2.900</td>\n",
       "      <td>https://batdongsan.vn/29-ty-dien-tich-6580m2-n...</td>\n",
       "    </tr>\n",
       "    <tr>\n",
       "      <th>2</th>\n",
       "      <td>Bán Nhà riêng</td>\n",
       "      <td>90.0</td>\n",
       "      <td>5.0</td>\n",
       "      <td>5.0</td>\n",
       "      <td>Hai Bà Trưng</td>\n",
       "      <td>Hà Nội</td>\n",
       "      <td>14.000</td>\n",
       "      <td>https://batdongsan.vn/ban-nha-kim-nguu-phan-lo...</td>\n",
       "    </tr>\n",
       "    <tr>\n",
       "      <th>3</th>\n",
       "      <td>Bán Nhà riêng</td>\n",
       "      <td>50.0</td>\n",
       "      <td>5.0</td>\n",
       "      <td>5.0</td>\n",
       "      <td>Quận 3</td>\n",
       "      <td>TP Hồ Chí Minh</td>\n",
       "      <td>0.001</td>\n",
       "      <td>https://batdongsan.vn/quan-3-le-van-sy-5-tang-...</td>\n",
       "    </tr>\n",
       "    <tr>\n",
       "      <th>4</th>\n",
       "      <td>Bán Nhà riêng</td>\n",
       "      <td>30.0</td>\n",
       "      <td>1.0</td>\n",
       "      <td>2.0</td>\n",
       "      <td>Gò Vấp</td>\n",
       "      <td>TP Hồ Chí Minh</td>\n",
       "      <td>3.700</td>\n",
       "      <td>https://batdongsan.vn/nha-moi-full-noi-that-hx...</td>\n",
       "    </tr>\n",
       "  </tbody>\n",
       "</table>\n",
       "</div>"
      ],
      "text/plain": [
       "      houseTypes   area  num_floors  bedrooms      district            city  \\\n",
       "0  Bán Nhà riêng  130.0         3.0       7.0       Quận 12  TP Hồ Chí Minh   \n",
       "1  Bán Nhà riêng   65.0         NaN       2.0  Ngũ Hành Sơn         Đà Nẵng   \n",
       "2  Bán Nhà riêng   90.0         5.0       5.0  Hai Bà Trưng          Hà Nội   \n",
       "3  Bán Nhà riêng   50.0         5.0       5.0        Quận 3  TP Hồ Chí Minh   \n",
       "4  Bán Nhà riêng   30.0         1.0       2.0        Gò Vấp  TP Hồ Chí Minh   \n",
       "\n",
       "    price                                                url  \n",
       "0   9.200  https://batdongsan.vn/ban-biet-thu-san-vuon-qu...  \n",
       "1   2.900  https://batdongsan.vn/29-ty-dien-tich-6580m2-n...  \n",
       "2  14.000  https://batdongsan.vn/ban-nha-kim-nguu-phan-lo...  \n",
       "3   0.001  https://batdongsan.vn/quan-3-le-van-sy-5-tang-...  \n",
       "4   3.700  https://batdongsan.vn/nha-moi-full-noi-that-hx...  "
      ]
     },
     "execution_count": 12,
     "metadata": {},
     "output_type": "execute_result"
    }
   ],
   "source": [
    "data.head()"
   ]
  },
  {
   "cell_type": "code",
   "execution_count": 166,
   "metadata": {},
   "outputs": [],
   "source": [
    "# data.to_csv('houses.csv',index=False)\n",
    "# data.to_excel('houses.xlsx',index=False)"
   ]
  },
  {
   "attachments": {},
   "cell_type": "markdown",
   "metadata": {},
   "source": [
    "## Xử lí giá"
   ]
  },
  {
   "cell_type": "code",
   "execution_count": 13,
   "metadata": {},
   "outputs": [],
   "source": [
    "low_noise_data = data.loc[(data['price'] < 0.1)]\n",
    "hign_noise_data = data.loc[(data['price'] >= 500)]\n",
    "null_price_data = data[data['price'].isna()]"
   ]
  },
  {
   "cell_type": "code",
   "execution_count": 149,
   "metadata": {},
   "outputs": [],
   "source": [
    "# low_noise_data = low_noise_data.copy()\n",
    "# low_noise_data.to_excel('error_price_low.xlsx', index=False)  "
   ]
  },
  {
   "cell_type": "code",
   "execution_count": 150,
   "metadata": {},
   "outputs": [],
   "source": [
    "# hign_noise_data = hign_noise_data.copy()\n",
    "# hign_noise_data.to_excel('error_price_hign.xlsx', index=False)  "
   ]
  },
  {
   "cell_type": "code",
   "execution_count": 14,
   "metadata": {},
   "outputs": [
    {
     "name": "stderr",
     "output_type": "stream",
     "text": [
      "c:\\Users\\ASUS\\anaconda3\\lib\\site-packages\\seaborn\\distributions.py:2619: FutureWarning: `distplot` is a deprecated function and will be removed in a future version. Please adapt your code to use either `displot` (a figure-level function with similar flexibility) or `histplot` (an axes-level function for histograms).\n",
      "  warnings.warn(msg, FutureWarning)\n"
     ]
    },
    {
     "data": {
      "text/plain": [
       "<AxesSubplot:xlabel='price', ylabel='Density'>"
      ]
     },
     "execution_count": 14,
     "metadata": {},
     "output_type": "execute_result"
    },
    {
     "data": {
      "image/png": "iVBORw0KGgoAAAANSUhEUgAAAsUAAAHACAYAAABK7hU2AAAAOXRFWHRTb2Z0d2FyZQBNYXRwbG90bGliIHZlcnNpb24zLjUuMiwgaHR0cHM6Ly9tYXRwbG90bGliLm9yZy8qNh9FAAAACXBIWXMAAA9hAAAPYQGoP6dpAABq0ElEQVR4nO3deVxVdf7H8de9l+UCAoogiwLivm+oKKbVZJZtWlampbaPUzOTOc5vKmtqaianZRzbtM00p1JrWqespM19SQJXckVBBBFQLusF7r2/PyhmCCxF4MC97+fjcR7FuWd5Xx7q/fDlez5fk8vlciEiIiIi4sHMRgcQERERETGaimIRERER8XgqikVERETE46koFhERERGPp6JYRERERDyeimIRERER8XgqikVERETE46koFhERERGP52V0gNbK6XRy7NgxAgMDMZlMRscRERERkZ9wuVwUFRURFRWF2fzzY8Eqihvo2LFjREdHGx1DRERERH5BZmYmnTp1+tljVBQ3UGBgIFD9TQ4KCjI4jYiIiIj8lM1mIzo6uqZu+zkqihvoxykTQUFBKopFREREWrAzmeqqB+1ERERExOOpKBYRERERj6eiWEREREQ8nopiEREREfF4KopFRERExOOpKBYRERERj6eiWEREREQ8nopiEREREfF4KopFRERExOOpKBYRERERj6eiWEREREQ8nopiEREREfF4KopFRERExOOpKBYRERERj6eiWEREREQ8npfRAUREWrO3tmQ0+NypCTGNmERERM6FRopFRERExOOpKBYRERERj6eiWEREREQ8nopiEREREfF4KopFRERExOMZXhQvXLiQuLg4rFYr8fHxrFu37rTHvvfee1x88cWEhYURFBTEyJEj+fzzz+sc9+6779KnTx98fX3p06cP77///jndV0RERETcm6FF8cqVK5k1axZz584lJSWF0aNHM378eDIy6m9xtHbtWi6++GJWrVpFcnIyF154IVdeeSUpKSk1x2zatInJkyczbdo0tm/fzrRp07j++uvZsmVLg+8rIiIiIu7N5HK5XEbdPCEhgSFDhrBo0aKafb1792bixInMmzfvjK7Rt29fJk+ezJ///GcAJk+ejM1m49NPP6055tJLL6Vdu3YsX7680e5rs9kIDg6msLCQoKCgMzpHRNyP+hSLiLRcZ1OvGTZSXFFRQXJyMuPGjau1f9y4cWzcuPGMruF0OikqKiIkJKRm36ZNm+pc85JLLqm5ZmPcV0RERETci2Er2uXl5eFwOAgPD6+1Pzw8nJycnDO6xj/+8Q9KSkq4/vrra/bl5OT87DUbel+73Y7dbq/52maznVFGEREREWn5DH/QzmQy1fra5XLV2Vef5cuX88gjj7By5Uo6dOhw1tc82/vOmzeP4ODgmi06OvoXM4qIiIhI62BYURwaGorFYqkzOpubm1tnFPenVq5cyW233cbbb7/N2LFja70WERHxs9ds6H3vv/9+CgsLa7bMzMxffI8iIiIi0joYVhT7+PgQHx9PUlJSrf1JSUkkJiae9rzly5dz880389Zbb3H55ZfXeX3kyJF1rrl69eqaazb0vr6+vgQFBdXaRERERMQ9GDanGGD27NlMmzaNoUOHMnLkSF5++WUyMjKYOXMmUD06m5WVxbJly4Dqgnj69Ok888wzjBgxoma018/Pj+DgYADuuecexowZwxNPPMGECRP48MMP+eKLL1i/fv0Z31dExJ2pY4aISF2GFsWTJ08mPz+fRx99lOzsbPr168eqVauIjY0FIDs7u1bv4Jdeeomqqiruvvtu7r777pr9M2bMYOnSpQAkJiayYsUKHnzwQR566CG6du3KypUrSUhIOOP7ioiIiIhnMbRPcWumPsUiAq1z1LU1ZhYRaYhW0adYRERERKSlUFEsIiIiIh5PRbGIiIiIeDwVxSIiIiLi8VQUi4iIiIjHU1EsIiIiIh5PRbGIiIiIeDwVxSIiIiLi8VQUi4iIiIjHU1EsIiIiIh5PRbGIiIiIeDwVxSIiIiLi8VQUi4iIiIjHU1EsIiIiIh5PRbGIiIiIeDwVxSIiIiLi8VQUi4iIiIjHU1EsIiIiIh5PRbGIiIiIeDwVxSIiIiLi8VQUi4iIiIjHU1EsIiIiIh7Py+gAIiKerLSiiqyTZWSdKiO3yI7L5cJkMuFjMRMeZKVTOz8igq14WzSGISLSlFQUi4g0I6fLxaETJew/XsQLXx/g2KkyXL9wjsVsolNbP2LbB9AlLICuYW2YNjK2WfKKiHgKFcUiIs2g2F5F8uECth4u4GRpZa3XrN5m2vr5EOTnhdlkwuWCSoeTwrJKCssqqXK6OFJQypGCUtbuP0GAj4UDuUVcPyyavlHBBr0jERH3oqJYRKQJVTqcbDyQx9f7TlBR5QSqi+C+UcF0DQsgLrQNwX7epz3f6XJRUFLBkfxSDueX8H22jZIKB69vOsLrm44wtncHfn9RdwZ0attM70hExD2pKBYRaSL7jhfx0fZjFJRUABAVbGVk11D6dwzGx+vM5gibTSZC2/gS2saX+Nh2OJwuDuQWkVdSwac7s/kiLZcv0nK5vH8kD1/Vhw6B1qZ8SyIibktFsYhII3M4XXyRdpw1+04AEGT14pK+EQyMbovZZDqna1vMJnpGBPGXhBgOnijmha8P8EFKFp/szGb9gTweuqIPk4Z0xHSO9xER8TR6nFlEpBEVlVeyeH16TUE8oksI917cg8Ex7c65IP6prmFtmH/9IP7zu/PoGxVEYVklc97Zzm/fSqG0oqpR7yUi4u5UFIuINJKCkgpeXHOQw/kl+HqZmTI8hqsGdsTXy9Kk9+0bFcwHd4/i/y7tibfFxCc7s7nuxU1knSpr0vuKiLgTFcUiIo3guK2cl9Ye5GRpJSEBPtx9QTf6d2y+zhDeFjN3XdCNN28fQfsAH3YfszHh+fXsPFrYbBlERFozFcUiIufo2KkyXl57iKLyKsKDfLlzTBdCA30NyTI8LoQPfzuKXhGB5BVXcNPiLezKUmEsIvJLVBSLiJyDgpIKlm48TFmlg07t/LhjdBeCrKdvsdYcOrXz59+/SSQ+th2FZZXc+KoKYxGRX6KiWESkgfKK7SzZkE6xvYrIYCu3jorD36dlNPVp4+vF0luGMSSmbU1hvO94kdGxRERaLMOL4oULFxIXF4fVaiU+Pp5169ad9tjs7GymTp1Kz549MZvNzJo1q84xF1xwASaTqc52+eWX1xzzyCOP1Hk9IiKiKd6eiLip0ooqbl36LfklFbTz92ZGYmes3k37QN3ZCrR68/qtwxn8Q2F869JvySu2Gx1LRKRFMrQoXrlyJbNmzWLu3LmkpKQwevRoxo8fT0ZGRr3H2+12wsLCmDt3LgMHDqz3mPfee4/s7OyabdeuXVgsFq677rpax/Xt27fWcTt37mz09yci7snlcvHHd3aw42gh/j4WbkmMM3zKxOkEWr1ZPGMYse39OXqyjDuXbaPS4TQ6lohIi2NoUTx//nxuu+02br/9dnr37s2CBQuIjo5m0aJF9R7fuXNnnnnmGaZPn05wcP1PdYeEhBAREVGzJSUl4e/vX6co9vLyqnVcWFhYo78/EXFPi9Yc5JOd2XhbTEwbEWvYQ3VnKiTAh9duHkaQ1YvvMk7x7ndHcblcRscSEWlRDCuKKyoqSE5OZty4cbX2jxs3jo0bNzbafRYvXswNN9xAQEBArf379+8nKiqKuLg4brjhBg4dOvSz17Hb7dhstlqbiHieb/bm8tTnewF4+Mq+xLYP+IUzWoauYW14cVo8XmYTO44WsulQvtGRRERaFMOK4ry8PBwOB+Hh4bX2h4eHk5OT0yj32Lp1K7t27eL222+vtT8hIYFly5bx+eef88orr5CTk0NiYiL5+af/kJg3bx7BwcE1W3R0dKNkFJHW4+jJUn6/PAWXC24YFs2NCTFGRzoriV1DefDy3gB8ujOHoydLDU4kItJyGP6gnekny566XK46+xpq8eLF9OvXj+HDh9faP378eCZNmkT//v0ZO3Ysn3zyCQCvv/76aa91//33U1hYWLNlZmY2SkYRaR2qHE5mrUjFVl7FwOi2/GVC30b7t6o5zUjsTN+oIBwuF8u3ZlBW4TA6kohIi2BYURwaGorFYqkzKpybm1tn9LghSktLWbFiRZ1R4voEBATQv39/9u/ff9pjfH19CQoKqrWJiOd49qsDbDtykkBfL56fMrjJl25uKiaTiUlDOhES4MPJ0krNLxYR+YFhDTV9fHyIj48nKSmJq6++umZ/UlISEyZMOOfrv/3229jtdm666aZfPNZut5OWlsbo0aPP+b4iYoy3ttTfteZMTP2FaRBbDuXz/FfVPzT/9ep+RIf4N/heLYHV28KUYTG8uOYge7JtfJdxivjYdkbHEhExlKHTJ2bPns2rr77Ka6+9RlpaGvfeey8ZGRnMnDkTqJ6yMH369FrnpKamkpqaSnFxMSdOnCA1NZU9e/bUufbixYuZOHEi7du3r/PanDlzWLNmDenp6WzZsoVrr70Wm83GjBkzmuaNikirdaq0glkrU3G64Nr4TkwY1NHoSI2iYzs/xvap/q3cxzuOcbK0wuBEIiLGMnTppcmTJ5Ofn8+jjz5KdnY2/fr1Y9WqVcTGxgLVi3X8tGfx4MGDa/4/OTmZt956i9jYWA4fPlyzf9++faxfv57Vq1fXe9+jR48yZcoU8vLyCAsLY8SIEWzevLnmviIiUP2Mw5/e3UF2YTlxoQH85aq+RkdqVKO7h5KWbSOjoJR/Jx/ltvPiMLfCedIiIo3B8PVI77rrLu666656X1u6dGmdfWcy961Hjx4/e9yKFSvOOJ+IeK43t2Tw+e7jeFtMPDdlMAG+hv+T2ajMJhPXxXfiua8OkJ5XwsaD+ZzXLdToWCIihjC8+4SISEu073gRj31cPTXrT5f2ol/H+hcMau3at/FlfP/qZe5X787RMtAi4rFUFIuI/ER5pYPfL0/BXuXk/B5h3DoqzuhITWp45xC6hgVQ5XTx3ndZONWNQkQ8kIpiEZGf+Pun3/N9ThGhbXx5+rqBmM3uPc/WZDJx9eBO+FjMHM4vYWt6gdGRRESanYpiEZH/8dX3x1m68TAAT183gLBAX2MDNZOQAB8u6VvdjeKzXTmcLFE3ChHxLCqKRUR+kGsrZ847OwC47bw4LujZweBEzSuhS3ti2/tT4XDyfmqWFvUQEY+iolhEBHA6Xfzhne0UlFTQOzKI/7u0p9GRmp3ZZGLS4E54mU0cyC3mu4yTRkcSEWk2KopFRIDF69NZtz8Pq7eZ56YMarXLOJ+r0EBfxvaunkbxyc5sbGWVBicSEWke7tV0U0SkAXZlFfLk598D8Ocr+tKtQ6DBiX7ZuSxr/UtGdQtl17FCjp4s44PULKaNiMWkRT1ExM1ppFhEPFpFlZPfL0+h0uHi0r4RTBkebXQkw1nMJq4Z0gmLycT3OUXsOFpodCQRkSanolhEPJbL5eKD1CwO5ZUQEWTl75P6a0T0BxFBVi7sFQbAf3Yco9heZXAiEZGmpaJYRDzWlvQCUjNPYTGbeOaGQbT19zE6Uotyfo8ORAZbKa1w8J/tx4yOIyLSpDSnWERajKacJ/tTmQWlfLIjG4D7Lu1FQpf2zXbv1uLHaRSLvjnAzqxCBhzTNAoRcV8aKRYRj1Nsr+KtrRk4XC76RgVx+2j3Xsb5XHRs68fo7tXTKD5KPcapUi3qISLuSUWxiHiUSoeTNzYfobCsktA2Pkwa0knziH/Br3p1ICzQlyJ7FXPf36VFPUTELWn6hIh4DJfLxXvfHSWjoBSrt5lpIzpj9fbMfsRnw9ti5rr4Try45iCf7MzmopQOXDOkk9Gxmty5TOeZmhDTiElEpDlopFhEPMZXe3PZfrQQswmmDo8lLNDX6EitRqd2/jWLevz5w91kFpQanEhEpHGpKBYRj/Dt4QK+TMsFYMLAjnTr0MbgRK3PmB5hDI1tR7G9intXplLlcBodSUSk0agoFhG3tzOrkA9SsgAY0z2MYXEhBidqncwmE/+cPIg2vl5sO3KSfyTtMzqSiEijUVEsIm5t3/Ei3v42ExcwrHMIl/QNNzpSqxYd4s/fJ/UHYNE3B/liz3GDE4mINA4VxSLitnYfK+SNzUdwuFz07xjMhEFR6jTRCK4YEMXNiZ0BmP12Khn5ml8sIq2fimIRcUvfHi7grS0ZVDld9IkM4rqhnTCrIG40D1zWm8ExbbGVVzHzjWRKK7QMtIi0bmrJJiJuxeVysWbfCVb/8Gv9obHtmDCoIxazCuLG8L9tyi7uHc6+nCL2ZNuYtHAjN46IPe0PHmpRJiItnUaKRcRtOF0uPtmZXVMQX9AjjKsHqyBuKm39fZg2IhYvs4m0nCI+3ZltdCQRkQZTUSwibqHK6eSdbZlsPJgPwOX9IxnXN0JziJtYTPsAro2vXshjw8F8Nh7MMziRiEjDqCgWkVavoqp66eYfF+a4fmgnRnULNTqWxxjQqS2X9Knu6vHxjmy2HS4wOJGIyNnTnGIRadVK7VW8vukwmSfL8LaYuDEhlh7hgUbH8jhjeoRRbK9iw8F83k/JwstiZlB0W6NjiYicMRXFItJqnSqtYMnGw5wosuPnbWFGYmdiQvyNjuWRTCYTl/WPpMrpYkt6Af9OzsRkgoGd2hodTUTkjKgoFpFWKddWzpKNhyksqyTYz5tbEjvTIchqdCyPZjKZuHJgFFUOF8kZJ3n720zKKhyM6NLe6GgiIr9Ic4pFpNXJLCjlpbWHKCyrJKyNL78e00UFcQthNpm4ekhHEuJCcAEfbT/GV9/n4nK5jI4mIvKzVBSLSKtyKK+YxevTKat00KmdH3eO6UJbfx+jY8n/MJtMXDUwigt7dgDgi7TjPPThLqocToOTiYicnopiEWk10vNKWLbxCBUOJ906tOG28+II8NUssJbIZDJxcZ9wrhgQiQl4Y3MGty/bRrFdK9+JSMukolhEWoUj+SW8vukwFQ4n3Tu0YdqIWHy9LEbHkl+Q2DWUqQkxWL3NfLP3BNcu2kh2YZnRsURE6lBRLCItXo6tnKUbD1NR5aRrWAA3jYjF26J/vlqLvlHBrLxzJKFtfPk+p4iJL2xgV1ah0bFERGox/FNl4cKFxMXFYbVaiY+PZ926dac9Njs7m6lTp9KzZ0/MZjOzZs2qc8zSpUsxmUx1tvLy8gbfV0SMU2yvYtmmw9irnHRu78+0EZ1VELdCA6Pb8sHdifQIb8Nxm53rX9rEl2nHjY4lIlLD0E+WlStXMmvWLObOnUtKSgqjR49m/PjxZGRk1Hu83W4nLCyMuXPnMnDgwNNeNygoiOzs7Fqb1frfJ9PP9r4iYoxKR/VKdadKK2kf4MNNCbH4eKkgbq06tfPn379JZHT3UEorHNyxbBtLN6QbHUtEBDC4KJ4/fz633XYbt99+O71792bBggVER0ezaNGieo/v3LkzzzzzDNOnTyc4OPi01zWZTERERNTazuW+ItL8XC4X76dkkVFQitXbzPSRnfHXQ3WtXpDVm9duHsYNw6JxuuCR/+zhkY9243CqZZuIGMuwT5iKigqSk5O57777au0fN24cGzduPKdrFxcXExsbi8PhYNCgQTz22GMMHjy4ye8rIo0nJfMUqZmnMJtg6vBYwgJ9m+xeb23Rb4mak7fFzLxr+hPbPoAnPvuepRsPc/RkKc/cMFjdRETEMIb965OXl4fD4SA8PLzW/vDwcHJychp83V69erF06VL69++PzWbjmWeeYdSoUWzfvp3u3bs3+L52ux273V7ztc1ma3BGEfl5+cV2Ptp+DICLeofTrUMbgxNJYzOZTPzmgq7EhPhz79upfJGWy/UvbeK1m4cR/pOFWM7lh5apCTHnGlVEPIThk/NMJlOtr10uV519Z2PEiBHcdNNNDBw4kNGjR/P222/To0cPnnvuuXO677x58wgODq7ZoqOjG5xRRE7P4XTxTvJRKqqcxLb35/weYUZHkiZ0+YBIlt8xgvYBPuw+ZmPiCxtIy9agg4g0P8OK4tDQUCwWS53R2dzc3DqjuOfCbDYzbNgw9u/ff073vf/++yksLKzZMjMzGy2jiPzXN/tyySgoxdfLzPVDozGfww/J0jrEx7bj/btG0TUsgOzCcqa8spk9x1QYi0jzMqwo9vHxIT4+nqSkpFr7k5KSSExMbLT7uFwuUlNTiYyMPKf7+vr6EhQUVGsTkcaVX2znm70nAJgwKIp2Wr7ZY8S09+e934xiYHRbTpVWctPiLezNKTI6loh4EEOfaJg9ezbTpk1j6NChjBw5kpdffpmMjAxmzpwJVI/OZmVlsWzZsppzUlNTgeqH6U6cOEFqaio+Pj706dMHgL/85S+MGDGC7t27Y7PZePbZZ0lNTeWFF1444/uKSPNzuVx8vCMbh9NF9w5tGNiprdGRpJkF+3uz7Nbh3PTqFnZmFXLjq5tZcedIo2OJiIcwtCiePHky+fn5PProo2RnZ9OvXz9WrVpFbGwsUL1Yx097B//YRQIgOTmZt956i9jYWA4fPgzAqVOnuPPOO8nJySE4OJjBgwezdu1ahg8ffsb3FZHm92VaLnuPF2ExmbhiQNQ5PVsgrVewnzf/um04U1/Zwp5sGzNe28q0kbEEWb2NjiYibs7kcrnUHLIBbDYbwcHBFBYWaiqFyDkqr3Rw8T/XkFlQxpjuYVzaL+KXT5JW5Wy7QBSUVDBp0UbS80qICrZyx5gu+HpZmvy+/0tdL0Rav7Op1wzvPiEi8uq6Q2QWlBFk9eLCXuo2IRAS4MPSW4bRPsCHY4XlLN+aoQU+RKRJqSgWEUMVllXy0tpDAFzaL7JBo4HinmLbB7D45mF4W0zsO17Mql3ZRkcSETemolhEDLV4fTpF5VX0CG/DgE6nX75dPNOg6LZMHlrdF37TwXxSMk4anEhE3JWKYhExzKnSCl5bnw7AvWN7qCex1KtPVDAX9uwAwPspWWSdKjM4kYi4IxXFImKYV9YdotheRe/IIC7pq4fr5PQu6t2BnuGBVDldvLnlCKX2KqMjiYibUVEsIoYoKKlgyYbDANw7tjtms0aJ5fTMJhPXD42mfYAPp0orefe7o6h5kog0JhXFImKIJRvSKa1w0K9jEBf3abyl3cV9+flYmDI8BovZRFpOEZsO5RsdSUTciIpiEWl25ZUO3vyhB+xdF3TTQh1yxqLa+jH+hz7Wn+7K4ZjmF4tII1FRLCLN7v2ULApKKujY1o9xGiWWszSyS3t6RwTicLpY8W0GFVVOoyOJiBtQUSwizcrlcrH4h44Tt4zqjJdF/wzJ2TGZTEwa0okgqxd5xRV8tjvH6Egi4gb0aSQizWrNvhMcyC2mja8Xk4dFGx1HWil/Xy8mDekEwOZD+RzILTY4kYi0diqKRaRZ/ThKfP3QaAKt3gankdase3ggw+NCAHj3u6OUVzoMTiQirZmKYhFpNvuPF7Fufx5mU/XUCZFzNb5fBCEBPhSWVfLJDi0DLSINp6JYRJrNW1urO06M7R1OdIi/wWnEHfh6WZg0pBMmIDnjJGnZNqMjiUgrpaJYRJpFeaWD91OyAJiSEGNwGnEncaEBnNctFKjubFKi1e5EpAFUFItIs/h8dw6nSivp2NaPMd3DjI4jbmZsn3A6BPpSbK/iw+3HtNqdiJw1FcUi0ize+mGxjuuGdsKiJZ2lkXlbzFwXH43ZBLuyCtlxtNDoSCLSyqgoFpEmd+hEMVvSCzCbqrtOiDSFju38uKBnBwA+2n6MovJKgxOJSGuiolhEmtzKbzMBuKBnB6La+hmcRtzZhT07EBVspazSwQepmkYhImdORbGINKmKKif/Tj4KwA1arEOamMVsYlJ8JywmE2nZNj5MPWZ0JBFpJVQUi0iT+mZvLvklFYQF+vKrXh2MjiMeIDLYjwt7VT/M+fBHu8m1lRucSERaAxXFItKkfmzDNnFQFF4W/ZMjzeP8Hh2IamulsKySB97fpWkUIvKL9AklIk2msLSSL9NyAbh6cCeD04gnsZhNXDskGm+LiS/SjvNBapbRkUSkhVNRLCJN5pOd2VQ4nPSKCKRPVJDRccTDRARbueei7gA88tEeTaMQkZ+lolhEmsz7KdUP2F09uKPBScRTzTy/K/07Bv8wjWKnplGIyGmpKBaRJpFZUMq3h09iMsGEQSqKxRheFjNPXzcQH4uZL9Jya+a4i4j8lIpiEWkSPxYfo7qGEhFsNTiNeLKeEYHcM/bHaRS7Oa5pFCJSDxXFItLoXC4XH/xQFGvqhLQEvx7ThQGdgrGVV3H/e5pGISJ1qSgWkUa3+5iNQ3klWL3NXNIvwug4IrWmUXz1fS7vfqdpFCJSm4piEWl0/9lRvYrYr3p1oI2vl8FpRKr1CA9k1sXV0yj+8p/d5BRqGoWI/Jc+rUSkUblcLj7ZkQ3AFQOiDE4jLcVbWzKMjgDAnaO78Pnu42zPPMWf3t3B0luGYTKZjI4lIi2ARopFpFGlZp7i6Mky/H0sXNhTyzpLy+JlMfOP6wbg42Vmzb4TrPg20+hIItJCqCgWkUb18Q+jxGN7h+PnYzE4jUhd3ToE8n+X9ATgrx/vIbOg1OBEItISqCgWkUbjdP7v1IlIg9OInN4to+IY3jmEkgoHc97ZjtOpbhQins7wonjhwoXExcVhtVqJj49n3bp1pz02OzubqVOn0rNnT8xmM7NmzapzzCuvvMLo0aNp164d7dq1Y+zYsWzdurXWMY888ggmk6nWFhGhJ+RFzlVyxklybOUE+noxpkeY0XFETstiNvHUdQPw87awJb2A1zcdNjqSiBjM0KJ45cqVzJo1i7lz55KSksLo0aMZP348GRn1P5Bht9sJCwtj7ty5DBw4sN5jvvnmG6ZMmcLXX3/Npk2biImJYdy4cWRl1W6/07dvX7Kzs2u2nTt3Nvr7E/E0H2+v7jpxcZ9wrN6aOiEtW2z7AB64vDcAf//0ew6eKDY4kYgYydCieP78+dx2223cfvvt9O7dmwULFhAdHc2iRYvqPb5z584888wzTJ8+neDg4HqPefPNN7nrrrsYNGgQvXr14pVXXsHpdPLll1/WOs7Ly4uIiIiaLSxMo1oi58LhdLFqVw4AVwzU1AlpHW5KiGF091DsVU7mvLOdKofT6EgiYhDDWrJVVFSQnJzMfffdV2v/uHHj2LhxY6Pdp7S0lMrKSkJCQmrt379/P1FRUfj6+pKQkMDjjz9Oly5dTnsdu92O3W6v+dpmszVaRhF3sCU9nxNFdoL9vDl6sqzFtOAS+Tkmk4knJg3gkn+uJSXjFC+vO8RdF3QzOpaIGMCwkeK8vDwcDgfh4eG19oeHh5OTk9No97nvvvvo2LEjY8eOrdmXkJDAsmXL+Pzzz3nllVfIyckhMTGR/Pz8015n3rx5BAcH12zR0dGNllHEHfzYdeKSvuF4mQ1/XEHkjEW19ePPV/YBYEHSfr7P0aCHiCcy/JPrp03TXS5XozVSf/LJJ1m+fDnvvfceVqu1Zv/48eOZNGkS/fv3Z+zYsXzyyScAvP7666e91v33309hYWHNlpmp3pYiP6pyOPnsx6kTWrBDWqFr4zsxtncHKhxO/vD2diqqNI1CxNMYVhSHhoZisVjqjArn5ubWGT1uiKeffprHH3+c1atXM2DAgJ89NiAggP79+7N///7THuPr60tQUFCtTUSqbTyYT0FJBSEBPiR2bW90HJGzZjKZePya/rT192b3MRvPf33A6Egi0swMK4p9fHyIj48nKSmp1v6kpCQSExPP6dpPPfUUjz32GJ999hlDhw79xePtdjtpaWlERurhIJGG+LE38aX9IvCyGP4LKJEG6RBo5bEJ/QB44esDHD2pRT1EPImhn16zZ8/m1Vdf5bXXXiMtLY17772XjIwMZs6cCVRPWZg+fXqtc1JTU0lNTaW4uJgTJ06QmprKnj17al5/8sknefDBB3nttdfo3LkzOTk55OTkUFz831Y7c+bMYc2aNaSnp7NlyxauvfZabDYbM2bMaJ43LuJGKqqcfLb7x6kT+sFSWrcrB0Zx+YBIHE4X/04+SpVT0yhEPIVh3ScAJk+eTH5+Po8++ijZ2dn069ePVatWERsbC1Qv1vHTnsWDBw+u+f/k5GTeeustYmNjOXz4MFC9GEhFRQXXXnttrfMefvhhHnnkEQCOHj3KlClTyMvLIywsjBEjRrB58+aa+4rImdtwII/CskrCAn1JiNPUCWn9HpvQj80H88ktsrNm7wku6n3uU/pEpOUzuVwurW3ZADabjeDgYAoLCzW/WNzSmbZUe2dbJimZpxjRpT1XDdRDdtKyTE2IadB5/9l+jN8tT8FiMnH3r7oREWT95ZMa4b4i0rjOpl5r0PSJ9PT0BgUTEfdS6XCyJ7u6fdWAjvUvqCPSGl0xIJLeEYE4XC7e/+4oTo0fibi9BhXF3bp148ILL+SNN96gvLy8sTOJSCux/3gR9ionwX7exLT3NzqOSKMxmUxcNagjvl5mMk+Wseng6fvYi4h7aFBRvH37dgYPHswf/vAHIiIi+PWvf83WrVsbO5uItHDbjxYC0L9jMOZG6i8u0lIE+3kzvl/1w6NJaccpLKs0OJGINKUGFcX9+vVj/vz5ZGVlsWTJEnJycjjvvPPo27cv8+fP58SJE42dU0RamIoqZ83KXwM6aeqEuKehndsRE+JPRZWTj3ccMzqOiDShc2rJ5uXlxdVXX83bb7/NE088wcGDB5kzZw6dOnVi+vTpZGdnN1ZOEWlhvs+xUelwERLgQ8e2fkbHEWkSZpOJCYOiMJtg9zEbe7UEtIjbOqeieNu2bdx1111ERkYyf/585syZw8GDB/nqq6/IyspiwoQJjZVTRFqYHf8zdaKxlmYXaYkig/0Y1TUUgI+2H9MS0CJuqkF9iufPn8+SJUvYu3cvl112GcuWLeOyyy7DbK6usePi4njppZfo1atXo4YVkZahvNLBvuNFgKZOiGf4Ve8O7Mgq5GRpJWv2neDiPupdLOJuGjRSvGjRIqZOnUpGRgYffPABV1xxRU1B/KOYmBgWL17cKCFFpGVJy7ZR5XQR1sb3rPu3irRGvl4WLu9f/dDduv0nOFlSYXAiEWlsDRopTkpKIiYmpk4h7HK5yMzMJCYmBh8fHy2bLOKmaqZOdNLUCfEcfaOC6BIawKG8ElbtyubGBK2CKuJOGjRS3LVrV/Ly8ursLygoIC4u7pxDiUjLVVpRxf7cH6ZOaMEO8SAmk4krBkRhovqhu4Mnio2OJCKNqEFF8elWhi4uLsZq1a9SRdzZ7mM2nC6ICLLSQVMnxMNEBFtJ6BICwMc7juFwaqU7EXdxVtMnZs+eDVT/tPznP/8Zf///rmDlcDjYsmULgwYNatSAItKy7Pxh6oQesBNPNbZ3ONszCzlus5N85CTD40KMjiQijeCsiuKUlBSgeqR4586d+Pj41Lzm4+PDwIEDmTNnTuMmFJEWo6i8suZXxgM6tTU2jIhB/H28uKh3Bz7ekc0XaccZGB2Mr5fF6Fgico7Oqij++uuvAbjlllt45plnCAoKapJQItIy7T5mwwV0audHSIDPLx4v4q6Gx4Ww6WA++SUVrNufx9jeatEm0to1aE7xkiVLVBCLeKAdR08B1Qt2iHgyL7OZcX0jAFi/Pw9beaXBiUTkXJ3xSPE111zD0qVLCQoK4pprrvnZY997771zDiYiLUthWSVH8ksBFcUiAP2igohu50fmyTK+TMvl6sEdjY4kIufgjIvi4OD/9iMNDtYHokhzeWtLRoPPnZoQ02g5tmeewgXEtvenrb+mToiYTCbG94vk5XWH2Ha4gPO6hRIW6Gt0LBFpoDMuipcsWVLv/4uI+3O5XHyXcRKAIdHtDE4j0nJ0Dg2gV0Qg3+cU8eX3x7lhWOP9ICoizatBc4rLysooLS2t+frIkSMsWLCA1atXN1owEWk5jhWWk1tkx8tsop+mTojU8uNDdjuPFpJTWG5wGhFpqAYVxRMmTGDZsmUAnDp1iuHDh/OPf/yDCRMmsGjRokYNKCLG+3GUuHdkEH4+aj0l8r+i2vrRLyoIF/BF2nGj44hIAzWoKP7uu+8YPXo0AP/+97+JiIjgyJEjLFu2jGeffbZRA4qIsRxOF9szTwEwJKatoVlEWqqLeodjAvZk28g6WWZ0HBFpgAYVxaWlpQQGBgKwevVqrrnmGsxmMyNGjODIkSONGlBEjLXveBGlFQ7a+HrRrUOg0XFEWqTwICsDo9sCGi0Waa0aVBR369aNDz74gMzMTD7//HPGjRsHQG5urvoXi7iZH6dODIpui8VsMjiNSMt1Ua8OmE2w93gRyUdOGh1HRM5Sg4riP//5z8yZM4fOnTuTkJDAyJEjgepR48GDBzdqQBExTqm9iu9zigAYrKkTIj+rfRtfhsRUd2eZn7TX4DQicrYaVBRfe+21ZGRksG3bNj777LOa/RdddBH//Oc/Gy2ciBjru8xTOJwuIoOtRAb7GR1HpMW7sFcHLCYTGw7ks/FgntFxROQsNKgoBoiIiGDw4MGYzf+9xPDhw+nVq1ejBBMRY7lcLramFwAwPC7E4DQirUM7fx+Gdv5htHj1Plwul8GJRORMnfHiHf+rpKSEv//973z55Zfk5ubidDprvX7o0KFGCScixknPLyGv2I6PxczATm2NjiPSalzYswOpmafYduQka/ad4IKeHYyOJCJnoEFF8e23386aNWuYNm0akZGRNcs/i4j7+PaHUeKB0cFYvdWbWORMBfl5M21ELK+uT2d+0j7O7xGmz0mRVqBBRfGnn37KJ598wqhRoxo7j4i0AAUlFew6ZgNgWGdNnRA5WzMv6MqbWzLYcbSQr77P5aIfVr0TkZarQXOK27VrR0iIPihF3NW7yUdxOF1EtbXSqZ2/0XFEWp3QNr5MHxkLwIIv9mtusUgr0KCi+LHHHuPPf/4zpaWljZ1HRAzmdLpYvjUD0CixyLm4c0wX/H0s7Mwq5Mu0XKPjiMgvaND0iX/84x8cPHiQ8PBwOnfujLe3d63Xv/vuu0YJJyLN75t9uRzKK8HXy8wgPWAn0mDt2/gyfWRnXlxzkAVf7uOi3h00t1ikBWtQUTxx4sRGjiEiLcWr69IBGN45BF89YCdyTu4c04Vlmw6zK8tG0p7jjOsbYXQkETmNBk2fePjhh392OxsLFy4kLi4Oq9VKfHw869atO+2x2dnZTJ06lZ49e2I2m5k1a1a9x7377rv06dMHX19f+vTpw/vvv39O9xXxFLuPFbLxYD4Ws4mRXdsbHUek1QsJ8GFGYmdAc4tFWroGL95x6tQpXn31Ve6//34KCqpbN3333XdkZWWd8TVWrlzJrFmzmDt3LikpKYwePZrx48eTkZFR7/F2u52wsDDmzp3LwIED6z1m06ZNTJ48mWnTprF9+3amTZvG9ddfz5YtWxp8XxFPsfiHUeLL+kfS1t/H4DQi7uHO0V0I8LGwJ9vG6j3HjY4jIqdhcjXgx9YdO3YwduxYgoODOXz4MHv37qVLly489NBDHDlyhGXLlp3RdRISEhgyZAiLFi2q2de7d28mTpzIvHnzfvbcCy64gEGDBrFgwYJa+ydPnozNZuPTTz+t2XfppZfSrl07li9ffs73/ZHNZiM4OJjCwkKCgoLO6ByRhnhrS8N/WJuaEHPGx+YUlnPeE19R5XTx4d2j2P1DSzaR1uxs/g78VGP+3Xvq8+954euD9I4M4pPfnYfZrLnFIs3hbOq1Bo0Uz549m5tvvpn9+/djtVpr9o8fP561a9ee0TUqKipITk5m3LhxtfaPGzeOjRs3NiQWUD1S/NNrXnLJJTXXbKr7irR2yzYdpsrpYnjnEAZGtzU6johbuWN0F9r4epGWbWP1nhyj44hIPRpUFH/77bf8+te/rrO/Y8eO5OSc2V/2vLw8HA4H4eG1G5qHh4ef8TXqk5OT87PXbOh97XY7Nput1ibiLk6VVrBs0xEAbhsdZ3AaEffT1t+HW0Z1BqrnFjudmlss0tI0qCi2Wq31FoV79+4lLCzsrK710/Y0LpfrnFvWnMk1z/a+8+bNIzg4uGaLjo4+p4wiLcni9ekU26voFRHIxVp5S6RJ3H5eFwJ9vfg+p4jPdmu0WKSlaVBRPGHCBB599FEqKyuB6gIzIyOD++67j0mTJp3RNUJDQ7FYLHVGZ3Nzc+uM4p6NiIiIn71mQ+97//33U1hYWLNlZmY2OKNIS3KqtIIlGw4DMGtsd811FGkiwf7e3HJe9W9intFosUiL06Ci+Omnn+bEiRN06NCBsrIyzj//fLp160ZgYCB/+9vfzugaPj4+xMfHk5SUVGt/UlISiYmJDYkFwMiRI+tcc/Xq1TXXbOh9fX19CQoKqrWJuINX1h2i2F5F78ggxvVRD1WRpnTbeXEEWr3Ye7yIT3dptFikJWnQ4h1BQUGsX7+er7/+muTkZJxOJ0OGDGHs2LFndZ3Zs2czbdo0hg4dysiRI3n55ZfJyMhg5syZQPXobFZWVq1uFqmpqQAUFxdz4sQJUlNT8fHxoU+fPgDcc889jBkzhieeeIIJEybw4Ycf8sUXX7B+/fozvq+IpygoqWCpRolFmk2wnze3jorjmS/388yX+xjfL0J/70RaiLMuip1OJ0uXLuW9997j8OHDmEwm4uLiiIiIOOv5wJMnTyY/P59HH32U7Oxs+vXrx6pVq4iNjQWqF+v4ae/gwYMH1/x/cnIyb731FrGxsRw+fBiAxMREVqxYwYMPPshDDz1E165dWblyJQkJCWd8XxFP8dKag5RUOOgbFcS4PppLLNIcbj0vjtc2pLPveDGf7MzmyoFRRkcSEc6yT7HL5eLKK69k1apVDBw4kF69euFyuUhLS2Pnzp1cddVVfPDBB00Yt+VQn2JpLk3Vp/hIfgkXz19LhcPJazcP5Ve9ahfF53JfkZaipfQp/qlnvtjPP7/YR7cObfh81hgsGi0WaRJN1qd46dKlrF27li+//JKUlBSWL1/OihUr2L59O1988QVfffXVGS/cISLGmrfqeyocTkZ3D+XCnh2MjiPiUW45rzNBVi8O5BbzYeqZrwQrIk3nrKZPLF++nAceeIALL7ywzmu/+tWvuO+++3jzzTeZPn16owUUkca36WA+n+3OwWyCh67oc85tEEVaqpb6G48gqzczL+jKk5/t5R+r93H5gEh8vSxGxxLxaGc1Urxjxw4uvfTS074+fvx4tm/ffs6hRKTpOJwuHv14DwA3JsTSIzzQ4EQinumWxDjCg3zJOlXGG5tbZvEu4knOqiguKCj42V6+4eHhnDx58pxDiUjTWb41g7RsG0FWL+69uIfRcUQ8lp+PhXvHVv8dfP6r/djKKw1OJOLZzqoodjgceHmdfsaFxWKhqqrqnEOJSNPIKSzniU+/B+Dei3sQEuBjcCIRz3ZtfCe6hgVwsrSSl9ccMjqOiEc7qznFLpeLm2++GV9f33pft9vtjRJKRJrGwx/toshexcDotkwf2dnoOCIez8ti5o+X9GLmG8m8uv4QN46IITLYz+hYIh7prIriGTNm/OIxeshOpGX6bFcOn+8+jpfZxN+v6a8WUCItxCV9wxka245tR07yxKffs+CGwb98kog0urMqipcsWdJUOUSkCRWWVfLnD3cB8Ovzu9A7Ur21RVoKk8nEw1f25aoX1vNB6jGmjYwlPjbE6FgiHues5hSLSOv0yEe7yS2yExcawO9+1d3oOCLyE/07BXNdfCcA/vKfPTidZ7yulog0EhXFIm7ukx3ZvJ+ShdkET183EKu3eqGKtERzLulJG18vdhwt5N3vjhodR8TjqCgWcWPHbeXM/WAnAHdf2I342HYGJxKR0+kQaOX3F3UD4InPvudUaYXBiUQ8i4piETflcrn44793cKq0kv4dg/n9RZo2IdLS3ZwYR9ewAPKKK/j7D+0TRaR5nNWDdiLSemxJL2DtvhP4epn55+SBeFv0M7BIczmX5aXnXTOA61/axIpvM7l6cEcSurRvxGQicjr6lBRxQyeK7Hy6KxuA+8b3olsHLeUs0loMjwthyvBoAO5/fyf2KofBiUQ8g4piETfjcLp4JzmTSoeL87qFMkOLdIi0Ovdd2pvQNr4cOlHCC18fNDqOiEdQUSziZr7Zm8vRk2VYvc08dd0AzFqkQ6TVCfb35pGr+gDwwtcHSM08ZWwgEQ+goljEjWQWlPL13lwAJgzqqOViRVqxy/tHcsWASBxOF/euTKW0osroSCJuTUWxiJuoqHLy9rZMnC4Y0CmYgZ3aGh1JRM6ByWTibxP7ExFkJT2vhMdXpRkdScStqSgWcROf7somv6SCIKsXEwZ2NDqOiDSCYH9v/nH9QADe2JzBl2nHDU4k4r5UFIu4gX3Hi9iSXgDAtfHR+Plo1ToRdzGqWyi3jooDYPbb28ksKDU4kYh7UlEs0sqVVzp474clYRO7tqdbhzYGJxKRxvan8T0ZFN2WwrJKZr6RTHml2rSJNDYt3iHSyn2+OwdbeRUhAT5c0jfC6Dgi0gR8vSwsvHEIVzy3nt3HbDz0wS6evHYAJlPt7jLnsmjI1ISYc40p0qpppFikFTuSX8LWH6ZNXD24o1atE3FjUW39eG7KYMwmeCf5KK9vPGx0JBG3ok9QkVaqyuHkvZQsXEB8bDu6hmnahIi7G9UtlD9d2guAv3y8h9W7cwxOJOI+VBSLtFJr9p/gRJGdNr5ejO+naRMinuLOMV2YMjwGlwt+vyJFC3uINBIVxSKt0KnSCtbuOwHA5QMi8ffR4wEinsJkMvHYhL5c0DOM8kont7/+Lel5JUbHEmn19Ekq0gp9uiuHSoeLuNAABnQMNjqOiDQzL4uZ56cOYfJLm9h9zMaNr2xm5a9HntM1G/qQnh7QE3ehkWKRViY9r4SdWYWYqF4G9qdPn4uIZ2jj68Xrtw6na1gAxwrLufHVLRSWVRodS6TVUlEs0oo4XS4+3nEMgGGdQ4hq62dwIhExUmgbX968fQQxIf5kFJSyeH26CmORBlJRLNKKfHfkJNmF5Vi9zYztE250HBFpASKCrbx1RwJRwVbyiu28vPYgBSUVRscSaXVUFIu0EpUOJ19+nwvAhT070MZXjwSISLVO7fx5e+ZIQgJ8OFlayUtrD3LcVm50LJFWRUWxSCuxNb2AwrJKgv28GdGlvdFxRKSF6dTOnzvHdCE8yJei8ipeWXeIrJNlRscSaTVUFIu0AvZKB9/srR4l/lXPDlq5TkTqFWT15o7zutCpnR+lFQ5eXX9I7dpEzpA+WUVagQ0H8ympcNA+wIchse2MjiMiLZi/rxe3jYojLjQAe5WTpRvT2Xe8yOhYIi2e4UXxwoULiYuLw2q1Eh8fz7p16372+DVr1hAfH4/VaqVLly68+OKLtV6/4IILMJlMdbbLL7+85phHHnmkzusREVoRTFqm0ooq1u2vXqhjbJ9wLGa1YBORn+frbeHmxM70DA+k0uHiX5uOsOPoKaNjibRohhbFK1euZNasWcydO5eUlBRGjx7N+PHjyciov4F4eno6l112GaNHjyYlJYUHHniA3//+97z77rs1x7z33ntkZ2fXbLt27cJisXDdddfVulbfvn1rHbdz584mfa8iDbXxYD72KicRQVb6a6EOETlD3hYzN46IYUCnYBwuFyu/zWTzoXyjY4m0WIY+vj5//nxuu+02br/9dgAWLFjA559/zqJFi5g3b16d41988UViYmJYsGABAL1792bbtm08/fTTTJo0CYCQkJBa56xYsQJ/f/86RbGXl5dGh6XFK7ZXselg9YfYhb06YNZCHSJyFrzMZq4fGo2ft4Ut6QV8tP0YpRUOLuwZpoV/RH7CsJHiiooKkpOTGTduXK3948aNY+PGjfWes2nTpjrHX3LJJWzbto3KyvqblS9evJgbbriBgICAWvv3799PVFQUcXFx3HDDDRw6dOhn89rtdmw2W61NpKm9sfkIZZUOQtv40jcqyOg4ItIKmU0mrhoYxYU9OwDwRdpxPtmZjdPlMjiZSMtiWFGcl5eHw+EgPLz2AgTh4eHk5OTUe05OTk69x1dVVZGXl1fn+K1bt7Jr166akegfJSQksGzZMj7//HNeeeUVcnJySExMJD//9L9WmjdvHsHBwTVbdHT0mb5VkQYpr3Tw6rp0AM7vEaZRYhFpMJPJxMV9wrm8fyRQPS3r3eSjOJwqjEV+ZPiDdj/99Y3L5frZX+nUd3x9+6F6lLhfv34MHz681v7x48czadIk+vfvz9ixY/nkk08AeP3110973/vvv5/CwsKaLTMz8+ffmMg5entbJnnFdtr6eTMouq3RcUTEDYzqFsp18Z0wmyAl8xRvbjlCpcNpdCyRFsGwojg0NBSLxVJnVDg3N7fOaPCPIiIi6j3ey8uL9u1rL2ZQWlrKihUr6owS1ycgIID+/fuzf//+0x7j6+tLUFBQrU2kqVQ6nLy0pnpKz+geYeo4ISKNZnBMO25KiMXLbOL7nCKWbEinvNJhdCwRwxlWFPv4+BAfH09SUlKt/UlJSSQmJtZ7zsiRI+scv3r1aoYOHYq3t3et/W+//TZ2u52bbrrpF7PY7XbS0tKIjIw8y3ch0jQ+351D1qkyQtv4MFR9iUWkkfWKDOKWUXH4epk5nF/KK+sOUWyvMjqWiKEMnT4xe/ZsXn31VV577TXS0tK49957ycjIYObMmUD1lIXp06fXHD9z5kyOHDnC7NmzSUtL47XXXmPx4sXMmTOnzrUXL17MxIkT64wgA8yZM4c1a9aQnp7Oli1buPbaa7HZbMyYMaPp3qzIWXh942EApg6P0ep1ItIk4kIDuGN0FwJ8vcguLOe19ekqjMWjGdqSbfLkyeTn5/Poo4+SnZ1Nv379WLVqFbGxsQBkZ2fX6lkcFxfHqlWruPfee3nhhReIiori2WefrWnH9qN9+/axfv16Vq9eXe99jx49ypQpU8jLyyMsLIwRI0awefPmmvuKGGlXViHfHj6Jl9nEjSNi+TIt1+hIIuKmotr6cefoLry67hA5turC+Nbz4mjja2h5IGIIk8ulniwNYbPZCA4OprCwUPOLpVHNeWc7/04+ylUDo3h2ymDe2lL/YjZnYmpCTIPPPZf7ikjDGfH39kSRnVfXH6KovIqIIOtZFcbnklekqZ1Nvabfy4q0IPnFdj7afgyAm0d1NjaMiHiMsEBfbj+vC4FWL3Js5SxerznG4nlUFIu0ICu+zaSiysmATsEMVhs2EWlG/1sYH7fZVRiLx1FRLNJCVDqc/GvTEQBuTuysJVhFpNmFBfpyx08K4xIVxuIhVBSLtBCf784hx1ZOaBsfLh+g9oAiYozQnxTGSzakU1ahPsbi/lQUi7QQSzccBmBqQiy+XhZjw4iIRwsN9OW28+II8PXiWGE5SzdqgQ9xfyqKRVqAXVmFbDvyQxs2PcktIi1Ah0Art42Kw8/bQubJMl7fdJiKKi0JLe5LjQhFmsEvtUn6d/JRAPpEBakvsYi0GBHB1e3ZFq8/xJH8UpZtPsyMkZ0bbVEho1pOitRHI8UiBiu2V7Hj6CkAEruGGhtGROQnOrb145bEOHy8zBw6UcKbW45Q5dCIsbgfFcUiBtt2uIAqp4uObf2IbudndBwRkTqiQ/x/GCE2se94Mcu3ZuBwau0vcS8qikUM5HC62HwoH4DEru3Vhk1EWqy40ACmj+yMl9lEWk4RK7dlqjAWt6KiWMRAu48VYiuvIsDXi/4dg42OIyLys7qGteGmEbFYzCZ2ZRXy7ndHVRiL21BRLGKgTQerR4kT4kLwaqQHV0REmlKP8ECmDIvBbILUzFM88N5OnCqMxQ3oU1jEIFmnyjhSUIrZBMM7hxgdR0TkjPWJCuL6odGYgJXbMnn4o924XCqMpXVTUSxikB9Hift1DCbIz9vgNCIiZ2dAp7ZcG98Jkwn+tfkIf/skTYWxtGoqikUMUGyvYrvasIlIKzc4ph3zru4PwKvr0/nLf/ZoKoW0WiqKRQzw7eECHE4XndqpDZuItG43DI/hb1f3A2DpxsP837s79PCdtEpa0U6kmTmcLrb80IZtZBe1YROR2s5llTej3JgQi5+3hTnvbOffyUcprahi/vWDsHpbjI4mcsY0UizSzNSGTUTc0TVDOrHwxiF4W0ys2pnD9MVbOVVaYXQskTOmolikmakNm4i4q0v7RbL0luEE+nqx9XAB1yzaSGZBqdGxRM6Ipk+INKNabdji1IZNRNzPqG6hvPObkdyy5FsOnShhwgsbeH7q4EZ/qPhcpplMTYhpxCTiLjRMJdKMarVhs6oNm4i4p14RQbx/1yj6RgVRUFLBtMVbeXXdIbVskxZNRbFIM1EbNhHxJBHBVt79TSLXDO6Iw+nir5+kcdeb32mesbRYKopFmsnW9Oo2bB3bqg2biHgGq7eFf1w/kEeu7IOX2cSnu3IY/8w6Nh7MMzqaSB0qikWaQZXDyeYf2rCN6qY2bCLiOUwmEzePiuO9uxKJCw0gu7CcG1/dwiMf7cZe6TA6nkgNPWgn0gx2HC2k2F5FkNWLfs3Yhq019jsVEfc0oFNbPvn9eTz28R6Wb81k6cbDBPt5c9XAKHpHBhkdT0QjxSJNzeVyseGHXxWO7NIeL7P+2omIZ/L38WLeNQP4123DiQnxp7Cskn9tPsLSjenk2sqNjiceTp/OIk1s08F8sgvL8baYGKY2bCIijO4exuezxnB+jzAsJhP7jhfz7Ff7+TA1C1t5pdHxxENp+oRIE1u8Ph2AITHt8PfRXzkREQA/HwuX9I0gPrYdn+3KYU+2jS3pBSQfOcmILu0Z3T2UQLWulGakT2iRJnTwRDFffp8LwCi1YRMRqSO0jS83jYjl0IliVu85TkZBKesP5LElPZ+RXdozunsYAb4qV6Tp6U+ZSBN6ac1BAHpFBBIa6GtwGhGRlqtLWBt+PSaA/bnFfJF2nKMny1i7P4/N6QXVxXG3UPxVHEsT0p8ukSZy7FQZ732XBcAFPTsYnEZEpOUzmUz0CA+ke4c27D1exBdpxzl2qpw1+06w6VA+iV3ac56KY2ki+lMl0kReWXeIKqeLEV1CiAnxNzqOiEirYTKZ6BURRM/wQNKyi/jy++NkF5bzzb4TbFRxLE1Ef5pEmkB+sZ3lW6t7BN99YTcyC8oMTiQi0vqYTCb6RAXRO7L+4nhM91DO6xaGj5eaacm5M/xP0cKFC4mLi8NqtRIfH8+6det+9vg1a9YQHx+P1WqlS5cuvPjii7VeX7p0KSaTqc5WXl67/+HZ3lfkbCzdeJjySif9OwZzXjc9YCcici5+LI5/e2E3bkqIJTLYSkWVky/ScpmftJfvMk7idLmMjimtnKFF8cqVK5k1axZz584lJSWF0aNHM378eDIy6l+FKz09ncsuu4zRo0eTkpLCAw88wO9//3vefffdWscFBQWRnZ1da7NarQ2+r8jZKCyr5PWNhwG4+8KuWtJZRKSR/G9xfMOwaNr5e2Mrr+LfyUdZ+M0BDp0oNjqitGKGFsXz58/ntttu4/bbb6d3794sWLCA6OhoFi1aVO/xL774IjExMSxYsIDevXtz++23c+utt/L000/XOs5kMhEREVFrO5f7ipyNV9cdwlZeRfcObRjXJ+KXTxARkbNiMpkY0Kkts8b24NK+Efh6mTl2qpxX16fzr81HOFVaYXREaYUMK4orKipITk5m3LhxtfaPGzeOjRs31nvOpk2b6hx/ySWXsG3bNior/7sCTnFxMbGxsXTq1IkrrriClJSUc7qvyJnKK7bXLNbxh3E9MJs1Siwi0lS8LWbG9AjjD+N6khAXgtkEadk2nvlyP1vS8zWlQs6KYUVxXl4eDoeD8PDwWvvDw8PJycmp95ycnJx6j6+qqiIvLw+AXr16sXTpUj766COWL1+O1Wpl1KhR7N+/v8H3BbDb7dhstlqbyE8t+uYgpRUO+ncM5pK+GiUWEWkObXy9mDCoI7/7VXei2/lhr3LyYeoxFq9PJ6/YbnQ8aSUMf9Dup/MtXS7Xz87BrO/4/90/YsQIbrrpJgYOHMjo0aN5++236dGjB88999w53XfevHkEBwfXbNHR0b/85sSjHDtVxr82HwHgj5f01FxiEZFmFh5k5dfnd+Xy/pF4W0yk55Xw7Jf7Wbf/BA6nRo3l5xlWFIeGhmKxWOqMzubm5tYZxf1RREREvcd7eXnRvn37es8xm80MGzasZqS4IfcFuP/++yksLKzZMjMzf/E9imd57qv9VFQ5GR4Xwuju6jghImIEs8nEqG6h3HNRD7qGBVDldPHprhxeXnuQkyWaayynZ1hR7OPjQ3x8PElJSbX2JyUlkZiYWO85I0eOrHP86tWrGTp0KN7e3vWe43K5SE1NJTIyssH3BfD19SUoKKjWJvKjtGwbK7+t/kFJo8QiIsYLCfDh1lFxXDO4I1ZvM5kny3ju6/3syio0Opq0UIYu3jF79mymTZvG0KFDGTlyJC+//DIZGRnMnDkTqB6dzcrKYtmyZQDMnDmT559/ntmzZ3PHHXewadMmFi9ezPLly2uu+Ze//IURI0bQvXt3bDYbzz77LKmpqbzwwgtnfF+Rs+FyuXjko904XXBZ/wiGdQ4xOpKIiFA9VXJo5xC6hrVhxbcZZJ4s462tGZhM8NAVfbB6W4yOKC2IoUXx5MmTyc/P59FHHyU7O5t+/fqxatUqYmNjAcjOzq7VOzguLo5Vq1Zx77338sILLxAVFcWzzz7LpEmTao45deoUd955Jzk5OQQHBzN48GDWrl3L8OHDz/i+Imfjk53ZbEkvwOpt5oHLehsdR0REfqJdgA93julK0p7jrN1/gje3ZJB85CTPTx1Mtw6BRseTFsLkcqlfSUPYbDaCg4MpLCzUVAoPVlpRxUX/WEN2YTn3ju3BPWO713vcW1u0MIyIuKepCTENPteIfxv3Hy/iPzuOkVdcgZ+3hXnX9Gfi4I7NnkOax9nUa4Z3nxBpzV74+gDZheV0aufHr8/vYnQcERH5Bd3DA1l1z2jO6xZKWaWDWStT+evHe6hyOI2OJgZTUSzSQLuyCnlpzSEAHrxcc9NERFqLDoFWXr91OL+9sBsAr65P5+Yl36o7hYdTUSzSABVVTua8s50qp4vL+0dyaT8t1CEi0ppYzCbmXNKThTcOwc/bwvoDeVz1wnrSsrU4l6dSUSzSAM99tZ/vc4poH+DDoxP6Gh1HREQa6LL+kbx3VyLRIX5kFpRxzcKNrNqZbXQsMYCh3SdEWqMdR0+x8JuDAPx1Yj/at/E1OJGIiJyL3pFBfHT3efxueQrrD+Rx15vf8X+X9uQ353et03f+XB4OPJeHEqXpaaRY5CwUllby27dScDhdXDEgkvH9I42OJCIijaBdgA9LbxnGraPiAHjys7089OEuLQ/tQVQUi5whp9PFH95JJaOglE7t/PjrxH5GRxIRkUbkZTHz5yv78Ocr+mAywRubM5j5RjJlFQ6jo0kzUFEscoYWrTnIF2m5+HiZefGmeNr6+xgdSUREmsCt58XxwtQh+HiZSdpznKmvbqZAnSncnopikTPwzd5c/rF6LwCPXtWXfh2DDU4kIiJN6bL+kbx5ewLBft6kZJxi0qKNHMkvMTqWNCEVxSK/YFdWIXe9+R1OF1wX34nJw6KNjiQiIs1gWOcQ3v1NIh3b+pGeV8KkRZs4bis3OpY0EXWfkFapoU//nu2Tv5kFpdy85FtKKxyM6taev13dv86TyCIi4r66dWjD+3clMv21rXyfU8Qr6w5x66g4otr6GR1NGplGikVOI6/YzowlW8krttM7MogXb4rHx0t/ZUREPE2HICsr7hzBgE7BlFY4eHX9ITILSo2OJY1Mn/Ai9cgrtjPl5c0cOlFCVLCVpbcMI9DqbXQsERExSFt/H964PYGYEH/KK50s2ZjOsVNlRseSRqTpEyI/8WNBvD+3mPAgX968YwThQVajY4mItEjnsphFaxNk9eaWUZ1ZuvEwR/JLeW1DOneM7qLPCDehkWKR/3HsVBk3/E9BvOLOkcSFBhgdS0REWghfLwszRnamUzs/SiscLF6fTl6R3ehY0ghUFIv8YG9OEdcs3MiB3GIigqwqiEVEpF5Wbws3J3YmMthKsb2KJRvTKSqvNDqWnCMVxSLAlkP5XPfiRnJs5XQNC+Dfv1FBLCIip+fv48Uto+IICfDhZGklr286jL1SK9+1ZppTLB6lvrlvu7IKeXtbJlVOFzEh/kwZHsPafXl1jjvbdm4iIuLe2vh6cUtiZ15cc5Bjp8p5a2sG00d2xmJW687WSCPF4tE2Hcxj+dYMqpwu+kQGcdt5cfj76GdFERE5M+3b+DJ9ZGe8LSb25xbz8Y5jRkeSBlJRLB7J5XLx+e4c/rMjGxcwPC6EqQkxeFv0V0JERM5OdIg/NwyLwQRsSS9gS3q+0ZGkAVQBiMdxOF28+91R1uw7AcDY3uFMGBiFWSvViYhIA/WODOLiPuEA/Gf7MdLzSgxOJGdLRbF4FHuVg39tPsx3Gacwm+CawR35Va8OWrpZRETO2fk9whjQKRinC97ccoRTpRVGR5KzoKJYPEaxvYrF69PZd7wYb4uJm0bEMrRziNGxRETETZhMJq4Z3ImoYCulFQ5WfJuJw+kyOpacIRXF4hEKSip4ac1Bjp4sw9/Hwm3ndaFXRJDRsURExM34eJmZmhCL1dtMRkEpq/fkGB1JzpCKYnF72YVlvLjmIPklFbT19+bXY7oSE+JvdCwREXFTIQE+TBrSCYB1+/P4PttmcCI5EyqKxa0dO1XGq+vSKbZXERlsZeaYroQF+hodS0RE3FzfqGASu7YH4J3koxSWacW7lk5FsbitrJNlLF6fTlmlg07t/Lj9vC4E+XkbHUtERDzEpf0i6NjWj7JKB+8mH8Wp+cUtmlYpELd07FQZizccorzSSUyIPzcndsbqbTmna9a3Gp6IiMjpeJnNXD80mue/3s+BE8X8bnkKo7qFNuhaWlW16WmkWNxOXpGdJRvSKa90Ehvizy2NUBCLiIg0RFigL+P7RQLw+e4ccmzlBieS01FRLG7lVGkFizekU1LhIKqtlRmJnfFVQSwiIgZKiAuhZ3ggVU4X72xTm7aWSkWxuI3SiiqWbDhMYVkloW18uTkxTiPEIiJiOJPJxDVDOuLnbSG7sJz1+08YHUnqoaJY3EKV08mbWzI4UWwn2M+bW0d1po2vpsyLiEjLEGj15vL+1dMovvw+l7xiu8GJ5KdUFEur53K5+CAli/S8Eny9zMwY2Zm2/j5GxxIREallcExbunVoQ5XTxfspWThdmkbRkqgollZvzb4TfJdxCrMJpgyPISLYanQkERGROkwmExMHdcTbYiI9r4Rth08aHUn+h+FF8cKFC4mLi8NqtRIfH8+6det+9vg1a9YQHx+P1WqlS5cuvPjii7Vef+WVVxg9ejTt2rWjXbt2jB07lq1bt9Y65pFHHsFkMtXaIiIiGv29SdP7PsdG0p7jAFwxIIoe4YEGJxIRETm9kAAfLu5TXXN8uisbmxb1aDEMnXS5cuVKZs2axcKFCxk1ahQvvfQS48ePZ8+ePcTE1O3Hl56ezmWXXcYdd9zBG2+8wYYNG7jrrrsICwtj0qRJAHzzzTdMmTKFxMRErFYrTz75JOPGjWP37t107Nix5lp9+/bliy++qPnaYtEDWa1NXrGdt7dl4qL6yd4RXdobHUlERFoBo/vOJ3Ztz46jpzh6soyPth/jxoQYTCaToZkETC6XcRNaEhISGDJkCIsWLarZ17t3byZOnMi8efPqHP+nP/2Jjz76iLS0tJp9M2fOZPv27WzatKneezgcDtq1a8fzzz/P9OnTgeqR4g8++IDU1NQGZ7fZbAQHB1NYWEhQUFCDryMNs2RDOou+OUhukZ2YEH9uHx2Hl9nwX3yIiIickZzCcp7/ej9OV/XUv/4dg3/2eC3e0TBnU68ZVkVUVFSQnJzMuHHjau0fN24cGzdurPecTZs21Tn+kksuYdu2bVRW1v/rh9LSUiorKwkJCam1f//+/URFRREXF8cNN9zAoUOHfjav3W7HZrPV2sQYLlf1Awq5RXYCfb2YOjxGBbGIiLQqEcFWzu8RBsB/th+jtKLK4ERiWCWRl5eHw+EgPDy81v7w8HBycnLqPScnJ6fe46uqqsjLy6v3nPvuu4+OHTsyduzYmn0JCQksW7aMzz//nFdeeYWcnBwSExPJz88/bd558+YRHBxcs0VHR5/pW5VGtuLbTHYcLcRsqv7JOcjP2+hIIiIiZ+3Cnh0Ia+NLsb2Kz3bVX/tI8zF8eO2nc2hcLtfPzqup7/j69gM8+eSTLF++nPfeew+r9b8dCcaPH8+kSZPo378/Y8eO5ZNPPgHg9ddfP+1977//fgoLC2u2zMzMX35z0ui+z7HxyEe7ARjXJ4LY9gEGJxIREWkYL4uZqwdXP++07chJjuSXGJzIsxlWFIeGhmKxWOqMCufm5tYZDf5RREREvcd7eXnRvn3th6yefvppHn/8cVavXs2AAQN+NktAQAD9+/dn//79pz3G19eXoKCgWps0r9KKKu5+8zvsVU56hLfhvO6hRkcSERE5J51DAxga2w6AD1KztAS0gQwrin18fIiPjycpKanW/qSkJBITE+s9Z+TIkXWOX716NUOHDsXb+7+/Qn/qqad47LHH+Oyzzxg6dOgvZrHb7aSlpREZGdmAdyLN5S8f7eHgiRLCg3y5Nj4as57UFRERN3Bp3wj8fSwct9nZcKD+6aDS9AydPjF79mxeffVVXnvtNdLS0rj33nvJyMhg5syZQPWUhR87RkB1p4kjR44we/Zs0tLSeO2111i8eDFz5sypOebJJ5/kwQcf5LXXXqNz587k5OSQk5NDcXFxzTFz5sxhzZo1pKens2XLFq699lpsNhszZsxovjcvZ+Xz3Tms3JaJyQT/nDxISziLiIjb8Pf14rJ+Py4BfZyTJRUGJ/JMhhbFkydPZsGCBTz66KMMGjSItWvXsmrVKmJjYwHIzs4mI+O/vQTj4uJYtWoV33zzDYMGDeKxxx7j2WefrelRDNWLgVRUVHDttdcSGRlZsz399NM1xxw9epQpU6bQs2dPrrnmGnx8fNi8eXPNfaVlybWVc9+7OwC4c0wXErtq2oSIiLiXwTFtiQsNoNLh4qPtxzCwY67HMrRPcWumPsXNw+VycfOSb1mz7wR9IoN4/+5EfL0shjdeFxERaWy5ReU89+UBHC4XU4fH0O9/eherT3HDtIo+xSJn4l+bj7Bm3wl8vMwsuGEQvl5aeVBERNxTh0ArY3pU/zb04x3HsFc6DE7kWVQUS4t1ILeIv31SvXrh/eN70SM80OBEIiIiTeuCnh0ICfDBVl7FF2nHjY7jUVQUS4tUUeVk1spU7FVORncPZcbIzkZHEhERaXLeFjNXDYwCYOPBfLJOlRmcyHOoKJYWacEX+9iVZaOtvzdPXzcQs1nt10RExDP0CA+kf8dgXMCHqVk49fhXs1BRLC3O1vQCFq05CMDfr+lPeJD1F84QERFxL5cPiMTXy8zRk2VsSS8wOo5HUFEsLYqtvJJ7V6bicsG18Z24tJ8WVBEREc8TZPVmXN8IAFbvziHXVm5wIvenolhalEc+3E3WqTKiQ/x4+Mo+RscRERExTEJcCJ3a+WGvcvLox3uMjuP2VBRLi/HxjmO8l5KF2QT/vH4QgVbvXz5JRETETZlNJiYO6ogJ+HhHNmv2nTA6kltTUSwtQnZhGXPf3wXA3Rd2Y2jnEIMTiYiIGC+qrR+JXdsD8NAHuyhX7+Imo6JYDOd0upjzznYKyyoZ0CmY31/U3ehIIiIiLcbY3uFEBFnJKCjl+a8OGB3HbakoFsO9tiGdDQfy8fO2sGDyILwt+mMpIiLyI19vC49cVf2czUtrD3Igt8jgRO5J1YcY6vscG09+theAB6/oTZewNgYnEhERaXku6RvBRb06UOlw8cB7u3A61bu4sXkZHUA819INh1m05gAVDie9IgLBBW9tyTA6loiISItjMpl45Kq+bDqUz9bDBby2IZ3bR3cxOpZb0UixGObjHcc4brPTxteLqwd3xGTSqnUiIiKnEx3iz9zLewPw5Od7NY2ikakoFkN8kJLFtiMnMQHXD41W+zUREZEzMHV4DGN6hFFR5eQPb2+nyuE0OpLbUFEsze7giWIeeH8nABf26kC3DppHLCIiciZMJhNPThpAkNWL7UcLeeHrg0ZHchsqiqVZFdur+M0byZRWOIgLDeBXvToYHUlERKRViQi28pcJfQF45st9bE0vMDiRe1BRLM3G5XIx5+3t7DteTIdAXyYPi8asecQiIiJnbeKgjlwzuCNOF/x+eQoFJRVGR2r1VBRLs3nh6wN8tjsHb4uJRTfFE6R5xCIiIg1iMpl4bGI/uoQGkGMrZ84723G51KbtXKgolmbxxZ7j/CNpHwCPTehHfGw7gxOJiIi0bgG+Xjw/dQg+Xma++j6XRWs0v/hcqCiWJpeaeYrfLU/B5YIbE2K4YXiM0ZFERETcQp+oIB6+snq1u6c+38sXe44bnKj1UlEsTepwXgm3Lv2WskoH5/cI45Gr+hodSURExK3cmBDLTSNicLngnhUp7M1R/+KGUFEsTeZEkZ0ZS7ZSUFJBv45BLLxxCN4W/ZETERFpbA9f2ZeRXdpTUuHgtte/Ja/YbnSkVkcVijSJE0V2pr6ymSP5pXRq58drNw8jwFeriouIiDQFb4uZhTcOISbEn6Mny5i+eCuFZZVGx2pVVBRLo/uxIN6fW0xEkJU3bkugQ6DV6FgiIiJurV2AD6/fOpzQNr7sybZxy5KtlNirjI7VaqgolkZ17FQZU34oiCODray4cwSdQwOMjiUiIuIR4kID+Ndtwwn28+a7jFPcsWwbpRUqjM+EimJpNLuyCpn4wgYO/FAQL79DBbGIiEhz6x0ZxNJbhhHgY2HjwXymvrJFi3ucARXF0ii+2HOc61/aRG6RnZ7hgfz7N4kqiEVERAwyOKYdy25LoK2/N6mZp7j2xY0cPVlqdKwWTUWxnJOKKifzVqVx+7JtlFY4GN09lHd+M5KObf2MjiYiIuLR4mPb8e+ZI4kKtnLoRAkTX9jIxgN5RsdqsVQUS4Mdzivhuhc38tLaQwDMGBnLazcP0/LNIiIiLUS3DoG8d9coekUEklds58bFW1jwxT4cTi0J/VMqiuWslVc6+GfSPsYtWMv2o4UE+3nz0rR4/jKhn/oQi4iItDARwVbev2sUk4dG43LBgi/2M/mlTXyfYzM6WouixrFyxhxOF5/szOapz78ns6AMgFHd2vPUtQOJ0nQJERGRFsvPx8IT1w5gRNcQ5r6/i21HTnL5s+u5JbEz94ztTqB+y6uiWH5ZeaWDj7Yf48VvDnIorwSAyGArD17eh8v6R2AymQxOKCIiImfi6sGdGB7Xnsf+s4fPdufw6vp03t6Wyc2JnbllVBztAnyMjmgYw3/XvXDhQuLi4rBarcTHx7Nu3bqfPX7NmjXEx8djtVrp0qULL774Yp1j3n33Xfr06YOvry99+vTh/fffP+f7ehqXy8X2zFP8+cNdJDz+Jf/37x0cyish2M+be8f24IvZ53P5gEgVxCIiIq1Mx7Z+vDgtniW3DKNrWAC28iqe/eoAo574ij++s53Nh/JxeuCcY0NHileuXMmsWbNYuHAho0aN4qWXXmL8+PHs2bOHmJiYOsenp6dz2WWXcccdd/DGG2+wYcMG7rrrLsLCwpg0aRIAmzZtYvLkyTz22GNcffXVvP/++1x//fWsX7+ehISEBt3XUxy3lZN85CRr953g6725HLf9d930iCArt4zqzI0jYmmj5ZpFRERavQt7duD87mF8vjuH578+wO5jNt5JPso7yUfp2NaPC3qGMbp7GInd2nvEQ/Qml8tl2I8CCQkJDBkyhEWLFtXs6927NxMnTmTevHl1jv/Tn/7ERx99RFpaWs2+mTNnsn37djZt2gTA5MmTsdlsfPrppzXHXHrppbRr147ly5c36L71sdlsBAcHU1hYSFBQ0Nm9cQOV2KvILbKTayvn6MkyDpwo5kBuMbuyCskuLK91rJ+3hYv7hHNtfCdGdQvFYm7cUeG3tmQ06vVERETc1dSEph20c7lcfHv4JO99d5RPdmRT9JPlobuEBTCgYzC9IoPo3D6AzqH+RAb5EeTn1aJ/a3w29ZphQ34VFRUkJydz33331do/btw4Nm7cWO85mzZtYty4cbX2XXLJJSxevJjKykq8vb3ZtGkT9957b51jFixY0OD7tgSbDuaTXVhGldOFw+mq/q/DWevrKoeL8ioHZRUOSuxVlFY6KLVXUWyv4kSRnRNFdkoqHKe9h9kEPSOCSIgL4Ve9OjA8LgSrt6UZ36WIiIgYwWQyMTwuhOFxITxyVV82HMhj7b4TrN2fR3peCYdOVG+kHqt1nrfFRDt/H9q38aV9gA/tAnzw97Zg9TZj9bbUbL5eZrwsJrzMZrzMJibFd2r0wbZzZVhRnJeXh8PhIDw8vNb+8PBwcnJy6j0nJyen3uOrqqrIy8sjMjLytMf8eM2G3BfAbrdjt/93OkFhYSFQ/RNIc3ju8+2s35/fKNfy9zETFmglPNBKXJg/XUID6BEeRJ+oIAL+Z2pERVkJFWWNcst6lZYUNd3FRURE3Ehz1Rs/GtbRj2EdY/jDhTEUFNvZnW1jd5aNQ3nFZOSXklFQiq28CjuQU1pCzlmuCTK228V4NUMb1x+/b2cyMcLwyaE/HXJ3uVw/Owxf3/E/3X8m1zzb+86bN4+//OUvdfZHR0ef9pyWbK/RAUREROSM3WF0gEbWfkHz3q+oqIjg4OCfPcawojg0NBSLxVJndDY3N7fOKO6PIiIi6j3ey8uL9u3b/+wxP16zIfcFuP/++5k9e3bN106nk4KCAtq3b9+i59K0BDabjejoaDIzM1vV/OvWTN/z5qfvefPT99wY+r43P33PG87lclFUVERUVNQvHmtYUezj40N8fDxJSUlcffXVNfuTkpKYMGFCveeMHDmS//znP7X2rV69mqFDh+Lt7V1zTFJSUq15xatXryYxMbHB9wXw9fXF19e31r62bdue2ZsVAIKCgvSXuZnpe9789D1vfvqeG0Pf9+an73nD/NII8Y8MnT4xe/Zspk2bxtChQxk5ciQvv/wyGRkZzJw5E6genc3KymLZsmVAdaeJ559/ntmzZ3PHHXewadMmFi9eXNNVAuCee+5hzJgxPPHEE0yYMIEPP/yQL774gvXr15/xfUVERETEsxhaFE+ePJn8/HweffRRsrOz6devH6tWrSI2NhaA7OxsMjL+27YrLi6OVatWce+99/LCCy8QFRXFs88+W9OjGCAxMZEVK1bw4IMP8tBDD9G1a1dWrlxZ06P4TO4rIiIiIp7F0D7F4hnsdjvz5s3j/vvvrzMFRZqGvufNT9/z5qfvuTH0fW9++p43DxXFIiIiIuLxmr5BnIiIiIhIC6eiWEREREQ8nopiEREREfF4KopFRERExOOpKJYmtXDhQuLi4rBarcTHx7Nu3TqjI7mtefPmMWzYMAIDA+nQoQMTJ05k714t6N2c5s2bh8lkYtasWUZHcXtZWVncdNNNtG/fHn9/fwYNGkRycrLRsdxWVVUVDz74IHFxcfj5+dGlSxceffRRnE6n0dHcytq1a7nyyiuJiorCZDLxwQcf1Hrd5XLxyCOPEBUVhZ+fHxdccAG7d+82JqwbUlEsTWblypXMmjWLuXPnkpKSwujRoxk/fnyt3tPSeNasWcPdd9/N5s2bSUpKoqqqinHjxlFSUmJ0NI/w7bff8vLLLzNgwACjo7i9kydPMmrUKLy9vfn000/Zs2cP//jHP7TKaBN64oknePHFF3n++edJS0vjySef5KmnnuK5554zOppbKSkpYeDAgTz//PP1vv7kk08yf/58nn/+eb799lsiIiK4+OKLKSoqauak7kkt2aTJJCQkMGTIEBYtWlSzr3fv3kycOJF58+YZmMwznDhxgg4dOrBmzRrGjBljdBy3VlxczJAhQ1i4cCF//etfGTRoEAsWLDA6ltu677772LBhg37z1IyuuOIKwsPDWbx4cc2+SZMm4e/vz7/+9S8Dk7kvk8nE+++/z8SJE4HqUeKoqChmzZrFn/70J6C6f3F4eDhPPPEEv/71rw1M6x40UixNoqKiguTkZMaNG1dr/7hx49i4caNBqTxLYWEhACEhIQYncX933303l19+OWPHjjU6ikf46KOPGDp0KNdddx0dOnRg8ODBvPLKK0bHcmvnnXceX375Jfv27QNg+/btrF+/nssuu8zgZJ4jPT2dnJycWp+rvr6+nH/++fpcbSSGLvMs7isvLw+Hw0F4eHit/eHh4eTk5BiUynO4XC5mz57NeeedR79+/YyO49ZWrFhBcnIy27ZtMzqKxzh06BCLFi1i9uzZPPDAA2zdupXf//73+Pr6Mn36dKPjuaU//elPFBYW0qtXLywWCw6Hg7/97W9MmTLF6Gge48fPzvo+V48cOWJEJLejolialMlkqvW1y+Wqs08a329/+1t27NjB+vXrjY7i1jIzM7nnnntYvXo1VqvV6Dgew+l0MnToUB5//HEABg8ezO7du1m0aJGK4iaycuVK3njjDd566y369u1Lamoqs2bNIioqihkzZhgdz6Poc7XpqCiWJhEaGorFYqkzKpybm1vnp1xpXL/73e/46KOPWLt2LZ06dTI6jltLTk4mNzeX+Pj4mn0Oh4O1a9fy/PPPY7fbsVgsBiZ0T5GRkfTp06fWvt69e/Puu+8alMj9/fGPf+S+++7jhhtuAKB///4cOXKEefPmqShuJhEREUD1iHFkZGTNfn2uNh7NKZYm4ePjQ3x8PElJSbX2JyUlkZiYaFAq9+Zyufjtb3/Le++9x1dffUVcXJzRkdzeRRddxM6dO0lNTa3Zhg4dyo033khqaqoK4iYyatSoOu0G9+3bR2xsrEGJ3F9paSlmc+2SwWKxqCVbM4qLiyMiIqLW52pFRQVr1qzR52oj0UixNJnZs2czbdo0hg4dysiRI3n55ZfJyMhg5syZRkdzS3fffTdvvfUWH374IYGBgTWj9MHBwfj5+Rmczj0FBgbWmbMdEBBA+/btNZe7Cd17770kJiby+OOPc/3117N161ZefvllXn75ZaOjua0rr7ySv/3tb8TExNC3b19SUlKYP38+t956q9HR3EpxcTEHDhyo+To9PZ3U1FRCQkKIiYlh1qxZPP7443Tv3p3u3bvz+OOP4+/vz9SpUw1M7UZcIk3ohRdecMXGxrp8fHxcQ4YMca1Zs8boSG4LqHdbsmSJ0dE8yvnnn++65557jI7h9v7zn/+4+vXr5/L19XX16tXL9fLLLxsdya3ZbDbXPffc44qJiXFZrVZXly5dXHPnznXZ7Xajo7mVr7/+ut5/x2fMmOFyuVwup9Ppevjhh10REREuX19f15gxY1w7d+40NrQbUZ9iEREREfF4mlMsIiIiIh5PRbGIiIiIeDwVxSIiIiLi8VQUi4iIiIjHU1EsIiIiIh5PRbGIiIiIeDwVxSIiIiLi8VQUi4h4uMOHD2MymUhNTTU6ioiIYbR4h4iIh3M4HJw4cYLQ0FC8vLyMjiMiYggVxSIiHqyiogIfHx+jY4iIGE7TJ0RE3MgFF1zAb3/7W37729/Stm1b2rdvz4MPPsiP4x+dO3fmr3/9KzfffDPBwcHccccd9U6f2L17N5dffjlBQUEEBgYyevRoDh48WPP6kiVL6N27N1arlV69erFw4cLmfqsiIo1KvycTEXEzr7/+Orfddhtbtmxh27Zt3HnnncTGxnLHHXcA8NRTT/HQQw/x4IMP1nt+VlYWY8aM4YILLuCrr74iKCiIDRs2UFVVBcArr7zCww8/zPPPP8/gwYNJSUnhjjvuICAggBkzZjTb+xQRaUyaPiEi4kYuuOACcnNz2b17NyaTCYD77ruPjz76iD179tC5c2cGDx7M+++/X3PO4cOHiYuLIyUlhUGDBvHAAw+wYsUK9u7di7e3d517xMTE8MQTTzBlypSafX/9619ZtWoVGzdubPo3KSLSBDR9QkTEzYwYMaKmIAYYOXIk+/fvx+FwADB06NCfPT81NZXRo0fXWxCfOHGCzMxMbrvtNtq0aVOz/fWvf601vUJEpLXR9AkREQ8TEBDws6/7+fmd9jWn0wlUT6FISEio9ZrFYjn3cCIiBlFRLCLiZjZv3lzn6+7du59x0TpgwABef/11Kisr64wWh4eH07FjRw4dOsSNN97YaJlFRIym6RMiIm4mMzOT2bNns3fvXpYvX85zzz3HPffcc8bn//a3v8Vms3HDDTewbds29u/fz7/+9S/27t0LwCOPPMK8efN45pln2LdvHzt37mTJkiXMnz+/qd6SiEiT00ixiIibmT59OmVlZQwfPhyLxcLvfvc77rzzzjM+v3379nz11Vf88Y9/5Pzzz8disTBo0CBGjRoFwO23346/vz9PPfUU//d//0dAQAD9+/dn1qxZTfSORESanrpPiIi4kQsuuIBBgwaxYMECo6OIiLQqmj4hIiIiIh5PRbGIiIiIeDxNnxARERERj6eRYhERERHxeCqKRURERMTjqSgWEREREY+nolhEREREPJ6KYhERERHxeCqKRURERMTjqSgWEREREY+nolhEREREPJ6KYhERERHxeP8P+nOsBm/Sj4kAAAAASUVORK5CYII=",
      "text/plain": [
       "<Figure size 800x500 with 1 Axes>"
      ]
     },
     "metadata": {},
     "output_type": "display_data"
    }
   ],
   "source": [
    "house_data_1 = data.loc[(data['price'] >= 0.1) & (data['price'] < 10)]\n",
    "fig,ax = plt.subplots(figsize = (8,5))\n",
    "sns.distplot(house_data_1['price'])"
   ]
  },
  {
   "cell_type": "code",
   "execution_count": 15,
   "metadata": {},
   "outputs": [
    {
     "name": "stderr",
     "output_type": "stream",
     "text": [
      "c:\\Users\\ASUS\\anaconda3\\lib\\site-packages\\seaborn\\distributions.py:2619: FutureWarning: `distplot` is a deprecated function and will be removed in a future version. Please adapt your code to use either `displot` (a figure-level function with similar flexibility) or `histplot` (an axes-level function for histograms).\n",
      "  warnings.warn(msg, FutureWarning)\n"
     ]
    },
    {
     "data": {
      "text/plain": [
       "<AxesSubplot:xlabel='price', ylabel='Density'>"
      ]
     },
     "execution_count": 15,
     "metadata": {},
     "output_type": "execute_result"
    },
    {
     "data": {
      "image/png": "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",
      "text/plain": [
       "<Figure size 800x500 with 1 Axes>"
      ]
     },
     "metadata": {},
     "output_type": "display_data"
    }
   ],
   "source": [
    "house_data_2 = data.loc[(data['price'] >= 0.1) & (data['price'] < 50)]\n",
    "fig,ax = plt.subplots(figsize = (8,5))\n",
    "sns.distplot(house_data_2['price'])"
   ]
  },
  {
   "cell_type": "code",
   "execution_count": 16,
   "metadata": {},
   "outputs": [],
   "source": [
<<<<<<< HEAD
    "house_data = data.loc[(data['price'] >= 0.1) & (data['price'] < 500)]"
   ]
  },
  {
   "cell_type": "code",
   "execution_count": null,
   "metadata": {},
   "outputs": [],
   "source": [
    "#house_data.to_excel('house_data.xlsx', index=False)"
=======
    "house_data = data.loc[(data['price'] >= 0.1) & (data['price'] < 500)]\n",
    "house_data.to_excel('data/house_data.xlsx', index=False)"
>>>>>>> 566809af46a4ead4d70304c3eec0437a3b92b45e
   ]
  },
  {
   "cell_type": "code",
   "execution_count": 57,
   "metadata": {},
   "outputs": [
    {
     "data": {
      "text/plain": [
       "8266"
      ]
     },
     "execution_count": 57,
     "metadata": {},
     "output_type": "execute_result"
    }
   ],
   "source": [
    "len(house_data)"
   ]
  },
  {
   "cell_type": "code",
   "execution_count": 58,
   "metadata": {},
   "outputs": [
    {
     "name": "stderr",
     "output_type": "stream",
     "text": [
      "C:\\Users\\84947\\AppData\\Local\\Temp\\ipykernel_19136\\3740483212.py:2: UserWarning: \n",
      "\n",
      "`distplot` is a deprecated function and will be removed in seaborn v0.14.0.\n",
      "\n",
      "Please adapt your code to use either `displot` (a figure-level function with\n",
      "similar flexibility) or `histplot` (an axes-level function for histograms).\n",
      "\n",
      "For a guide to updating your code to use the new functions, please see\n",
      "https://gist.github.com/mwaskom/de44147ed2974457ad6372750bbe5751\n",
      "\n",
      "  sns.distplot(house_data['price'])\n"
     ]
    },
    {
     "data": {
      "text/plain": [
       "<AxesSubplot: xlabel='price', ylabel='Density'>"
      ]
     },
     "execution_count": 58,
     "metadata": {},
     "output_type": "execute_result"
    },
    {
     "data": {
      "image/png": "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",
      "text/plain": [
       "<Figure size 800x500 with 1 Axes>"
      ]
     },
     "metadata": {},
     "output_type": "display_data"
    }
   ],
   "source": [
    "fig,ax = plt.subplots(figsize = (8,5))\n",
    "sns.distplot(house_data['price'])"
   ]
  },
  {
   "attachments": {},
   "cell_type": "markdown",
   "metadata": {},
   "source": [
    "## Xử lí area"
   ]
  },
  {
   "cell_type": "code",
   "execution_count": 59,
   "metadata": {},
   "outputs": [
    {
     "data": {
      "text/plain": [
       "124"
      ]
     },
     "execution_count": 59,
     "metadata": {},
     "output_type": "execute_result"
    }
   ],
   "source": [
    "house_data['area'].isna().sum()"
   ]
  },
  {
   "cell_type": "code",
   "execution_count": 60,
   "metadata": {},
   "outputs": [
    {
     "data": {
      "text/plain": [
       "count      8142.000000\n",
       "mean         97.477207\n",
       "std        1148.948237\n",
       "min           3.000000\n",
       "25%          43.000000\n",
       "50%          58.000000\n",
       "75%          84.000000\n",
       "max      100103.000000\n",
       "Name: area, dtype: float64"
      ]
     },
     "execution_count": 60,
     "metadata": {},
     "output_type": "execute_result"
    }
   ],
   "source": [
    "house_data['area'].describe()"
   ]
  },
  {
   "cell_type": "code",
   "execution_count": 103,
   "metadata": {},
   "outputs": [],
   "source": [
    "house_data = house_data.loc[(house_data['area'] >= 10) & (house_data['area'] <= 20000)]"
   ]
  },
  {
   "cell_type": "code",
   "execution_count": 104,
   "metadata": {},
   "outputs": [
    {
     "data": {
      "text/plain": [
       "count     8096.000000\n",
       "mean        85.640689\n",
       "std        303.197151\n",
       "min         10.000000\n",
       "25%         44.000000\n",
       "50%         59.000000\n",
       "75%         85.000000\n",
       "max      18264.000000\n",
       "Name: area, dtype: float64"
      ]
     },
     "execution_count": 104,
     "metadata": {},
     "output_type": "execute_result"
    }
   ],
   "source": [
    "house_data['area'].describe()"
   ]
  },
  {
   "cell_type": "code",
   "execution_count": 63,
   "metadata": {},
   "outputs": [
    {
     "name": "stderr",
     "output_type": "stream",
     "text": [
      "C:\\Users\\84947\\AppData\\Local\\Temp\\ipykernel_19136\\255560388.py:3: UserWarning: \n",
      "\n",
      "`distplot` is a deprecated function and will be removed in seaborn v0.14.0.\n",
      "\n",
      "Please adapt your code to use either `displot` (a figure-level function with\n",
      "similar flexibility) or `histplot` (an axes-level function for histograms).\n",
      "\n",
      "For a guide to updating your code to use the new functions, please see\n",
      "https://gist.github.com/mwaskom/de44147ed2974457ad6372750bbe5751\n",
      "\n",
      "  sns.distplot(house_data_3['area'])\n"
     ]
    },
    {
     "data": {
      "text/plain": [
       "<AxesSubplot: xlabel='area', ylabel='Density'>"
      ]
     },
     "execution_count": 63,
     "metadata": {},
     "output_type": "execute_result"
    },
    {
     "data": {
      "image/png": "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",
      "text/plain": [
       "<Figure size 800x500 with 1 Axes>"
      ]
     },
     "metadata": {},
     "output_type": "display_data"
    }
   ],
   "source": [
    "house_data_3 = house_data.loc[(house_data['area'] >=10) & (house_data['area'] <=500)]\n",
    "fig,ax = plt.subplots(figsize = (8,5))\n",
    "sns.distplot(house_data_3['area'])"
   ]
  },
  {
   "cell_type": "code",
   "execution_count": 105,
   "metadata": {},
   "outputs": [
    {
     "data": {
      "text/plain": [
       "8096"
      ]
     },
     "execution_count": 105,
     "metadata": {},
     "output_type": "execute_result"
    }
   ],
   "source": [
    "len(house_data)"
   ]
  },
  {
   "attachments": {},
   "cell_type": "markdown",
   "metadata": {},
   "source": [
    "# Xử lý num_floors và bedrooms"
   ]
  },
  {
   "cell_type": "code",
   "execution_count": 106,
   "metadata": {},
   "outputs": [
    {
     "data": {
      "text/plain": [
       "houseTypes       0\n",
       "area             0\n",
       "num_floors    1680\n",
       "bedrooms      1709\n",
       "district         0\n",
       "city             0\n",
       "price            0\n",
       "url              0\n",
       "dtype: int64"
      ]
     },
     "execution_count": 106,
     "metadata": {},
     "output_type": "execute_result"
    }
   ],
   "source": [
    "house_data.isna().sum()"
   ]
  },
  {
   "cell_type": "code",
   "execution_count": 107,
   "metadata": {},
   "outputs": [
    {
     "data": {
      "text/plain": [
       "houseTypes       0\n",
       "area             0\n",
       "num_floors    1700\n",
       "bedrooms      1709\n",
       "district         0\n",
       "city             0\n",
       "price            0\n",
       "url              0\n",
       "dtype: int64"
      ]
     },
     "execution_count": 107,
     "metadata": {},
     "output_type": "execute_result"
    }
   ],
   "source": [
    "house_data.loc[house_data['num_floors'] > 11, 'num_floors'] = None\n",
    "house_data.isna().sum()"
   ]
  },
  {
   "cell_type": "code",
   "execution_count": 67,
   "metadata": {},
   "outputs": [
    {
     "name": "stderr",
     "output_type": "stream",
     "text": [
      "C:\\Users\\84947\\AppData\\Local\\Temp\\ipykernel_19136\\4248583683.py:2: UserWarning: \n",
      "\n",
      "`distplot` is a deprecated function and will be removed in seaborn v0.14.0.\n",
      "\n",
      "Please adapt your code to use either `displot` (a figure-level function with\n",
      "similar flexibility) or `histplot` (an axes-level function for histograms).\n",
      "\n",
      "For a guide to updating your code to use the new functions, please see\n",
      "https://gist.github.com/mwaskom/de44147ed2974457ad6372750bbe5751\n",
      "\n",
      "  sns.distplot(house_data['num_floors'])\n"
     ]
    },
    {
     "data": {
      "text/plain": [
       "<AxesSubplot: xlabel='num_floors', ylabel='Density'>"
      ]
     },
     "execution_count": 67,
     "metadata": {},
     "output_type": "execute_result"
    },
    {
     "data": {
      "image/png": "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",
      "text/plain": [
       "<Figure size 800x500 with 1 Axes>"
      ]
     },
     "metadata": {},
     "output_type": "display_data"
    }
   ],
   "source": [
    "fig,ax = plt.subplots(figsize = (8,5))\n",
    "sns.distplot(house_data['num_floors'])"
   ]
  },
  {
   "cell_type": "code",
   "execution_count": 68,
   "metadata": {},
   "outputs": [
    {
     "name": "stderr",
     "output_type": "stream",
     "text": [
      "C:\\Users\\84947\\AppData\\Local\\Temp\\ipykernel_19136\\2031751330.py:2: UserWarning: \n",
      "\n",
      "`distplot` is a deprecated function and will be removed in seaborn v0.14.0.\n",
      "\n",
      "Please adapt your code to use either `displot` (a figure-level function with\n",
      "similar flexibility) or `histplot` (an axes-level function for histograms).\n",
      "\n",
      "For a guide to updating your code to use the new functions, please see\n",
      "https://gist.github.com/mwaskom/de44147ed2974457ad6372750bbe5751\n",
      "\n",
      "  sns.distplot(house_data['bedrooms'])\n"
     ]
    },
    {
     "data": {
      "text/plain": [
       "<AxesSubplot: xlabel='bedrooms', ylabel='Density'>"
      ]
     },
     "execution_count": 68,
     "metadata": {},
     "output_type": "execute_result"
    },
    {
     "data": {
      "image/png": "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",
      "text/plain": [
       "<Figure size 800x500 with 1 Axes>"
      ]
     },
     "metadata": {},
     "output_type": "display_data"
    }
   ],
   "source": [
    "fig,ax = plt.subplots(figsize = (8,5))\n",
    "sns.distplot(house_data['bedrooms'])"
   ]
  },
  {
   "cell_type": "code",
   "execution_count": 108,
   "metadata": {},
   "outputs": [
    {
     "data": {
      "text/plain": [
       "area             0\n",
       "num_floors    1700\n",
       "bedrooms      1709\n",
       "price            0\n",
       "dtype: int64"
      ]
     },
     "execution_count": 108,
     "metadata": {},
     "output_type": "execute_result"
    }
   ],
   "source": [
    "numeric_houses = pd.DataFrame({'area':house_data['area'],'num_floors':house_data['num_floors'],'bedrooms':house_data['bedrooms'],'price':house_data['price']})\n",
    "numeric_houses.isna().sum()"
   ]
  },
  {
   "cell_type": "code",
   "execution_count": 109,
   "metadata": {},
   "outputs": [
    {
     "data": {
      "text/plain": [
       "8096"
      ]
     },
     "execution_count": 109,
     "metadata": {},
     "output_type": "execute_result"
    }
   ],
   "source": [
    "len(numeric_houses)"
   ]
  },
  {
   "cell_type": "code",
   "execution_count": 110,
   "metadata": {},
   "outputs": [],
   "source": [
    "from sklearn.model_selection import train_test_split\n",
    "from sklearn.ensemble import RandomForestRegressor\n",
    "from sklearn.metrics import mean_squared_error\n",
    "from sklearn.impute import KNNImputer\n",
    "\n",
    "rmse = lambda y, yhat: np.sqrt(mean_squared_error(y, yhat))"
   ]
  },
  {
   "cell_type": "code",
   "execution_count": 111,
   "metadata": {},
   "outputs": [],
   "source": [
    "def optimize_k(data, target):\n",
    "    errors = []\n",
    "    for k in range(1, 20):\n",
    "        imputer = KNNImputer(n_neighbors=k)\n",
    "        imputed = imputer.fit_transform(data)\n",
    "        df_imputed = pd.DataFrame(imputed, columns=data.columns)\n",
    "        \n",
    "        X = df_imputed.drop(target, axis=1)\n",
    "        y = df_imputed[target]\n",
    "        X_train, X_test, y_train, y_test = train_test_split(X, y, test_size=0.2, random_state=42)\n",
    "\n",
    "        model = RandomForestRegressor()\n",
    "        model.fit(X_train, y_train)\n",
    "        preds = model.predict(X_test)\n",
    "        error = rmse(y_test, preds)\n",
    "        errors.append({'K': k, 'RMSE': error})\n",
    "        \n",
    "    return errors"
   ]
  },
  {
   "cell_type": "code",
   "execution_count": 112,
   "metadata": {},
   "outputs": [
    {
     "data": {
      "text/plain": [
       "area             0\n",
       "num_floors    1700\n",
       "bedrooms      1709\n",
       "price            0\n",
       "dtype: int64"
      ]
     },
     "execution_count": 112,
     "metadata": {},
     "output_type": "execute_result"
    }
   ],
   "source": [
    "test_numeric_house = numeric_houses.copy()\n",
    "test_numeric_house.isna().sum()"
   ]
  },
  {
   "cell_type": "code",
   "execution_count": 113,
   "metadata": {},
   "outputs": [
    {
     "data": {
      "text/plain": [
       "8096"
      ]
     },
     "execution_count": 113,
     "metadata": {},
     "output_type": "execute_result"
    }
   ],
   "source": [
    "len(test_numeric_house)"
   ]
  },
  {
   "cell_type": "code",
   "execution_count": 114,
   "metadata": {},
   "outputs": [
    {
     "name": "stdout",
     "output_type": "stream",
     "text": [
      "[{'K': 1, 'RMSE': 17.120584945798544}, {'K': 2, 'RMSE': 19.179746719473975}, {'K': 3, 'RMSE': 19.215943596614498}, {'K': 4, 'RMSE': 19.187231943803106}, {'K': 5, 'RMSE': 18.37773331267445}, {'K': 6, 'RMSE': 19.408072756808533}, {'K': 7, 'RMSE': 18.096497294286063}, {'K': 8, 'RMSE': 18.384712275317742}, {'K': 9, 'RMSE': 18.179111425959498}, {'K': 10, 'RMSE': 18.587207238622003}, {'K': 11, 'RMSE': 18.390243197786575}, {'K': 12, 'RMSE': 18.082770843015165}, {'K': 13, 'RMSE': 17.706677794586284}, {'K': 14, 'RMSE': 17.531815420113276}, {'K': 15, 'RMSE': 17.856434046708}, {'K': 16, 'RMSE': 17.547360057660658}, {'K': 17, 'RMSE': 17.354498035210295}, {'K': 18, 'RMSE': 17.490362610336025}, {'K': 19, 'RMSE': 17.656572675815987}]\n"
     ]
    }
   ],
   "source": [
    "k_errors = optimize_k(data=test_numeric_house, target='price')\n",
    "print(k_errors)"
   ]
  },
  {
   "cell_type": "code",
   "execution_count": 115,
   "metadata": {},
   "outputs": [],
   "source": [
    "imputer = KNNImputer(n_neighbors=17)\n",
    "imputed = imputer.fit_transform(numeric_houses)\n",
    "df_imputed = pd.DataFrame(imputed, columns=numeric_houses.columns)"
   ]
  },
  {
   "cell_type": "code",
   "execution_count": 116,
   "metadata": {},
   "outputs": [
    {
     "data": {
      "text/plain": [
       "area          0\n",
       "num_floors    0\n",
       "bedrooms      0\n",
       "price         0\n",
       "dtype: int64"
      ]
     },
     "execution_count": 116,
     "metadata": {},
     "output_type": "execute_result"
    }
   ],
   "source": [
    "df_imputed.isna().sum()"
   ]
  },
  {
   "cell_type": "code",
   "execution_count": 117,
   "metadata": {},
   "outputs": [
    {
     "name": "stdout",
     "output_type": "stream",
     "text": [
      "8096\n",
      "8096\n"
     ]
    }
   ],
   "source": [
    "print(len(df_imputed['num_floors']))\n",
    "print(len(df_imputed['bedrooms']))"
   ]
  },
  {
   "cell_type": "code",
   "execution_count": 118,
   "metadata": {},
   "outputs": [
    {
     "data": {
      "text/plain": [
       "count    8096.000000\n",
       "mean        3.791517\n",
       "std         3.246003\n",
       "min         1.000000\n",
       "25%         2.705882\n",
       "50%         3.000000\n",
       "75%         4.000000\n",
       "max       111.000000\n",
       "Name: bedrooms, dtype: float64"
      ]
     },
     "execution_count": 118,
     "metadata": {},
     "output_type": "execute_result"
    }
   ],
   "source": [
    "df_imputed['bedrooms'].describe()"
   ]
  },
  {
   "cell_type": "code",
   "execution_count": 119,
   "metadata": {},
   "outputs": [
    {
     "name": "stdout",
     "output_type": "stream",
     "text": [
      "8096\n"
     ]
    }
   ],
   "source": [
    "print(len(house_data))"
   ]
  },
  {
   "cell_type": "code",
   "execution_count": 179,
   "metadata": {},
   "outputs": [],
   "source": [
    "# numeric_houses.to_excel('numeric_houses.xlsx',index=False)\n",
    "# df_imputed.to_excel('df_imputed.xlsx',index=False)"
   ]
  },
  {
   "cell_type": "code",
   "execution_count": 123,
   "metadata": {},
   "outputs": [],
   "source": [
    "house_data['new_num_floors'] = df_imputed['num_floors'].round(0)\n",
    "house_data['new_bedrooms'] = df_imputed['bedrooms'].round(0)"
   ]
  },
  {
   "cell_type": "code",
   "execution_count": 120,
   "metadata": {},
   "outputs": [],
   "source": [
    "# house_data.insert(loc=len(house_data.columns), column='new_num_floors', value=df_imputed['num_floors'].round(0))\n",
    "# house_data.insert(loc=len(house_data.columns), column='new_bedrooms', value=df_imputed['bedrooms'].round(0))"
   ]
  },
  {
   "cell_type": "code",
   "execution_count": 124,
   "metadata": {},
   "outputs": [],
   "source": [
    "house_data = house_data.reset_index()"
   ]
  },
  {
   "cell_type": "code",
   "execution_count": 132,
   "metadata": {},
   "outputs": [
    {
     "data": {
      "text/plain": [
       "level_0              0\n",
       "index                0\n",
       "houseTypes           0\n",
       "area                 0\n",
       "num_floors        1700\n",
       "bedrooms          1709\n",
       "district             0\n",
       "city                 0\n",
       "price                0\n",
       "url                  0\n",
       "new_num_floors       0\n",
       "new_bedrooms         0\n",
       "dtype: int64"
      ]
     },
     "execution_count": 132,
     "metadata": {},
     "output_type": "execute_result"
    }
   ],
   "source": [
    "house_data.isna().sum()"
   ]
  },
  {
   "cell_type": "code",
   "execution_count": 130,
   "metadata": {},
   "outputs": [],
   "source": [
    "# house_data.to_excel('full_houses.xlsx', index=False)"
   ]
  },
  {
   "cell_type": "code",
   "execution_count": 126,
   "metadata": {},
   "outputs": [
    {
     "data": {
      "text/html": [
       "<div>\n",
       "<style scoped>\n",
       "    .dataframe tbody tr th:only-of-type {\n",
       "        vertical-align: middle;\n",
       "    }\n",
       "\n",
       "    .dataframe tbody tr th {\n",
       "        vertical-align: top;\n",
       "    }\n",
       "\n",
       "    .dataframe thead th {\n",
       "        text-align: right;\n",
       "    }\n",
       "</style>\n",
       "<table border=\"1\" class=\"dataframe\">\n",
       "  <thead>\n",
       "    <tr style=\"text-align: right;\">\n",
       "      <th></th>\n",
       "      <th>level_0</th>\n",
       "      <th>index</th>\n",
       "      <th>houseTypes</th>\n",
       "      <th>area</th>\n",
       "      <th>num_floors</th>\n",
       "      <th>bedrooms</th>\n",
       "      <th>district</th>\n",
       "      <th>city</th>\n",
       "      <th>price</th>\n",
       "      <th>url</th>\n",
       "      <th>new_num_floors</th>\n",
       "      <th>new_bedrooms</th>\n",
       "    </tr>\n",
       "  </thead>\n",
       "  <tbody>\n",
       "    <tr>\n",
       "      <th>0</th>\n",
       "      <td>0</td>\n",
       "      <td>0</td>\n",
       "      <td>Bán Nhà riêng</td>\n",
       "      <td>130.0</td>\n",
       "      <td>3.0</td>\n",
       "      <td>7.0</td>\n",
       "      <td>Quận 12</td>\n",
       "      <td>TP Hồ Chí Minh</td>\n",
       "      <td>9.20</td>\n",
       "      <td>https://batdongsan.vn/ban-biet-thu-san-vuon-qu...</td>\n",
       "      <td>3.0</td>\n",
       "      <td>7.0</td>\n",
       "    </tr>\n",
       "    <tr>\n",
       "      <th>1</th>\n",
       "      <td>1</td>\n",
       "      <td>1</td>\n",
       "      <td>Bán Nhà riêng</td>\n",
       "      <td>65.0</td>\n",
       "      <td>NaN</td>\n",
       "      <td>2.0</td>\n",
       "      <td>Ngũ Hành Sơn</td>\n",
       "      <td>Đà Nẵng</td>\n",
       "      <td>2.90</td>\n",
       "      <td>https://batdongsan.vn/29-ty-dien-tich-6580m2-n...</td>\n",
       "      <td>2.0</td>\n",
       "      <td>2.0</td>\n",
       "    </tr>\n",
       "    <tr>\n",
       "      <th>2</th>\n",
       "      <td>2</td>\n",
       "      <td>2</td>\n",
       "      <td>Bán Nhà riêng</td>\n",
       "      <td>90.0</td>\n",
       "      <td>5.0</td>\n",
       "      <td>5.0</td>\n",
       "      <td>Hai Bà Trưng</td>\n",
       "      <td>Hà Nội</td>\n",
       "      <td>14.00</td>\n",
       "      <td>https://batdongsan.vn/ban-nha-kim-nguu-phan-lo...</td>\n",
       "      <td>5.0</td>\n",
       "      <td>5.0</td>\n",
       "    </tr>\n",
       "    <tr>\n",
       "      <th>3</th>\n",
       "      <td>3</td>\n",
       "      <td>4</td>\n",
       "      <td>Bán Nhà riêng</td>\n",
       "      <td>30.0</td>\n",
       "      <td>1.0</td>\n",
       "      <td>2.0</td>\n",
       "      <td>Gò Vấp</td>\n",
       "      <td>TP Hồ Chí Minh</td>\n",
       "      <td>3.70</td>\n",
       "      <td>https://batdongsan.vn/nha-moi-full-noi-that-hx...</td>\n",
       "      <td>1.0</td>\n",
       "      <td>2.0</td>\n",
       "    </tr>\n",
       "    <tr>\n",
       "      <th>4</th>\n",
       "      <td>4</td>\n",
       "      <td>5</td>\n",
       "      <td>Bán Nhà riêng</td>\n",
       "      <td>38.0</td>\n",
       "      <td>3.0</td>\n",
       "      <td>3.0</td>\n",
       "      <td>Bình Thạnh</td>\n",
       "      <td>TP Hồ Chí Minh</td>\n",
       "      <td>4.40</td>\n",
       "      <td>https://batdongsan.vn/ban-gap-nha-dep-dien-bie...</td>\n",
       "      <td>3.0</td>\n",
       "      <td>3.0</td>\n",
       "    </tr>\n",
       "    <tr>\n",
       "      <th>...</th>\n",
       "      <td>...</td>\n",
       "      <td>...</td>\n",
       "      <td>...</td>\n",
       "      <td>...</td>\n",
       "      <td>...</td>\n",
       "      <td>...</td>\n",
       "      <td>...</td>\n",
       "      <td>...</td>\n",
       "      <td>...</td>\n",
       "      <td>...</td>\n",
       "      <td>...</td>\n",
       "      <td>...</td>\n",
       "    </tr>\n",
       "    <tr>\n",
       "      <th>8091</th>\n",
       "      <td>8091</td>\n",
       "      <td>8603</td>\n",
       "      <td>Bán Nhà riêng</td>\n",
       "      <td>61.0</td>\n",
       "      <td>3.0</td>\n",
       "      <td>4.0</td>\n",
       "      <td>Gò Vấp</td>\n",
       "      <td>TP Hồ Chí Minh</td>\n",
       "      <td>9.50</td>\n",
       "      <td>https://batdongsan.vn/hxh-3-lau-47x13-nguyen-v...</td>\n",
       "      <td>3.0</td>\n",
       "      <td>4.0</td>\n",
       "    </tr>\n",
       "    <tr>\n",
       "      <th>8092</th>\n",
       "      <td>8092</td>\n",
       "      <td>8604</td>\n",
       "      <td>Bán Nhà riêng</td>\n",
       "      <td>64.0</td>\n",
       "      <td>NaN</td>\n",
       "      <td>5.0</td>\n",
       "      <td>Bình Thạnh</td>\n",
       "      <td>TP Hồ Chí Minh</td>\n",
       "      <td>9.50</td>\n",
       "      <td>https://batdongsan.vn/hxh-4x16-xo-viet-nghe-ti...</td>\n",
       "      <td>3.0</td>\n",
       "      <td>5.0</td>\n",
       "    </tr>\n",
       "    <tr>\n",
       "      <th>8093</th>\n",
       "      <td>8093</td>\n",
       "      <td>8605</td>\n",
       "      <td>Bán Nhà riêng</td>\n",
       "      <td>60.0</td>\n",
       "      <td>3.0</td>\n",
       "      <td>3.0</td>\n",
       "      <td>Tân Phú</td>\n",
       "      <td>TP Hồ Chí Minh</td>\n",
       "      <td>5.40</td>\n",
       "      <td>https://batdongsan.vn/nha-3-tang-xe-hoi-do-cua...</td>\n",
       "      <td>3.0</td>\n",
       "      <td>3.0</td>\n",
       "    </tr>\n",
       "    <tr>\n",
       "      <th>8094</th>\n",
       "      <td>8094</td>\n",
       "      <td>8606</td>\n",
       "      <td>Bán Nhà riêng</td>\n",
       "      <td>90.0</td>\n",
       "      <td>NaN</td>\n",
       "      <td>2.0</td>\n",
       "      <td>Biên Hòa</td>\n",
       "      <td>Đồng Nai</td>\n",
       "      <td>2.85</td>\n",
       "      <td>https://batdongsan.vn/ban-nha-90m2-gan-giao-xu...</td>\n",
       "      <td>2.0</td>\n",
       "      <td>2.0</td>\n",
       "    </tr>\n",
       "    <tr>\n",
       "      <th>8095</th>\n",
       "      <td>8095</td>\n",
       "      <td>8607</td>\n",
       "      <td>Bán Nhà riêng</td>\n",
       "      <td>60.0</td>\n",
       "      <td>5.0</td>\n",
       "      <td>4.0</td>\n",
       "      <td>Gò Vấp</td>\n",
       "      <td>TP Hồ Chí Minh</td>\n",
       "      <td>7.93</td>\n",
       "      <td>https://batdongsan.vn/ban-nha-moi-dep-lung-lin...</td>\n",
       "      <td>5.0</td>\n",
       "      <td>4.0</td>\n",
       "    </tr>\n",
       "  </tbody>\n",
       "</table>\n",
       "<p>8096 rows × 12 columns</p>\n",
       "</div>"
      ],
      "text/plain": [
       "      level_0  index     houseTypes   area  num_floors  bedrooms  \\\n",
       "0           0      0  Bán Nhà riêng  130.0         3.0       7.0   \n",
       "1           1      1  Bán Nhà riêng   65.0         NaN       2.0   \n",
       "2           2      2  Bán Nhà riêng   90.0         5.0       5.0   \n",
       "3           3      4  Bán Nhà riêng   30.0         1.0       2.0   \n",
       "4           4      5  Bán Nhà riêng   38.0         3.0       3.0   \n",
       "...       ...    ...            ...    ...         ...       ...   \n",
       "8091     8091   8603  Bán Nhà riêng   61.0         3.0       4.0   \n",
       "8092     8092   8604  Bán Nhà riêng   64.0         NaN       5.0   \n",
       "8093     8093   8605  Bán Nhà riêng   60.0         3.0       3.0   \n",
       "8094     8094   8606  Bán Nhà riêng   90.0         NaN       2.0   \n",
       "8095     8095   8607  Bán Nhà riêng   60.0         5.0       4.0   \n",
       "\n",
       "          district            city  price  \\\n",
       "0          Quận 12  TP Hồ Chí Minh   9.20   \n",
       "1     Ngũ Hành Sơn         Đà Nẵng   2.90   \n",
       "2     Hai Bà Trưng          Hà Nội  14.00   \n",
       "3           Gò Vấp  TP Hồ Chí Minh   3.70   \n",
       "4       Bình Thạnh  TP Hồ Chí Minh   4.40   \n",
       "...            ...             ...    ...   \n",
       "8091        Gò Vấp  TP Hồ Chí Minh   9.50   \n",
       "8092    Bình Thạnh  TP Hồ Chí Minh   9.50   \n",
       "8093       Tân Phú  TP Hồ Chí Minh   5.40   \n",
       "8094      Biên Hòa        Đồng Nai   2.85   \n",
       "8095        Gò Vấp  TP Hồ Chí Minh   7.93   \n",
       "\n",
       "                                                    url  new_num_floors  \\\n",
       "0     https://batdongsan.vn/ban-biet-thu-san-vuon-qu...             3.0   \n",
       "1     https://batdongsan.vn/29-ty-dien-tich-6580m2-n...             2.0   \n",
       "2     https://batdongsan.vn/ban-nha-kim-nguu-phan-lo...             5.0   \n",
       "3     https://batdongsan.vn/nha-moi-full-noi-that-hx...             1.0   \n",
       "4     https://batdongsan.vn/ban-gap-nha-dep-dien-bie...             3.0   \n",
       "...                                                 ...             ...   \n",
       "8091  https://batdongsan.vn/hxh-3-lau-47x13-nguyen-v...             3.0   \n",
       "8092  https://batdongsan.vn/hxh-4x16-xo-viet-nghe-ti...             3.0   \n",
       "8093  https://batdongsan.vn/nha-3-tang-xe-hoi-do-cua...             3.0   \n",
       "8094  https://batdongsan.vn/ban-nha-90m2-gan-giao-xu...             2.0   \n",
       "8095  https://batdongsan.vn/ban-nha-moi-dep-lung-lin...             5.0   \n",
       "\n",
       "      new_bedrooms  \n",
       "0              7.0  \n",
       "1              2.0  \n",
       "2              5.0  \n",
       "3              2.0  \n",
       "4              3.0  \n",
       "...            ...  \n",
       "8091           4.0  \n",
       "8092           5.0  \n",
       "8093           3.0  \n",
       "8094           2.0  \n",
       "8095           4.0  \n",
       "\n",
       "[8096 rows x 12 columns]"
      ]
     },
     "execution_count": 126,
     "metadata": {},
     "output_type": "execute_result"
    }
   ],
   "source": [
    "house_data"
   ]
  },
  {
   "cell_type": "code",
   "execution_count": 128,
   "metadata": {},
   "outputs": [
    {
     "name": "stderr",
     "output_type": "stream",
     "text": [
      "C:\\Users\\84947\\AppData\\Local\\Temp\\ipykernel_19136\\202928946.py:2: UserWarning: \n",
      "\n",
      "`distplot` is a deprecated function and will be removed in seaborn v0.14.0.\n",
      "\n",
      "Please adapt your code to use either `displot` (a figure-level function with\n",
      "similar flexibility) or `histplot` (an axes-level function for histograms).\n",
      "\n",
      "For a guide to updating your code to use the new functions, please see\n",
      "https://gist.github.com/mwaskom/de44147ed2974457ad6372750bbe5751\n",
      "\n",
      "  sns.distplot(house_data['new_num_floors'])\n"
     ]
    },
    {
     "data": {
      "text/plain": [
       "<AxesSubplot: xlabel='new_num_floors', ylabel='Density'>"
      ]
     },
     "execution_count": 128,
     "metadata": {},
     "output_type": "execute_result"
    },
    {
     "data": {
      "image/png": "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",
      "text/plain": [
       "<Figure size 800x500 with 1 Axes>"
      ]
     },
     "metadata": {},
     "output_type": "display_data"
    }
   ],
   "source": [
    "fig,ax = plt.subplots(figsize = (8,5))\n",
    "sns.distplot(house_data['new_num_floors'])"
   ]
  },
  {
   "cell_type": "code",
   "execution_count": 129,
   "metadata": {},
   "outputs": [
    {
     "name": "stderr",
     "output_type": "stream",
     "text": [
      "C:\\Users\\84947\\AppData\\Local\\Temp\\ipykernel_19136\\3734845656.py:2: UserWarning: \n",
      "\n",
      "`distplot` is a deprecated function and will be removed in seaborn v0.14.0.\n",
      "\n",
      "Please adapt your code to use either `displot` (a figure-level function with\n",
      "similar flexibility) or `histplot` (an axes-level function for histograms).\n",
      "\n",
      "For a guide to updating your code to use the new functions, please see\n",
      "https://gist.github.com/mwaskom/de44147ed2974457ad6372750bbe5751\n",
      "\n",
      "  sns.distplot(house_data['new_bedrooms'])\n"
     ]
    },
    {
     "data": {
      "text/plain": [
       "<AxesSubplot: xlabel='new_bedrooms', ylabel='Density'>"
      ]
     },
     "execution_count": 129,
     "metadata": {},
     "output_type": "execute_result"
    },
    {
     "data": {
      "image/png": "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",
      "text/plain": [
       "<Figure size 800x500 with 1 Axes>"
      ]
     },
     "metadata": {},
     "output_type": "display_data"
    }
   ],
   "source": [
    "fig,ax = plt.subplots(figsize = (8,5))\n",
    "sns.distplot(house_data['new_bedrooms'])"
   ]
  },
  {
   "attachments": {},
   "cell_type": "markdown",
   "metadata": {},
   "source": [
    "# Thử nghiệm KNN cho missing values"
   ]
  },
  {
   "cell_type": "code",
   "execution_count": 29,
   "metadata": {},
   "outputs": [],
   "source": [
    "not_null_houses = house_data.dropna() # phải lấy house_data lúc còn null (trước khi fill ở phần trên)\n",
    "not_null_houses.to_excel('not_null_houses.xlsx',index=False)"
   ]
  },
  {
   "cell_type": "code",
   "execution_count": 30,
   "metadata": {},
   "outputs": [
    {
     "name": "stdout",
     "output_type": "stream",
     "text": [
      "[ 911 1186 7861 1546 4291   72 7519 2193 4654 3814 3168 4053 2109 2473\n",
      " 5916 3793 4063 6909 8370 5013 1794 4654 6629  803 8398 6755 4127 1119\n",
      " 6168 5439 1732 7704 6909 3291  147 2143 5744 3492 8596 4855 1665 4043\n",
      " 5180 3849 5290 4065 5192 1994  484 1831]\n",
      "[3326 1443  155  162 5886 4670 4155 2604 1554 3030 3689  816  441 2176\n",
      " 2228 7368 6113 7562 5504 1774 4973 3725 7206 5099  297 3094 2615 4994\n",
      " 6385 7876 1970 1383 5776 8321 2131 7698 3135  309 6346 6267 7301 7725\n",
      " 8553 3263 2123  435 1442 6563 2191  164]\n"
     ]
    }
   ],
   "source": [
    "i1 = np.random.choice(a=not_null_houses.index, size=50)\n",
    "i2 = np.random.choice(a=not_null_houses.index, size=50)\n",
    "print(i1)\n",
    "print(i2)"
   ]
  },
  {
   "cell_type": "code",
   "execution_count": 31,
   "metadata": {},
   "outputs": [
    {
     "data": {
      "text/plain": [
       "area          0\n",
       "num_floors    0\n",
       "bedrooms      0\n",
       "price         0\n",
       "dtype: int64"
      ]
     },
     "execution_count": 31,
     "metadata": {},
     "output_type": "execute_result"
    }
   ],
   "source": [
    "null_houses = pd.DataFrame({'area':not_null_houses['area'],'num_floors':not_null_houses['num_floors'],'bedrooms':not_null_houses['bedrooms'],'price':not_null_houses['price']})\n",
    "null_houses.isna().sum()"
   ]
  },
  {
   "cell_type": "code",
   "execution_count": 32,
   "metadata": {},
   "outputs": [],
   "source": [
    "null_houses.loc[i1, 'num_floors'] = np.nan\n",
    "null_houses.loc[i2, 'bedrooms'] = np.nan"
   ]
  },
  {
   "cell_type": "code",
   "execution_count": 33,
   "metadata": {},
   "outputs": [
    {
     "data": {
      "text/plain": [
       "area          15.0\n",
       "num_floors     4.0\n",
       "bedrooms       NaN\n",
       "price          1.8\n",
       "Name: 164, dtype: float64"
      ]
     },
     "execution_count": 33,
     "metadata": {},
     "output_type": "execute_result"
    }
   ],
   "source": [
    "null_houses.loc[164]"
   ]
  },
  {
   "cell_type": "code",
   "execution_count": 34,
   "metadata": {},
   "outputs": [
    {
     "data": {
      "text/plain": [
       "area           0\n",
       "num_floors    48\n",
       "bedrooms      50\n",
       "price          0\n",
       "dtype: int64"
      ]
     },
     "execution_count": 34,
     "metadata": {},
     "output_type": "execute_result"
    }
   ],
   "source": [
    "null_houses.isna().sum()"
   ]
  },
  {
   "cell_type": "code",
   "execution_count": 35,
   "metadata": {},
   "outputs": [],
   "source": [
    "from sklearn.model_selection import train_test_split\n",
    "from sklearn.ensemble import RandomForestRegressor\n",
    "from sklearn.metrics import mean_squared_error\n",
    "from sklearn.impute import KNNImputer\n",
    "\n",
    "rmse = lambda y, yhat: np.sqrt(mean_squared_error(y, yhat))"
   ]
  },
  {
   "cell_type": "code",
   "execution_count": 36,
   "metadata": {},
   "outputs": [],
   "source": [
    "def optimize_k(data, target):\n",
    "    errors = []\n",
    "    for k in range(1, 20, 2):\n",
    "        imputer = KNNImputer(n_neighbors=k)\n",
    "        imputed = imputer.fit_transform(data)\n",
    "        df_imputed = pd.DataFrame(imputed, columns=data.columns)\n",
    "        \n",
    "        X = df_imputed.drop(target, axis=1)\n",
    "        y = df_imputed[target]\n",
    "        X_train, X_test, y_train, y_test = train_test_split(X, y, test_size=0.2, random_state=42)\n",
    "\n",
    "        model = RandomForestRegressor()\n",
    "        model.fit(X_train, y_train)\n",
    "        preds = model.predict(X_test)\n",
    "        error = rmse(y_test, preds)\n",
    "        errors.append({'K': k, 'RMSE': error})\n",
    "        \n",
    "    return errors"
   ]
  },
  {
   "cell_type": "code",
   "execution_count": 37,
   "metadata": {},
   "outputs": [
    {
     "name": "stdout",
     "output_type": "stream",
     "text": [
      "[{'K': 1, 'RMSE': 10.377036074956955}, {'K': 3, 'RMSE': 10.315518759485371}, {'K': 5, 'RMSE': 10.288269348019378}, {'K': 7, 'RMSE': 10.438021171138988}, {'K': 9, 'RMSE': 10.211586494427266}, {'K': 11, 'RMSE': 10.23628724167357}, {'K': 13, 'RMSE': 10.115194052110384}, {'K': 15, 'RMSE': 10.227989253865525}, {'K': 17, 'RMSE': 10.330540424285378}, {'K': 19, 'RMSE': 10.288387655322568}]\n"
     ]
    }
   ],
   "source": [
    "k_errors = optimize_k(data=null_houses, target='price')\n",
    "print(k_errors)"
   ]
  },
  {
   "cell_type": "code",
   "execution_count": 38,
   "metadata": {},
   "outputs": [],
   "source": [
    "imputer_test = KNNImputer(n_neighbors=13)\n",
    "imputed_test = imputer_test.fit_transform(null_houses)\n",
    "df_imputed_test = pd.DataFrame(imputed_test, columns=null_houses.columns)"
   ]
  },
  {
   "cell_type": "code",
   "execution_count": 40,
   "metadata": {},
   "outputs": [],
   "source": [
    "df_imputed_test.isna().sum()\n",
    "df_imputed_test.to_excel('df_imputed_test.xlsx',index=False)"
   ]
  },
  {
   "attachments": {},
   "cell_type": "markdown",
   "metadata": {},
   "source": [
    "Note: so sánh not_null_houses.xlsx và df_imputed_test.xlsx"
   ]
  },
  {
   "attachments": {},
   "cell_type": "markdown",
   "metadata": {},
   "source": [
    " # Initialize google map\n"
   ]
  },
  {
   "cell_type": "code",
   "execution_count": null,
   "metadata": {},
   "outputs": [],
   "source": [
    "from geopy.geocoders import Nominatim\n",
    "\n",
    "geolocator = Nominatim(user_agent='my_app')\n",
    "\n",
    "# Tạo đối tượng geocoder\n",
    "geocoder = geolocator.geocode\n",
    "\n",
    "# Geocode the addresses to obtain latitude and longitude coordinates\n",
    "locations = [geocoder(f\"{district}, {city}\") for district, city in zip(house_data['district'][0:100], house_data['city'][0:100])]\n",
    "\n",
    "# Extract latitude and longitude coordinates from the locations\n",
    "latitude = [location.latitude for location in locations]\n",
    "longitude = [location.longitude for location in locations]"
   ]
  },
  {
   "attachments": {},
   "cell_type": "markdown",
   "metadata": {},
   "source": [
    "# Mark points on google map"
   ]
  },
  {
   "cell_type": "code",
   "execution_count": null,
   "metadata": {},
   "outputs": [],
   "source": [
    "lat = 10.861410750000001\n",
    "long = 106.66420925636413\n",
    "zoom = 6\n",
    "gmap2 = folium.Map(location=(lat, long), zoom_start=zoom)\n",
    "def _addMarker(latitudes, longitudes,gmap):\n",
    "    # Kiểm tra độ dài của danh sách latitude và longitude\n",
    "    if len(latitudes) != len(longitudes):\n",
    "        print(\"Danh sách latitude và longitude không cùng độ dài.\")\n",
    "        return\n",
    "    # Thêm Marker vào map_obj\n",
    "    for lat, lng in zip(latitudes, longitudes):\n",
    "        marker = folium.Marker(location=(lat, lng))\n",
    "        marker.add_to(gmap)\n",
    "_addMarker(latitude,longitude,gmap2)\n",
    "gmap2.save(\"foliumMarkerMultiple.html\")"
   ]
  },
  {
   "attachments": {},
   "cell_type": "markdown",
   "metadata": {},
   "source": [
    "# Heatmap"
   ]
  },
  {
   "cell_type": "code",
   "execution_count": null,
   "metadata": {},
   "outputs": [],
   "source": [
    "from folium.plugins import HeatMap\n",
    "\n",
    "lat = 10.861410750000001\n",
    "long = 106.66420925636413\n",
    "zoom = 6\n",
    "gmap2 = folium.Map(location=(lat, long), zoom_start=zoom)\n",
    "maximum = max(house_data['price'])\n",
    "\n",
    "def _addHeatMap(map_obj, latitudes, longitudes, values):\n",
    "    # Tạo danh sách các tọa độ (latitude, longitude, value)\n",
    "    data = list(zip(latitudes, longitudes, values))\n",
    "    # Tạo HeatMap từ danh sách tọa độ và values\n",
    "    heat_map = HeatMap(data)\n",
    "    # Thêm HeatMap vào bản đồ\n",
    "    map_obj.add_child(heat_map)\n",
    "_addHeatMap(gmap2,latitude,longitude,house_data['price'][0:100])\n",
    "gmap2.save(\"foliumHeatMap.html\")"
   ]
  },
  {
   "attachments": {},
   "cell_type": "markdown",
   "metadata": {},
   "source": [
    "# Encoding"
   ]
  },
  {
   "cell_type": "code",
   "execution_count": 3,
   "metadata": {},
   "outputs": [
    {
     "data": {
      "text/html": [
       "<div>\n",
       "<style scoped>\n",
       "    .dataframe tbody tr th:only-of-type {\n",
       "        vertical-align: middle;\n",
       "    }\n",
       "\n",
       "    .dataframe tbody tr th {\n",
       "        vertical-align: top;\n",
       "    }\n",
       "\n",
       "    .dataframe thead th {\n",
       "        text-align: right;\n",
       "    }\n",
       "</style>\n",
       "<table border=\"1\" class=\"dataframe\">\n",
       "  <thead>\n",
       "    <tr style=\"text-align: right;\">\n",
       "      <th></th>\n",
       "      <th>houseTypes</th>\n",
       "      <th>area</th>\n",
       "      <th>new_num_floors</th>\n",
       "      <th>new_bedrooms</th>\n",
       "      <th>city</th>\n",
       "      <th>price</th>\n",
       "    </tr>\n",
       "  </thead>\n",
       "  <tbody>\n",
       "    <tr>\n",
       "      <th>0</th>\n",
       "      <td>Bán Nhà riêng</td>\n",
       "      <td>130.0</td>\n",
       "      <td>3</td>\n",
       "      <td>7</td>\n",
       "      <td>TP Hồ Chí Minh</td>\n",
       "      <td>9.20</td>\n",
       "    </tr>\n",
       "    <tr>\n",
       "      <th>1</th>\n",
       "      <td>Bán Nhà riêng</td>\n",
       "      <td>65.0</td>\n",
       "      <td>2</td>\n",
       "      <td>2</td>\n",
       "      <td>Đà Nẵng</td>\n",
       "      <td>2.90</td>\n",
       "    </tr>\n",
       "    <tr>\n",
       "      <th>2</th>\n",
       "      <td>Bán Nhà riêng</td>\n",
       "      <td>90.0</td>\n",
       "      <td>5</td>\n",
       "      <td>5</td>\n",
       "      <td>Hà Nội</td>\n",
       "      <td>14.00</td>\n",
       "    </tr>\n",
       "    <tr>\n",
       "      <th>3</th>\n",
       "      <td>Bán Nhà riêng</td>\n",
       "      <td>30.0</td>\n",
       "      <td>1</td>\n",
       "      <td>2</td>\n",
       "      <td>TP Hồ Chí Minh</td>\n",
       "      <td>3.70</td>\n",
       "    </tr>\n",
       "    <tr>\n",
       "      <th>4</th>\n",
       "      <td>Bán Nhà riêng</td>\n",
       "      <td>38.0</td>\n",
       "      <td>3</td>\n",
       "      <td>3</td>\n",
       "      <td>TP Hồ Chí Minh</td>\n",
       "      <td>4.40</td>\n",
       "    </tr>\n",
       "    <tr>\n",
       "      <th>...</th>\n",
       "      <td>...</td>\n",
       "      <td>...</td>\n",
       "      <td>...</td>\n",
       "      <td>...</td>\n",
       "      <td>...</td>\n",
       "      <td>...</td>\n",
       "    </tr>\n",
       "    <tr>\n",
       "      <th>8091</th>\n",
       "      <td>Bán Nhà riêng</td>\n",
       "      <td>61.0</td>\n",
       "      <td>3</td>\n",
       "      <td>4</td>\n",
       "      <td>TP Hồ Chí Minh</td>\n",
       "      <td>9.50</td>\n",
       "    </tr>\n",
       "    <tr>\n",
       "      <th>8092</th>\n",
       "      <td>Bán Nhà riêng</td>\n",
       "      <td>64.0</td>\n",
       "      <td>3</td>\n",
       "      <td>5</td>\n",
       "      <td>TP Hồ Chí Minh</td>\n",
       "      <td>9.50</td>\n",
       "    </tr>\n",
       "    <tr>\n",
       "      <th>8093</th>\n",
       "      <td>Bán Nhà riêng</td>\n",
       "      <td>60.0</td>\n",
       "      <td>3</td>\n",
       "      <td>3</td>\n",
       "      <td>TP Hồ Chí Minh</td>\n",
       "      <td>5.40</td>\n",
       "    </tr>\n",
       "    <tr>\n",
       "      <th>8094</th>\n",
       "      <td>Bán Nhà riêng</td>\n",
       "      <td>90.0</td>\n",
       "      <td>2</td>\n",
       "      <td>2</td>\n",
       "      <td>Đồng Nai</td>\n",
       "      <td>2.85</td>\n",
       "    </tr>\n",
       "    <tr>\n",
       "      <th>8095</th>\n",
       "      <td>Bán Nhà riêng</td>\n",
       "      <td>60.0</td>\n",
       "      <td>5</td>\n",
       "      <td>4</td>\n",
       "      <td>TP Hồ Chí Minh</td>\n",
       "      <td>7.93</td>\n",
       "    </tr>\n",
       "  </tbody>\n",
       "</table>\n",
       "<p>8096 rows × 6 columns</p>\n",
       "</div>"
      ],
      "text/plain": [
       "         houseTypes   area  new_num_floors  new_bedrooms            city  \\\n",
       "0     Bán Nhà riêng  130.0               3             7  TP Hồ Chí Minh   \n",
       "1     Bán Nhà riêng   65.0               2             2         Đà Nẵng   \n",
       "2     Bán Nhà riêng   90.0               5             5          Hà Nội   \n",
       "3     Bán Nhà riêng   30.0               1             2  TP Hồ Chí Minh   \n",
       "4     Bán Nhà riêng   38.0               3             3  TP Hồ Chí Minh   \n",
       "...             ...    ...             ...           ...             ...   \n",
       "8091  Bán Nhà riêng   61.0               3             4  TP Hồ Chí Minh   \n",
       "8092  Bán Nhà riêng   64.0               3             5  TP Hồ Chí Minh   \n",
       "8093  Bán Nhà riêng   60.0               3             3  TP Hồ Chí Minh   \n",
       "8094  Bán Nhà riêng   90.0               2             2        Đồng Nai   \n",
       "8095  Bán Nhà riêng   60.0               5             4  TP Hồ Chí Minh   \n",
       "\n",
       "      price  \n",
       "0      9.20  \n",
       "1      2.90  \n",
       "2     14.00  \n",
       "3      3.70  \n",
       "4      4.40  \n",
       "...     ...  \n",
       "8091   9.50  \n",
       "8092   9.50  \n",
       "8093   5.40  \n",
       "8094   2.85  \n",
       "8095   7.93  \n",
       "\n",
       "[8096 rows x 6 columns]"
      ]
     },
     "execution_count": 3,
     "metadata": {},
     "output_type": "execute_result"
    }
   ],
   "source": [
    "new_house_data = pd.read_excel('data/full_houses.xlsx')\n",
    "new_house_data.drop(['district','url','level_0','index','num_floors','bedrooms'],axis=1,inplace=True)\n",
    "new_house_data = new_house_data[['houseTypes','area','new_num_floors','new_bedrooms','city','price']]\n",
    "new_house_data"
   ]
  },
  {
   "cell_type": "code",
   "execution_count": 137,
   "metadata": {},
   "outputs": [
    {
     "name": "stdout",
     "output_type": "stream",
     "text": [
      "38\n"
     ]
    }
   ],
   "source": [
    "print(new_house_data['city'].nunique())"
   ]
  },
  {
   "attachments": {},
   "cell_type": "markdown",
   "metadata": {},
   "source": [
    "# OneHotEncoder"
   ]
  },
  {
   "cell_type": "code",
   "execution_count": null,
   "metadata": {},
   "outputs": [],
   "source": [
    "from sklearn.preprocessing import OneHotEncoder\n",
    "# Tạo một đối tượng OneHotEncoder\n",
    "encoder = OneHotEncoder(sparse=False)\n",
    "\n",
    "# Chọn cột cần mã hóa\n",
    "columns_to_encode = ['houseTypes','city']\n",
    "\n",
    "# Mã hóa one-hot cho các cột\n",
    "encoded_data = encoder.fit_transform(new_house_data[columns_to_encode])\n",
    "\n",
    "\n",
    "# Tạo DataFrame mới từ dữ liệu đã mã hóa\n",
    "encoded_df = pd.DataFrame(encoded_data, columns=encoder.get_feature_names(columns_to_encode))\n",
    "\n",
    "# Xóa các cột gốc trong biến data\n",
    "new_house_data.drop(columns_to_encode, axis=1, inplace=True)\n",
    "\n",
    "# Kết hợp dữ liệu đã mã hóa với biến data\n",
    "new_house_data = pd.concat([new_house_data, encoded_df], axis=1)\n",
    "\n",
    "# In ra 5 dòng đầu tiên của dữ liệu sau khi mã hóa\n",
    "print(new_house_data.head())"
   ]
  },
  {
   "cell_type": "code",
   "execution_count": null,
   "metadata": {},
   "outputs": [],
   "source": [
    "print(new_house_data.to_excel('data/oneHot.xlsx', index=False))"
   ]
  },
  {
   "attachments": {},
   "cell_type": "markdown",
   "metadata": {},
   "source": [
    "# Label Encoder"
   ]
  },
  {
   "cell_type": "code",
   "execution_count": null,
   "metadata": {},
   "outputs": [],
   "source": [
    "new_house_data = pd.read_excel('data/new_house_data.xlsx')\n",
    "new_house_data.drop(['district','url'],axis=1,inplace=True)"
   ]
  },
  {
   "cell_type": "code",
   "execution_count": null,
   "metadata": {},
   "outputs": [],
   "source": [
    "from sklearn.preprocessing import LabelEncoder\n",
    "\n",
    "# Tạo một đối tượng LabelEncoder\n",
    "label_encoder = LabelEncoder()\n",
    "\n",
    "# Mã hóa nhãn cho cột 'loại nhà'\n",
    "new_house_data['houseTypes_encoded'] = label_encoder.fit_transform(new_house_data['houseTypes'])\n",
    "\n",
    "# Mã hóa nhãn cho cột 'city'\n",
    "new_house_data['city_encoded'] = label_encoder.fit_transform(new_house_data['city'])\n",
    "\n",
    "new_house_data.drop(['city','houseTypes'],axis=1,inplace=True)\n",
    "\n",
    "# In ra 5 dòng đầu tiên của dữ liệu đã mã hóa\n",
    "print(new_house_data.head())"
   ]
  },
  {
   "cell_type": "code",
   "execution_count": null,
   "metadata": {},
   "outputs": [],
   "source": [
    "print(new_house_data.to_excel('Label.xlsx', index=False))"
   ]
  },
  {
   "attachments": {},
   "cell_type": "markdown",
   "metadata": {},
   "source": [
    "# TargetEncoder for city and OneHot for housetypes "
   ]
  },
  {
   "cell_type": "code",
   "execution_count": null,
   "metadata": {},
   "outputs": [],
   "source": [
    "new_house_data = pd.read_excel('data/new_house_data.xlsx')\n",
    "new_house_data.drop(['district','url'],axis=1,inplace=True)"
   ]
  },
  {
   "cell_type": "code",
   "execution_count": null,
   "metadata": {},
   "outputs": [],
   "source": [
    "#pip install category_encoders"
   ]
  },
  {
   "cell_type": "code",
   "execution_count": 140,
   "metadata": {},
   "outputs": [
    {
     "name": "stdout",
     "output_type": "stream",
     "text": [
      "        city   area  new_num_floors  new_bedrooms  price  \\\n",
      "0   9.292954  130.0               3             7    9.2   \n",
      "1   7.417350   65.0               2             2    2.9   \n",
      "2  11.089988   90.0               5             5   14.0   \n",
      "3   9.292954   30.0               1             2    3.7   \n",
      "4   9.292954   38.0               3             3    4.4   \n",
      "\n",
      "   houseTypes_Bán Luxury home  houseTypes_Bán Nhà  houseTypes_Bán Nhà cổ  \\\n",
      "0                         0.0                 0.0                    0.0   \n",
      "1                         0.0                 0.0                    0.0   \n",
      "2                         0.0                 0.0                    0.0   \n",
      "3                         0.0                 0.0                    0.0   \n",
      "4                         0.0                 0.0                    0.0   \n",
      "\n",
      "   houseTypes_Bán Nhà mặt phố  houseTypes_Bán Nhà riêng  \n",
      "0                         0.0                       1.0  \n",
      "1                         0.0                       1.0  \n",
      "2                         0.0                       1.0  \n",
      "3                         0.0                       1.0  \n",
      "4                         0.0                       1.0  \n"
     ]
    },
    {
     "name": "stderr",
     "output_type": "stream",
     "text": [
      "C:\\Users\\84947\\AppData\\Local\\Packages\\PythonSoftwareFoundation.Python.3.10_qbz5n2kfra8p0\\LocalCache\\local-packages\\Python310\\site-packages\\sklearn\\preprocessing\\_encoders.py:868: FutureWarning: `sparse` was renamed to `sparse_output` in version 1.2 and will be removed in 1.4. `sparse_output` is ignored unless you leave `sparse` to its default value.\n",
      "  warnings.warn(\n"
     ]
    }
   ],
   "source": [
    "import category_encoders as ce\n",
    "from sklearn.preprocessing import OneHotEncoder\n",
    "\n",
    "target_encoder =ce.TargetEncoder() \n",
    "df_city=target_encoder.fit_transform(new_house_data['city'],new_house_data['price'])\n",
    "df_new = df_city.join(new_house_data.drop('city',axis = 1))\n",
    "\n",
    "# Tạo một đối tượng OneHotEncoder\n",
    "encoder = OneHotEncoder(sparse=False)\n",
    "# Chọn cột cần mã hóa\n",
    "columns_to_encode = ['houseTypes']\n",
    "# Mã hóa one-hot cho các cột\n",
    "encoded_data = encoder.fit_transform(new_house_data[columns_to_encode])\n",
    "# Tạo DataFrame mới từ dữ liệu đã mã hóa\n",
    "encoded_df = pd.DataFrame(encoded_data, columns=encoder.get_feature_names_out(columns_to_encode))\n",
    "\n",
    "# Xóa các cột gốc trong biến data\n",
    "df_new.drop(columns_to_encode, axis=1, inplace=True)\n",
    "\n",
    "# Kết hợp dữ liệu đã mã hóa với biến data\n",
    "df_new = pd.concat([df_new, encoded_df], axis=1)\n",
    "\n",
    "print(df_new.head())"
   ]
  },
  {
   "cell_type": "code",
   "execution_count": 141,
   "metadata": {},
   "outputs": [
    {
     "name": "stdout",
     "output_type": "stream",
     "text": [
      "None\n"
     ]
    }
   ],
   "source": [
    "print(df_new.to_excel('data/Target.xlsx', index=False))"
   ]
  }
 ],
 "metadata": {
  "kernelspec": {
   "display_name": "Python 3",
   "language": "python",
   "name": "python3"
  },
  "language_info": {
   "codemirror_mode": {
    "name": "ipython",
    "version": 3
   },
   "file_extension": ".py",
   "mimetype": "text/x-python",
   "name": "python",
   "nbconvert_exporter": "python",
   "pygments_lexer": "ipython3",
   "version": "3.9.13"
  },
  "orig_nbformat": 4
 },
 "nbformat": 4,
 "nbformat_minor": 2
}
